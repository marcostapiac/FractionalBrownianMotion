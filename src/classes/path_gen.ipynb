{
 "cells": [
  {
   "cell_type": "code",
   "execution_count": 150,
   "metadata": {
    "collapsed": true
   },
   "outputs": [
    {
     "name": "stdout",
     "output_type": "stream",
     "text": [
      "The autoreload extension is already loaded. To reload it, use:\n",
      "  %reload_ext autoreload\n"
     ]
    }
   ],
   "source": [
    "%load_ext autoreload\n",
    "%autoreload 2\n",
    "import numpy as np\n",
    "from utils.math_functions import generate_MullerBrown\n",
    "import matplotlib.pyplot as plt\n",
    "from configs.RecursiveVPSDE.LSTM_MullerBrown.recursive_LSTM_PostMeanScore_MullerBrown_T256_H05_tl_110data import get_config"
   ]
  },
  {
   "cell_type": "code",
   "execution_count": 151,
   "outputs": [
    {
     "name": "stdout",
     "output_type": "stream",
     "text": [
      "0.1\n"
     ]
    }
   ],
   "source": [
    "config = get_config()\n",
    "paths = generate_MullerBrown(config=config, H=config.hurst,S=1, T=config.ts_length, isUnitInterval=config.t0==1.)"
   ],
   "metadata": {
    "collapsed": false
   }
  },
  {
   "cell_type": "code",
   "execution_count": 152,
   "outputs": [
    {
     "data": {
      "text/plain": "array([[[-0.68785371,  1.14130852],\n        [-0.87010531,  1.43907781],\n        [-0.5273127 ,  1.14477754],\n        [-0.82343353,  1.47420444],\n        [-0.46980332,  1.1676388 ],\n        [-0.77121949,  1.48594402],\n        [-0.41997582,  1.17161492],\n        [-0.71503773,  1.45023682],\n        [-0.42227715,  1.20059076],\n        [-0.74054262,  1.50404933],\n        [-0.39397222,  1.18482512],\n        [-0.68305957,  1.45789547],\n        [-0.41845534,  1.23410452],\n        [-0.75469044,  1.5575091 ],\n        [-0.41451258,  1.21273889],\n        [-0.73473449,  1.52321113],\n        [-0.38917802,  1.19034144],\n        [-0.68348529,  1.46123084],\n        [-0.41742352,  1.22875483],\n        [-0.74938955,  1.54987698],\n        [-0.401167  ,  1.21019109],\n        [-0.7207221 ,  1.50342724],\n        [-0.38725847,  1.18799071],\n        [-0.68719411,  1.44642427],\n        [-0.42880448,  1.23791956],\n        [-0.76446636,  1.5719229 ],\n        [-0.42813997,  1.23539896],\n        [-0.76050818,  1.57011553],\n        [-0.42357906,  1.23013578],\n        [-0.76102683,  1.55181196],\n        [-0.41898152,  1.21084426],\n        [-0.7376281 ,  1.524701  ],\n        [-0.39010011,  1.19179832],\n        [-0.68636037,  1.46454121],\n        [-0.41063094,  1.2260306 ],\n        [-0.73706292,  1.5437553 ],\n        [-0.38966146,  1.20230405],\n        [-0.68819978,  1.48995503],\n        [-0.38487273,  1.21498072],\n        [-0.69540062,  1.50491971],\n        [-0.3829412 ,  1.19795552],\n        [-0.67900702,  1.47165655],\n        [-0.40154426,  1.23386644],\n        [-0.73227722,  1.54862248],\n        [-0.38615663,  1.20459803],\n        [-0.6889394 ,  1.48717873],\n        [-0.39003863,  1.21232714],\n        [-0.70576223,  1.49937163],\n        [-0.3828058 ,  1.19736775],\n        [-0.68271085,  1.46602508],\n        [-0.41084125,  1.2284886 ],\n        [-0.73854574,  1.54810752],\n        [-0.39105146,  1.2057857 ],\n        [-0.70051574,  1.48998807],\n        [-0.38594021,  1.20428839],\n        [-0.68988352,  1.48490868],\n        [-0.39184148,  1.21230915],\n        [-0.70080136,  1.50830506],\n        [-0.37785501,  1.19864358],\n        [-0.67139912,  1.46891754],\n        [-0.41167203,  1.23956666],\n        [-0.7514752 ,  1.56017511],\n        [-0.4056639 ,  1.22004635],\n        [-0.72417677,  1.53321468],\n        [-0.37893706,  1.19747468],\n        [-0.67670632,  1.46301382],\n        [-0.4169554 ,  1.23641838],\n        [-0.75811848,  1.55621959],\n        [-0.41855333,  1.21228187],\n        [-0.73574692,  1.52908098],\n        [-0.38617914,  1.19620082],\n        [-0.68842622,  1.46517093],\n        [-0.41535423,  1.21754741],\n        [-0.73922642,  1.53149987],\n        [-0.39261233,  1.19363382],\n        [-0.69522852,  1.46658267],\n        [-0.41065691,  1.21170597],\n        [-0.73269503,  1.51503919],\n        [-0.38738805,  1.18929566],\n        [-0.67669819,  1.46084684],\n        [-0.41633562,  1.2409261 ],\n        [-0.7537022 ,  1.56859724],\n        [-0.40945928,  1.23058907],\n        [-0.74037176,  1.54830119],\n        [-0.39647717,  1.20253177],\n        [-0.70520285,  1.48910071],\n        [-0.39548255,  1.19262356],\n        [-0.68923906,  1.47654695],\n        [-0.40449003,  1.21093869],\n        [-0.71997621,  1.51310114],\n        [-0.38560385,  1.18748952],\n        [-0.67251579,  1.45570571],\n        [-0.43133111,  1.24256448],\n        [-0.76856023,  1.5799476 ],\n        [-0.43809561,  1.2463866 ],\n        [-0.78170479,  1.58234747],\n        [-0.46415853,  1.25183887],\n        [-0.80102625,  1.5970656 ],\n        [-0.49795959,  1.29323203],\n        [-0.80129129,  1.61808743],\n        [-0.52163829,  1.31865087],\n        [-0.77635046,  1.59983987],\n        [-0.45898861,  1.27952819],\n        [-0.79223824,  1.62784071],\n        [-0.51432174,  1.32573724],\n        [-0.77423748,  1.60395723],\n        [-0.46288088,  1.27926043],\n        [-0.80462856,  1.61667423],\n        [-0.52596845,  1.31966425],\n        [-0.77509951,  1.59335253],\n        [-0.45693111,  1.26584606],\n        [-0.79704368,  1.61056938],\n        [-0.50803867,  1.30369639],\n        [-0.79593719,  1.61071438],\n        [-0.50257115,  1.30669799],\n        [-0.79265584,  1.61709982],\n        [-0.504353  ,  1.31135854],\n        [-0.79580326,  1.60897043],\n        [-0.50325726,  1.3016826 ],\n        [-0.80203971,  1.61009909],\n        [-0.51812146,  1.30526116],\n        [-0.79159286,  1.6031932 ],\n        [-0.49122054,  1.29034184],\n        [-0.80893147,  1.61429563],\n        [-0.52869229,  1.3225359 ],\n        [-0.77201626,  1.58825443],\n        [-0.44858371,  1.25783205],\n        [-0.7938894 ,  1.59812063],\n        [-0.49560012,  1.28045736],\n        [-0.81010915,  1.61198901],\n        [-0.53221859,  1.31657982],\n        [-0.77887927,  1.58386478],\n        [-0.45905068,  1.25373666],\n        [-0.80228985,  1.59392916],\n        [-0.49786909,  1.28951925],\n        [-0.80656121,  1.61377265],\n        [-0.52775722,  1.31600113],\n        [-0.77752819,  1.59287779],\n        [-0.46400021,  1.2632031 ],\n        [-0.79990083,  1.6095957 ],\n        [-0.51053732,  1.30620882],\n        [-0.79461855,  1.6077282 ],\n        [-0.50560351,  1.2935464 ],\n        [-0.80259689,  1.61169129],\n        [-0.50894483,  1.31959417],\n        [-0.7859646 ,  1.60630723],\n        [-0.48611543,  1.28861302],\n        [-0.80421007,  1.62079865],\n        [-0.52519444,  1.32926703],\n        [-0.76428361,  1.59216143],\n        [-0.43899017,  1.25850727],\n        [-0.78428708,  1.59896351],\n        [-0.47945419,  1.27554868],\n        [-0.80788814,  1.61491657],\n        [-0.53032874,  1.31964522],\n        [-0.77290906,  1.58870494],\n        [-0.45075759,  1.25838942],\n        [-0.79735195,  1.59732096],\n        [-0.49934174,  1.28338843],\n        [-0.80429023,  1.61631535],\n        [-0.51631383,  1.32757481],\n        [-0.76734005,  1.60561099],\n        [-0.45388718,  1.27603815],\n        [-0.79110244,  1.62392784],\n        [-0.50395324,  1.32381897],\n        [-0.78375071,  1.61046528],\n        [-0.47882206,  1.29967551],\n        [-0.79331243,  1.63368291],\n        [-0.5152123 ,  1.34185204],\n        [-0.7555549 ,  1.59904935],\n        [-0.42761621,  1.26456406],\n        [-0.77380126,  1.6052501 ],\n        [-0.46264114,  1.28117334],\n        [-0.80190454,  1.62048348],\n        [-0.51957894,  1.32805549],\n        [-0.76874869,  1.59853834],\n        [-0.44760443,  1.27140318],\n        [-0.79040108,  1.61629113],\n        [-0.49885093,  1.30927383],\n        [-0.79718001,  1.61427778],\n        [-0.5154998 ,  1.30517872],\n        [-0.78531325,  1.61252032],\n        [-0.48542532,  1.30145747],\n        [-0.79654667,  1.62745952],\n        [-0.51691305,  1.3335027 ],\n        [-0.76535937,  1.59867278],\n        [-0.4450835 ,  1.26686217],\n        [-0.78580518,  1.61394776],\n        [-0.48878488,  1.30251622],\n        [-0.79968857,  1.62224718],\n        [-0.52448688,  1.32158152],\n        [-0.77456922,  1.59367003],\n        [-0.45345793,  1.26877552],\n        [-0.79540386,  1.61276231],\n        [-0.50156921,  1.31106682],\n        [-0.78980531,  1.61794692],\n        [-0.50091822,  1.30952724],\n        [-0.79069763,  1.61872717],\n        [-0.50256226,  1.31195705],\n        [-0.78970723,  1.61642385],\n        [-0.49335696,  1.31332435],\n        [-0.79348892,  1.62025302],\n        [-0.50912592,  1.31610095],\n        [-0.78232659,  1.61312764],\n        [-0.48062143,  1.30030504],\n        [-0.80218253,  1.62411252],\n        [-0.52771743,  1.32942873],\n        [-0.75924778,  1.59265869],\n        [-0.43666733,  1.25148762],\n        [-0.77974952,  1.59054011],\n        [-0.45854193,  1.26898319],\n        [-0.7990654 ,  1.61247763],\n        [-0.50719154,  1.31411347],\n        [-0.78845916,  1.61102788],\n        [-0.49103683,  1.30025292],\n        [-0.79960841,  1.62171712],\n        [-0.5236325 ,  1.32095146],\n        [-0.77882508,  1.59154068],\n        [-0.46264682,  1.26479736],\n        [-0.80648778,  1.60367131],\n        [-0.51428401,  1.30557882],\n        [-0.79131444,  1.60752935],\n        [-0.49120765,  1.29929145],\n        [-0.8029187 ,  1.61859011],\n        [-0.52490006,  1.32084473],\n        [-0.77152768,  1.59703549],\n        [-0.45312298,  1.26902149],\n        [-0.79978726,  1.6083945 ],\n        [-0.50890384,  1.30478098],\n        [-0.79751929,  1.60754154],\n        [-0.4993181 ,  1.30667872],\n        [-0.79305847,  1.6195562 ],\n        [-0.51013562,  1.31234709],\n        [-0.79223333,  1.60547198],\n        [-0.4874708 ,  1.30070303],\n        [-0.80024676,  1.62290379],\n        [-0.52238181,  1.32673365],\n        [-0.77156845,  1.59307649],\n        [-0.45085516,  1.26370893],\n        [-0.7982355 ,  1.60270582],\n        [-0.49787644,  1.29897106],\n        [-0.79718518,  1.62029434],\n        [-0.50987349,  1.32499513],\n        [-0.776965  ,  1.60833214],\n        [-0.47245988,  1.28518401],\n        [-0.80803378,  1.61790172],\n        [-0.52954153,  1.32801056],\n        [-0.76886448,  1.58202778],\n        [-0.43332692,  1.25536586],\n        [-0.772957  ,  1.59920594],\n        [-0.45300258,  1.27659879],\n        [-0.80027058,  1.61474628],\n        [-0.51800987,  1.31170946],\n        [-0.78648085,  1.60233374],\n        [-0.47899512,  1.28835747],\n        [-0.80107328,  1.62536004]]])"
     },
     "execution_count": 152,
     "metadata": {},
     "output_type": "execute_result"
    }
   ],
   "source": [
    "paths"
   ],
   "metadata": {
    "collapsed": false
   }
  },
  {
   "cell_type": "code",
   "execution_count": 153,
   "outputs": [],
   "source": [
    "from configs.RecursiveVPSDE.LSTM_3DLorenz.recursive_LSTM_PostMeanScore_3DLorenz_T256_H05_tl_110data import get_config"
   ],
   "metadata": {
    "collapsed": false
   }
  },
  {
   "cell_type": "code",
   "execution_count": 154,
   "outputs": [
    {
     "name": "stdout",
     "output_type": "stream",
     "text": [
      "1.0\n"
     ]
    }
   ],
   "source": [
    "from utils.math_functions import generate_Lorenz63\n",
    "config = get_config()\n",
    "paths = generate_Lorenz63(config=config, H=config.hurst,S=1000, T=config.ts_length, isUnitInterval=config.t0==1.)"
   ],
   "metadata": {
    "collapsed": false
   }
  },
  {
   "cell_type": "code",
   "execution_count": 155,
   "outputs": [
    {
     "data": {
      "text/plain": "array([[[-3.84607041e-02, -3.84607041e-02, -3.84607041e-02],\n        [-1.48575695e-03, -1.76196200e-03, -1.07934639e-03],\n        [-1.05601745e-02, -1.08446747e-02, -1.01414316e-02],\n        ...,\n        [-2.69715658e+00, -3.57561126e+00,  1.73048573e+00],\n        [-2.72489031e+00, -3.59721445e+00,  1.72582937e+00],\n        [-2.85242685e+00, -3.71872543e+00,  1.62201209e+00]],\n\n       [[-2.32666340e-02, -2.32666340e-02, -2.32666340e-02],\n        [-1.54860338e-02, -1.56517419e-02, -1.52415584e-02],\n        [-5.68536458e-02, -5.71278675e-02, -5.64488101e-02],\n        ...,\n        [ 8.87201889e-02, -2.40059800e-02,  2.69611234e-01],\n        [-5.56659575e-03, -1.16881715e-01,  1.72948016e-01],\n        [-4.20858681e-02, -1.52566717e-01,  1.35064568e-01]],\n\n       [[ 5.83799819e-02,  5.83799819e-02,  5.83799819e-02],\n        [-2.70570646e-02, -2.66598938e-02, -2.76518761e-02],\n        [-6.61192465e-03, -6.41102423e-03, -6.91742944e-03],\n        ...,\n        [-4.10711618e-01, -4.13650182e-01, -4.12540500e-01],\n        [-4.42683568e-01, -4.49148847e-01, -4.39540038e-01],\n        [-5.06153765e-01, -5.16441220e-01, -4.97629755e-01]],\n\n       ...,\n\n       [[ 1.13688077e-02,  1.13688077e-02,  1.13688077e-02],\n        [-5.64653461e-02, -5.63859141e-02, -5.65832663e-02],\n        [-1.21774336e-01, -1.22105027e-01, -1.21290721e-01],\n        ...,\n        [ 3.92340044e-01,  4.30412837e-01,  3.30739104e-01],\n        [ 3.79473029e-01,  4.19500136e-01,  3.14937810e-01],\n        [ 4.39779261e-01,  4.81694988e-01,  3.72428915e-01]],\n\n       [[-1.35123965e-03, -1.35123965e-03, -1.35123965e-03],\n        [-1.40532184e-02, -1.40627264e-02, -1.40391358e-02],\n        [-3.38310552e-02, -3.39400713e-02, -3.36699225e-02],\n        ...,\n        [-1.69135556e-01, -1.56389935e-01, -1.97445152e-01],\n        [-2.49859868e-01, -2.38533506e-01, -2.76059207e-01],\n        [-2.31537265e-01, -2.22325655e-01, -2.54672418e-01]],\n\n       [[-5.73944346e-02, -5.73944346e-02, -5.73944346e-02],\n        [-7.10678996e-02, -7.14843219e-02, -7.04571733e-02],\n        [-4.44708250e-02, -4.54032497e-02, -4.31046984e-02],\n        ...,\n        [-4.80213907e-01, -8.04763173e-01,  1.20881325e-01],\n        [-5.14153641e-01, -8.39317117e-01,  8.84597845e-02],\n        [-4.98197684e-01, -8.24258299e-01,  1.06450151e-01]]])"
     },
     "execution_count": 155,
     "metadata": {},
     "output_type": "execute_result"
    }
   ],
   "source": [
    "paths"
   ],
   "metadata": {
    "collapsed": false
   }
  },
  {
   "cell_type": "code",
   "execution_count": 156,
   "outputs": [
    {
     "data": {
      "text/plain": "(array([5.000e+00, 5.000e+00, 1.100e+01, 7.000e+00, 1.000e+01, 1.400e+01,\n        1.300e+01, 2.400e+01, 1.800e+01, 5.000e+00, 1.000e+01, 2.300e+01,\n        2.800e+01, 2.000e+01, 1.900e+01, 4.300e+01, 4.200e+01, 5.800e+01,\n        5.000e+01, 3.400e+01, 5.000e+01, 5.100e+01, 6.400e+01, 7.700e+01,\n        1.150e+02, 1.000e+02, 1.220e+02, 1.500e+02, 1.520e+02, 1.850e+02,\n        1.930e+02, 2.190e+02, 2.650e+02, 2.530e+02, 2.860e+02, 2.730e+02,\n        3.280e+02, 3.430e+02, 3.510e+02, 3.870e+02, 4.970e+02, 5.880e+02,\n        6.270e+02, 6.890e+02, 6.470e+02, 7.740e+02, 8.350e+02, 8.830e+02,\n        9.870e+02, 1.096e+03, 1.193e+03, 1.287e+03, 1.400e+03, 1.639e+03,\n        1.757e+03, 1.825e+03, 2.005e+03, 2.096e+03, 2.173e+03, 2.287e+03,\n        2.522e+03, 2.777e+03, 3.053e+03, 3.181e+03, 3.435e+03, 3.841e+03,\n        4.074e+03, 4.432e+03, 4.663e+03, 5.278e+03, 5.741e+03, 6.010e+03,\n        6.423e+03, 6.823e+03, 7.410e+03, 8.167e+03, 8.449e+03, 8.745e+03,\n        8.599e+03, 8.597e+03, 8.027e+03, 7.334e+03, 6.790e+03, 6.429e+03,\n        6.116e+03, 5.922e+03, 5.468e+03, 5.107e+03, 4.848e+03, 4.402e+03,\n        4.278e+03, 4.039e+03, 3.738e+03, 3.418e+03, 3.237e+03, 2.924e+03,\n        2.680e+03, 2.484e+03, 2.195e+03, 2.077e+03, 1.833e+03, 1.656e+03,\n        1.657e+03, 1.503e+03, 1.398e+03, 1.294e+03, 1.218e+03, 1.123e+03,\n        1.029e+03, 9.580e+02, 9.030e+02, 7.880e+02, 7.090e+02, 6.670e+02,\n        6.390e+02, 5.580e+02, 5.300e+02, 5.000e+02, 4.270e+02, 3.690e+02,\n        3.750e+02, 3.110e+02, 2.780e+02, 2.400e+02, 2.200e+02, 1.880e+02,\n        1.870e+02, 1.610e+02, 1.280e+02, 1.020e+02, 9.900e+01, 8.300e+01,\n        7.700e+01, 7.700e+01, 5.400e+01, 4.800e+01, 4.700e+01, 3.300e+01,\n        2.100e+01, 2.000e+01, 1.900e+01, 1.400e+01, 8.000e+00, 8.000e+00,\n        8.000e+00, 1.000e+00, 3.000e+00, 1.000e+00, 6.000e+00, 3.000e+00]),\n array([-3.72584863, -3.67824011, -3.63063159, -3.58302307, -3.53541455,\n        -3.48780603, -3.44019751, -3.39258899, -3.34498047, -3.29737194,\n        -3.24976342, -3.2021549 , -3.15454638, -3.10693786, -3.05932934,\n        -3.01172082, -2.9641123 , -2.91650378, -2.86889526, -2.82128674,\n        -2.77367822, -2.7260697 , -2.67846118, -2.63085265, -2.58324413,\n        -2.53563561, -2.48802709, -2.44041857, -2.39281005, -2.34520153,\n        -2.29759301, -2.24998449, -2.20237597, -2.15476745, -2.10715893,\n        -2.05955041, -2.01194189, -1.96433336, -1.91672484, -1.86911632,\n        -1.8215078 , -1.77389928, -1.72629076, -1.67868224, -1.63107372,\n        -1.5834652 , -1.53585668, -1.48824816, -1.44063964, -1.39303112,\n        -1.3454226 , -1.29781407, -1.25020555, -1.20259703, -1.15498851,\n        -1.10737999, -1.05977147, -1.01216295, -0.96455443, -0.91694591,\n        -0.86933739, -0.82172887, -0.77412035, -0.72651183, -0.67890331,\n        -0.63129479, -0.58368626, -0.53607774, -0.48846922, -0.4408607 ,\n        -0.39325218, -0.34564366, -0.29803514, -0.25042662, -0.2028181 ,\n        -0.15520958, -0.10760106, -0.05999254, -0.01238402,  0.0352245 ,\n         0.08283303,  0.13044155,  0.17805007,  0.22565859,  0.27326711,\n         0.32087563,  0.36848415,  0.41609267,  0.46370119,  0.51130971,\n         0.55891823,  0.60652675,  0.65413527,  0.70174379,  0.74935232,\n         0.79696084,  0.84456936,  0.89217788,  0.9397864 ,  0.98739492,\n         1.03500344,  1.08261196,  1.13022048,  1.177829  ,  1.22543752,\n         1.27304604,  1.32065456,  1.36826308,  1.41587161,  1.46348013,\n         1.51108865,  1.55869717,  1.60630569,  1.65391421,  1.70152273,\n         1.74913125,  1.79673977,  1.84434829,  1.89195681,  1.93956533,\n         1.98717385,  2.03478237,  2.08239089,  2.12999942,  2.17760794,\n         2.22521646,  2.27282498,  2.3204335 ,  2.36804202,  2.41565054,\n         2.46325906,  2.51086758,  2.5584761 ,  2.60608462,  2.65369314,\n         2.70130166,  2.74891018,  2.79651871,  2.84412723,  2.89173575,\n         2.93934427,  2.98695279,  3.03456131,  3.08216983,  3.12977835,\n         3.17738687,  3.22499539,  3.27260391,  3.32021243,  3.36782095,\n         3.41542947]),\n <BarContainer object of 150 artists>)"
     },
     "execution_count": 156,
     "metadata": {},
     "output_type": "execute_result"
    },
    {
     "data": {
      "text/plain": "<Figure size 640x480 with 1 Axes>",
      "image/png": "[encoded data removed]"
     },
     "metadata": {},
     "output_type": "display_data"
    }
   ],
   "source": [
    "plt.hist(paths[:,:,0].flatten(), bins=150)"
   ],
   "metadata": {
    "collapsed": false
   }
  },
  {
   "cell_type": "code",
   "execution_count": 157,
   "outputs": [
    {
     "name": "stdout",
     "output_type": "stream",
     "text": [
      "/Users/marcos/GitHubRepos/FractionalBrownianMotion/data/3DLnz_samples_t00_dT3906e-03_27e+00Beta_28e+00Rho_10e+00Sigma_10Diff_00Init.npy\n"
     ]
    }
   ],
   "source": [
    "print(config.data_path)"
   ],
   "metadata": {
    "collapsed": false
   }
  },
  {
   "cell_type": "code",
   "execution_count": 157,
   "outputs": [],
   "source": [],
   "metadata": {
    "collapsed": false
   }
  }
 ],
 "metadata": {
  "kernelspec": {
   "display_name": "Python 3",
   "language": "python",
   "name": "python3"
  },
  "language_info": {
   "codemirror_mode": {
    "name": "ipython",
    "version": 2
   },
   "file_extension": ".py",
   "mimetype": "text/x-python",
   "name": "python",
   "nbconvert_exporter": "python",
   "pygments_lexer": "ipython2",
   "version": "2.7.6"
  }
 },
 "nbformat": 4,
 "nbformat_minor": 0
}
