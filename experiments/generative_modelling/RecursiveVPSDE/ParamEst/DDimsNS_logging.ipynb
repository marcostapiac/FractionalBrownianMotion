{
 "cells": [
  {
   "cell_type": "code",
   "execution_count": 7,
   "metadata": {
    "collapsed": true
   },
   "outputs": [],
   "source": [
    "\n",
    "from configs.RecursiveVPSDE.Markovian_fBiPotDDims_NonSep.recursive_Markovian_PostMeanScore_fBiPot8DimsNS_T256_H05_tl_110data_StbleTgt import get_config as config8\n",
    "from configs.RecursiveVPSDE.Markovian_fBiPotDDims_NonSep.recursive_Markovian_PostMeanScore_fBiPot12DimsNS_T256_H05_tl_110data_StbleTgt import get_config as config12\n",
    "import matplotlib.pyplot as plt\n",
    "import numpy as np\n",
    "from utils.resource_logger import wallclock_and_system_metrics"
   ]
  },
  {
   "cell_type": "code",
   "execution_count": 8,
   "outputs": [
    {
     "data": {
      "text/plain": "array([2.81838293e-04, 3.72125692e-04, 4.91336820e-04, 6.48737444e-04,\n       8.56561639e-04, 1.13096268e-03, 1.49326859e-03, 1.97163984e-03,\n       2.60325818e-03, 3.43721657e-03, 4.53833501e-03, 5.99219871e-03,\n       7.91181023e-03, 1.04463727e-02, 1.37928868e-02, 1.82114627e-02,\n       2.40455371e-02, 3.17485677e-02, 4.19192779e-02, 5.53481932e-02,\n       7.30790854e-02, 9.64901005e-02, 1.27400876e-01, 1.68213973e-01,\n       2.22101619e-01, 2.93252268e-01, 3.87196154e-01, 5.11235131e-01,\n       6.75010215e-01, 8.91250938e-01])"
     },
     "execution_count": 8,
     "metadata": {},
     "output_type": "execute_result"
    }
   ],
   "source": [
    "np.logspace(-3.55, -0.05, 30)"
   ],
   "metadata": {
    "collapsed": false
   }
  },
  {
   "cell_type": "code",
   "execution_count": 9,
   "outputs": [],
   "source": [
    "nad8, nad12 = wallclock_and_system_metrics(config8().nadaraya_resource_logging_path, inclusive=False), wallclock_and_system_metrics(config12().nadaraya_resource_logging_path, inclusive=False)\n"
   ],
   "metadata": {
    "collapsed": false
   }
  },
  {
   "cell_type": "code",
   "execution_count": 10,
   "outputs": [],
   "source": [
    "score8, score12 = wallclock_and_system_metrics(config8().resource_logging_path, inclusive=False), wallclock_and_system_metrics(config12().resource_logging_path, inclusive=False)\n"
   ],
   "metadata": {
    "collapsed": false
   }
  },
  {
   "cell_type": "code",
   "execution_count": 13,
   "outputs": [],
   "source": [
    "dims = [8, 12]"
   ],
   "metadata": {
    "collapsed": false
   }
  },
  {
   "cell_type": "code",
   "execution_count": 25,
   "outputs": [
    {
     "data": {
      "text/plain": "              D=8      D=12\nScore     0.00751  0.010953\nNadaraya  6.13331  7.272414",
      "text/html": "<div>\n<style scoped>\n    .dataframe tbody tr th:only-of-type {\n        vertical-align: middle;\n    }\n\n    .dataframe tbody tr th {\n        vertical-align: top;\n    }\n\n    .dataframe thead th {\n        text-align: right;\n    }\n</style>\n<table border=\"1\" class=\"dataframe\">\n  <thead>\n    <tr style=\"text-align: right;\">\n      <th></th>\n      <th>D=8</th>\n      <th>D=12</th>\n    </tr>\n  </thead>\n  <tbody>\n    <tr>\n      <th>Score</th>\n      <td>0.00751</td>\n      <td>0.010953</td>\n    </tr>\n    <tr>\n      <th>Nadaraya</th>\n      <td>6.13331</td>\n      <td>7.272414</td>\n    </tr>\n  </tbody>\n</table>\n</div>"
     },
     "execution_count": 25,
     "metadata": {},
     "output_type": "execute_result"
    }
   ],
   "source": [
    "import pandas as pd\n",
    "pd.DataFrame.from_dict({\"Score\":[score8[\"wall_clock_per_unit_h\"], score12[\"wall_clock_per_unit_h\"]],\"Nadaraya\":[nad8[\"wall_clock_per_unit_h\"], nad12[\"wall_clock_per_unit_h\"]]}, orient=\"index\", columns=[\"D=8\", \"D=12\"])"
   ],
   "metadata": {
    "collapsed": false
   }
  },
  {
   "cell_type": "code",
   "execution_count": 26,
   "outputs": [
    {
     "data": {
      "text/plain": "                 D=8        D=12\nScore      34.167416   35.709333\nNadaraya  157.332058  240.798119",
      "text/html": "<div>\n<style scoped>\n    .dataframe tbody tr th:only-of-type {\n        vertical-align: middle;\n    }\n\n    .dataframe tbody tr th {\n        vertical-align: top;\n    }\n\n    .dataframe thead th {\n        text-align: right;\n    }\n</style>\n<table border=\"1\" class=\"dataframe\">\n  <thead>\n    <tr style=\"text-align: right;\">\n      <th></th>\n      <th>D=8</th>\n      <th>D=12</th>\n    </tr>\n  </thead>\n  <tbody>\n    <tr>\n      <th>Score</th>\n      <td>34.167416</td>\n      <td>35.709333</td>\n    </tr>\n    <tr>\n      <th>Nadaraya</th>\n      <td>157.332058</td>\n      <td>240.798119</td>\n    </tr>\n  </tbody>\n</table>\n</div>"
     },
     "execution_count": 26,
     "metadata": {},
     "output_type": "execute_result"
    }
   ],
   "source": [
    "import pandas as pd\n",
    "pd.DataFrame.from_dict({\"Score\":[score8[\"gpu_mem_avg_gib\"]+score8[\"ram_avg_gib\"], score12[\"gpu_mem_avg_gib\"]+score12[\"ram_avg_gib\"]],\"Nadaraya\":[nad8[\"ram_avg_gib\"], nad12[\"ram_avg_gib\"]]}, orient=\"index\", columns=[\"D=8\", \"D=12\"])"
   ],
   "metadata": {
    "collapsed": false
   }
  },
  {
   "cell_type": "code",
   "execution_count": null,
   "outputs": [],
   "source": [],
   "metadata": {
    "collapsed": false
   }
  }
 ],
 "metadata": {
  "kernelspec": {
   "display_name": "Python 3",
   "language": "python",
   "name": "python3"
  },
  "language_info": {
   "codemirror_mode": {
    "name": "ipython",
    "version": 2
   },
   "file_extension": ".py",
   "mimetype": "text/x-python",
   "name": "python",
   "nbconvert_exporter": "python",
   "pygments_lexer": "ipython2",
   "version": "2.7.6"
  }
 },
 "nbformat": 4,
 "nbformat_minor": 0
}
