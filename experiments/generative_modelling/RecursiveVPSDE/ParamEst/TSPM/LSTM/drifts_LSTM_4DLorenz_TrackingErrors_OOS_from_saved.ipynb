{
 "cells": [
  {
   "cell_type": "code",
   "execution_count": 1,
   "metadata": {
    "collapsed": true
   },
   "outputs": [],
   "source": [
    "%load_ext autoreload\n",
    "%autoreload 2\n",
    "\n",
    "import numpy as np\n",
    "import matplotlib.pyplot as plt\n",
    "from configs import project_config\n",
    "from configs.RecursiveVPSDE.LSTM_4DLorenz.recursive_LSTM_PostMeanScore_4DLorenz_T256_H05_tl_110data import \\\n",
    "    get_config"
   ]
  },
  {
   "cell_type": "code",
   "execution_count": 2,
   "outputs": [
    {
     "name": "stdout",
     "output_type": "stream",
     "text": [
      "2\n"
     ]
    }
   ],
   "source": [
    "config = get_config()\n",
    "deltaT = config.deltaT\n",
    "print(config.loss_factor)"
   ],
   "metadata": {
    "collapsed": false
   }
  },
  {
   "cell_type": "code",
   "execution_count": 6,
   "outputs": [
    {
     "name": "stdout",
     "output_type": "stream",
     "text": [
      "/Users/marcos/GitHubRepos/FractionalBrownianMotion/experiments/results/TSPM_LSTM_4DLorenz_DriftTrack_60Nep_tl110data_00t0_3906e-03dT_1NDT_2LFac_075FConst\n",
      "[Errno 2] No such file or directory: '/Users/marcos/GitHubRepos/FractionalBrownianMotion/experiments/results/TSPM_LSTM_4DLorenz_DriftTrack_60Nep_tl110data_00t0_3906e-03dT_1NDT_2LFac_075FConst_global_true_states.npy'\n",
      "/Users/marcos/GitHubRepos/FractionalBrownianMotion/experiments/results/TSPM_LSTM_4DLorenz_DriftTrack_100Nep_tl110data_00t0_3906e-03dT_1NDT_2LFac_075FConst\n",
      "[Errno 2] No such file or directory: '/Users/marcos/GitHubRepos/FractionalBrownianMotion/experiments/results/TSPM_LSTM_4DLorenz_DriftTrack_100Nep_tl110data_00t0_3906e-03dT_1NDT_2LFac_075FConst_global_true_states.npy'\n",
      "/Users/marcos/GitHubRepos/FractionalBrownianMotion/experiments/results/TSPM_LSTM_4DLorenz_DriftTrack_150Nep_tl110data_00t0_3906e-03dT_1NDT_2LFac_075FConst\n",
      "[Errno 2] No such file or directory: '/Users/marcos/GitHubRepos/FractionalBrownianMotion/experiments/results/TSPM_LSTM_4DLorenz_DriftTrack_150Nep_tl110data_00t0_3906e-03dT_1NDT_2LFac_075FConst_global_true_states.npy'\n",
      "/Users/marcos/GitHubRepos/FractionalBrownianMotion/experiments/results/TSPM_LSTM_4DLorenz_DriftTrack_300Nep_tl110data_00t0_3906e-03dT_1NDT_2LFac_075FConst\n",
      "[Errno 2] No such file or directory: '/Users/marcos/GitHubRepos/FractionalBrownianMotion/experiments/results/TSPM_LSTM_4DLorenz_DriftTrack_300Nep_tl110data_00t0_3906e-03dT_1NDT_2LFac_075FConst_global_true_states.npy'\n",
      "/Users/marcos/GitHubRepos/FractionalBrownianMotion/experiments/results/TSPM_LSTM_4DLorenz_DriftTrack_960Nep_tl110data_00t0_3906e-03dT_1NDT_2LFac_075FConst\n",
      "[Errno 2] No such file or directory: '/Users/marcos/GitHubRepos/FractionalBrownianMotion/experiments/results/TSPM_LSTM_4DLorenz_DriftTrack_960Nep_tl110data_00t0_3906e-03dT_1NDT_2LFac_075FConst_global_true_states.npy'\n",
      "/Users/marcos/GitHubRepos/FractionalBrownianMotion/experiments/results/TSPM_LSTM_4DLorenz_DriftTrack_1440Nep_tl110data_00t0_3906e-03dT_1NDT_2LFac_075FConst\n",
      "[Errno 2] No such file or directory: '/Users/marcos/GitHubRepos/FractionalBrownianMotion/experiments/results/TSPM_LSTM_4DLorenz_DriftTrack_1440Nep_tl110data_00t0_3906e-03dT_1NDT_2LFac_075FConst_global_true_states.npy'\n",
      "/Users/marcos/GitHubRepos/FractionalBrownianMotion/experiments/results/TSPM_LSTM_4DLorenz_DriftTrack_1920Nep_tl110data_00t0_3906e-03dT_1NDT_2LFac_075FConst\n",
      "[Errno 2] No such file or directory: '/Users/marcos/GitHubRepos/FractionalBrownianMotion/experiments/results/TSPM_LSTM_4DLorenz_DriftTrack_1920Nep_tl110data_00t0_3906e-03dT_1NDT_2LFac_075FConst_global_true_states.npy'\n",
      "/Users/marcos/GitHubRepos/FractionalBrownianMotion/experiments/results/TSPM_LSTM_4DLorenz_DriftTrack_2920Nep_tl110data_00t0_3906e-03dT_1NDT_2LFac_075FConst\n",
      "[Errno 2] No such file or directory: '/Users/marcos/GitHubRepos/FractionalBrownianMotion/experiments/results/TSPM_LSTM_4DLorenz_DriftTrack_2920Nep_tl110data_00t0_3906e-03dT_1NDT_2LFac_075FConst_global_true_states.npy'\n",
      "/Users/marcos/GitHubRepos/FractionalBrownianMotion/experiments/results/TSPM_LSTM_4DLorenz_DriftTrack_6920Nep_tl110data_00t0_3906e-03dT_1NDT_2LFac_075FConst\n",
      "[Errno 2] No such file or directory: '/Users/marcos/GitHubRepos/FractionalBrownianMotion/experiments/results/TSPM_LSTM_4DLorenz_DriftTrack_6920Nep_tl110data_00t0_3906e-03dT_1NDT_2LFac_075FConst_global_true_states.npy'\n",
      "/Users/marcos/GitHubRepos/FractionalBrownianMotion/experiments/results/TSPM_LSTM_4DLorenz_DriftTrack_7190Nep_tl110data_00t0_3906e-03dT_1NDT_2LFac_075FConst\n",
      "[Errno 2] No such file or directory: '/Users/marcos/GitHubRepos/FractionalBrownianMotion/experiments/results/TSPM_LSTM_4DLorenz_DriftTrack_7190Nep_tl110data_00t0_3906e-03dT_1NDT_2LFac_075FConst_global_true_states.npy'\n",
      "/Users/marcos/GitHubRepos/FractionalBrownianMotion/experiments/results/TSPM_LSTM_4DLorenz_DriftTrack_8190Nep_tl110data_00t0_3906e-03dT_1NDT_2LFac_075FConst\n",
      "[Errno 2] No such file or directory: '/Users/marcos/GitHubRepos/FractionalBrownianMotion/experiments/results/TSPM_LSTM_4DLorenz_DriftTrack_8190Nep_tl110data_00t0_3906e-03dT_1NDT_2LFac_075FConst_global_true_states.npy'\n",
      "/Users/marcos/GitHubRepos/FractionalBrownianMotion/experiments/results/TSPM_LSTM_4DLorenz_DriftTrack_12920Nep_tl110data_00t0_3906e-03dT_1NDT_2LFac_075FConst\n",
      "[Errno 2] No such file or directory: '/Users/marcos/GitHubRepos/FractionalBrownianMotion/experiments/results/TSPM_LSTM_4DLorenz_DriftTrack_12920Nep_tl110data_00t0_3906e-03dT_1NDT_2LFac_075FConst_global_true_states.npy'\n"
     ]
    }
   ],
   "source": [
    "curr_rmse = np.inf\n",
    "for Nepoch in config.max_epochs:\n",
    "    try:\n",
    "        num_diff_times = 1\n",
    "        save_path = (\n",
    "                project_config.ROOT_DIR + f\"experiments/results/TSPM_LSTM_{config.ndims}DLorenz_DriftTrack_{Nepoch}Nep_tl{config.tdata_mult}data_{config.t0}t0_{config.deltaT:.3e}dT_{num_diff_times}NDT_{config.loss_factor}LFac_{round(config.forcing_const,3)}FConst\").replace(\n",
    "            \".\", \"\")\n",
    "        print(save_path)\n",
    "        true_states = np.load(save_path + \"_global_true_states.npy\")/np.sqrt(config.deltaT)\n",
    "        local_states= np.load(save_path + \"_local_states.npy\")/np.sqrt(config.deltaT)\n",
    "        local_errors = np.power(np.cumsum(np.mean(np.power(true_states- local_states,2), axis=0), axis=0), 0.5)\n",
    "        total_local_errors = np.power(np.sum(np.power(local_errors, 2), axis=1)/np.arange(1, local_errors.shape[0]+1), 0.5)\n",
    "        if total_local_errors[-1] < curr_rmse:\n",
    "            curr_rmse = total_local_errors[-1]\n",
    "            fig, ax = plt.subplots(figsize=(14,9))\n",
    "            ax.scatter(np.linspace(config.t0,config.deltaT*total_local_errors.shape[0],total_local_errors.shape[0]), total_local_errors)\n",
    "            ax.set_title(f\"Cumulative RMSE for LSTM Score Estimator\",fontsize=40)\n",
    "            ax.set_ylabel(\"RMSE\", fontsize=38)\n",
    "            ax.set_xlabel(\"Time Axis\", fontsize=38)\n",
    "            ax.tick_params(labelsize=38)\n",
    "            plt.tight_layout()\n",
    "            plt.show()\n",
    "            plt.close()\n",
    "            print(f\"Final time cumulative RMSE local-time error {total_local_errors[-1]} at Nepoch {Nepoch}\\n\")\n",
    "    except FileNotFoundError as e:\n",
    "        print(e)\n",
    "        continue"
   ],
   "metadata": {
    "collapsed": false
   }
  },
  {
   "cell_type": "code",
   "execution_count": 3,
   "outputs": [],
   "source": [],
   "metadata": {
    "collapsed": false
   }
  }
 ],
 "metadata": {
  "kernelspec": {
   "display_name": "Python 3",
   "language": "python",
   "name": "python3"
  },
  "language_info": {
   "codemirror_mode": {
    "name": "ipython",
    "version": 2
   },
   "file_extension": ".py",
   "mimetype": "text/x-python",
   "name": "python",
   "nbconvert_exporter": "python",
   "pygments_lexer": "ipython2",
   "version": "2.7.6"
  }
 },
 "nbformat": 4,
 "nbformat_minor": 0
}
