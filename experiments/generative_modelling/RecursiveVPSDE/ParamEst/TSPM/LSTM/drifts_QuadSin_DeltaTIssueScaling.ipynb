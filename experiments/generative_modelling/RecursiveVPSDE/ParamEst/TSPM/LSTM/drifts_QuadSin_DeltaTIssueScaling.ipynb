{
 "cells": [
  {
   "cell_type": "code",
   "execution_count": 55,
   "metadata": {
    "collapsed": true
   },
   "outputs": [
    {
     "name": "stdout",
     "output_type": "stream",
     "text": [
      "The autoreload extension is already loaded. To reload it, use:\n",
      "  %reload_ext autoreload\n"
     ]
    }
   ],
   "source": [
    "%load_ext autoreload\n",
    "%autoreload 2\n",
    "from configs import project_config\n",
    "import numpy as np\n",
    "import torch\n",
    "import matplotlib.pyplot as plt"
   ]
  },
  {
   "cell_type": "code",
   "execution_count": 56,
   "outputs": [],
   "source": [
    "def rmse_ignore_nans(y_true, y_pred):\n",
    "    assert (y_true.shape[0] == y_pred.shape[0])\n",
    "    y_true = y_true.flatten()\n",
    "    y_pred = y_pred.flatten()\n",
    "    mask = ~np.isnan(y_true) & ~np.isnan(y_pred)  # Ignore NaNs in both arrays\n",
    "    return np.sqrt(np.mean((y_true[mask] - y_pred[mask]) ** 2))"
   ],
   "metadata": {
    "collapsed": false
   }
  },
  {
   "cell_type": "code",
   "execution_count": 57,
   "outputs": [],
   "source": [
    "def plot_drift_estimator(config,mean, stds, numpy_Xs, true_drift, ts_type, Nepoch,toSave:bool = True):\n",
    "    fig, ax = plt.subplots(figsize=(14,9))\n",
    "    rmse = rmse_ignore_nans(true_drift, mean).astype(np.float64)#np.power(np.mean(np.power(true_drift - mean, 2)), 0.5)\n",
    "    ax.scatter(numpy_Xs, true_drift, color=\"red\", label=\"True Drift\")\n",
    "\n",
    "    #ax.errorbar(numpy_Xs, mean, fmt=\"o\",yerr=2*stds, label=\"Estimated Drift\")\n",
    "    plt.scatter(numpy_Xs, mean, label=\"Estimated Drift\", color=\"blue\")\n",
    "    ax.set_title(rf\"RMSE {round(rmse,3)} for LSTM Score Estimator\", fontsize=40)\n",
    "    ax.tick_params(labelsize=38)\n",
    "    ax.set_xlabel(\"State $X$\", fontsize=38)\n",
    "    ax.set_ylabel(\"Drift Value\", fontsize=38)\n",
    "    ax.legend(fontsize=24)\n",
    "    plt.tight_layout()\n",
    "    if toSave:\n",
    "        plt.savefig(f\"/Users/marcos/Library/CloudStorage/OneDrive-ImperialCollegeLondon/StatML_CDT/Year2/DiffusionModelPresentationImages/{ts_type}_LSTM_{Nepoch}Nep_{config.deltaT:.3e}dT_{config.loss_factor}LFac.png\",  bbox_inches='tight')\n",
    "    plt.show()\n",
    "    plt.close()"
   ],
   "metadata": {
    "collapsed": false
   }
  },
  {
   "cell_type": "code",
   "execution_count": 58,
   "outputs": [],
   "source": [
    "def get_rmses(config):\n",
    "    rmses = {}\n",
    "    for Nepoch in config.max_epochs:\n",
    "        file_path = (\n",
    "                    project_config.ROOT_DIR + f\"experiments/results/TSPM_LSTM_fQuadSinHF_DriftEvalExp_{Nepoch}Nep_{config.t0}t0_{config.deltaT:.3e}dT_{config.quad_coeff}a_{config.sin_coeff}b_{config.sin_space_scale}c_{config.beta_max:.1e}betaMax_{config.loss_factor}LFac\").replace(\n",
    "                \".\", \"\")\n",
    "        try:\n",
    "            muhats = torch.Tensor(np.load(file_path+\"_muhats.npy\"))\n",
    "            Xshape = muhats.shape[0]\n",
    "            if config.deltaT > 1/(32*256):\n",
    "                Xs = torch.linspace(-1.2, 1.2, steps=Xshape)\n",
    "            else:\n",
    "                Xs = torch.linspace(-.4, .4, steps=Xshape)\n",
    "            true_drifts = (-2.*config.quad_coeff * Xs + config.sin_coeff * config.sin_space_scale*np.sin(config.sin_space_scale*Xs)).numpy()\n",
    "            mu_hats = muhats[:, -1, :].reshape(muhats.shape[0], muhats.shape[-1]*1).mean(dim=-1).numpy()\n",
    "            rmse = rmse_ignore_nans(true_drifts, mu_hats).astype(np.float64)\n",
    "            rmses.update({Nepoch: round(rmse, 4)})\n",
    "        except FileNotFoundError as e:\n",
    "            continue\n",
    "    return rmses"
   ],
   "metadata": {
    "collapsed": false
   }
  },
  {
   "cell_type": "code",
   "execution_count": 59,
   "outputs": [
    {
     "ename": "AssertionError",
     "evalue": "",
     "output_type": "error",
     "traceback": [
      "\u001B[0;31m---------------------------------------------------------------------------\u001B[0m",
      "\u001B[0;31mAssertionError\u001B[0m                            Traceback (most recent call last)",
      "Cell \u001B[0;32mIn[59], line 3\u001B[0m\n\u001B[1;32m      1\u001B[0m \u001B[38;5;28;01mfrom\u001B[39;00m \u001B[38;5;21;01mconfigs\u001B[39;00m\u001B[38;5;21;01m.\u001B[39;00m\u001B[38;5;21;01mRecursiveVPSDE\u001B[39;00m\u001B[38;5;21;01m.\u001B[39;00m\u001B[38;5;21;01mLSTM_fQuadSinHF\u001B[39;00m\u001B[38;5;21;01m.\u001B[39;00m\u001B[38;5;21;01mrecursive_LSTM_PostMeanScore_fQuadSinHF_T256_H05_tl_110data\u001B[39;00m \u001B[38;5;28;01mimport\u001B[39;00m get_config\n\u001B[1;32m      2\u001B[0m config \u001B[38;5;241m=\u001B[39m get_config()\n\u001B[0;32m----> 3\u001B[0m \u001B[38;5;28;01massert\u001B[39;00m (config\u001B[38;5;241m.\u001B[39mdeltaT \u001B[38;5;241m==\u001B[39m \u001B[38;5;241m1.\u001B[39m\u001B[38;5;241m/\u001B[39m\u001B[38;5;241m256\u001B[39m \u001B[38;5;129;01mand\u001B[39;00m config\u001B[38;5;241m.\u001B[39mloss_factor \u001B[38;5;241m==\u001B[39m \u001B[38;5;241m0\u001B[39m)\n\u001B[1;32m      4\u001B[0m rmses_0 \u001B[38;5;241m=\u001B[39m get_rmses(config\u001B[38;5;241m=\u001B[39mconfig)\n",
      "\u001B[0;31mAssertionError\u001B[0m: "
     ]
    }
   ],
   "source": [
    "from configs.RecursiveVPSDE.LSTM_fQuadSinHF.recursive_LSTM_PostMeanScore_fQuadSinHF_T256_H05_tl_110data import get_config\n",
    "config = get_config()\n",
    "assert (config.deltaT == 1./256 and config.loss_factor == 0)\n",
    "rmses_0 = get_rmses(config=config)"
   ],
   "metadata": {
    "collapsed": false
   }
  },
  {
   "cell_type": "code",
   "execution_count": null,
   "outputs": [],
   "source": [
    "rmses_0"
   ],
   "metadata": {
    "collapsed": false
   }
  },
  {
   "cell_type": "code",
   "execution_count": null,
   "outputs": [],
   "source": [
    "%load_ext autoreload\n",
    "%autoreload 2\n",
    "from configs.RecursiveVPSDE.LSTM_fQuadSinHF.recursive_LSTM_PostMeanScore_fQuadSinHF_T256_H05_tl_110data import get_config\n",
    "config = get_config()\n",
    "assert (config.deltaT == 1./256 and config.loss_factor == 2)\n",
    "rmses_2 = get_rmses(config=config)"
   ],
   "metadata": {
    "collapsed": false
   }
  },
  {
   "cell_type": "code",
   "execution_count": null,
   "outputs": [],
   "source": [
    "rmses_2"
   ],
   "metadata": {
    "collapsed": false
   }
  },
  {
   "cell_type": "code",
   "execution_count": null,
   "outputs": [],
   "source": [
    "# Convert to DataFrame (pandas automatically fills missing values with NaN)\n",
    "import pandas as pd\n",
    "df = pd.DataFrame([rmses_0, rmses_2], [\"LFac0\", \"LFac2\"])\n",
    "\n",
    "# Compute statistics, ignoring NaNs\n",
    "stats = df.T.describe()\n",
    "print(stats)  # Summary statistics"
   ],
   "metadata": {
    "collapsed": false
   }
  },
  {
   "cell_type": "code",
   "execution_count": null,
   "outputs": [],
   "source": [
    "print(df)"
   ],
   "metadata": {
    "collapsed": false
   }
  },
  {
   "cell_type": "code",
   "execution_count": null,
   "outputs": [],
   "source": [
    "Nepoch = 2920\n",
    "%load_ext autoreload\n",
    "%autoreload 2\n",
    "from configs.RecursiveVPSDE.LSTM_fQuadSinHF.recursive_LSTM_PostMeanScore_fQuadSinHF_T256_H05_tl_110data import get_config\n",
    "config = get_config()\n",
    "file_path = (project_config.ROOT_DIR + f\"experiments/results/TSPM_LSTM_fQuadSinHF_DriftEvalExp_{Nepoch}Nep_{config.t0}t0_{config.deltaT:.3e}dT_{config.quad_coeff}a_{config.sin_coeff}b_{config.sin_space_scale}c_{config.beta_max:.1e}betaMax_{config.loss_factor}LFac\").replace(\n",
    "                \".\", \"\")\n",
    "muhats = torch.Tensor(np.load(file_path+\"_muhats.npy\"))\n",
    "Xshape = muhats.shape[0]\n",
    "if config.deltaT > 1/(32*256):\n",
    "    Xs = torch.linspace(-1.2, 1.2, steps=Xshape)\n",
    "else:\n",
    "    Xs = torch.linspace(-.4, .4, steps=Xshape)\n",
    "true_drifts = (-2.*config.quad_coeff * Xs + config.sin_coeff * config.sin_space_scale*np.sin(config.sin_space_scale*Xs)).numpy()\n",
    "mu_hats = muhats[:, -1, :].reshape(muhats.shape[0], muhats.shape[-1]*1).mean(dim=-1).numpy()\n",
    "print(np.mean(mu_hats), np.std(mu_hats))\n",
    "stds = muhats[:, -1, :].reshape(muhats.shape[0], muhats.shape[-1]*1).std(dim=-1).numpy()\n",
    "plot_drift_estimator(mean=mu_hats, stds=stds, numpy_Xs=Xs, toSave=True, true_drift=true_drifts, ts_type=\"fQuadSinHF\", Nepoch=Nepoch, config=config)\n",
    "print(np.mean(stds))\n",
    "del muhats, mu_hats, stds, true_drifts"
   ],
   "metadata": {
    "collapsed": false
   }
  },
  {
   "cell_type": "code",
   "execution_count": null,
   "outputs": [],
   "source": [],
   "metadata": {
    "collapsed": false
   }
  }
 ],
 "metadata": {
  "kernelspec": {
   "display_name": "Python 3",
   "language": "python",
   "name": "python3"
  },
  "language_info": {
   "codemirror_mode": {
    "name": "ipython",
    "version": 2
   },
   "file_extension": ".py",
   "mimetype": "text/x-python",
   "name": "python",
   "nbconvert_exporter": "python",
   "pygments_lexer": "ipython2",
   "version": "2.7.6"
  }
 },
 "nbformat": 4,
 "nbformat_minor": 0
}
