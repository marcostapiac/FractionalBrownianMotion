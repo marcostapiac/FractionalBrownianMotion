{
 "cells": [
  {
   "cell_type": "code",
   "execution_count": 1,
   "metadata": {
    "collapsed": true
   },
   "outputs": [],
   "source": [
    "%load_ext autoreload\n",
    "%autoreload 2\n",
    "\n",
    "import numpy as np\n",
    "import matplotlib.pyplot as plt\n",
    "from configs import project_config\n",
    "from configs.RecursiveVPSDE.LSTM_3DLorenz.recursive_LSTM_PostMeanScore_3DLorenz_T256_H05_tl_110data import \\\n",
    "    get_config"
   ]
  },
  {
   "cell_type": "code",
   "execution_count": 2,
   "outputs": [
    {
     "name": "stdout",
     "output_type": "stream",
     "text": [
      "2\n"
     ]
    }
   ],
   "source": [
    "config = get_config()\n",
    "deltaT = config.deltaT\n",
    "print(config.loss_factor)"
   ],
   "metadata": {
    "collapsed": false
   }
  },
  {
   "cell_type": "code",
   "execution_count": 1,
   "outputs": [
    {
     "ename": "NameError",
     "evalue": "name 'np' is not defined",
     "output_type": "error",
     "traceback": [
      "\u001B[0;31m---------------------------------------------------------------------------\u001B[0m",
      "\u001B[0;31mNameError\u001B[0m                                 Traceback (most recent call last)",
      "Cell \u001B[0;32mIn[1], line 1\u001B[0m\n\u001B[0;32m----> 1\u001B[0m curr_rmse \u001B[38;5;241m=\u001B[39m \u001B[43mnp\u001B[49m\u001B[38;5;241m.\u001B[39minf\n\u001B[1;32m      2\u001B[0m toSave \u001B[38;5;241m=\u001B[39m \u001B[38;5;28;01mFalse\u001B[39;00m\n\u001B[1;32m      3\u001B[0m \u001B[38;5;28;01mfor\u001B[39;00m Nepoch \u001B[38;5;129;01min\u001B[39;00m config\u001B[38;5;241m.\u001B[39mmax_epochs:\n",
      "\u001B[0;31mNameError\u001B[0m: name 'np' is not defined"
     ]
    }
   ],
   "source": [
    "curr_rmse = np.inf\n",
    "toSave = False\n",
    "for Nepoch in config.max_epochs:\n",
    "    try:\n",
    "        num_diff_times = 1\n",
    "        save_path = (\n",
    "                project_config.ROOT_DIR + f\"experiments/results/TSPM_LSTM_{config.ndims}DLorenz_DriftTrack_{Nepoch}Nep_tl{config.tdata_mult}data_{config.t0}t0_{config.deltaT:.3e}dT_{num_diff_times}NDT_{config.loss_factor}LFac_{config.ts_beta:.1e}Beta_{config.ts_rho:.1e}Rho_{config.ts_sigma:.1e}Sigma\").replace(\n",
    "            \".\", \"\")\n",
    "        all_true_states = np.load(save_path + \"_global_true_states.npy\")/np.sqrt(config.deltaT)\n",
    "        all_local_states= np.load(save_path + \"_local_states.npy\")/np.sqrt(config.deltaT)\n",
    "        all_local_errors = np.cumsum(np.mean(np.power(all_true_states- all_local_states,2), axis=(1,3)), axis=-1)/np.arange(1, all_local_states.shape[2]+1)\n",
    "        total_local_errors = np.mean(np.sqrt(all_local_errors), axis=0)\n",
    "        total_local_errors_minq = np.quantile(np.sqrt(all_local_errors), axis=0,q=0.025)\n",
    "        total_local_errors_maxq = np.quantile(np.sqrt(all_local_errors), axis=0,q=0.975)\n",
    "        print(total_local_errors[-1], total_local_errors_maxq[-1]-total_local_errors_minq[-1], curr_rmse)\n",
    "        if total_local_errors[-1]  < curr_rmse:\n",
    "            miny = total_local_errors-total_local_errors_minq\n",
    "            miny[miny < 0.] = 0.\n",
    "            maxy = total_local_errors_maxq-total_local_errors\n",
    "            maxy[maxy < 0.] = 0.\n",
    "            time_steps = np.linspace(config.t0,config.deltaT*total_local_errors.shape[0],total_local_errors.shape[0])\n",
    "            curr_rmse = total_local_errors[-1] #- total_local_errors_minq[-1]\n",
    "            fig, ax = plt.subplots(figsize=(14,9))\n",
    "            ax.scatter(time_steps, total_local_errors)\n",
    "            #plt.fill_between(time_steps, total_local_errors_minq, total_local_errors_maxq, color=\"blue\", alpha=0.2, label=\"95% Confidence Band\")\n",
    "            plt.errorbar(time_steps,total_local_errors,yerr=[total_local_errors-total_local_errors_minq, total_local_errors_maxq-total_local_errors],xerr=None, fmt='o', color=\"blue\", alpha=0.4)\n",
    "\n",
    "            ax.set_title(f\"Cumulative RMSE for LSTM Score Estimator\",fontsize=40)\n",
    "            ax.set_ylabel(\"RMSE\", fontsize=38)\n",
    "            ax.set_xlabel(\"Time Axis\", fontsize=38)\n",
    "            ax.tick_params(labelsize=38)\n",
    "            plt.tight_layout()\n",
    "            if toSave:\n",
    "                plt.savefig((f\"/Users/marcos/Library/CloudStorage/OneDrive-ImperialCollegeLondon/StatML_CDT/Year2/DiffusionModelPresentationImages/f3DLnz_DriftTrack_{Nepoch}Nep_PM_LSTM\").replace(\".\", \"\")+\".png\")\n",
    "            plt.show()\n",
    "            plt.close()\n",
    "            print(f\"Final time cumulative RMSE local-time error {total_local_errors[-1]} with final IQR {total_local_errors_minq[-1],total_local_errors_maxq[-1]} at Nepoch {Nepoch}\\n\")\n",
    "    except FileNotFoundError as e:\n",
    "        continue"
   ],
   "metadata": {
    "collapsed": false
   }
  },
  {
   "cell_type": "code",
   "execution_count": 3,
   "outputs": [],
   "source": [],
   "metadata": {
    "collapsed": false
   }
  }
 ],
 "metadata": {
  "kernelspec": {
   "display_name": "Python 3",
   "language": "python",
   "name": "python3"
  },
  "language_info": {
   "codemirror_mode": {
    "name": "ipython",
    "version": 2
   },
   "file_extension": ".py",
   "mimetype": "text/x-python",
   "name": "python",
   "nbconvert_exporter": "python",
   "pygments_lexer": "ipython2",
   "version": "2.7.6"
  }
 },
 "nbformat": 4,
 "nbformat_minor": 0
}
