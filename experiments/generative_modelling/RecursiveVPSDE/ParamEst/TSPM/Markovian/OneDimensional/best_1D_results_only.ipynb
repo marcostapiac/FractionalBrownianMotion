{
 "cells": [
  {
   "cell_type": "code",
   "execution_count": 2,
   "metadata": {
    "collapsed": true
   },
   "outputs": [],
   "source": [
    "import numpy as np\n",
    "import pandas as pd\n",
    "import matplotlib.pyplot as plt\n",
    "import os\n",
    "from configs.RecursiveVPSDE.Markovian_fSinLog.recursive_Markovian_PostMeanScore_fSinLog_LowFTh_T256_H05_tl_110data_StbleTgt import get_config as get_sinlog_config\n",
    "from configs.RecursiveVPSDE.Markovian_fBiPot.recursive_Markovian_PostMeanScore_fBiPot_LowFTh_T256_H05_tl_110data_StbleTgt import get_config as get_bipot_config\n",
    "from configs.RecursiveVPSDE.Markovian_fQuadSinHF.recursive_Markovian_PostMeanScore_fQuadSinHF2_LowFTh_T256_H05_tl_110data_StbleTgt import get_config as get_quadsin_config"
   ]
  },
  {
   "cell_type": "code",
   "execution_count": 3,
   "outputs": [],
   "source": [
    "sinlog_config = get_sinlog_config()\n",
    "bipot_config = get_bipot_config()\n",
    "quadsin_config = get_quadsin_config()\n",
    "root_dir =\"/Users/marcos/Library/CloudStorage/OneDrive-ImperialCollegeLondon/StatML_CDT/Year2/DiffusionModels/\""
   ],
   "metadata": {
    "collapsed": false
   }
  },
  {
   "cell_type": "code",
   "execution_count": 4,
   "outputs": [],
   "source": [
    "def plot_drift_estimator(config,root_dir, mean, mean_min, mean_max, numpy_Xs, true_drift, Nepoch, dirname, label, toSave: bool = True):\n",
    "    if \"BiPot\" in config.data_path:\n",
    "        ts_type_str = \"fBiPot\"\n",
    "    elif \"SinLog\" in config.data_path:\n",
    "        ts_type_str = \"fSinLog\"\n",
    "    elif \"QuadSinHF\" in config.data_path:\n",
    "        ts_type_str = \"fQuadSinHF2\"\n",
    "    fig, ax = plt.subplots(figsize=(14, 9))\n",
    "    ax.scatter(numpy_Xs, true_drift, color=\"red\", label=\"True Drift\")\n",
    "    ymin = mean - mean_min\n",
    "    ymax = mean_max - mean\n",
    "    ymin[ymin < 0.] = 0.\n",
    "    ymax[ymax < 0.] = 0.\n",
    "    plt.errorbar(numpy_Xs, mean, yerr=[ymin, ymax], xerr=None, fmt='o', color=\"blue\", alpha=0.4)\n",
    "    plt.scatter(numpy_Xs, mean, label=\"Estimated Drift\", color=\"blue\")\n",
    "    ax.set_title(rf\"Score Estimator for {label}\", fontsize=40)\n",
    "    ax.tick_params(labelsize=38)\n",
    "    ax.set_xlabel(\"State $X$\", fontsize=38)\n",
    "    ax.set_ylabel(\"Drift Value\", fontsize=38)\n",
    "    ax.legend(fontsize=24)\n",
    "    plt.grid(True)\n",
    "    plt.tight_layout()\n",
    "    if toSave:\n",
    "        plt.savefig((root_dir +f\"DiffusionModelPresentationImages/TSPM_Markovian/{dirname}/TSPM_MLP_PM_ST_{ts_type_str}_DriftEvalExp_{Nepoch}Nep_{config.loss_factor}LFac\").replace(\n",
    "                \".\", \"\") + \".png\", bbox_inches='tight')\n",
    "    plt.show()\n",
    "    plt.close()"
   ],
   "metadata": {
    "collapsed": false
   }
  },
  {
   "cell_type": "code",
   "execution_count": 5,
   "outputs": [],
   "source": [
    "def get_best_epoch(type):\n",
    "    model_dir = \"/\".join(config.scoreNet_trained_path.split(\"/\")[:-1]) + \"/\"\n",
    "    for file in os.listdir(model_dir):\n",
    "        if config.scoreNet_trained_path in os.path.join(model_dir, file) and f\"{type}\" in file:\n",
    "            print(file.split(f\"{type}NEp\")[-1])\n",
    "            best_epoch = int(file.split(f\"{type}NEp\")[-1])\n",
    "    return best_epoch\n",
    "\n",
    "def get_best_eval_file(root_score_dir, ts_type, best_epoch_eval):\n",
    "    for file in os.listdir(root_score_dir):\n",
    "        if str(best_epoch_eval) in file and \"muhats\" in file and ts_type in file:\n",
    "            return np.load(root_score_dir+file, allow_pickle=True)\n",
    "\n",
    "def get_best_track_file(root_score_dir, ts_type, best_epoch_track):\n",
    "    for file in os.listdir(root_score_dir):\n",
    "        if str(best_epoch_track) in file and \"true\" in file and ts_type in file:\n",
    "            true_file = np.load(root_score_dir+file, allow_pickle=True)\n",
    "        elif str(best_epoch_track) in file and \"global\" in file and ts_type in file:\n",
    "            global_file = np.load(root_score_dir+file, allow_pickle=True)\n",
    "    return true_file, global_file\n",
    "\n",
    "def eval_exp_pipeline(root_score_dir, ts_type, config, root_dir, Xs, toSave, label, true_drifts):\n",
    "    best_epoch_eval =get_best_epoch(type=\"EE\")\n",
    "    muhats = get_best_eval_file(root_score_dir=root_score_dir, best_epoch_eval = best_epoch_eval, ts_type=ts_type)\n",
    "    muhats = muhats[:, -1, :].reshape(muhats.shape[0], muhats.shape[2]*1)\n",
    "    print(muhats.shape)\n",
    "    mu_hats = muhats.mean(axis=-1)\n",
    "    mu_hats_minq = np.quantile(muhats, axis=-1, q=0.005) # Lower bound\n",
    "    mu_hats_maxq = np.quantile(muhats, axis=-1, q=0.995) # Upper boun\n",
    "    return np.mean(np.power(mu_hats - true_drifts, 2))\n",
    "    plot_drift_estimator(root_dir=root_dir, config=config, mean=mu_hats, mean_min=mu_hats_minq, mean_max=mu_hats_maxq, dirname=ts_type, numpy_Xs=Xs,  toSave=toSave, true_drift=true_drifts, Nepoch=best_epoch_eval, label=label)\n",
    "\n",
    "\n",
    "def track_pipeline(root_score_dir, ts_type, config, root_dir, toSave, label):\n",
    "    best_epoch_track = get_best_epoch(type=\"EE\")\n",
    "    if best_epoch_track % 2 != 0: best_epoch_track -= 1\n",
    "    all_true_states, all_global_states = get_best_track_file(root_score_dir=root_score_dir, ts_type=ts_type, best_epoch_track=best_epoch_track)\n",
    "    print(all_true_states.shape)\n",
    "    time_steps = np.linspace(config.t0,config.deltaT*all_true_states.shape[2],all_true_states.shape[2])\n",
    "    all_global_errors = np.sum(np.power(all_true_states- all_global_states,2), axis=-1)\n",
    "    all_global_errors = all_global_errors.reshape(-1, all_global_errors.shape[-1])\n",
    "    total_global_errors = np.sqrt(np.mean((all_global_errors), axis=0))/np.sqrt(time_steps)\n",
    "    all_errs = np.sqrt(all_global_errors)/np.sqrt(time_steps)\n",
    "    total_global_errors[np.isinf(total_global_errors)] = 0.\n",
    "    return total_global_errors[-1]\n",
    "    all_errs[np.isinf(all_errs)] = 0.\n",
    "    total_global_errors_minq, total_global_errors_maxq = np.quantile(all_errs, axis=0,q=[0.005,0.995])\n",
    "    fig, ax = plt.subplots(figsize=(14,9))\n",
    "    plt.grid(True)\n",
    "    ax.scatter(time_steps, total_global_errors)\n",
    "    plt.fill_between(time_steps,y1=total_global_errors_minq, y2=total_global_errors_maxq, color=\"blue\", alpha=0.4)\n",
    "    ax.set_title(f\"Pathwise RMSE for Score Estimator for {label}\",fontsize=40)\n",
    "\n",
    "    ax.set_xlabel(\"Time Axis\", fontsize=38)\n",
    "    ax.tick_params(labelsize=38)\n",
    "\n",
    "    fig.canvas.draw()\n",
    "    # Get the offset text (e.g., '1e-5')\n",
    "    offset_text = ax.yaxis.get_offset_text().get_text()\n",
    "\n",
    "    # Remove the offset text from the axis\n",
    "    ax.yaxis.get_offset_text().set_visible(False)\n",
    "\n",
    "    # Inject the scale into the y-axis label\n",
    "    if offset_text:\n",
    "        ax.set_ylabel(f'RMSE ({offset_text})', fontsize=38)\n",
    "    else:\n",
    "        ax.set_ylabel('RMSE', fontsize=38)\n",
    "    plt.tight_layout()\n",
    "    if toSave:\n",
    "        plt.savefig((root_dir +f\"DiffusionModelPresentationImages/TSPM_Markovian/{ts_type}/TSPM_MLP_PM_ST_{config.feat_thresh:.3f}FTh_{ts_type}_DriftTrack_{best_epoch_track}Nep_{round(total_global_errors_minq[-1], 7)}_MinIQR_{round(total_global_errors_maxq[-1], 7)}_MaxIQR\").replace(\".\", \"\")+\".png\")\n",
    "    plt.grid(True)\n",
    "    plt.show()\n",
    "    plt.close()\n",
    "    print(f\"Final time cumulative MSE local-time error {total_global_errors[-1]} with IQR ({total_global_errors_minq[-1], total_global_errors_maxq[-1]})at Nepoch {best_epoch_track}\\n\")\n",
    "    return total_global_errors[-1]"
   ],
   "metadata": {
    "collapsed": false
   }
  },
  {
   "cell_type": "code",
   "execution_count": 13,
   "outputs": [
    {
     "name": "stdout",
     "output_type": "stream",
     "text": [
      "2780\n",
      "(256, 100)\n",
      "2780\n",
      "(2, 100, 257, 1)\n",
      "2823\n",
      "(256, 100)\n",
      "2823\n",
      "(2, 100, 257, 1)\n"
     ]
    },
    {
     "name": "stderr",
     "output_type": "stream",
     "text": [
      "/var/folders/68/vrxg2n311sz1gs264pkys2zh0000gn/T/ipykernel_54773/1421963911.py:42: RuntimeWarning: invalid value encountered in divide\n",
      "  total_global_errors = np.sqrt(np.mean((all_global_errors), axis=0))/np.sqrt(time_steps)\n",
      "/var/folders/68/vrxg2n311sz1gs264pkys2zh0000gn/T/ipykernel_54773/1421963911.py:43: RuntimeWarning: invalid value encountered in divide\n",
      "  all_errs = np.sqrt(all_global_errors)/np.sqrt(time_steps)\n"
     ]
    }
   ],
   "source": [
    "toSave = False\n",
    "eval_exps = {t: np.inf for t in [\"BiPot\", \"QuadSinHF\", \"SinLog\"]}\n",
    "eval_tracks = {t: np.inf for t in [\"BiPot\", \"QuadSinHF\", \"SinLog\"]}\n",
    "for config in [sinlog_config, quadsin_config, bipot_config]:\n",
    "    Xshape = config.ts_length\n",
    "    Xs = (np.linspace(-1.5,1.5,Xshape))\n",
    "    root_score_dir = root_dir\n",
    "    if \"BiPot\" in config.data_path:\n",
    "        true_drifts = -(4.*config.quartic_coeff * np.power(Xs, 3) + 2.*config.quad_coeff * Xs + config.const)\n",
    "        root_score_dir = root_dir + f\"ExperimentResults/TSPM_Markovian/BiPot/\"\n",
    "        ts_type = \"BiPot\"\n",
    "        label = \"$\\mu_{3}$\"\n",
    "    elif \"QuadSin\" in config.data_path:\n",
    "        true_drifts = (-2. * config.quad_coeff * Xs + config.sin_coeff * config.sin_space_scale * np.sin(config.sin_space_scale * Xs))\n",
    "        root_score_dir = root_dir + f\"ExperimentResults/TSPM_Markovian/QuadSinHF/\"\n",
    "        ts_type = \"QuadSinHF\"\n",
    "        label = \"$\\mu_{2}$\"\n",
    "    elif \"SinLog\" in config.data_path:\n",
    "        true_drifts = (-np.sin(config.sin_space_scale*Xs)*np.log(1+config.log_space_scale*np.abs(Xs))/config.sin_space_scale)\n",
    "        root_score_dir = root_dir + f\"ExperimentResults/TSPM_Markovian/SinLog/\"\n",
    "        ts_type = \"SinLog\"\n",
    "        label = \"$\\mu_{1}$\"\n",
    "    mse = eval_exp_pipeline(root_score_dir=root_score_dir, ts_type=ts_type, config=config, root_dir=root_dir, Xs=Xs, toSave=toSave, label=label, true_drifts=true_drifts)\n",
    "    eval_exps[ts_type] = [mse]\n",
    "    rmse = track_pipeline(root_score_dir=root_score_dir, ts_type=ts_type, config=config, root_dir=root_dir, toSave=toSave, label=label)\n",
    "    eval_tracks[ts_type] = [rmse]"
   ],
   "metadata": {
    "collapsed": false
   }
  },
  {
   "cell_type": "code",
   "execution_count": 18,
   "outputs": [
    {
     "name": "stdout",
     "output_type": "stream",
     "text": [
      "   BiPot  QuadSinHF    SinLog\n",
      "0    inf   0.026839  0.001976\n",
      "   BiPot  QuadSinHF    SinLog\n",
      "0    inf   0.019773  0.015116\n"
     ]
    }
   ],
   "source": [
    "eval_exps = (pd.DataFrame.from_dict(eval_exps))\n",
    "eval_tracks = (pd.DataFrame.from_dict(eval_tracks))\n",
    "print(eval_exps)\n",
    "print(eval_tracks)"
   ],
   "metadata": {
    "collapsed": false
   }
  }
 ],
 "metadata": {
  "kernelspec": {
   "display_name": "Python 3",
   "language": "python",
   "name": "python3"
  },
  "language_info": {
   "codemirror_mode": {
    "name": "ipython",
    "version": 2
   },
   "file_extension": ".py",
   "mimetype": "text/x-python",
   "name": "python",
   "nbconvert_exporter": "python",
   "pygments_lexer": "ipython2",
   "version": "2.7.6"
  }
 },
 "nbformat": 4,
 "nbformat_minor": 0
}
