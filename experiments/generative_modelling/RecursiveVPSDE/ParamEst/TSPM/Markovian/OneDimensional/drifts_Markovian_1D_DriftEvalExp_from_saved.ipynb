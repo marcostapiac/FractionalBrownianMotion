{
 "cells": [
  {
   "cell_type": "code",
   "execution_count": 1,
   "metadata": {
    "collapsed": true
   },
   "outputs": [],
   "source": [
    "%load_ext autoreload\n",
    "%autoreload 2\n",
    "from configs import project_config\n",
    "import pickle\n",
    "import numpy as np\n",
    "import torch\n",
    "import os\n",
    "from src.generative_modelling.models.ClassVPSDEDiffusion import VPSDEDiffusion\n",
    "import matplotlib.pyplot as plt\n",
    "from configs.RecursiveVPSDE.Markovian_fQuadSinHF.recursive_Markovian_PostMeanScore_fQuadSinHF2_LowFTh_T256_H05_tl_110data_StbleTgt import get_config\n",
    "#from configs.RecursiveVPSDE.Markovian_fSinLog.recursive_Markovian_PostMeanScore_fSinLog_LowFTh_T256_H05_tl_110data_StbleTgt import get_config\n",
    "#from configs.RecursiveVPSDE.Markovian_fBiPot.recursive_Markovian_PostMeanScore_fBiPot_LowFTh_T256_H05_tl_110data_StbleTgt\n",
    "#import get_config"
   ]
  },
  {
   "cell_type": "code",
   "execution_count": 8,
   "outputs": [
    {
     "data": {
      "text/plain": "(array([2.00000e+00, 0.00000e+00, 1.00000e+00, 1.00000e+00, 0.00000e+00,\n        1.00000e+00, 0.00000e+00, 0.00000e+00, 2.00000e+00, 0.00000e+00,\n        0.00000e+00, 0.00000e+00, 0.00000e+00, 0.00000e+00, 0.00000e+00,\n        0.00000e+00, 0.00000e+00, 0.00000e+00, 0.00000e+00, 0.00000e+00,\n        0.00000e+00, 0.00000e+00, 0.00000e+00, 0.00000e+00, 0.00000e+00,\n        0.00000e+00, 0.00000e+00, 0.00000e+00, 0.00000e+00, 0.00000e+00,\n        0.00000e+00, 0.00000e+00, 0.00000e+00, 0.00000e+00, 0.00000e+00,\n        0.00000e+00, 0.00000e+00, 0.00000e+00, 0.00000e+00, 0.00000e+00,\n        0.00000e+00, 0.00000e+00, 0.00000e+00, 0.00000e+00, 0.00000e+00,\n        0.00000e+00, 0.00000e+00, 0.00000e+00, 0.00000e+00, 0.00000e+00,\n        0.00000e+00, 0.00000e+00, 0.00000e+00, 0.00000e+00, 0.00000e+00,\n        0.00000e+00, 0.00000e+00, 0.00000e+00, 0.00000e+00, 0.00000e+00,\n        0.00000e+00, 0.00000e+00, 0.00000e+00, 0.00000e+00, 0.00000e+00,\n        0.00000e+00, 0.00000e+00, 0.00000e+00, 0.00000e+00, 0.00000e+00,\n        0.00000e+00, 0.00000e+00, 0.00000e+00, 0.00000e+00, 0.00000e+00,\n        0.00000e+00, 0.00000e+00, 0.00000e+00, 0.00000e+00, 0.00000e+00,\n        0.00000e+00, 0.00000e+00, 0.00000e+00, 0.00000e+00, 0.00000e+00,\n        0.00000e+00, 0.00000e+00, 0.00000e+00, 0.00000e+00, 0.00000e+00,\n        0.00000e+00, 0.00000e+00, 0.00000e+00, 0.00000e+00, 0.00000e+00,\n        0.00000e+00, 0.00000e+00, 0.00000e+00, 0.00000e+00, 0.00000e+00,\n        0.00000e+00, 0.00000e+00, 0.00000e+00, 0.00000e+00, 0.00000e+00,\n        0.00000e+00, 0.00000e+00, 0.00000e+00, 0.00000e+00, 0.00000e+00,\n        0.00000e+00, 0.00000e+00, 0.00000e+00, 0.00000e+00, 0.00000e+00,\n        0.00000e+00, 0.00000e+00, 0.00000e+00, 0.00000e+00, 0.00000e+00,\n        0.00000e+00, 0.00000e+00, 7.09810e+04, 1.04821e+05, 1.16875e+05,\n        1.24688e+05, 1.27164e+05, 1.29483e+05, 1.31960e+05, 1.30052e+05,\n        1.18222e+05, 1.05277e+05, 9.94180e+04, 9.58710e+04, 8.62290e+04,\n        7.42850e+04, 6.74500e+04, 6.33630e+04, 5.49940e+04, 4.55230e+04,\n        4.02680e+04, 3.55340e+04, 2.85430e+04, 2.25000e+04, 1.94530e+04,\n        1.57260e+04, 1.15140e+04, 9.06300e+03, 7.11200e+03, 5.12700e+03]),\n array([-1.20108312, -1.18307594, -1.16506875, -1.14706157, -1.12905438,\n        -1.1110472 , -1.09304001, -1.07503283, -1.05702565, -1.03901846,\n        -1.02101128, -1.00300409, -0.98499691, -0.96698973, -0.94898254,\n        -0.93097536, -0.91296817, -0.89496099, -0.87695381, -0.85894662,\n        -0.84093944, -0.82293225, -0.80492507, -0.78691788, -0.7689107 ,\n        -0.75090352, -0.73289633, -0.71488915, -0.69688196, -0.67887478,\n        -0.6608676 , -0.64286041, -0.62485323, -0.60684604, -0.58883886,\n        -0.57083168, -0.55282449, -0.53481731, -0.51681012, -0.49880294,\n        -0.48079575, -0.46278857, -0.44478139, -0.4267742 , -0.40876702,\n        -0.39075983, -0.37275265, -0.35474547, -0.33673828, -0.3187311 ,\n        -0.30072391, -0.28271673, -0.26470955, -0.24670236, -0.22869518,\n        -0.21068799, -0.19268081, -0.17467362, -0.15666644, -0.13865926,\n        -0.12065207, -0.10264489, -0.0846377 , -0.06663052, -0.04862334,\n        -0.03061615, -0.01260897,  0.00539822,  0.0234054 ,  0.04141258,\n         0.05941977,  0.07742695,  0.09543414,  0.11344132,  0.13144851,\n         0.14945569,  0.16746287,  0.18547006,  0.20347724,  0.22148443,\n         0.23949161,  0.25749879,  0.27550598,  0.29351316,  0.31152035,\n         0.32952753,  0.34753471,  0.3655419 ,  0.38354908,  0.40155627,\n         0.41956345,  0.43757064,  0.45557782,  0.473585  ,  0.49159219,\n         0.50959937,  0.52760656,  0.54561374,  0.56362092,  0.58162811,\n         0.59963529,  0.61764248,  0.63564966,  0.65365684,  0.67166403,\n         0.68967121,  0.7076784 ,  0.72568558,  0.74369277,  0.76169995,\n         0.77970713,  0.79771432,  0.8157215 ,  0.83372869,  0.85173587,\n         0.86974305,  0.88775024,  0.90575742,  0.92376461,  0.94177179,\n         0.95977897,  0.97778616,  0.99579334,  1.01380053,  1.03180771,\n         1.0498149 ,  1.06782208,  1.08582926,  1.10383645,  1.12184363,\n         1.13985082,  1.157858  ,  1.17586518,  1.19387237,  1.21187955,\n         1.22988674,  1.24789392,  1.2659011 ,  1.28390829,  1.30191547,\n         1.31992266,  1.33792984,  1.35593702,  1.37394421,  1.39195139,\n         1.40995858,  1.42796576,  1.44597295,  1.46398013,  1.48198731,\n         1.4999945 ]),\n <BarContainer object of 150 artists>)"
     },
     "execution_count": 8,
     "metadata": {},
     "output_type": "execute_result"
    },
    {
     "data": {
      "text/plain": "<Figure size 640x480 with 1 Axes>",
      "image/png": "[encoded data removed]"
     },
     "metadata": {},
     "output_type": "display_data"
    }
   ],
   "source": [
    "config = get_config()\n",
    "\n",
    "data = np.load(config.data_path, allow_pickle=True)"
   ],
   "metadata": {
    "collapsed": false
   }
  },
  {
   "cell_type": "code",
   "execution_count": 4,
   "outputs": [
    {
     "name": "stdout",
     "output_type": "stream",
     "text": [
      "trained_rec_ST_0002FTh_PM_MLP_2LFac_fQuadSinHF_VPSDE_T256_Ndiff10000_Tdiff1000e+00_DiffEmbSz64_ResLay10_ResChan8_DiffHdnSz64_TrueHybd_TrueWghts_t00_dT3906e-03_05a_004b_250c_MLP_H4_CUp20_tl110_EENEp140\n",
      "mlp_state_mapper.hybrid.W torch.Size([16, 1])\n",
      "tensor([[ 1.3988],\n",
      "        [-0.0160],\n",
      "        [-0.6119],\n",
      "        [ 0.0751],\n",
      "        [-0.1551],\n",
      "        [ 0.7997],\n",
      "        [-0.1803],\n",
      "        [-0.9634],\n",
      "        [ 1.8352],\n",
      "        [ 0.3576],\n",
      "        [ 0.0377],\n",
      "        [-0.9350],\n",
      "        [ 0.4373],\n",
      "        [ 0.6277],\n",
      "        [-0.8928],\n",
      "        [-0.5495]])\n",
      "mlp_state_mapper.hybrid.b torch.Size([16])\n",
      "tensor([0.9277, 4.7680, 4.0281, 0.1560, 1.6989, 5.1858, 3.2595, 5.9707, 0.5450,\n",
      "        5.7983, 1.9046, 5.6247, 6.2370, 5.6471, 5.0008, 1.6097])\n",
      "mlp_state_mapper.hybrid.log_scale torch.Size([16])\n",
      "tensor([-1.1890,  3.9849,  0.7002,  2.9129,  3.9488,  1.4245, -0.4550,  1.7399,\n",
      "         3.1121,  0.8742,  3.9204, -0.0763,  1.7041,  2.3388,  3.6978,  4.1129])\n",
      "mlp_state_mapper.hybrid.gate_mlp.0.weight torch.Size([32, 1])\n",
      "tensor([[-0.0520],\n",
      "        [ 0.4431],\n",
      "        [ 0.5636],\n",
      "        [-0.3788],\n",
      "        [ 0.5361],\n",
      "        [-0.1131],\n",
      "        [-0.3091],\n",
      "        [-0.1332],\n",
      "        [ 0.9017],\n",
      "        [-0.1826],\n",
      "        [-0.5546],\n",
      "        [ 0.1362],\n",
      "        [ 0.9858],\n",
      "        [-0.2872],\n",
      "        [-0.9940],\n",
      "        [-0.6249],\n",
      "        [ 0.8639],\n",
      "        [-0.6782],\n",
      "        [-0.9680],\n",
      "        [ 0.2670],\n",
      "        [ 0.3148],\n",
      "        [-0.0168],\n",
      "        [-0.6804],\n",
      "        [ 0.1963],\n",
      "        [-0.3493],\n",
      "        [-0.4335],\n",
      "        [ 0.5160],\n",
      "        [ 0.5727],\n",
      "        [ 0.1519],\n",
      "        [-0.1516],\n",
      "        [ 0.3573],\n",
      "        [ 0.6439]])\n",
      "mlp_state_mapper.hybrid.gate_mlp.0.bias torch.Size([32])\n",
      "tensor([ 0.4265, -0.4492,  0.0737,  0.9418,  0.9005,  0.2383,  0.0685, -0.8182,\n",
      "         0.4167, -0.6873,  0.6774,  0.3659, -0.6336, -0.6462,  0.8770,  0.7657,\n",
      "        -0.3643,  0.5086, -0.5409,  0.9494,  0.2137,  0.2645,  0.4812, -0.3185,\n",
      "        -0.5220, -0.3658,  0.7406,  0.5604,  0.9091,  0.7725,  0.5279,  0.8388])\n",
      "mlp_state_mapper.hybrid.gate_mlp.2.weight torch.Size([32, 32])\n",
      "tensor([[ 0.1319, -0.0375, -0.0456,  ..., -0.0293,  0.0667, -0.0419],\n",
      "        [ 0.1763,  0.1267,  0.0181,  ...,  0.0490,  0.0195, -0.0678],\n",
      "        [ 0.0990,  0.0688, -0.0521,  ...,  0.1249, -0.1678,  0.0472],\n",
      "        ...,\n",
      "        [-0.1044, -0.0419,  0.0484,  ...,  0.1059,  0.1229,  0.0522],\n",
      "        [ 0.1300, -0.1553, -0.1359,  ...,  0.0572, -0.0485,  0.1618],\n",
      "        [ 0.1750,  0.1044, -0.1182,  ..., -0.1672, -0.1361, -0.1113]])\n",
      "mlp_state_mapper.hybrid.gate_mlp.2.bias torch.Size([32])\n",
      "tensor([-0.0639, -0.1002, -0.0719,  0.1223,  0.0019, -0.1182,  0.0510, -0.0188,\n",
      "         0.1461, -0.1647, -0.0547, -0.0530, -0.1450,  0.1064,  0.0759,  0.0676,\n",
      "         0.0132,  0.1634, -0.0210, -0.1582,  0.1507,  0.0604,  0.0875,  0.0853,\n",
      "         0.0384,  0.0553,  0.0057, -0.0653, -0.0015, -0.1654, -0.1097,  0.1119])\n"
     ]
    }
   ],
   "source": [
    "from src.generative_modelling.models.TimeDependentScoreNetworks.ClassConditionalMarkovianTSPostMeanScoreMatching import \\\n",
    "    ConditionalMarkovianTSPostMeanScoreMatching\n",
    "config = get_config()\n",
    "scoreModel = ConditionalMarkovianTSPostMeanScoreMatching(\n",
    "            *config.model_parameters)\n",
    "model_dir = \"/\".join(config.scoreNet_trained_path.split(\"/\")[:-1]) + \"/\"\n",
    "entered = False\n",
    "for file in os.listdir(model_dir):\n",
    "    if config.scoreNet_trained_path in os.path.join(model_dir, file) and \"EE\" in file:\n",
    "        print(file)\n",
    "        entered = True\n",
    "        scoreModel.load_state_dict(torch.load(os.path.join(model_dir, file)))\n",
    "sd = scoreModel.state_dict()\n",
    "for name, tensor in sd.items():\n",
    "    if \"hybrid\" in name:\n",
    "        print(name, tensor.shape)\n",
    "        print(tensor)"
   ],
   "metadata": {
    "collapsed": false
   }
  },
  {
   "cell_type": "code",
   "execution_count": null,
   "outputs": [],
   "source": [
    "from IPython.core.magic import register_cell_magic\n",
    "\n",
    "@register_cell_magic\n",
    "def skip(line, cell):\n",
    "    return"
   ],
   "metadata": {
    "collapsed": false
   }
  },
  {
   "cell_type": "code",
   "execution_count": null,
   "outputs": [],
   "source": [
    "def rmse_ignore_nans(y_true, y_pred):\n",
    "    return np.nanmean((y_true-y_pred)**2)\n",
    "\n",
    "def plot_drift_estimator(mean, mean_min, mean_max, numpy_Xs, true_drift, Nepoch, dirname, label, toSave: bool = True):\n",
    "    if \"BiPot\" in config.data_path:\n",
    "        ts_type_str = \"fBiPot\"\n",
    "    elif \"SinLog\" in config.data_path:\n",
    "        ts_type_str = \"fSinLog\"\n",
    "    elif \"QuadSinHF\" in config.data_path:\n",
    "        ts_type_str = \"fQuadSinHF2\"\n",
    "    fig, ax = plt.subplots(figsize=(14, 9))\n",
    "    ax.scatter(numpy_Xs, true_drift, color=\"red\", label=\"True Drift\")\n",
    "    ymin = mean - mean_min\n",
    "    ymax = mean_max - mean\n",
    "    ymin[ymin < 0.] = 0.\n",
    "    ymax[ymax < 0.] = 0.\n",
    "    plt.errorbar(numpy_Xs, mean, yerr=[ymin, ymax], xerr=None, fmt='o', color=\"blue\", alpha=0.4)\n",
    "    plt.scatter(numpy_Xs, mean, label=\"Estimated Drift\", color=\"blue\")\n",
    "    ax.set_title(rf\"Score Estimator for {label}\", fontsize=40)\n",
    "    ax.tick_params(labelsize=38)\n",
    "    ax.set_xlabel(\"State $X$\", fontsize=38)\n",
    "    ax.set_ylabel(\"Drift Value\", fontsize=38)\n",
    "    ax.legend(fontsize=24)\n",
    "    plt.grid(True)\n",
    "    plt.tight_layout()\n",
    "    if toSave:\n",
    "        plt.savefig((root_dir +f\"DiffusionModelPresentationImages/TSPM_Markovian/{dirname}/TSPM_MLP_PM_ST_{ts_type_str}_DriftEvalExp_{Nepoch}Nep_{config.loss_factor}LFac\").replace(\n",
    "                \".\", \"\") + \".png\", bbox_inches='tight')\n",
    "    plt.show()\n",
    "    plt.close()\n",
    "def plot_ewma_losses(epochs, losses):\n",
    "    start_idx = 0\n",
    "    def compute_ema(loss_tensor, beta):\n",
    "        ema_values = np.zeros_like(loss_tensor)  # Initialize EMA tensor\n",
    "        ema_values[0] = loss_tensor[0]  # First value stays the same\n",
    "\n",
    "        for i in range(1, len(loss_tensor)):\n",
    "            ema_values[i] = beta * ema_values[i - 1] + (1 - beta) * loss_tensor[i]\n",
    "\n",
    "        return ema_values\n",
    "    # Define EMA decay rates\n",
    "    beta_short = 0.9   # Short-term trend (reacts quickly)\n",
    "    beta_long = 0.95   # Long-term trend (smoother)\n",
    "\n",
    "    # Compute EMAs\n",
    "    short_term_ema = compute_ema(losses, beta_short)\n",
    "    long_term_ema = compute_ema(losses, beta_long)\n",
    "    plt.scatter(epochs[start_idx:], (short_term_ema[start_idx:]),s=2, label=\"Short Term Loss\")\n",
    "    print(np.min(short_term_ema[start_idx:]), np.min(long_term_ema[start_idx:]))\n",
    "    print(long_term_ema[-1])\n",
    "    plt.yscale(\"log\")\n",
    "    plt.legend()\n",
    "    plt.show()\n",
    "    plt.scatter(epochs[start_idx:], (long_term_ema[start_idx:]),s=2, label=\"Long Term Loss\")\n",
    "    plt.yscale(\"log\")\n",
    "    plt.legend()\n",
    "    plt.show()"
   ],
   "metadata": {
    "collapsed": false
   }
  },
  {
   "cell_type": "code",
   "execution_count": null,
   "outputs": [],
   "source": [
    "config = get_config()\n",
    "assert config.enforce_fourier_mean_reg\n",
    "root_dir =\"/Users/marcos/Library/CloudStorage/OneDrive-ImperialCollegeLondon/StatML_CDT/Year2/DiffusionModels/\""
   ],
   "metadata": {
    "collapsed": false
   }
  },
  {
   "cell_type": "code",
   "execution_count": null,
   "outputs": [],
   "source": [
    "with open((config.scoreNet_trained_path.replace(\"/trained_models/\", \"/training_losses/\")+ \"_loss\"), 'rb') as f:\n",
    "        losses = (np.array(pickle.load(f)).astype(float))\n",
    "Nepochs_losses = np.arange(losses.shape[0])\n",
    "plt.scatter(Nepochs_losses,  losses, s=10, label=\"Instantaneous Loss\")\n",
    "plt.yscale(\"log\")\n",
    "plt.legend()\n",
    "plt.grid(True)\n",
    "plt.show()\n",
    "plt.close()\n",
    "Nepochs_losses[-1]"
   ],
   "metadata": {
    "collapsed": false
   }
  },
  {
   "cell_type": "code",
   "execution_count": null,
   "outputs": [],
   "source": [
    "plot_ewma_losses(epochs=Nepochs_losses, losses=losses)"
   ],
   "metadata": {
    "collapsed": false
   }
  },
  {
   "cell_type": "code",
   "execution_count": null,
   "outputs": [],
   "source": [
    "with open((config.scoreNet_trained_path.replace(\"/trained_models/\", \"/training_losses/\")+ \"_loss_LR\"), 'rb') as f:\n",
    "        LRs = (np.array(pickle.load(f)).astype(float))\n",
    "start = 0\n",
    "end = -1\n",
    "plt.scatter(np.arange(LRs.shape[0]),  LRs, s=10, label=\"Learning Rate\")\n",
    "plt.yscale(\"log\")\n",
    "plt.grid(True)\n",
    "plt.legend()\n",
    "plt.show()\n",
    "plt.close()"
   ],
   "metadata": {
    "collapsed": false
   }
  },
  {
   "cell_type": "code",
   "execution_count": null,
   "outputs": [],
   "source": [
    "if \"fQuadSin\" in config.data_path:\n",
    "    minx = -1.5\n",
    "    assert config.sin_space_scale == 25.\n",
    "    ts_type = \"fQuadSin2\"\n",
    "    include = (f\"{config.deltaT:.3e}dT_{config.quad_coeff}a_{config.sin_coeff}b_{config.sin_space_scale}c\").replace(\n",
    "        \".\", \"\")\n",
    "    root_score_dir = root_dir + f\"ExperimentResults/TSPM_Markovian/QuadSinHF2/\"\n",
    "elif \"fBiPot\" in config.data_path:\n",
    "    minx = -1.5\n",
    "    ts_type = \"fBiPot\"\n",
    "    include = (f\"{config.deltaT:.3e}dT_{config.quartic_coeff}a_{config.quad_coeff}b_{config.const}c\").replace(\n",
    "        \".\", \"\")\n",
    "    root_score_dir = root_dir + f\"ExperimentResults/TSPM_Markovian/BiPot/\"\n",
    "elif \"fSinLog\" in config.data_path:\n",
    "    minx = -1.5\n",
    "    ts_type = \"fSinLog\"\n",
    "    include = (f\"{config.deltaT:.3e}dT_{config.log_space_scale}b_{config.sin_space_scale}c\").replace(\n",
    "        \".\", \"\")\n",
    "    root_score_dir = root_dir + f\"ExperimentResults/TSPM_Markovian/SinLog/\"\n",
    "maxx = -minx"
   ],
   "metadata": {
    "collapsed": false
   }
  },
  {
   "cell_type": "code",
   "execution_count": null,
   "outputs": [],
   "source": [
    "def get_drift_files(config, include, ts_type_str, root_score_dir):\n",
    "    ts_type = f\"{ts_type_str}\"\n",
    "    driftevalexp_files = []\n",
    "    driftoostrack_true_files = []\n",
    "    driftoostrack_local_files = []\n",
    "    for file in os.listdir(root_score_dir):\n",
    "        if \"MLP\" in file and ts_type in file and include in file:\n",
    "            if ((\"ST\" in ts_type_str and \"_ST_\" in file) or ((\"ST\" not in ts_type_str and \"_ST_\" not in file))):\n",
    "                if \"muhats\" in file and \"DriftEvalExp\" in file:\n",
    "                    driftevalexp_files.append(root_score_dir+file)\n",
    "                elif \"OOSDriftTrack\" in file and \"true\" in file:\n",
    "                    driftoostrack_true_files.append(root_score_dir+file)\n",
    "                elif \"OOSDriftTrack\" in file and \"global\" in file:\n",
    "                    driftoostrack_local_files.append(root_score_dir+file)\n",
    "    def extract_bw_drift_eval_exp_number(s):\n",
    "        match = s.split(\"Nep_\")[0].split(\"_\")[-1]\n",
    "        return int(match)\n",
    "    def extract_bw_drift_track_number(s):\n",
    "        match = s.split(\"Nep_\")[0].split(\"_\")[-1]\n",
    "        return int(match)\n",
    "    driftevalexp_files = sorted(driftevalexp_files, key=extract_bw_drift_eval_exp_number)\n",
    "    driftoostrack_true_files = sorted(driftoostrack_true_files, key=extract_bw_drift_track_number)\n",
    "    driftoostrack_local_files = sorted(driftoostrack_local_files, key=extract_bw_drift_track_number)\n",
    "    Nepochs_track = [extract_bw_drift_track_number(f) for f in driftoostrack_true_files]\n",
    "    Nepochs_drifteval = [extract_bw_drift_eval_exp_number(f) for f in driftevalexp_files]\n",
    "    return driftevalexp_files, driftoostrack_true_files, driftoostrack_local_files, Nepochs_track, Nepochs_drifteval"
   ],
   "metadata": {
    "collapsed": false
   }
  },
  {
   "cell_type": "code",
   "execution_count": null,
   "outputs": [],
   "source": [
    "if \"BiPot\" in config.data_path:\n",
    "    ts_type_str = f\"ST_{config.feat_thresh:.3f}FTh_fBiPot\".replace(\".\", \"\")\n",
    "    dirname = \"BiPot\"\n",
    "    label = \"$\\mu_{3}$\"\n",
    "elif \"QuadSinHF\" in config.data_path:\n",
    "    ts_type_str = f\"ST_{config.feat_thresh:.3f}FTh_fQuadSinHF\".replace(\".\",\"\")\n",
    "    dirname = \"QuadSinHF2\"\n",
    "    label = \"$\\mu_{2}$\"\n",
    "elif \"SinLog\" in config.data_path:\n",
    "    ts_type_str = f\"ST_{config.feat_thresh:.3f}FTh_fSinLog\".replace(\".\",\"\")\n",
    "    dirname = \"SinLog\"\n",
    "    label = \"$\\mu_{1}$\"\n",
    "driftevalexp_files, driftoostrack_true_files, driftoostrack_local_files, Nepochs_track, Nepochs_drifteval = get_drift_files(config=config, include=include, ts_type_str=ts_type_str, root_score_dir=root_score_dir)"
   ],
   "metadata": {
    "collapsed": false
   }
  },
  {
   "cell_type": "code",
   "execution_count": null,
   "outputs": [],
   "source": [
    "eval_exp_rmses = {}\n",
    "for f in zip(*[Nepochs_drifteval, driftevalexp_files]):\n",
    "    Nepoch = f[0]\n",
    "    file = f[1]\n",
    "    try:\n",
    "        muhats = torch.Tensor(np.load(file, allow_pickle=True))\n",
    "        Xshape = muhats.shape[0]\n",
    "        Xs = torch.Tensor(np.linspace(-1.5,1.5,Xshape))\n",
    "        if \"BiPot\" in config.data_path:\n",
    "            true_drifts = -(4.*config.quartic_coeff * np.power(Xs, 3) + 2.*config.quad_coeff * Xs + config.const).numpy()\n",
    "        elif \"QuadSin\" in config.data_path:\n",
    "            true_drifts = (-2. * config.quad_coeff * Xs + config.sin_coeff * config.sin_space_scale * np.sin(\n",
    "        config.sin_space_scale * Xs)).numpy()\n",
    "        elif \"SinLog\" in config.data_path:\n",
    "            true_drifts = (-np.sin(config.sin_space_scale*Xs)*np.log(1+config.log_space_scale*np.abs(Xs))/config.sin_space_scale).numpy()\n",
    "        mu_hats = muhats[:, -1, :].reshape(muhats.shape[0], muhats.shape[2]*1).mean(dim=-1).numpy()\n",
    "        rmse = rmse_ignore_nans(true_drifts, mu_hats).astype(np.float64)\n",
    "        eval_exp_rmses.update({Nepoch: round(rmse, 6)})\n",
    "    except [FileNotFoundError, pickle.UnpicklingError] as e:\n",
    "        continue\n",
    "Nepochs_drifteval = np.array(list(eval_exp_rmses.keys())).flatten()\n",
    "eval_exp_rmses"
   ],
   "metadata": {
    "collapsed": false
   }
  },
  {
   "cell_type": "code",
   "execution_count": null,
   "outputs": [],
   "source": [
    "drift_track_rmses = {}\n",
    "for f in zip(*[Nepochs_track, driftoostrack_true_files, driftoostrack_local_files]):\n",
    "    Nepoch = f[0]\n",
    "    true = f[1]\n",
    "    local = f[2]\n",
    "    try:\n",
    "        all_true_states = np.load(true, allow_pickle=True)\n",
    "        all_local_states= np.load(local,allow_pickle=True)\n",
    "        global_error = np.sum(np.power(all_true_states- all_local_states,2), axis=-1)\n",
    "        total_local_errors = np.sqrt(np.mean(global_error.reshape(-1, global_error.shape[-1]), axis=0))\n",
    "        drift_track_rmses.update({Nepoch:total_local_errors[-1]})\n",
    "    except pickle.UnpicklingError as e:\n",
    "        print(e)\n",
    "        continue\n",
    "    except (FileNotFoundError, ValueError) as e:\n",
    "        print(e)\n",
    "        continue\n",
    "Nepochs_track= np.array(list(drift_track_rmses.keys())).flatten()"
   ],
   "metadata": {
    "collapsed": false
   }
  },
  {
   "cell_type": "code",
   "execution_count": null,
   "outputs": [],
   "source": [
    "common_epochs = np.intersect1d(np.intersect1d(np.intersect1d(Nepochs_losses, Nepochs_drifteval), Nepochs_track), np.arange(1, 3500))\n",
    "start_idx = 0\n",
    "common_epochs = common_epochs[start_idx:]\n",
    "losses_idx = [np.argwhere(c == Nepochs_losses)[0,0] for c in common_epochs]\n",
    "evalexp_idx = [np.argwhere(c == Nepochs_drifteval)[0,0] for c in common_epochs]\n",
    "red_losses = losses[losses_idx]\n",
    "eval_rmses = np.array(list(eval_exp_rmses.values()))[evalexp_idx]\n",
    "track_idx = [np.argwhere(c == Nepochs_track)[0,0] for c in common_epochs]\n",
    "track_rmses = np.array(list(drift_track_rmses.values()))[track_idx]"
   ],
   "metadata": {
    "collapsed": false
   }
  },
  {
   "cell_type": "code",
   "execution_count": null,
   "outputs": [],
   "source": [
    "toSave = False\n",
    "fig, ax = plt.subplots(figsize=(14,9))\n",
    "sc1 = ax.scatter(common_epochs, red_losses, s=10, label=\"Training Loss\")\n",
    "ax.tick_params(axis=\"both\",labelsize=24)\n",
    "ax2 = ax.twinx()\n",
    "sc2 = ax2.scatter(common_epochs, eval_rmses, s=20, color=\"orange\",label=\"Domain MSE\")\n",
    "ax.set_xlabel(\"Training Epochs\", fontsize=38)\n",
    "ax.set_title(rf\"Losses for StableTarget {label}\", fontsize=40)\n",
    "ax.tick_params(axis=\"both\",labelsize=24)\n",
    "ax2.tick_params(axis=\"both\",labelsize=24)\n",
    "plt.tight_layout()\n",
    "handles = [sc1, sc2]\n",
    "labels = [h.get_label() for h in handles]\n",
    "ax.legend(handles, labels, fontsize=24)\n",
    "if toSave:\n",
    "    plt.savefig((root_dir +f\"DiffusionModelPresentationImages/TSPM_Markovian/{dirname}/TSPM_MLP_PM_ST_{config.feat_thresh:.3f}FTh_{ts_type}_LossesEvalExp_{config.loss_factor}LFac\").replace(\".\",\"\")+\".png\",  bbox_inches='tight')\n",
    "plt.grid(True)\n",
    "plt.show()\n",
    "plt.close()\n",
    "fig, ax = plt.subplots(figsize=(14,9))\n",
    "sc1 = ax.scatter(common_epochs, red_losses, s=10, label=\"Training Loss\")\n",
    "ax2 = ax.twinx()\n",
    "sc2 = ax2.scatter(common_epochs, track_rmses, s=20, color=\"red\",label=\"Tracking MSE\")\n",
    "ax.set_xlabel(\"Training Epochs\", fontsize=38)\n",
    "ax.set_title(rf\"Losses for StableTarget {label}\", fontsize=40)\n",
    "ax.tick_params(axis=\"both\",labelsize=24)\n",
    "ax2.tick_params(axis=\"both\",labelsize=24)\n",
    "plt.tight_layout()\n",
    "handles = [sc1, sc2]\n",
    "labels = [h.get_label() for h in handles]\n",
    "# Add a single legend on ax1\n",
    "ax.legend(handles, labels, fontsize=24)\n",
    "if toSave:\n",
    "    plt.savefig((root_dir + f\"DiffusionModelPresentationImages/TSPM_Markovian/{dirname}/TSPM_MLP_PM_ST_{config.feat_thresh:.3f}FTh_{ts_type}_LossesTrack_{config.loss_factor}LFac\").replace(\".\",\"\")+\".png\",  bbox_inches='tight')\n",
    "plt.grid(True)\n",
    "plt.show()\n",
    "plt.close()"
   ],
   "metadata": {
    "collapsed": false
   }
  },
  {
   "cell_type": "code",
   "execution_count": null,
   "outputs": [],
   "source": [
    "plot_ewma_losses(epochs=common_epochs, losses=red_losses)"
   ],
   "metadata": {
    "collapsed": false
   }
  },
  {
   "cell_type": "code",
   "execution_count": null,
   "outputs": [],
   "source": [
    "best_rmse = np.inf\n",
    "m_mu_hats = []\n",
    "toSave = False\n",
    "for f in zip(*[Nepochs_drifteval, driftevalexp_files]):\n",
    "    Nepoch = f[0]\n",
    "    file = f[1]\n",
    "    if Nepoch not in common_epochs: continue\n",
    "    try:\n",
    "        muhats = torch.Tensor(np.load(file, allow_pickle=True))\n",
    "        Xshape = muhats.shape[0]\n",
    "        Xs = torch.linspace(-1.5, 1.5, steps=Xshape)\n",
    "        if \"fQuadSin\" in config.data_path:\n",
    "            true_drifts = -2.*config.quad_coeff * Xs.unsqueeze(-1) + config.sin_coeff * config.sin_space_scale*np.sin(config.sin_space_scale*Xs).unsqueeze(-1)\n",
    "        elif \"BiPot\" in config.data_path:\n",
    "            true_drifts = -(4.*config.quartic_coeff * np.power(Xs, 3) + 2.*config.quad_coeff * Xs + config.const).unsqueeze(-1)\n",
    "        elif \"SinLog\" in config.data_path:\n",
    "            true_drifts =  -np.sin(config.sin_space_scale*Xs)*np.log(1+config.log_space_scale*np.abs(Xs))/config.sin_space_scale\n",
    "        true_drifts = true_drifts.numpy().flatten()\n",
    "        muhats =  muhats[:, -1, :, 0].reshape(muhats.shape[0], muhats.shape[2]*1)\n",
    "        mu_hats = muhats.mean(dim=-1) # Pointwise drift estimate\n",
    "        rmse = rmse_ignore_nans(true_drifts, mu_hats.numpy()).astype(np.float64)\n",
    "        if rmse < best_rmse:\n",
    "            print(muhats.shape)\n",
    "            mu_hats_minq = muhats.quantile(dim=-1, q=0.005).numpy() # Lower bound\n",
    "            mu_hats_maxq = muhats.quantile(dim=-1, q=0.995).numpy() # Upper boun\n",
    "            best_rmse = rmse\n",
    "            plot_drift_estimator(mean=mu_hats.numpy(), mean_min=mu_hats_minq, mean_max=mu_hats_maxq, dirname=dirname, numpy_Xs=Xs.numpy(),  toSave=toSave, true_drift=true_drifts, Nepoch=Nepoch, label=label)\n",
    "            print(f\"MSE {rmse} at Nepoch {Nepoch}\\n\")\n",
    "            print(file)\n",
    "    except FileNotFoundError as e:\n",
    "        print(f\"{e}, Hi\")\n",
    "#m_mu_hats = torch.Tensor(np.array(m_mu_hats))\n",
    "#m_mu_hats = m_mu_hats.numpy()\n",
    "#mu_hats = m_mu_hats.mean(axis=0)\n"
   ],
   "metadata": {
    "collapsed": false
   }
  },
  {
   "cell_type": "code",
   "execution_count": null,
   "outputs": [],
   "source": [
    "curr_rmse = np.inf\n",
    "toSave = False\n",
    "i = 0\n",
    "for file in zip(*[driftoostrack_true_files, driftoostrack_local_files, common_epochs]):\n",
    "    Nepoch = file[-1]\n",
    "    all_true_states = np.load(file[0])\n",
    "    all_local_states = np.load(file[1])\n",
    "    if (len(all_true_states.shape) == len(all_local_states.shape) == 4):\n",
    "        time_steps = np.linspace(config.t0,config.deltaT*all_true_states.shape[2],all_true_states.shape[2])\n",
    "        all_local_errors = np.sum(np.power(all_true_states- all_local_states,2), axis=-1)\n",
    "        all_local_errors = all_local_errors.reshape(-1, all_local_errors.shape[-1])\n",
    "        total_local_errors = np.sqrt(np.mean((all_local_errors), axis=0))/np.sqrt(time_steps)\n",
    "        all_errs = np.sqrt(all_local_errors)/np.sqrt(time_steps)\n",
    "        total_local_errors[np.isinf(total_local_errors)] = 0.\n",
    "        all_errs[np.isinf(all_errs)] = 0.\n",
    "        total_local_errors_minq, total_local_errors_maxq = np.quantile(all_errs, axis=0,q=[0.005,0.995])\n",
    "        i += 1\n",
    "        if total_local_errors[-1]  < curr_rmse:\n",
    "            curr_rmse = total_local_errors[-1]\n",
    "            fig, ax = plt.subplots(figsize=(14,9))\n",
    "            plt.grid(True)\n",
    "            ax.scatter(time_steps, total_local_errors)\n",
    "            plt.fill_between(time_steps,y1=total_local_errors_minq, y2=total_local_errors_maxq, color=\"blue\", alpha=0.4)\n",
    "            ax.set_title(f\"Pathwise RMSE for Score Estimator for {label}\",fontsize=40)\n",
    "\n",
    "            ax.set_xlabel(\"Time Axis\", fontsize=38)\n",
    "            ax.tick_params(labelsize=38)\n",
    "\n",
    "            fig.canvas.draw()\n",
    "            # Get the offset text (e.g., '1e-5')\n",
    "            offset_text = ax.yaxis.get_offset_text().get_text()\n",
    "\n",
    "            # Remove the offset text from the axis\n",
    "            ax.yaxis.get_offset_text().set_visible(False)\n",
    "\n",
    "            # Inject the scale into the y-axis label\n",
    "            if offset_text:\n",
    "                ax.set_ylabel(f'RMSE ({offset_text})', fontsize=38)\n",
    "            else:\n",
    "                ax.set_ylabel('RMSE', fontsize=38)\n",
    "            plt.tight_layout()\n",
    "            if toSave:\n",
    "                plt.savefig((root_dir +f\"DiffusionModelPresentationImages/TSPM_Markovian/{dirname}/TSPM_MLP_PM_ST_{config.feat_thresh:.3f}FTh_{ts_type}_DriftTrack_{Nepoch}Nep_{round(total_local_errors_minq[-1], 7)}_MinIQR_{round(total_local_errors_maxq[-1], 7)}_MaxIQR\").replace(\".\", \"\")+\".png\")\n",
    "            plt.grid(True)\n",
    "            plt.show()\n",
    "            plt.close()\n",
    "            print(f\"Final time cumulative MSE local-time error {total_local_errors[-1]} with IQR ({total_local_errors_minq[-1], total_local_errors_maxq[-1]})at Nepoch {Nepoch}\\n\")\n",
    "            print(file)"
   ],
   "metadata": {
    "collapsed": false
   }
  },
  {
   "cell_type": "code",
   "execution_count": null,
   "outputs": [],
   "source": [],
   "metadata": {
    "collapsed": false
   }
  },
  {
   "cell_type": "code",
   "execution_count": null,
   "outputs": [],
   "source": [],
   "metadata": {
    "collapsed": false
   }
  },
  {
   "cell_type": "code",
   "execution_count": null,
   "outputs": [],
   "source": [],
   "metadata": {
    "collapsed": false
   }
  },
  {
   "cell_type": "code",
   "execution_count": null,
   "outputs": [],
   "source": [],
   "metadata": {
    "collapsed": false
   }
  },
  {
   "cell_type": "code",
   "execution_count": null,
   "outputs": [],
   "source": [],
   "metadata": {
    "collapsed": false
   }
  },
  {
   "cell_type": "code",
   "execution_count": null,
   "outputs": [],
   "source": [],
   "metadata": {
    "collapsed": false
   }
  },
  {
   "cell_type": "code",
   "execution_count": null,
   "outputs": [],
   "source": [],
   "metadata": {
    "collapsed": false
   }
  },
  {
   "cell_type": "code",
   "execution_count": null,
   "outputs": [],
   "source": [],
   "metadata": {
    "collapsed": false
   }
  },
  {
   "cell_type": "code",
   "execution_count": null,
   "outputs": [],
   "source": [],
   "metadata": {
    "collapsed": false
   }
  }
 ],
 "metadata": {
  "kernelspec": {
   "display_name": "Python 3",
   "language": "python",
   "name": "python3"
  },
  "language_info": {
   "codemirror_mode": {
    "name": "ipython",
    "version": 2
   },
   "file_extension": ".py",
   "mimetype": "text/x-python",
   "name": "python",
   "nbconvert_exporter": "python",
   "pygments_lexer": "ipython2",
   "version": "2.7.6"
  }
 },
 "nbformat": 4,
 "nbformat_minor": 0
}
