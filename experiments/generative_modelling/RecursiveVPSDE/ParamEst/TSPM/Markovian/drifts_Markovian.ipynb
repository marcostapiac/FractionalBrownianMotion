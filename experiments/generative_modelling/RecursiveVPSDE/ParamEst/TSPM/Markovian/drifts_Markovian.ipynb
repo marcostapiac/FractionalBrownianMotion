{
 "cells": [
  {
   "cell_type": "code",
   "execution_count": 1,
   "metadata": {
    "collapsed": true
   },
   "outputs": [],
   "source": [
    "%load_ext autoreload\n",
    "%autoreload 2\n",
    "\n",
    "#from configs.RecursiveVPSDE.recursive_Markovian_PostMeanScaledScore_fSin_T256_H05_tl_5data import get_config as get_config\n",
    "from configs.RecursiveVPSDE.Markovian_fSin.recursive_Markovian_PostMeanScore_fSin_T256_H05_tl_5data import get_config\n",
    "#from configs.RecursiveVPSDE.recursive_Markovian_fSinWithPosition_T256_H05_tl_5data import get_config as get_config\n",
    "\n",
    "from configs import project_config\n",
    "import numpy as np\n",
    "import torch\n",
    "import os\n",
    "from src.generative_modelling.models.ClassVPSDEDiffusion import VPSDEDiffusion\n",
    "from src.generative_modelling.models.TimeDependentScoreNetworks.ClassConditionalMarkovianTSPostMeanScoreMatching  import \\\n",
    "    ConditionalMarkovianTSPostMeanScoreMatching\n",
    "from src.generative_modelling.models.TimeDependentScoreNetworks.ClassConditionalMarkovianTSScoreMatching import ConditionalMarkovianTSScoreMatching\n",
    "from src.generative_modelling.models.TimeDependentScoreNetworks.ClassConditionalLSTMTSPostMeanScoreMatching  import \\\n",
    "    ConditionalLSTMTSPostMeanScoreMatching\n",
    "from tqdm import tqdm\n",
    "\n",
    "import matplotlib.pyplot as plt"
   ]
  },
  {
   "cell_type": "code",
   "execution_count": 3,
   "outputs": [
    {
     "name": "stdout",
     "output_type": "stream",
     "text": [
      "0.0\n",
      "Using CPU\n",
      "\n"
     ]
    },
    {
     "data": {
      "text/plain": "<All keys matched successfully>"
     },
     "execution_count": 3,
     "metadata": {},
     "output_type": "execute_result"
    }
   ],
   "source": [
    "config = get_config()\n",
    "print(config.beta_min)\n",
    "if config.has_cuda:\n",
    "    device = int(os.environ[\"LOCAL_RANK\"])\n",
    "else:\n",
    "    print(\"Using CPU\\n\")\n",
    "    device = torch.device(\"cpu\")\n",
    "\n",
    "diffusion = VPSDEDiffusion(beta_max=config.beta_max, beta_min=config.beta_min)\n",
    "\n",
    "max_diff_steps = config.max_diff_steps\n",
    "sample_eps = config.sample_eps\n",
    "ts_step = config.deltaT\n",
    "\n",
    "Nepoch = 1440#config.max_epochs[0]\n",
    "# Fix the number of training epochs and training loss objective loss\n",
    "if \"PM\" in config.scoreNet_trained_path:\n",
    "    PM = ConditionalMarkovianTSPostMeanScoreMatching(*config.model_parameters).to(device)\n",
    "else:\n",
    "    PM = ConditionalMarkovianTSScoreMatching(*config.model_parameters).to(device)\n",
    "PM.load_state_dict(torch.load(config.scoreNet_trained_path + \"_NEp\" + str(Nepoch)))"
   ],
   "metadata": {
    "collapsed": false
   }
  },
  {
   "cell_type": "code",
   "execution_count": 4,
   "outputs": [
    {
     "name": "stderr",
     "output_type": "stream",
     "text": [
      "  0%|          | 0/20 [00:02<?, ?it/s]\n",
      "\n",
      "KeyboardInterrupt\n",
      "\n"
     ]
    }
   ],
   "source": [
    "Xshape = config.ts_length\n",
    "num_taus = 20\n",
    "num_diff_times = config.max_diff_steps\n",
    "assert (num_diff_times * num_taus == 200000)\n",
    "Ndiff_discretisation = config.max_diff_steps\n",
    "diffusion_times = torch.linspace(start=config.sample_eps, end=config.end_diff_time,\n",
    "                                 steps=Ndiff_discretisation).to(device)\n",
    "\n",
    "# Create a uniform grid\n",
    "x = np.linspace(-2, 2, 5)\n",
    "y = np.linspace(-3, 3, 5)\n",
    "z = np.linspace(0, 5, 5)\n",
    "\n",
    "# Create a 3D mesh grid\n",
    "X, Y, Z = np.meshgrid(x, y, z, indexing='ij')\n",
    "D = 3\n",
    "# Combine into a single array of shape (n^3, 3) if needed\n",
    "Xs = torch.Tensor(np.stack([X.ravel(), Y.ravel(), Z.ravel()], axis=-1)[np.newaxis, :, :]).to(device)\n",
    "Xshape = Xs.shape[1]\n",
    "B = Xs.shape[1]\n",
    "T = 1\n",
    "conditioner = Xs.permute(1, 0, 2)\n",
    "mu_hats = np.zeros((Xshape, D, num_diff_times, num_taus))  # Xvalues, TS Dimension, DiffTimes, Ztaus\n",
    "PM.eval()\n",
    "for k in tqdm(range(num_taus)):\n",
    "    difftime_idx = num_diff_times - 1\n",
    "    Z_taus = diffusion.prior_sampling(shape=(Xshape, 1, D)).to(device)\n",
    "    while difftime_idx >= 0:\n",
    "        d = diffusion_times[Ndiff_discretisation - (num_diff_times - 1 - difftime_idx) - 1].to(device)\n",
    "        diff_times = torch.stack([d for _ in range(B)]).reshape(B * 1, 1, -1).squeeze(-1).squeeze(-1).squeeze(-1).to(\n",
    "            device)\n",
    "        eff_times = torch.cat([diffusion.get_eff_times(diff_times=diff_times).unsqueeze(-1).unsqueeze(-1)] * D,\n",
    "                              dim=2).to(device)\n",
    "        if k == 0 and difftime_idx < 100:\n",
    "            print(d)\n",
    "        with torch.no_grad():\n",
    "            if \"PM\" in config.scoreNet_trained_path:\n",
    "                predicted_score = PM.forward(inputs=Z_taus, times=diff_times, conditioner=conditioner,\n",
    "                                             eff_times=eff_times)\n",
    "            else:\n",
    "                predicted_score = PM.forward(inputs=Z_taus, times=diff_times, conditioner=conditioner)\n",
    "            scores, drift, diffParam = diffusion.get_conditional_reverse_diffusion(x=Z_taus,\n",
    "                                                                                   predicted_score=predicted_score,\n",
    "                                                                                   diff_index=torch.Tensor(\n",
    "                                                                                       [int((\n",
    "                                                                                               num_diff_times - 1 - difftime_idx))]).to(\n",
    "                                                                                       device),\n",
    "                                                                                   max_diff_steps=Ndiff_discretisation)\n",
    "        # assert np.allclose((scores- predicted_score).detach(), 0)\n",
    "        beta_taus = torch.exp(-0.5 * eff_times[0, 0, 0]).to(device)\n",
    "        sigma_taus = torch.pow(1. - torch.pow(beta_taus, 2), 0.5).to(device)\n",
    "        for i in range(Xshape):\n",
    "            Zts = Z_taus[i, :, :]\n",
    "            Ss = scores[i, :, :]\n",
    "            mu_hat = Zts / (ts_step * beta_taus) + (\n",
    "                    (torch.pow(sigma_taus, 2) + (torch.pow(beta_taus, 2) * ts_step)) / (ts_step * beta_taus)) * Ss\n",
    "            mu_hats[i, :, difftime_idx, k] = mu_hat[0, :].cpu().detach().numpy()\n",
    "        z = torch.randn_like(drift).to(device)\n",
    "        Z_taus = drift + diffParam * z\n",
    "        difftime_idx -= 1"
   ],
   "metadata": {
    "collapsed": false
   }
  },
  {
   "cell_type": "code",
   "execution_count": null,
   "outputs": [],
   "source": [
    "from mpl_toolkits.mplot3d import Axes3D\n",
    "numpy_Xs = Xs.numpy()[0,:,:]\n",
    "print(numpy_Xs.shape, mu_hats.shape)\n",
    "true_drifts = np.zeros_like(numpy_Xs)\n",
    "# Create a uniform grid\n",
    "x = np.linspace(-20, 20, 5)\n",
    "y = np.linspace(-30, 30, 5)\n",
    "z = np.linspace(0, 50, 5)\n",
    "# Create a 3D mesh grid\n",
    "X, Y, Z = np.meshgrid(x, y, z, indexing='ij')\n",
    "u = config.ts_sigma * (Y-X)\n",
    "v = X * (config.ts_rho - Z) - Y\n",
    "w = X*Y-config.ts_beta * Z\n",
    "norm = np.sqrt(u**2 + v**2 + w**2)\n",
    "norm = np.where(norm == 0.,1e-12 ,norm)\n",
    "u /= norm\n",
    "v /= norm\n",
    "w /= norm\n",
    "for j in range(0, num_diff_times, 2000):\n",
    "    mhats = np.mean(mu_hats[:,:,9000:,:].reshape((mu_hats.shape[0], mu_hats.shape[1], (mu_hats.shape[2]-9000)*mu_hats.shape[-1])), axis=2)\n",
    "    grid_size = (5,5,5)\n",
    "    uhat = mhats[:, 0].reshape(grid_size)  # (5, 5, 5)\n",
    "    vhat = mhats[:, 1].reshape(grid_size)  # (5, 5, 5)\n",
    "    what = mhats[:, 2].reshape(grid_size)  # (5, 5, 5)\n",
    "    norm = np.sqrt(uhat**2 + vhat**2 + what**2)\n",
    "    norm = np.where(norm == 0.,1e-12 ,norm)\n",
    "    uhat /= norm\n",
    "    vhat /= norm\n",
    "    what /= norm\n",
    "    # Plot the quiver\n",
    "    fig = plt.figure(figsize=(10, 7))\n",
    "    ax = fig.add_subplot(111, projection='3d')\n",
    "    ax.quiver(X, Y, Z, u, v, w, length=2, color='blue')\n",
    "    ax.quiver(X, Y, Z, uhat, vhat, what, length=2, color='red')\n",
    "    plt.show()\n",
    "    plt.close()\n",
    "    break\n",
    "\n"
   ],
   "metadata": {
    "collapsed": false
   }
  },
  {
   "cell_type": "code",
   "execution_count": 4,
   "outputs": [
    {
     "data": {
      "text/plain": "'Xshape = config.ts_length\\nnum_taus = 20\\nnum_diff_times = 1000\\nNdiff_discretisation = num_diff_times  #config.max_diff_steps\\ndiffusion_times = torch.linspace(start=config.sample_eps, end=config.end_diff_time,\\n                                 steps=Ndiff_discretisation).to(device)\\nmu_hats_mean = np.zeros((Xshape, num_taus))\\nmu_hats_std = np.zeros((Xshape, num_taus))\\n\\nXs = torch.linspace(-2, 2, steps=Xshape).unsqueeze(-1).unsqueeze(-1).permute(1,0,2)\\nconditioner = torch.stack([Xs for _ in range(1)], dim=0).reshape(Xshape*1, 1, -1)\\nB, T = Xshape, 1\\nmu_hats = np.zeros((Xshape, num_diff_times, num_taus))  # Xvalues, DiffTimes, Ztaus\\nPM.eval()\\nfor k in tqdm(range(num_taus)):\\n    difftime_idx = num_diff_times - 1\\n    Z_taus = diffusion.prior_sampling(shape=(Xshape, 1, 1))\\n    while difftime_idx >= 0:\\n        d = diffusion_times[Ndiff_discretisation-(num_diff_times - 1 - difftime_idx)-1]\\n        diff_times = torch.stack([d for _ in range(B)]).reshape(B*T, 1, -1).squeeze(-1).squeeze(-1).squeeze(-1)\\n        eff_times = diffusion.get_eff_times(diff_times=diff_times).unsqueeze(-1).unsqueeze(-1)\\n        if k == 0 and difftime_idx < 100:\\n            print(d)\\n        with torch.no_grad():\\n            if \"PM\" in config.scoreNet_trained_path:\\n                predicted_score = PM.forward(inputs=Z_taus, times=diff_times, conditioner=conditioner, eff_times=eff_times)\\n            else:\\n                predicted_score = PM.forward(inputs=Z_taus, times=diff_times, conditioner=conditioner)\\n            scores, drift, diffParam = diffusion.get_conditional_reverse_diffusion(x=Z_taus,\\n                                                                                      predicted_score=predicted_score,\\n                                                                                      diff_index=torch.Tensor(\\n                                                                                          [int((num_diff_times - 1 - difftime_idx))]).to(device),\\n                                                                                      max_diff_steps=Ndiff_discretisation)\\n        #assert np.allclose((scores- predicted_score).detach(), 0)\\n        beta_taus = torch.exp(-0.5 * eff_times[0,0,0])\\n        sigma_taus = torch.pow(1. - torch.pow(beta_taus, 2), 0.5)\\n        for i in range(Xshape):\\n            Zts = Z_taus[i, :,:]\\n            Ss = scores[i,:,:]\\n            mu_hat = Zts/(ts_step*beta_taus) + ((torch.pow(sigma_taus, 2)+(torch.pow(beta_taus,2)*ts_step))/(ts_step*beta_taus))*Ss\\n            mu_hats[i, difftime_idx, k] = mu_hat[0,0]\\n        z = torch.randn_like(drift)\\n        Z_taus = drift + diffParam * z\\n        difftime_idx -= 1'"
     },
     "execution_count": 4,
     "metadata": {},
     "output_type": "execute_result"
    }
   ],
   "source": [
    "\"\"\"Xshape = config.ts_length\n",
    "num_taus = 20\n",
    "num_diff_times = 1000\n",
    "Ndiff_discretisation = num_diff_times  #config.max_diff_steps\n",
    "diffusion_times = torch.linspace(start=config.sample_eps, end=config.end_diff_time,\n",
    "                                 steps=Ndiff_discretisation).to(device)\n",
    "mu_hats_mean = np.zeros((Xshape, num_taus))\n",
    "mu_hats_std = np.zeros((Xshape, num_taus))\n",
    "\n",
    "Xs = torch.linspace(-2, 2, steps=Xshape).unsqueeze(-1).unsqueeze(-1).permute(1,0,2)\n",
    "conditioner = torch.stack([Xs for _ in range(1)], dim=0).reshape(Xshape*1, 1, -1)\n",
    "B, T = Xshape, 1\n",
    "mu_hats = np.zeros((Xshape, num_diff_times, num_taus))  # Xvalues, DiffTimes, Ztaus\n",
    "PM.eval()\n",
    "for k in tqdm(range(num_taus)):\n",
    "    difftime_idx = num_diff_times - 1\n",
    "    Z_taus = diffusion.prior_sampling(shape=(Xshape, 1, 1))\n",
    "    while difftime_idx >= 0:\n",
    "        d = diffusion_times[Ndiff_discretisation-(num_diff_times - 1 - difftime_idx)-1]\n",
    "        diff_times = torch.stack([d for _ in range(B)]).reshape(B*T, 1, -1).squeeze(-1).squeeze(-1).squeeze(-1)\n",
    "        eff_times = diffusion.get_eff_times(diff_times=diff_times).unsqueeze(-1).unsqueeze(-1)\n",
    "        if k == 0 and difftime_idx < 100:\n",
    "            print(d)\n",
    "        with torch.no_grad():\n",
    "            if \"PM\" in config.scoreNet_trained_path:\n",
    "                predicted_score = PM.forward(inputs=Z_taus, times=diff_times, conditioner=conditioner, eff_times=eff_times)\n",
    "            else:\n",
    "                predicted_score = PM.forward(inputs=Z_taus, times=diff_times, conditioner=conditioner)\n",
    "            scores, drift, diffParam = diffusion.get_conditional_reverse_diffusion(x=Z_taus,\n",
    "                                                                                      predicted_score=predicted_score,\n",
    "                                                                                      diff_index=torch.Tensor(\n",
    "                                                                                          [int((num_diff_times - 1 - difftime_idx))]).to(device),\n",
    "                                                                                      max_diff_steps=Ndiff_discretisation)\n",
    "        #assert np.allclose((scores- predicted_score).detach(), 0)\n",
    "        beta_taus = torch.exp(-0.5 * eff_times[0,0,0])\n",
    "        sigma_taus = torch.pow(1. - torch.pow(beta_taus, 2), 0.5)\n",
    "        for i in range(Xshape):\n",
    "            Zts = Z_taus[i, :,:]\n",
    "            Ss = scores[i,:,:]\n",
    "            mu_hat = Zts/(ts_step*beta_taus) + ((torch.pow(sigma_taus, 2)+(torch.pow(beta_taus,2)*ts_step))/(ts_step*beta_taus))*Ss\n",
    "            mu_hats[i, difftime_idx, k] = mu_hat[0,0]\n",
    "        z = torch.randn_like(drift)\n",
    "        Z_taus = drift + diffParam * z\n",
    "        difftime_idx -= 1\"\"\""
   ],
   "metadata": {
    "collapsed": false
   }
  },
  {
   "cell_type": "code",
   "execution_count": 5,
   "outputs": [
    {
     "data": {
      "text/plain": "'diffusion_times = torch.linspace(start=config.sample_eps, end=config.end_diff_time,\\n                                 steps=config.max_diff_steps).to(device)\\nXshape = config.ts_length\\nnum_taus = 1\\nnum_diff_times = 10\\nmu_hats_mean = np.zeros((Xshape, num_taus))\\nmu_hats_std = np.zeros((Xshape, num_taus))\\n\\n#inc_Xs = torch.concat([torch.randn(1)*np.sqrt(ts_step) for _ in range(Xshape)]).unsqueeze(-1).unsqueeze(-1).permute(1,0,2)\\n#Xs = torch.cat([torch.zeros((inc_Xs.shape[0], 1, inc_Xs.shape[-1])).to(device), inc_Xs], dim=1)\\n#Xs = torch.cumsum(Xs, dim=1)\\n\\n\\n#inc_Xs = torch.concat([torch.randn(1)*np.sqrt(ts_step) for _ in range(Xshape)]).unsqueeze(-1).unsqueeze(-1).permute(1,0,2)\\n#Xs = torch.cat([torch.zeros((inc_Xs.shape[0], 1, inc_Xs.shape[-1])).to(device), inc_Xs], dim=1)\\n#Xs = torch.cumsum(Xs, dim=1)\\n\\nXs = torch.linspace(-2, 2, steps=Xshape).unsqueeze(-1).unsqueeze(-1).permute(1,0,2)\\n#conditioner = torch.stack([PM.rnn(Xs[:, i, :], None)[0] for i in range(Xs.shape[1])], dim=1)\\nconditioner = torch.stack([Xs for _ in range(1)], dim=0).reshape(Xshape*1, 1, -1)\\nnum_incs = 10\\nB, T = Xshape, 1\\nmu_hats = np.zeros((Xshape, num_incs, num_diff_times, num_taus))  # Xvalues, DiffTimes, Ztaus\\nfor inc_idx in range(num_incs):\\n    inc_Xs = torch.concat([np.sqrt(ts_step)+torch.randn(1)*np.sqrt(ts_step) for _ in range(Xshape)]).unsqueeze(-1).unsqueeze(-1).permute(1,0,2)\\n    difftime_idx = 0\\n    for j in tqdm(range(0, config.max_diff_steps, np.floor(config.max_diff_steps/num_diff_times).astype(int))):\\n        d = diffusion_times[j]\\n        diff_times = d+0*torch.linspace(start=config.sample_eps, end=config.end_diff_time,\\n                                             steps=config.max_diff_steps).to(device)[-1:]\\n        eff_times = diffusion.get_eff_times(diff_times=diff_times).unsqueeze(-1).unsqueeze(-1)\\n        beta_taus = torch.exp(-0.5 * eff_times)\\n        sigma_taus = torch.pow(1. - torch.pow(beta_taus, 2), 0.5)\\n        diff_times = torch.stack([diff_times for _ in range(B)]).reshape(B*T, 1, -1).squeeze(-1).squeeze(-1).squeeze(-1)\\n        eff_times = torch.stack([eff_times for _ in range(B)]).reshape(B*T, 1, -1)\\n        for k in range(num_taus):\\n            Z_taus = torch.stack([(inc_Xs * beta_taus[0,0,0]) + (torch.randn_like(inc_Xs) * sigma_taus[0,0,0]) for _ in range(1)], dim=2).squeeze(-1).permute(1,2,0)\\n            Z_taus = Z_taus.reshape(np.prod(Z_taus.shape), 1, 1)\\n            scores = PM.forward(inputs=Z_taus, times=diff_times, conditioner=conditioner, eff_times=eff_times)\\n            for i in range(Xshape):\\n                Zts = Z_taus[i, :,:]\\n                Ss = scores[i,:,:]\\n                mu_hat = Zts/(ts_step*beta_taus) + ((torch.pow(sigma_taus, 2)+(torch.pow(beta_taus,2)*ts_step))/(ts_step*beta_taus))*Ss\\n                mu_hats[i, inc_idx, difftime_idx, k] = mu_hat[0,0,0]\\n        del Zts, Ss, eff_times, diff_times, Z_taus, scores\\n        difftime_idx += 1'"
     },
     "execution_count": 5,
     "metadata": {},
     "output_type": "execute_result"
    }
   ],
   "source": [
    "\"\"\"diffusion_times = torch.linspace(start=config.sample_eps, end=config.end_diff_time,\n",
    "                                 steps=config.max_diff_steps).to(device)\n",
    "Xshape = config.ts_length\n",
    "num_taus = 1\n",
    "num_diff_times = 10\n",
    "mu_hats_mean = np.zeros((Xshape, num_taus))\n",
    "mu_hats_std = np.zeros((Xshape, num_taus))\n",
    "\n",
    "#inc_Xs = torch.concat([torch.randn(1)*np.sqrt(ts_step) for _ in range(Xshape)]).unsqueeze(-1).unsqueeze(-1).permute(1,0,2)\n",
    "#Xs = torch.cat([torch.zeros((inc_Xs.shape[0], 1, inc_Xs.shape[-1])).to(device), inc_Xs], dim=1)\n",
    "#Xs = torch.cumsum(Xs, dim=1)\n",
    "\n",
    "\n",
    "#inc_Xs = torch.concat([torch.randn(1)*np.sqrt(ts_step) for _ in range(Xshape)]).unsqueeze(-1).unsqueeze(-1).permute(1,0,2)\n",
    "#Xs = torch.cat([torch.zeros((inc_Xs.shape[0], 1, inc_Xs.shape[-1])).to(device), inc_Xs], dim=1)\n",
    "#Xs = torch.cumsum(Xs, dim=1)\n",
    "\n",
    "Xs = torch.linspace(-2, 2, steps=Xshape).unsqueeze(-1).unsqueeze(-1).permute(1,0,2)\n",
    "#conditioner = torch.stack([PM.rnn(Xs[:, i, :], None)[0] for i in range(Xs.shape[1])], dim=1)\n",
    "conditioner = torch.stack([Xs for _ in range(1)], dim=0).reshape(Xshape*1, 1, -1)\n",
    "num_incs = 10\n",
    "B, T = Xshape, 1\n",
    "mu_hats = np.zeros((Xshape, num_incs, num_diff_times, num_taus))  # Xvalues, DiffTimes, Ztaus\n",
    "for inc_idx in range(num_incs):\n",
    "    inc_Xs = torch.concat([np.sqrt(ts_step)+torch.randn(1)*np.sqrt(ts_step) for _ in range(Xshape)]).unsqueeze(-1).unsqueeze(-1).permute(1,0,2)\n",
    "    difftime_idx = 0\n",
    "    for j in tqdm(range(0, config.max_diff_steps, np.floor(config.max_diff_steps/num_diff_times).astype(int))):\n",
    "        d = diffusion_times[j]\n",
    "        diff_times = d+0*torch.linspace(start=config.sample_eps, end=config.end_diff_time,\n",
    "                                             steps=config.max_diff_steps).to(device)[-1:]\n",
    "        eff_times = diffusion.get_eff_times(diff_times=diff_times).unsqueeze(-1).unsqueeze(-1)\n",
    "        beta_taus = torch.exp(-0.5 * eff_times)\n",
    "        sigma_taus = torch.pow(1. - torch.pow(beta_taus, 2), 0.5)\n",
    "        diff_times = torch.stack([diff_times for _ in range(B)]).reshape(B*T, 1, -1).squeeze(-1).squeeze(-1).squeeze(-1)\n",
    "        eff_times = torch.stack([eff_times for _ in range(B)]).reshape(B*T, 1, -1)\n",
    "        for k in range(num_taus):\n",
    "            Z_taus = torch.stack([(inc_Xs * beta_taus[0,0,0]) + (torch.randn_like(inc_Xs) * sigma_taus[0,0,0]) for _ in range(1)], dim=2).squeeze(-1).permute(1,2,0)\n",
    "            Z_taus = Z_taus.reshape(np.prod(Z_taus.shape), 1, 1)\n",
    "            scores = PM.forward(inputs=Z_taus, times=diff_times, conditioner=conditioner, eff_times=eff_times)\n",
    "            for i in range(Xshape):\n",
    "                Zts = Z_taus[i, :,:]\n",
    "                Ss = scores[i,:,:]\n",
    "                mu_hat = Zts/(ts_step*beta_taus) + ((torch.pow(sigma_taus, 2)+(torch.pow(beta_taus,2)*ts_step))/(ts_step*beta_taus))*Ss\n",
    "                mu_hats[i, inc_idx, difftime_idx, k] = mu_hat[0,0,0]\n",
    "        del Zts, Ss, eff_times, diff_times, Z_taus, scores\n",
    "        difftime_idx += 1\"\"\""
   ],
   "metadata": {
    "collapsed": false
   }
  },
  {
   "cell_type": "code",
   "execution_count": 24,
   "outputs": [],
   "source": [
    "def plot_drift_estimator(mean, stds, numpy_Xs, type, toSave:bool = True):\n",
    "    fig, ax = plt.subplots(figsize=(14,9))\n",
    "    rmse = np.power(np.mean(np.power(np.sin(numpy_Xs) - mean, 2)), 0.5)\n",
    "    ax.scatter(numpy_Xs, np.sin(numpy_Xs), color=\"red\", label=\"True Drift\")\n",
    "\n",
    "    ax.errorbar(numpy_Xs, mean, fmt=\"o\",yerr=2*stds, label=\"Drift Estimator with 2 Std\")\n",
    "    ax.set_title(rf\"RMSE {round(rmse,3)} of estimator $\\bar{{\\mu}}(x)$\", fontsize=20)\n",
    "    ax.tick_params(\"x\",labelsize=18)\n",
    "    ax.tick_params(\"y\",labelsize=18)\n",
    "    ax.set_xlabel(\"State $x$\", fontsize=18)\n",
    "    ax.set_ylabel(\"Drift Value\", fontsize=18)\n",
    "    ax.legend(loc=\"lower right\", fontsize=18)\n",
    "    if toSave:\n",
    "        plt.savefig(f\"/Users/marcos/Library/CloudStorage/OneDrive-ImperialCollegeLondon/StatML_CDT/Year2/DiffusionModelPresentationImages/fSin_{type}.png\")\n",
    "    plt.show()\n",
    "    plt.close()"
   ],
   "metadata": {
    "collapsed": false
   }
  },
  {
   "cell_type": "code",
   "execution_count": 25,
   "outputs": [
    {
     "name": "stdout",
     "output_type": "stream",
     "text": [
      "torch.Size([1, 256, 1])\n",
      "Standard\n"
     ]
    }
   ],
   "source": [
    "print(Xs.shape)\n",
    "try:\n",
    "    numpy_Xs = Xs.numpy().flatten()\n",
    "    #numpy_Xs = Xs[:,int(0.4*Xshape):int(0.6*Xshape)+1,:][:,:-1,:].numpy().flatten()\n",
    "    #mu_hats = mu_hats[int(0.4*Xshape):int(0.6*Xshape),:,:]\n",
    "except (IndexError, AttributeError) as e:\n",
    "    print(e)\n",
    "    assert (numpy_Xs.shape[1] == Xshape)\n",
    "    pass\n",
    "\n",
    "if \"PMS\" in config.scoreNet_trained_path:\n",
    "    type=\"PMS\"\n",
    "elif \"PM\" in config.scoreNet_trained_path:\n",
    "    type = \"PM\"\n",
    "else:\n",
    "    type = \"Standard\"\n",
    "print(type)"
   ],
   "metadata": {
    "collapsed": false
   }
  },
  {
   "cell_type": "code",
   "execution_count": null,
   "outputs": [],
   "source": [
    "for j in range(0, num_diff_times, 10):\n",
    "    mhats = mu_hats[:,j,:]\n",
    "    mhats = mhats.reshape(mhats.shape[0], np.prod(mhats.shape[1:]))\n",
    "    mean = mhats.mean(axis=-1)\n",
    "    stds = mhats.std(axis=-1)\n",
    "    plot_drift_estimator(mean, stds, numpy_Xs, type=type, toSave=False)"
   ],
   "metadata": {
    "collapsed": false,
    "pycharm": {
     "is_executing": true
    }
   }
  },
  {
   "cell_type": "code",
   "execution_count": 34,
   "outputs": [
    {
     "data": {
      "text/plain": "<Figure size 1400x900 with 1 Axes>",
      "image/png": "[encoded data removed]"
     },
     "metadata": {},
     "output_type": "display_data"
    }
   ],
   "source": [
    "mean = np.array([mu_hats[i,10:200,:].flatten().mean(axis=-1) for i in range(Xshape)])\n",
    "stds = np.array([mu_hats[i,10:200,:].flatten().std(axis=-1) for i in range(Xshape)])\n",
    "plot_drift_estimator(mean, stds, numpy_Xs, type=type, toSave=False)"
   ],
   "metadata": {
    "collapsed": false
   }
  },
  {
   "cell_type": "code",
   "execution_count": null,
   "outputs": [],
   "source": [],
   "metadata": {
    "collapsed": false
   }
  },
  {
   "cell_type": "code",
   "execution_count": 21,
   "outputs": [],
   "source": [],
   "metadata": {
    "collapsed": false
   }
  },
  {
   "cell_type": "code",
   "execution_count": null,
   "outputs": [],
   "source": [],
   "metadata": {
    "collapsed": false
   }
  },
  {
   "cell_type": "code",
   "execution_count": 7,
   "outputs": [],
   "source": [],
   "metadata": {
    "collapsed": false
   }
  }
 ],
 "metadata": {
  "kernelspec": {
   "display_name": "Python 3",
   "language": "python",
   "name": "python3"
  },
  "language_info": {
   "codemirror_mode": {
    "name": "ipython",
    "version": 2
   },
   "file_extension": ".py",
   "mimetype": "text/x-python",
   "name": "python",
   "nbconvert_exporter": "python",
   "pygments_lexer": "ipython2",
   "version": "2.7.6"
  }
 },
 "nbformat": 4,
 "nbformat_minor": 0
}
