{
 "cells": [
  {
   "cell_type": "code",
   "execution_count": 9,
   "metadata": {
    "collapsed": true
   },
   "outputs": [
    {
     "name": "stdout",
     "output_type": "stream",
     "text": [
      "The autoreload extension is already loaded. To reload it, use:\n",
      "  %reload_ext autoreload\n"
     ]
    }
   ],
   "source": [
    "%load_ext autoreload\n",
    "%autoreload 2\n",
    "from configs import project_config\n",
    "import pickle\n",
    "import numpy as np\n",
    "import torch\n",
    "import os\n",
    "from src.generative_modelling.models.ClassVPSDEDiffusion import VPSDEDiffusion\n",
    "import matplotlib.pyplot as plt\n",
    "from configs.RecursiveVPSDE.LSTM_fBiPot.recursive_LSTM_PostMeanScore_fBiPot_T256_H05_tl_110data_StbleTgt_WRMSE import get_config\n",
    "from configs.RecursiveVPSDE.LSTM_fQuadSinHF.recursive_LSTM_PostMeanScore_fQuadSinHF2_HighFTh_T256_H05_tl_110data_StbleTgt_WRMSE import get_config\n",
    "\n",
    "#from configs.RecursiveVPSDE.LSTM_fQuadSinHF.recursive_LSTM_PostMeanScore_fQuadSinHF1_T256_H05_tl_110data_StbleTgt_WRMSE import get_config"
   ]
  },
  {
   "cell_type": "code",
   "execution_count": 10,
   "outputs": [],
   "source": [
    "def rmse_ignore_nans(y_true, y_pred):\n",
    "    assert (y_true.shape[0] == y_pred.shape[0])\n",
    "    y_true = y_true.flatten()\n",
    "    y_pred = y_pred.flatten()\n",
    "    mask = ~np.isnan(y_true) & ~np.isnan(y_pred)  # Ignore NaNs in both arrays\n",
    "    return np.sqrt(np.mean((y_true[mask] - y_pred[mask]) ** 2))\n",
    "\n",
    "\n",
    "def plot_drift_estimator(mean, mean_min, mean_max, numpy_Xs, true_drift, Nepoch, toSave: bool = True):\n",
    "    if \"BiPot\" in config.data_path:\n",
    "        if \"_ST_\" in config.scoreNet_trained_path:\n",
    "            ts_type_str = \"ST_fBiPot\"\n",
    "        else:\n",
    "            ts_type_str = \"fBiPot\"\n",
    "    elif \"QuadSinHF\" in config.data_path:\n",
    "        if \"_ST_\" in config.scoreNet_trained_path:\n",
    "            ts_type_str = \"ST_fQuadSinHF\"\n",
    "        else:\n",
    "            ts_type_str = \"fQuadSinHF\"\n",
    "    print(ts_type_str)\n",
    "    fig, ax = plt.subplots(figsize=(14, 9))\n",
    "    rmse = rmse_ignore_nans(true_drift, mean).astype(\n",
    "        np.float64)  #np.power(np.mean(np.power(true_drift - mean, 2)), 0.5)\n",
    "    ax.scatter(numpy_Xs, true_drift, color=\"red\", label=\"True Drift\")\n",
    "    ymin = mean - mean_min\n",
    "    ymax = mean_max - mean\n",
    "    ymin[ymin < 0.] = 0.\n",
    "    ymax[ymax < 0.] = 0.\n",
    "    plt.errorbar(numpy_Xs, mean, yerr=[ymin, ymax], xerr=None, fmt='o', color=\"blue\", alpha=0.4)\n",
    "    plt.scatter(numpy_Xs, mean, label=\"Estimated Drift\", color=\"blue\")\n",
    "    ax.set_title(rf\"RMSE {round(rmse, 3)} at Epoch {Nepoch} for LSTM Score Estimator\", fontsize=40)\n",
    "    ax.tick_params(labelsize=38)\n",
    "    ax.set_xlabel(\"State $X$\", fontsize=38)\n",
    "    ax.set_ylabel(\"Drift Value\", fontsize=38)\n",
    "    ax.legend(fontsize=24)\n",
    "    plt.tight_layout()\n",
    "    if toSave:\n",
    "        if \"BiPot\" in config.data_path:\n",
    "            if \"_ST_\" in config.scoreNet_trained_path:\n",
    "                plt.savefig((\n",
    "                                f\"/Users/marcos/Library/CloudStorage/OneDrive-ImperialCollegeLondon/StatML_CDT/Year2/DiffusionModelPresentationImages/{ts_type_str}_ST_DriftEvalExp_PM_LSTM_{Nepoch}Nep_{config.deltaT:.3e}dT_{config.loss_factor}LFac\").replace(\n",
    "                    \".\", \"\") + \".png\", bbox_inches='tight')\n",
    "            else:\n",
    "                plt.savefig((\n",
    "                                f\"/Users/marcos/Library/CloudStorage/OneDrive-ImperialCollegeLondon/StatML_CDT/Year2/DiffusionModelPresentationImages/{ts_type_str}_DriftEvalExp_PM_LSTM_{Nepoch}Nep_{config.deltaT:.3e}dT_{config.loss_factor}LFac\").replace(\n",
    "                    \".\", \"\") + \".png\", bbox_inches='tight')\n",
    "        elif \"QuadSinHF\" in config.data_path:\n",
    "            if \"004b\" in config.data_path:\n",
    "                if \"_ST_\" in config.scoreNet_trained_path:\n",
    "                    plt.savefig((\n",
    "                                    f\"/Users/marcos/Library/CloudStorage/OneDrive-ImperialCollegeLondon/StatML_CDT/Year2/DiffusionModelPresentationImages/{ts_type_str}2_ST_DriftEvalExp_PM_LSTM_{Nepoch}Nep_{config.deltaT:.3e}dT_{config.loss_factor}LFac\").replace(\n",
    "                        \".\", \"\") + \".png\", bbox_inches='tight')\n",
    "                else:\n",
    "                    plt.savefig((\n",
    "                                    f\"/Users/marcos/Library/CloudStorage/OneDrive-ImperialCollegeLondon/StatML_CDT/Year2/DiffusionModelPresentationImages/{ts_type_str}2_DriftEvalExp_PM_LSTM_{Nepoch}Nep_{config.deltaT:.3e}dT_{config.loss_factor}LFac\").replace(\n",
    "                        \".\", \"\") + \".png\", bbox_inches='tight')\n",
    "            else:\n",
    "                if \"_ST_\" in config.scoreNet_trained_path:\n",
    "                    plt.savefig((\n",
    "                                    f\"/Users/marcos/Library/CloudStorage/OneDrive-ImperialCollegeLondon/StatML_CDT/Year2/DiffusionModelPresentationImages/{ts_type_str}1_ST_DriftEvalExp_PM_LSTM_{Nepoch}Nep_{config.deltaT:.3e}dT_{config.loss_factor}LFac\").replace(\n",
    "                        \".\", \"\") + \".png\", bbox_inches='tight')\n",
    "                else:\n",
    "                    plt.savefig((\n",
    "                                    f\"/Users/marcos/Library/CloudStorage/OneDrive-ImperialCollegeLondon/StatML_CDT/Year2/DiffusionModelPresentationImages/{ts_type_str}1_DriftEvalExp_PM_LSTM_{Nepoch}Nep_{config.deltaT:.3e}dT_{config.loss_factor}LFac\").replace(\n",
    "                        \".\", \"\") + \".png\", bbox_inches='tight')\n",
    "    plt.show()\n",
    "    plt.close()\n",
    "def plot_ewma_losses(epochs, losses):\n",
    "    start_idx = 00\n",
    "    def compute_ema(loss_tensor, beta):\n",
    "        ema_values = np.zeros_like(loss_tensor)  # Initialize EMA tensor\n",
    "        ema_values[0] = loss_tensor[0]  # First value stays the same\n",
    "\n",
    "        for i in range(1, len(loss_tensor)):\n",
    "            ema_values[i] = beta * ema_values[i - 1] + (1 - beta) * loss_tensor[i]\n",
    "\n",
    "        return ema_values\n",
    "    # Define EMA decay rates\n",
    "    beta_short = 0.9   # Short-term trend (reacts quickly)\n",
    "    beta_long = 0.99   # Long-term trend (smoother)\n",
    "\n",
    "    # Compute EMAs\n",
    "    short_term_ema = compute_ema(losses, beta_short)\n",
    "    long_term_ema = compute_ema(losses, beta_long)\n",
    "    plt.scatter(epochs[start_idx:], (short_term_ema[start_idx:]),s=2, label=\"Short Term Loss\")\n",
    "    plt.yscale(\"log\")\n",
    "    plt.legend()\n",
    "    plt.show()\n",
    "    plt.scatter(epochs[start_idx:], (long_term_ema[start_idx:]),s=2, label=\"Long Term Loss\")\n",
    "    plt.yscale(\"log\")\n",
    "    plt.legend()\n",
    "    plt.show()"
   ],
   "metadata": {
    "collapsed": false
   }
  },
  {
   "cell_type": "code",
   "execution_count": 11,
   "outputs": [
    {
     "name": "stdout",
     "output_type": "stream",
     "text": [
      "0.0\n",
      "Using CPU\n",
      "\n"
     ]
    }
   ],
   "source": [
    "config = get_config()\n",
    "print(config.beta_min)\n",
    "if config.has_cuda:\n",
    "    device = int(os.environ[\"LOCAL_RANK\"])\n",
    "else:\n",
    "    print(\"Using CPU\\n\")\n",
    "    device = torch.device(\"cpu\")\n",
    "\n",
    "diffusion = VPSDEDiffusion(beta_max=config.beta_max, beta_min=config.beta_min)\n",
    "\n",
    "max_diff_steps = config.max_diff_steps\n",
    "sample_eps = config.sample_eps\n",
    "ts_step = config.deltaT"
   ],
   "metadata": {
    "collapsed": false
   }
  },
  {
   "cell_type": "code",
   "execution_count": 12,
   "outputs": [
    {
     "data": {
      "text/plain": "<Figure size 640x480 with 1 Axes>",
      "image/png": "[encoded data removed]"
     },
     "metadata": {},
     "output_type": "display_data"
    },
    {
     "data": {
      "text/plain": "18609"
     },
     "execution_count": 12,
     "metadata": {},
     "output_type": "execute_result"
    }
   ],
   "source": [
    "with open(config.scoreNet_trained_path.replace(\"/trained_models/\", \"/training_losses/\") + \"_loss\", 'rb') as f:\n",
    "        losses = (np.array(pickle.load(f)).astype(float))\n",
    "Nepochs_losses = np.arange(losses.shape[0])\n",
    "plt.scatter(Nepochs_losses,  losses, s=10, label=\"Instantaneous Loss\")\n",
    "plt.yscale(\"log\")\n",
    "plt.legend()\n",
    "plt.show()\n",
    "plt.close()\n",
    "Nepochs_losses[-1]"
   ],
   "metadata": {
    "collapsed": false
   }
  },
  {
   "cell_type": "code",
   "execution_count": 13,
   "outputs": [
    {
     "data": {
      "text/plain": "<Figure size 640x480 with 1 Axes>",
      "image/png": "[encoded data removed]"
     },
     "metadata": {},
     "output_type": "display_data"
    },
    {
     "data": {
      "text/plain": "<Figure size 640x480 with 1 Axes>",
      "image/png": "[encoded data removed]"
     },
     "metadata": {},
     "output_type": "display_data"
    }
   ],
   "source": [
    "plot_ewma_losses(epochs=Nepochs_losses, losses=losses)"
   ],
   "metadata": {
    "collapsed": false
   }
  },
  {
   "cell_type": "code",
   "execution_count": 14,
   "outputs": [
    {
     "data": {
      "text/plain": "<Figure size 640x480 with 1 Axes>",
      "image/png": "[encoded data removed]"
     },
     "metadata": {},
     "output_type": "display_data"
    },
    {
     "name": "stdout",
     "output_type": "stream",
     "text": [
      "0\n"
     ]
    }
   ],
   "source": [
    "\n",
    "with open(config.scoreNet_trained_path.replace(\"/trained_models/\", \"/training_losses/\") + \"_loss_LR\", 'rb') as f:\n",
    "        LRs = (np.array(pickle.load(f)).astype(float))\n",
    "start = 0\n",
    "end = -1\n",
    "plt.scatter(Nepochs_losses[start:end],  LRs[start:end], s=10, label=\"Learning Rate\")\n",
    "plt.yscale(\"log\")\n",
    "plt.legend()\n",
    "plt.show()\n",
    "plt.close()\n",
    "print(end-start+1)"
   ],
   "metadata": {
    "collapsed": false
   }
  },
  {
   "cell_type": "code",
   "execution_count": 15,
   "outputs": [],
   "source": [
    "def get_drift_files(config, ts_type_str):\n",
    "    ts_type = f\"{ts_type_str}\"\n",
    "    if \"BiPot\" in ts_type_str:\n",
    "        include =  (f\"{config.deltaT:.3e}dT_{config.quartic_coeff}a_{config.quad_coeff}b_{config.const}c_{config.residual_layers}ResLay_{config.loss_factor}LFac\").replace(\n",
    "                    \".\", \"\")\n",
    "    elif \"QuadSin\" in ts_type_str:\n",
    "        include = (f\"{config.deltaT:.3e}dT_{config.quad_coeff}a_{config.sin_coeff}b_{config.sin_space_scale}c_{config.residual_layers}ResLay_{config.loss_factor}LFac_BetaMax{config.beta_max:.1e}\").replace(\n",
    "                \".\", \"\")\n",
    "    root_dir = project_config.ROOT_DIR + f\"experiments/results/\"\n",
    "    driftevalexp_files = []\n",
    "    driftoostrack_true_files = []\n",
    "    driftoostrack_local_files = []\n",
    "    for file in os.listdir(root_dir):\n",
    "        if \"LSTM\" in file and ts_type in file and include in file:\n",
    "            if ((\"ST\" in ts_type_str and \"_ST_\" in file) or ((\"ST\" not in ts_type_str and \"_ST_\" not in file))):\n",
    "                if \"muhats\" in file and \"DriftEvalExp\" in file:\n",
    "                    driftevalexp_files.append(root_dir+file)\n",
    "                elif \"OOSDriftTrack\" in file and \"true\" in file:\n",
    "                    driftoostrack_true_files.append(root_dir+file)\n",
    "                elif \"OOSDriftTrack\" in file and \"local\" in file:\n",
    "                    driftoostrack_local_files.append(root_dir+file)\n",
    "    assert len(driftoostrack_true_files)>0, \"No oos drift track files found\"\n",
    "    assert len(driftoostrack_local_files)>0, \"No oos drift track files found\"\n",
    "    assert len(driftevalexp_files)>0, \"No eval exp files found\"\n",
    "    def extract_bw_drift_eval_exp_number(s):\n",
    "        match = s.split(\"Nep_\")[0].split(\"_\")[-1]\n",
    "        return int(match)\n",
    "    def extract_bw_drift_track_number(s):\n",
    "        match = s.split(\"Nep_\")[0].split(\"_\")[-1]\n",
    "        return int(match)\n",
    "    driftevalexp_files = sorted(driftevalexp_files, key=extract_bw_drift_eval_exp_number)\n",
    "    driftoostrack_true_files = sorted(driftoostrack_true_files, key=extract_bw_drift_track_number)\n",
    "    driftoostrack_local_files = sorted(driftoostrack_local_files, key=extract_bw_drift_track_number)\n",
    "    Nepochs_track = [extract_bw_drift_track_number(f) for f in driftoostrack_true_files]\n",
    "    Nepochs_drifteval = [extract_bw_drift_eval_exp_number(f) for f in driftevalexp_files]\n",
    "    return driftevalexp_files, driftoostrack_true_files, driftoostrack_local_files, Nepochs_track, Nepochs_drifteval"
   ],
   "metadata": {
    "collapsed": false
   }
  },
  {
   "cell_type": "code",
   "execution_count": 16,
   "outputs": [
    {
     "name": "stdout",
     "output_type": "stream",
     "text": [
      "ST_0020FTh_fQuadSinHF\n"
     ]
    },
    {
     "ename": "AssertionError",
     "evalue": "No oos drift track files found",
     "output_type": "error",
     "traceback": [
      "\u001B[0;31m---------------------------------------------------------------------------\u001B[0m",
      "\u001B[0;31mAssertionError\u001B[0m                            Traceback (most recent call last)",
      "Cell \u001B[0;32mIn[16], line 13\u001B[0m\n\u001B[1;32m     10\u001B[0m         ts_type_str \u001B[38;5;241m=\u001B[39m \u001B[38;5;124m\"\u001B[39m\u001B[38;5;124mfQuadSinHF\u001B[39m\u001B[38;5;124m\"\u001B[39m\n\u001B[1;32m     12\u001B[0m \u001B[38;5;28mprint\u001B[39m(ts_type_str)\n\u001B[0;32m---> 13\u001B[0m driftevalexp_files, driftoostrack_true_files, driftoostrack_local_files, Nepochs_track, Nepochs_drifteval \u001B[38;5;241m=\u001B[39m \u001B[43mget_drift_files\u001B[49m\u001B[43m(\u001B[49m\u001B[43mconfig\u001B[49m\u001B[38;5;241;43m=\u001B[39;49m\u001B[43mconfig\u001B[49m\u001B[43m,\u001B[49m\u001B[43m \u001B[49m\u001B[43mts_type_str\u001B[49m\u001B[38;5;241;43m=\u001B[39;49m\u001B[43mts_type_str\u001B[49m\u001B[43m)\u001B[49m\n",
      "Cell \u001B[0;32mIn[15], line 22\u001B[0m, in \u001B[0;36mget_drift_files\u001B[0;34m(config, ts_type_str)\u001B[0m\n\u001B[1;32m     20\u001B[0m             \u001B[38;5;28;01melif\u001B[39;00m \u001B[38;5;124m\"\u001B[39m\u001B[38;5;124mOOSDriftTrack\u001B[39m\u001B[38;5;124m\"\u001B[39m \u001B[38;5;129;01min\u001B[39;00m file \u001B[38;5;129;01mand\u001B[39;00m \u001B[38;5;124m\"\u001B[39m\u001B[38;5;124mlocal\u001B[39m\u001B[38;5;124m\"\u001B[39m \u001B[38;5;129;01min\u001B[39;00m file:\n\u001B[1;32m     21\u001B[0m                 driftoostrack_local_files\u001B[38;5;241m.\u001B[39mappend(root_dir\u001B[38;5;241m+\u001B[39mfile)\n\u001B[0;32m---> 22\u001B[0m \u001B[38;5;28;01massert\u001B[39;00m \u001B[38;5;28mlen\u001B[39m(driftoostrack_true_files)\u001B[38;5;241m>\u001B[39m\u001B[38;5;241m0\u001B[39m, \u001B[38;5;124m\"\u001B[39m\u001B[38;5;124mNo oos drift track files found\u001B[39m\u001B[38;5;124m\"\u001B[39m\n\u001B[1;32m     23\u001B[0m \u001B[38;5;28;01massert\u001B[39;00m \u001B[38;5;28mlen\u001B[39m(driftoostrack_local_files)\u001B[38;5;241m>\u001B[39m\u001B[38;5;241m0\u001B[39m, \u001B[38;5;124m\"\u001B[39m\u001B[38;5;124mNo oos drift track files found\u001B[39m\u001B[38;5;124m\"\u001B[39m\n\u001B[1;32m     24\u001B[0m \u001B[38;5;28;01massert\u001B[39;00m \u001B[38;5;28mlen\u001B[39m(driftevalexp_files)\u001B[38;5;241m>\u001B[39m\u001B[38;5;241m0\u001B[39m, \u001B[38;5;124m\"\u001B[39m\u001B[38;5;124mNo eval exp files found\u001B[39m\u001B[38;5;124m\"\u001B[39m\n",
      "\u001B[0;31mAssertionError\u001B[0m: No oos drift track files found"
     ]
    }
   ],
   "source": [
    "if \"BiPot\" in config.data_path:\n",
    "    if \"_ST_\" in config.scoreNet_trained_path:\n",
    "        ts_type_str = f\"ST_{config.feat_thresh:.3f}FTh_fBiPot\".replace(\".\", \"\")\n",
    "    else:\n",
    "        ts_type_str = \"fBiPot\"\n",
    "elif \"QuadSinHF\" in config.data_path:\n",
    "    if \"_ST_\" in config.scoreNet_trained_path:\n",
    "        ts_type_str = f\"ST_{config.feat_thresh:.3f}FTh_fQuadSinHF\".replace(\".\",\"\")\n",
    "    else:\n",
    "        ts_type_str = \"fQuadSinHF\"\n",
    "\n",
    "print(ts_type_str)\n",
    "driftevalexp_files, driftoostrack_true_files, driftoostrack_local_files, Nepochs_track, Nepochs_drifteval = get_drift_files(config=config, ts_type_str=ts_type_str)"
   ],
   "metadata": {
    "collapsed": false
   }
  },
  {
   "cell_type": "code",
   "execution_count": null,
   "outputs": [],
   "source": [
    "driftevalexp_files"
   ],
   "metadata": {
    "collapsed": false
   }
  },
  {
   "cell_type": "code",
   "execution_count": null,
   "outputs": [],
   "source": [
    "eval_exp_rmses = {}\n",
    "for f in zip(*[Nepochs_drifteval, driftevalexp_files]):\n",
    "    Nepoch = f[0]\n",
    "    file = f[1]\n",
    "    try:\n",
    "        if Nepoch > 18190: raise FileNotFoundError\n",
    "        muhats = torch.Tensor(np.load(file, allow_pickle=True))\n",
    "        Xshape = muhats.shape[0]\n",
    "        Xs = torch.Tensor(np.linspace(-1.5,1.5,Xshape))#np.load(file_path+\"numpyXs.npy\"))\n",
    "        if \"BiPot\" in config.data_path:\n",
    "            true_drifts = -(4.*config.quartic_coeff * np.power(Xs, 3) + 2.*config.quad_coeff * Xs + config.const).numpy()\n",
    "        elif \"QuadSin\" in config.data_path:\n",
    "            true_drifts = (-2. * config.quad_coeff * Xs + config.sin_coeff * config.sin_space_scale * np.sin(\n",
    "        config.sin_space_scale * Xs)).numpy()\n",
    "        mu_hats = muhats[:, -1, :].reshape(muhats.shape[0], muhats.shape[-1]*1).mean(dim=-1).numpy()\n",
    "        rmse = rmse_ignore_nans(true_drifts, mu_hats).astype(np.float64)\n",
    "        eval_exp_rmses.update({Nepoch: round(rmse, 4)})\n",
    "    except pickle.UnpicklingError as e:\n",
    "        continue\n",
    "    except [FileNotFoundError] as e:\n",
    "        continue\n",
    "Nepochs_drifteval = np.array(list(eval_exp_rmses.keys())).flatten()\n",
    "eval_exp_rmses"
   ],
   "metadata": {
    "collapsed": false
   }
  },
  {
   "cell_type": "code",
   "execution_count": null,
   "outputs": [],
   "source": [
    "drift_track_rmses = {}\n",
    "for f in zip(*[Nepochs_track, driftoostrack_true_files, driftoostrack_local_files]):\n",
    "    Nepoch = f[0]\n",
    "    true = f[1]\n",
    "    local = f[2]\n",
    "    try:\n",
    "        all_true_states = np.load(true, allow_pickle=True)/np.sqrt(config.deltaT)\n",
    "        all_local_states= np.load(local,allow_pickle=True)/np.sqrt(config.deltaT)\n",
    "        all_local_errors = np.cumsum(np.mean(np.power(all_true_states- all_local_states,2), axis=(1,3)), axis=-1)/np.arange(1, all_local_states.shape[2]+1)\n",
    "        total_local_errors = np.mean(np.sqrt(all_local_errors), axis=0)\n",
    "        drift_track_rmses.update({Nepoch:total_local_errors[-1]})\n",
    "    except pickle.UnpicklingError as e:\n",
    "        continue\n",
    "    except (FileNotFoundError, ValueError) as e:\n",
    "        print(e)\n",
    "        continue\n",
    "Nepochs_track= np.array(list(drift_track_rmses.keys())).flatten()\n",
    "drift_track_rmses"
   ],
   "metadata": {
    "collapsed": false
   }
  },
  {
   "cell_type": "code",
   "execution_count": null,
   "outputs": [],
   "source": [
    "common_epochs = np.intersect1d(np.intersect1d(Nepochs_losses, Nepochs_drifteval), np.arange(8000, 18000))\n",
    "start_idx = 0\n",
    "common_epochs = common_epochs[start_idx:]\n",
    "losses_idx = [np.argwhere(c == Nepochs_losses)[0,0] for c in common_epochs]\n",
    "evalexp_idx = [np.argwhere(c == Nepochs_drifteval)[0,0] for c in common_epochs]\n",
    "red_losses = losses[losses_idx]\n",
    "eval_rmses = np.array(list(eval_exp_rmses.values()))[evalexp_idx]\n",
    "track_idx = evalexp_idx#[np.argwhere(c == Nepochs_track)[0,0] for c in common_epochs]\n",
    "track_rmses = eval_rmses#np.array(list(drift_track_rmses.values()))[track_idx]"
   ],
   "metadata": {
    "collapsed": false
   }
  },
  {
   "cell_type": "code",
   "execution_count": null,
   "outputs": [],
   "source": [
    "toSave = False\n",
    "fig, ax = plt.subplots(figsize=(14,9))\n",
    "sc1 = ax.scatter(common_epochs, red_losses, s=10, label=\"Training Loss\")\n",
    "ax.tick_params(axis=\"both\",labelsize=24)\n",
    "ax2 = ax.twinx()\n",
    "sc2 = ax2.scatter(common_epochs, eval_rmses, s=20, color=\"orange\",label=\"Domain RMSE\")\n",
    "ax.set_xlabel(\"Training Epochs\", fontsize=38)\n",
    "if \"BiPot\" in config.data_path:\n",
    "    if \"_ST_\" in config.scoreNet_trained_path:\n",
    "        ax.set_title(r\"Losses for StableTarget $\\mu_{3}$\", fontsize=40)\n",
    "    else:\n",
    "        ax.set_title(r\"Losses for $\\mu_{3}$\", fontsize=40)\n",
    "elif \"QuadSinHF\" in config.data_path:\n",
    "    if \"004b\" in config.data_path:\n",
    "        if \"_ST_\" in config.scoreNet_trained_path:\n",
    "            ax.set_title(r\"Losses for StableTarget $\\mu_{2}$\", fontsize=40)\n",
    "        else:\n",
    "            ax.set_title(r\"Losses for $\\mu_{2}$\", fontsize=40)\n",
    "    else:\n",
    "        if \"_ST_\" in config.scoreNet_trained_path:\n",
    "            ax.set_title(r\"Losses for StableTarget $\\mu_{1}$\", fontsize=40)\n",
    "        else:\n",
    "            ax.set_title(r\"Losses for $\\mu_{1}$\", fontsize=40)\n",
    "ax.tick_params(axis=\"both\",labelsize=24)\n",
    "ax2.tick_params(axis=\"both\",labelsize=24)\n",
    "#ax.set_yscale(\"log\")\n",
    "#ax2.set_yscale(\"log\")\n",
    "plt.tight_layout()\n",
    "handles = [sc1, sc2]\n",
    "labels = [h.get_label() for h in handles]\n",
    "# Add a single legend on ax1\n",
    "ax.legend(handles, labels, fontsize=24)\n",
    "if toSave:\n",
    "    if \"BiPot\" in config.data_path:\n",
    "        if \"_ST_\" in config.scoreNet_trained_path:\n",
    "            plt.savefig((f\"/Users/marcos/Library/CloudStorage/OneDrive-ImperialCollegeLondon/StatML_CDT/Year2/DiffusionModelPresentationImages/{ts_type_str}_ST_LossesEval_PM_LSTM_{config.deltaT:.3e}dT_{config.loss_factor}LFac\").replace(\".\",\"\")+\".png\",  bbox_inches='tight')\n",
    "        else:\n",
    "            plt.savefig((f\"/Users/marcos/Library/CloudStorage/OneDrive-ImperialCollegeLondon/StatML_CDT/Year2/DiffusionModelPresentationImages/{ts_type_str}_LossesEval_PM_LSTM_{config.deltaT:.3e}dT_{config.loss_factor}LFac\").replace(\".\",\"\")+\".png\",  bbox_inches='tight')\n",
    "    elif \"QuadSinHF\" in config.data_path:\n",
    "        if \"004b\" in config.data_path:\n",
    "            if \"_ST_\" in config.scoreNet_trained_path:\n",
    "                plt.savefig((f\"/Users/marcos/Library/CloudStorage/OneDrive-ImperialCollegeLondon/StatML_CDT/Year2/DiffusionModelPresentationImages/{ts_type_str}2_ST_LossesEval_PM_LSTM_{config.deltaT:.3e}dT_{config.loss_factor}LFac\").replace(\".\",\"\")+\".png\",  bbox_inches='tight')\n",
    "            else:\n",
    "                 plt.savefig((f\"/Users/marcos/Library/CloudStorage/OneDrive-ImperialCollegeLondon/StatML_CDT/Year2/DiffusionModelPresentationImages/{ts_type_str}2_LossesEval_PM_LSTM_{config.deltaT:.3e}dT_{config.loss_factor}LFac\").replace(\".\",\"\")+\".png\",  bbox_inches='tight')\n",
    "        else:\n",
    "            if \"_ST_\" in config.scoreNet_trained_path:\n",
    "                plt.savefig((f\"/Users/marcos/Library/CloudStorage/OneDrive-ImperialCollegeLondon/StatML_CDT/Year2/DiffusionModelPresentationImages/{ts_type_str}1_ST_LossesEval_PM_LSTM_{config.deltaT:.3e}dT_{config.loss_factor}LFac\").replace(\".\",\"\")+\".png\",  bbox_inches='tight')\n",
    "            else:\n",
    "                plt.savefig((f\"/Users/marcos/Library/CloudStorage/OneDrive-ImperialCollegeLondon/StatML_CDT/Year2/DiffusionModelPresentationImages/{ts_type_str}1_LossesEval_PM_LSTM_{config.deltaT:.3e}dT_{config.loss_factor}LFac\").replace(\".\",\"\")+\".png\",  bbox_inches='tight')\n",
    "plt.show()\n",
    "plt.close()\n",
    "fig, ax = plt.subplots(figsize=(14,9))\n",
    "sc1 = ax.scatter(common_epochs, red_losses, s=10, label=\"Training Loss\")\n",
    "ax2 = ax.twinx()\n",
    "sc2 = ax2.scatter(common_epochs, track_rmses, s=20, color=\"red\",label=\"Tracking RMSE\")\n",
    "ax.set_xlabel(\"Training Epochs\", fontsize=38)\n",
    "if \"BiPot\" in config.data_path:\n",
    "    if \"_ST_\" in config.scoreNet_trained_path:\n",
    "        ax.set_title(r\"Losses for StableTarget $\\mu_{3}$\", fontsize=40)\n",
    "    else:\n",
    "        ax.set_title(r\"Losses for $\\mu_{3}$\", fontsize=40)\n",
    "elif \"QuadSinHF\" in config.data_path:\n",
    "    if \"004b\" in config.data_path:\n",
    "        if \"_ST_\" in config.scoreNet_trained_path:\n",
    "            ax.set_title(r\"Losses for StableTarget $\\mu_{2}$\", fontsize=40)\n",
    "        else:\n",
    "            ax.set_title(r\"Losses for $\\mu_{2}$\", fontsize=40)\n",
    "    else:\n",
    "        if \"_ST_\" in config.scoreNet_trained_path:\n",
    "            ax.set_title(r\"Losses for StableTarget $\\mu_{1}$\", fontsize=40)\n",
    "        else:\n",
    "            ax.set_title(r\"Losses for $\\mu_{1}$\", fontsize=40)\n",
    "ax.tick_params(axis=\"both\",labelsize=24)\n",
    "ax2.tick_params(axis=\"both\",labelsize=24)\n",
    "#ax.set_yscale(\"log\")\n",
    "#ax2.set_yscale(\"log\")\n",
    "plt.tight_layout()\n",
    "handles = [sc1, sc2]\n",
    "labels = [h.get_label() for h in handles]\n",
    "# Add a single legend on ax1\n",
    "ax.legend(handles, labels, fontsize=24)\n",
    "if toSave:\n",
    "    if \"BiPot\" in config.data_path:\n",
    "        if \"_ST_\" in config.scoreNet_trained_path:\n",
    "            plt.savefig((f\"/Users/marcos/Library/CloudStorage/OneDrive-ImperialCollegeLondon/StatML_CDT/Year2/DiffusionModelPresentationImages/{ts_type_str}_ST_LossesTrack_PM_LSTM_{config.deltaT:.3e}dT_{config.loss_factor}LFac\").replace(\".\",\"\")+\".png\",  bbox_inches='tight')\n",
    "        else:\n",
    "            plt.savefig((f\"/Users/marcos/Library/CloudStorage/OneDrive-ImperialCollegeLondon/StatML_CDT/Year2/DiffusionModelPresentationImages/{ts_type_str}_LossesTrack_PM_LSTM_{config.deltaT:.3e}dT_{config.loss_factor}LFac\").replace(\".\",\"\")+\".png\",  bbox_inches='tight')\n",
    "    elif \"QuadSinHF\" in config.data_path:\n",
    "        if \"004b\" in config.data_path:\n",
    "            if \"_ST_\" in config.scoreNet_trained_path:\n",
    "                plt.savefig((f\"/Users/marcos/Library/CloudStorage/OneDrive-ImperialCollegeLondon/StatML_CDT/Year2/DiffusionModelPresentationImages/{ts_type_str}2_ST_LossesTrack_PM_LSTM_{config.deltaT:.3e}dT_{config.loss_factor}LFac\").replace(\".\",\"\")+\".png\",  bbox_inches='tight')\n",
    "            else:\n",
    "                 plt.savefig((f\"/Users/marcos/Library/CloudStorage/OneDrive-ImperialCollegeLondon/StatML_CDT/Year2/DiffusionModelPresentationImages/{ts_type_str}2_LossesTrack_PM_LSTM_{config.deltaT:.3e}dT_{config.loss_factor}LFac\").replace(\".\",\"\")+\".png\",  bbox_inches='tight')\n",
    "        else:\n",
    "            if \"_ST_\" in config.scoreNet_trained_path:\n",
    "                plt.savefig((f\"/Users/marcos/Library/CloudStorage/OneDrive-ImperialCollegeLondon/StatML_CDT/Year2/DiffusionModelPresentationImages/{ts_type_str}1_ST_LossesTrack_PM_LSTM_{config.deltaT:.3e}dT_{config.loss_factor}LFac\").replace(\".\",\"\")+\".png\",  bbox_inches='tight')\n",
    "            else:\n",
    "                plt.savefig((f\"/Users/marcos/Library/CloudStorage/OneDrive-ImperialCollegeLondon/StatML_CDT/Year2/DiffusionModelPresentationImages/{ts_type_str}1_LossesTrack_PM_LSTM_{config.deltaT:.3e}dT_{config.loss_factor}LFac\").replace(\".\",\"\")+\".png\",  bbox_inches='tight')\n",
    "plt.show()\n",
    "plt.close()"
   ],
   "metadata": {
    "collapsed": false
   }
  },
  {
   "cell_type": "code",
   "execution_count": null,
   "outputs": [],
   "source": [
    "plot_ewma_losses(epochs=common_epochs, losses=red_losses)"
   ],
   "metadata": {
    "collapsed": false
   }
  },
  {
   "cell_type": "code",
   "execution_count": null,
   "outputs": [],
   "source": [
    "mean0_red_losses = (red_losses - np.mean(red_losses))#/np.std(red_losses)\n",
    "mean0_track_rmses = (track_rmses - np.mean(track_rmses))#/np.std(track_rmses)\n",
    "mean0_eval_rmses = (eval_rmses - np.mean(eval_rmses))#/np.std(eval_rmses)\n",
    "plt.hist(mean0_red_losses, bins=50, density=True, label=\"Training Loss\")\n",
    "plt.hist(mean0_eval_rmses, bins=50, density=True,label=\"DriftEval RMSE\")\n",
    "plt.hist(mean0_track_rmses, bins=50, density=True,label=\"Track RMSE\")\n",
    "plt.legend()\n",
    "plt.show()\n",
    "plt.close()"
   ],
   "metadata": {
    "collapsed": false
   }
  },
  {
   "cell_type": "code",
   "execution_count": null,
   "outputs": [],
   "source": [
    "best_rmse = 0.6#np.inf\n",
    "toSave = False\n",
    "for Nepoch in np.arange(10000,100000, 100):\n",
    "    try:\n",
    "        Ndiff = config.max_diff_steps\n",
    "        if \"PMS\" in config.scoreNet_trained_path:\n",
    "            type = \"PMS\"\n",
    "        elif \"PM\" in config.scoreNet_trained_path:\n",
    "            type = \"PM\"\n",
    "        else:\n",
    "            type = \"\"\n",
    "        if \"fQuadSinHF\" in config.data_path:\n",
    "            if \"_ST_\" in config.scoreNet_trained_path:\n",
    "                file_path = (project_config.ROOT_DIR + f\"experiments/results/TSPM_LSTM_ST_{config.feat_thresh:.3f}FTh_fQuadSinHF_DriftEvalExp_{Nepoch}Nep_{config.t0}t0_{config.deltaT:.3e}dT_{config.quad_coeff}a_{config.sin_coeff}b_{config.sin_space_scale}c_{config.residual_layers}ResLay_{config.loss_factor}LFac_BetaMax{config.beta_max:.1e}_\").replace(\n",
    "                                \".\", \"\")\n",
    "            else:\n",
    "                file_path = (project_config.ROOT_DIR + f\"experiments/results/TSPM_LSTM_fQuadSinHF_DriftEvalExp_{Nepoch}Nep_{config.t0}t0_{config.deltaT:.3e}dT_{config.quad_coeff}a_{config.sin_coeff}b_{config.sin_space_scale}c_{config.residual_layers}ResLay_{config.loss_factor}LFac_BetaMax{config.beta_max:.1e}_\").replace(\n",
    "                                \".\", \"\")\n",
    "        elif \"fBiPot\" in config.data_path:\n",
    "            if \"_ST_\" in config.scoreNet_trained_path:\n",
    "                file_path = (\n",
    "                            project_config.ROOT_DIR + f\"experiments/results/TS{type}_LSTM_ST_{config.feat_thresh:.3f}FTh_fBiPot_DriftEvalExp_{Nepoch}Nep_{config.t0}t0_{config.deltaT:.3e}dT_{config.quartic_coeff}a_{config.quad_coeff}b_{config.const}c_{config.residual_layers}ResLay_{config.loss_factor}LFac_BetaMax{config.beta_max:.1e}_\").replace(\n",
    "                        \".\", \"\")\n",
    "            else:\n",
    "                file_path = (\n",
    "                            project_config.ROOT_DIR + f\"experiments/results/TS{type}_LSTM_fBiPot_DriftEvalExp_{Nepoch}Nep_{config.t0}t0_{config.deltaT:.3e}dT_{config.quartic_coeff}a_{config.quad_coeff}b_{config.const}c_{config.residual_layers}ResLay_{config.loss_factor}LFac_BetaMax{config.beta_max:.1e}_\").replace(\n",
    "                        \".\", \"\")\n",
    "\n",
    "        muhats = torch.Tensor(np.load(file_path+\"muhats.npy\"))\n",
    "        Xshape = muhats.shape[0]\n",
    "        if \"fQuadSinHF\" in config.data_path:\n",
    "            if config.deltaT > 1/(32*256):\n",
    "                Xs = torch.linspace(-1.5, 1.5, steps=Xshape)\n",
    "            else:\n",
    "                Xs = torch.linspace(-.4, .4, steps=Xshape)\n",
    "            ts_type = \"fQuadSinHF\"\n",
    "        elif \"fSin\" in config.data_path:\n",
    "            Xs = torch.Tensor(np.linspace(-3,3,Xshape))#np.load(file_path+\"numpyXs.npy\"))\n",
    "            ts_type = \"fSin\"\n",
    "        elif \"fBiPotSmall\" in config.data_path:\n",
    "            Xs = torch.Tensor(np.linspace(-1.5,1.5,Xshape))#np.load(file_path+\"numpyXs.npy\"))\n",
    "            ts_type=\"fBiPotSmall\"\n",
    "        elif \"fBiPot\" in config.data_path:\n",
    "            Xs = torch.Tensor(np.linspace(-1.5,1.5,Xshape))#np.load(file_path+\"numpyXs.npy\"))\n",
    "            ts_type=\"fBiPot\"\n",
    "        if type == \"\":\n",
    "            type=\"Standard\"\n",
    "        assert (config.max_diff_steps == 10000)\n",
    "        if \"fQuadSin\" in config.data_path:\n",
    "            true_drifts = -2.*config.quad_coeff * Xs.unsqueeze(-1) + config.sin_coeff * config.sin_space_scale*np.sin(config.sin_space_scale*Xs).unsqueeze(-1)\n",
    "        elif \"fSin\" in config.data_path:\n",
    "            true_drifts = config.mean_rev*np.sin(1*Xs).unsqueeze(-1)\n",
    "        elif \"BiPot\" in config.data_path:\n",
    "            true_drifts = -(4.*config.quartic_coeff * np.power(Xs, 3) + 2.*config.quad_coeff * Xs + config.const).unsqueeze(-1)\n",
    "            #true_drifts = true_drifts/(1.+config.deltaT*torch.abs(true_drifts))\n",
    "        muhats =  muhats[:, -1, :].reshape(muhats.shape[0], muhats.shape[-1]*1)\n",
    "        mu_hats = muhats.mean(dim=-1).numpy() # Pointwise drift estimate\n",
    "        mu_hats_minq = muhats.quantile(dim=-1, q=0.025).numpy() # Lower bound\n",
    "        mu_hats_maxq = muhats.quantile(dim=-1, q=0.975).numpy() # Lower bound\n",
    "        stds = muhats.std(dim=-1).numpy()\n",
    "        rmse = rmse_ignore_nans(true_drifts.numpy(), mu_hats).astype(np.float64)#np.power(np.mean(np.power(true_drift - mean, 2)), 0.5)\n",
    "        if rmse < np.inf:#best_rmse:\n",
    "            best_rmse = rmse\n",
    "            plot_drift_estimator(mean=mu_hats, mean_min=mu_hats_minq, mean_max=mu_hats_maxq, numpy_Xs=Xs.numpy(),  toSave=toSave, true_drift=true_drifts.numpy(), Nepoch=Nepoch)\n",
    "        del muhats, mu_hats, stds, true_drifts\n",
    "    except FileNotFoundError as e:\n",
    "        continue"
   ],
   "metadata": {
    "collapsed": false
   }
  },
  {
   "cell_type": "code",
   "execution_count": null,
   "outputs": [],
   "source": [
    "# 0.042 at Epoch 3025 for LSTM 0020FTH FBIPOT WITH NO REDUCELRONPLATEAU"
   ],
   "metadata": {
    "collapsed": false
   }
  },
  {
   "cell_type": "code",
   "execution_count": null,
   "outputs": [],
   "source": [],
   "metadata": {
    "collapsed": false
   }
  },
  {
   "cell_type": "code",
   "execution_count": null,
   "outputs": [],
   "source": [],
   "metadata": {
    "collapsed": false
   }
  },
  {
   "cell_type": "code",
   "execution_count": null,
   "outputs": [],
   "source": [],
   "metadata": {
    "collapsed": false
   }
  },
  {
   "cell_type": "code",
   "execution_count": null,
   "outputs": [],
   "source": [],
   "metadata": {
    "collapsed": false
   }
  }
 ],
 "metadata": {
  "kernelspec": {
   "display_name": "Python 3",
   "language": "python",
   "name": "python3"
  },
  "language_info": {
   "codemirror_mode": {
    "name": "ipython",
    "version": 2
   },
   "file_extension": ".py",
   "mimetype": "text/x-python",
   "name": "python",
   "nbconvert_exporter": "python",
   "pygments_lexer": "ipython2",
   "version": "2.7.6"
  }
 },
 "nbformat": 4,
 "nbformat_minor": 0
}
