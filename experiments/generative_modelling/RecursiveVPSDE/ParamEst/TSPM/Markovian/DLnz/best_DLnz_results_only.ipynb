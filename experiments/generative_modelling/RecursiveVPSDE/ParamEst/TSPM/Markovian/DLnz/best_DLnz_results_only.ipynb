{
 "cells": [
  {
   "cell_type": "code",
   "execution_count": 1,
   "metadata": {
    "collapsed": true
   },
   "outputs": [],
   "source": [
    "import numpy as np\n",
    "import pandas as pd\n",
    "import matplotlib.pyplot as plt\n",
    "import os\n",
    "from configs.RecursiveVPSDE.Markovian_8DLorenz.recursive_Markovian_PostMeanScore_8DLorenz_Stable_T256_H05_tl_110data_StbleTgt import get_config as get_8dlnz_config\n",
    "from configs.RecursiveVPSDE.Markovian_12DLorenz.recursive_Markovian_PostMeanScore_12DLorenz_Stable_T256_H05_tl_110data_StbleTgt import get_config as get_12dlnz_config\n",
    "from configs.RecursiveVPSDE.Markovian_20DLorenz.recursive_Markovian_PostMeanScore_20DLorenz_Stable_T256_H05_tl_110data_StbleTgt import get_config as get_20dlnz_config\n",
    "from configs.RecursiveVPSDE.Markovian_40DLorenz.recursive_Markovian_PostMeanScore_40DLorenz_Stable_T256_H05_tl_110data_StbleTgt import get_config as get_40dlnz_config"
   ]
  },
  {
   "cell_type": "code",
   "execution_count": 2,
   "outputs": [],
   "source": [
    "lnz_8d_config = get_8dlnz_config()\n",
    "lnz_12d_config = get_12dlnz_config()\n",
    "lnz_20d_config = get_20dlnz_config()\n",
    "lnz_40d_config = get_40dlnz_config()\n",
    "root_dir =\"/Users/marcos/Library/CloudStorage/OneDrive-ImperialCollegeLondon/StatML_CDT/Year2/DiffusionModels/\""
   ],
   "metadata": {
    "collapsed": false
   }
  },
  {
   "cell_type": "code",
   "execution_count": 3,
   "outputs": [],
   "source": [
    "def get_best_epoch(type):\n",
    "    model_dir = \"/\".join(config.scoreNet_trained_path.split(\"/\")[:-1]) + \"/\"\n",
    "    for file in os.listdir(model_dir):\n",
    "        if config.scoreNet_trained_path in os.path.join(model_dir, file) and f\"{type}\" in file:\n",
    "            print(file.split(f\"{type}NEp\")[-1])\n",
    "            best_epoch = int(file.split(f\"{type}NEp\")[-1])\n",
    "    return best_epoch\n",
    "\n",
    "def get_best_track_file(root_score_dir, ts_type, best_epoch_track):\n",
    "    for file in os.listdir(root_score_dir):\n",
    "        if (\"_\"+str(best_epoch_track)+\"Nep\") in file and \"true\" in file and ts_type in file:\n",
    "            true_file = np.load(root_score_dir+file, allow_pickle=True)\n",
    "        elif (\"_\"+str(best_epoch_track)+\"Nep\") in file and \"global\" in file and ts_type in file:\n",
    "            global_file = np.load(root_score_dir+file, allow_pickle=True)\n",
    "    print(ts_type)\n",
    "    return true_file, global_file\n",
    "\n",
    "def track_pipeline(root_score_dir, ts_type, config, root_dir, toSave, label):\n",
    "    best_epoch_track = 2400#get_best_epoch(type=\"Trk\")\n",
    "    if best_epoch_track % 2 != 0: best_epoch_track -= 1\n",
    "    all_true_states, all_global_states = get_best_track_file(root_score_dir=root_score_dir, ts_type=ts_type, best_epoch_track=best_epoch_track)\n",
    "    print(all_true_states.shape)\n",
    "    time_steps = np.linspace(config.t0,config.deltaT*all_true_states.shape[2],all_true_states.shape[2])\n",
    "    all_global_errors = np.sum(np.power(all_true_states- all_global_states,2), axis=-1)\n",
    "    all_global_errors = all_global_errors.reshape(-1, all_global_errors.shape[-1])\n",
    "    total_global_errors = np.sqrt(np.mean((all_global_errors), axis=0))/np.sqrt(time_steps)\n",
    "    all_errs = np.sqrt(all_global_errors)/np.sqrt(time_steps)\n",
    "    total_global_errors[np.isinf(total_global_errors)] = 0.\n",
    "    all_errs[np.isinf(all_errs)] = 0.\n",
    "    return total_global_errors[-1]\n",
    "    total_global_errors_minq, total_global_errors_maxq = np.quantile(all_errs, axis=0,q=[0.005,0.995])\n",
    "    fig, ax = plt.subplots(figsize=(14,9))\n",
    "    plt.grid(True)\n",
    "    ax.scatter(time_steps, total_global_errors)\n",
    "    plt.fill_between(time_steps,y1=total_global_errors_minq, y2=total_global_errors_maxq, color=\"blue\", alpha=0.4)\n",
    "    ax.set_title(f\"Pathwise RMSE for Score Estimator for {label}\",fontsize=40)\n",
    "\n",
    "    ax.set_xlabel(\"Time Axis\", fontsize=38)\n",
    "    ax.tick_params(labelsize=38)\n",
    "\n",
    "    fig.canvas.draw()\n",
    "    # Get the offset text (e.g., '1e-5')\n",
    "    offset_text = ax.yaxis.get_offset_text().get_text()\n",
    "\n",
    "    # Remove the offset text from the axis\n",
    "    ax.yaxis.get_offset_text().set_visible(False)\n",
    "\n",
    "    # Inject the scale into the y-axis label\n",
    "    if offset_text:\n",
    "        ax.set_ylabel(f'RMSE ({offset_text})', fontsize=38)\n",
    "    else:\n",
    "        ax.set_ylabel('RMSE', fontsize=38)\n",
    "    plt.tight_layout()\n",
    "    if toSave:\n",
    "        plt.savefig((root_dir +f\"DiffusionModelPresentationImages/TSPM_Markovian/{ts_type}/TSPM_MLP_PM_ST_{config.feat_thresh:.3f}FTh_{ts_type}_DriftTrack_{best_epoch_track}Nep_{round(total_global_errors_minq[-1], 7)}_MinIQR_{round(total_global_errors_maxq[-1], 7)}_MaxIQR\").replace(\".\", \"\")+\".png\")\n",
    "    plt.grid(True)\n",
    "    plt.show()\n",
    "    plt.close()\n",
    "    print(f\"Final time cumulative MSE local-time error {total_global_errors[-1]} with IQR ({total_global_errors_minq[-1], total_global_errors_maxq[-1]})at Nepoch {best_epoch_track}\\n\")\n",
    "    return total_global_errors[-1]"
   ],
   "metadata": {
    "collapsed": false
   }
  },
  {
   "cell_type": "code",
   "execution_count": null,
   "outputs": [],
   "source": [
    "toSave = False\n",
    "eval_tracks = {t: np.inf for t in [\"8DLnz\", \"12DLnz\", \"20DLnz\"]}\n",
    "for config in [lnz_8d_config, lnz_12d_config, lnz_20d_config]:\n",
    "    Xshape = config.ts_length\n",
    "    root_score_dir = root_dir\n",
    "    label = \"$\\mu_{5}$\"\n",
    "    if \"8DLnz\" in config.data_path:\n",
    "        root_score_dir = root_dir + f\"ExperimentResults/TSPM_Markovian/8DLnz/\"\n",
    "        ts_type = \"8DLnz\"\n",
    "    elif \"12DLnz\" in config.data_path:\n",
    "        root_score_dir = root_dir + f\"ExperimentResults/TSPM_Markovian/12DLnz/\"\n",
    "        ts_type = \"12DLnz\"\n",
    "    elif \"20DLnz\" in config.data_path:\n",
    "        root_score_dir = root_dir + f\"ExperimentResults/TSPM_Markovian/20DLnz/\"\n",
    "        ts_type = \"20DLnz\"\n",
    "    elif \"40DLnz\" in config.data_path:\n",
    "        root_score_dir = root_dir + f\"ExperimentResults/TSPM_Markovian/40DLnz/\"\n",
    "        ts_type = \"40DLnz\"\n",
    "    rmse = track_pipeline(root_score_dir=root_score_dir, ts_type=ts_type, config=config, root_dir=root_dir, toSave=toSave, label=label)\n",
    "    eval_tracks[ts_type] = [rmse]"
   ],
   "metadata": {
    "collapsed": false,
    "pycharm": {
     "is_executing": true
    }
   }
  },
  {
   "cell_type": "code",
   "execution_count": null,
   "outputs": [],
   "source": [
    "eval_tracks = (pd.DataFrame.from_dict(eval_tracks))\n",
    "print(eval_tracks)"
   ],
   "metadata": {
    "collapsed": false,
    "pycharm": {
     "is_executing": true
    }
   }
  },
  {
   "cell_type": "code",
   "execution_count": null,
   "outputs": [],
   "source": [],
   "metadata": {
    "collapsed": false,
    "pycharm": {
     "is_executing": true
    }
   }
  }
 ],
 "metadata": {
  "kernelspec": {
   "display_name": "Python 3",
   "language": "python",
   "name": "python3"
  },
  "language_info": {
   "codemirror_mode": {
    "name": "ipython",
    "version": 2
   },
   "file_extension": ".py",
   "mimetype": "text/x-python",
   "name": "python",
   "nbconvert_exporter": "python",
   "pygments_lexer": "ipython2",
   "version": "2.7.6"
  }
 },
 "nbformat": 4,
 "nbformat_minor": 0
}
