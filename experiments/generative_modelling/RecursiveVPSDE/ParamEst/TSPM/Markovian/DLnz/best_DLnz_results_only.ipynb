{
 "cells": [
  {
   "cell_type": "code",
   "execution_count": 13,
   "metadata": {
    "collapsed": true
   },
   "outputs": [],
   "source": [
    "import numpy as np\n",
    "import pandas as pd\n",
    "import matplotlib.pyplot as plt\n",
    "import os\n",
    "from configs.RecursiveVPSDE.Markovian_8DLorenz.recursive_Markovian_PostMeanScore_8DLorenz_Stable_T256_H05_tl_110data_StbleTgt import get_config as get_8dlnz_config\n",
    "from configs.RecursiveVPSDE.Markovian_12DLorenz.recursive_Markovian_PostMeanScore_12DLorenz_Stable_T256_H05_tl_110data_StbleTgt import get_config as get_12dlnz_config\n",
    "from configs.RecursiveVPSDE.Markovian_20DLorenz.recursive_Markovian_PostMeanScore_20DLorenz_Stable_T256_H05_tl_110data_StbleTgt import get_config as get_20dlnz_config"
   ]
  },
  {
   "cell_type": "code",
   "execution_count": 14,
   "outputs": [],
   "source": [
    "lnz_8d_config = get_8dlnz_config()\n",
    "lnz_12d_config = get_12dlnz_config()\n",
    "lnz_20d_config = get_20dlnz_config()\n",
    "root_dir =\"/Users/marcos/Library/CloudStorage/OneDrive-ImperialCollegeLondon/StatML_CDT/Year2/DiffusionModels/\""
   ],
   "metadata": {
    "collapsed": false
   }
  },
  {
   "cell_type": "code",
   "execution_count": 15,
   "outputs": [],
   "source": [
    "def get_best_epoch(type):\n",
    "    model_dir = \"/\".join(config.scoreNet_trained_path.split(\"/\")[:-1]) + \"/\"\n",
    "    for file in os.listdir(model_dir):\n",
    "        if config.scoreNet_trained_path in os.path.join(model_dir, file) and f\"{type}\" in file:\n",
    "            print(file.split(f\"{type}NEp\")[-1])\n",
    "            best_epoch = int(file.split(f\"{type}NEp\")[-1])\n",
    "    return best_epoch\n",
    "\n",
    "def get_best_track_file(root_score_dir, ts_type, best_epoch_track):\n",
    "    for file in os.listdir(root_score_dir):\n",
    "        if (\"_\"+str(best_epoch_track)+\"Nep\") in file and \"true\" in file and ts_type in file:\n",
    "            true_file = np.load(root_score_dir+file, allow_pickle=True)\n",
    "        elif (\"_\"+str(best_epoch_track)+\"Nep\") in file and \"global\" in file and ts_type in file:\n",
    "            global_file = np.load(root_score_dir+file, allow_pickle=True)\n",
    "    return true_file, global_file\n",
    "\n",
    "def track_pipeline(root_score_dir, ts_type, config, root_dir, toSave, label):\n",
    "    best_epoch_track = 2#get_best_epoch(type=\"Trk\")\n",
    "    if best_epoch_track % 2 != 0: best_epoch_track -= 1\n",
    "    all_true_states, all_global_states = get_best_track_file(root_score_dir=root_score_dir, ts_type=ts_type, best_epoch_track=best_epoch_track)\n",
    "    print(all_true_states.shape)\n",
    "    time_steps = np.linspace(config.t0,config.deltaT*all_true_states.shape[2],all_true_states.shape[2])\n",
    "    all_global_errors = np.sum(np.power(all_true_states- all_global_states,2), axis=-1)\n",
    "    all_global_errors = all_global_errors.reshape(-1, all_global_errors.shape[-1])\n",
    "    total_global_errors = np.sqrt(np.mean((all_global_errors), axis=0))/np.sqrt(time_steps)\n",
    "    all_errs = np.sqrt(all_global_errors)/np.sqrt(time_steps)\n",
    "    total_global_errors[np.isinf(total_global_errors)] = 0.\n",
    "    all_errs[np.isinf(all_errs)] = 0.\n",
    "    return total_global_errors[-1]\n",
    "    total_global_errors_minq, total_global_errors_maxq = np.quantile(all_errs, axis=0,q=[0.005,0.995])\n",
    "    fig, ax = plt.subplots(figsize=(14,9))\n",
    "    plt.grid(True)\n",
    "    ax.scatter(time_steps, total_global_errors)\n",
    "    plt.fill_between(time_steps,y1=total_global_errors_minq, y2=total_global_errors_maxq, color=\"blue\", alpha=0.4)\n",
    "    ax.set_title(f\"Pathwise RMSE for Score Estimator for {label}\",fontsize=40)\n",
    "\n",
    "    ax.set_xlabel(\"Time Axis\", fontsize=38)\n",
    "    ax.tick_params(labelsize=38)\n",
    "\n",
    "    fig.canvas.draw()\n",
    "    # Get the offset text (e.g., '1e-5')\n",
    "    offset_text = ax.yaxis.get_offset_text().get_text()\n",
    "\n",
    "    # Remove the offset text from the axis\n",
    "    ax.yaxis.get_offset_text().set_visible(False)\n",
    "\n",
    "    # Inject the scale into the y-axis label\n",
    "    if offset_text:\n",
    "        ax.set_ylabel(f'RMSE ({offset_text})', fontsize=38)\n",
    "    else:\n",
    "        ax.set_ylabel('RMSE', fontsize=38)\n",
    "    plt.tight_layout()\n",
    "    if toSave:\n",
    "        plt.savefig((root_dir +f\"DiffusionModelPresentationImages/TSPM_Markovian/{ts_type}/TSPM_MLP_PM_ST_{config.feat_thresh:.3f}FTh_{ts_type}_DriftTrack_{best_epoch_track}Nep_{round(total_global_errors_minq[-1], 7)}_MinIQR_{round(total_global_errors_maxq[-1], 7)}_MaxIQR\").replace(\".\", \"\")+\".png\")\n",
    "    plt.grid(True)\n",
    "    plt.show()\n",
    "    plt.close()\n",
    "    print(f\"Final time cumulative MSE local-time error {total_global_errors[-1]} with IQR ({total_global_errors_minq[-1], total_global_errors_maxq[-1]})at Nepoch {best_epoch_track}\\n\")\n",
    "    return total_global_errors[-1]"
   ],
   "metadata": {
    "collapsed": false
   }
  },
  {
   "cell_type": "code",
   "execution_count": 16,
   "outputs": [
    {
     "name": "stdout",
     "output_type": "stream",
     "text": [
      "/Users/marcos/Library/CloudStorage/OneDrive-ImperialCollegeLondon/StatML_CDT/Year2/DiffusionModels/ExperimentResults/TSPM_Markovian/8DLnz/TSPM_MLP_ST_0010FTh_NSTgtNFMReg_8DLnz_OOSDriftTrack_2Nep_tl110data_00t0_3906e-03dT_1NDT_2LFac_BetaMax20e+01_075FConst_true_states.npy\n",
      "(2, 100, 257, 8)\n"
     ]
    },
    {
     "name": "stderr",
     "output_type": "stream",
     "text": [
      "/var/folders/68/vrxg2n311sz1gs264pkys2zh0000gn/T/ipykernel_56753/1630276637.py:26: RuntimeWarning: invalid value encountered in divide\n",
      "  total_global_errors = np.sqrt(np.mean((all_global_errors), axis=0))/np.sqrt(time_steps)\n",
      "/var/folders/68/vrxg2n311sz1gs264pkys2zh0000gn/T/ipykernel_56753/1630276637.py:27: RuntimeWarning: invalid value encountered in divide\n",
      "  all_errs = np.sqrt(all_global_errors)/np.sqrt(time_steps)\n"
     ]
    },
    {
     "ename": "UnboundLocalError",
     "evalue": "local variable 'true_file' referenced before assignment",
     "output_type": "error",
     "traceback": [
      "\u001B[0;31m---------------------------------------------------------------------------\u001B[0m",
      "\u001B[0;31mUnboundLocalError\u001B[0m                         Traceback (most recent call last)",
      "Cell \u001B[0;32mIn[16], line 16\u001B[0m\n\u001B[1;32m     14\u001B[0m     root_score_dir \u001B[38;5;241m=\u001B[39m root_dir \u001B[38;5;241m+\u001B[39m \u001B[38;5;124mf\u001B[39m\u001B[38;5;124m\"\u001B[39m\u001B[38;5;124mExperimentResults/TSPM_Markovian/20DLnz/\u001B[39m\u001B[38;5;124m\"\u001B[39m\n\u001B[1;32m     15\u001B[0m     ts_type \u001B[38;5;241m=\u001B[39m \u001B[38;5;124m\"\u001B[39m\u001B[38;5;124m20DLnz\u001B[39m\u001B[38;5;124m\"\u001B[39m\n\u001B[0;32m---> 16\u001B[0m rmse \u001B[38;5;241m=\u001B[39m \u001B[43mtrack_pipeline\u001B[49m\u001B[43m(\u001B[49m\u001B[43mroot_score_dir\u001B[49m\u001B[38;5;241;43m=\u001B[39;49m\u001B[43mroot_score_dir\u001B[49m\u001B[43m,\u001B[49m\u001B[43m \u001B[49m\u001B[43mts_type\u001B[49m\u001B[38;5;241;43m=\u001B[39;49m\u001B[43mts_type\u001B[49m\u001B[43m,\u001B[49m\u001B[43m \u001B[49m\u001B[43mconfig\u001B[49m\u001B[38;5;241;43m=\u001B[39;49m\u001B[43mconfig\u001B[49m\u001B[43m,\u001B[49m\u001B[43m \u001B[49m\u001B[43mroot_dir\u001B[49m\u001B[38;5;241;43m=\u001B[39;49m\u001B[43mroot_dir\u001B[49m\u001B[43m,\u001B[49m\u001B[43m \u001B[49m\u001B[43mtoSave\u001B[49m\u001B[38;5;241;43m=\u001B[39;49m\u001B[43mtoSave\u001B[49m\u001B[43m,\u001B[49m\u001B[43m \u001B[49m\u001B[43mlabel\u001B[49m\u001B[38;5;241;43m=\u001B[39;49m\u001B[43mlabel\u001B[49m\u001B[43m)\u001B[49m\n\u001B[1;32m     17\u001B[0m eval_tracks[ts_type] \u001B[38;5;241m=\u001B[39m [rmse]\n",
      "Cell \u001B[0;32mIn[15], line 21\u001B[0m, in \u001B[0;36mtrack_pipeline\u001B[0;34m(root_score_dir, ts_type, config, root_dir, toSave, label)\u001B[0m\n\u001B[1;32m     19\u001B[0m best_epoch_track \u001B[38;5;241m=\u001B[39m \u001B[38;5;241m2\u001B[39m\u001B[38;5;66;03m#get_best_epoch(type=\"Trk\")\u001B[39;00m\n\u001B[1;32m     20\u001B[0m \u001B[38;5;28;01mif\u001B[39;00m best_epoch_track \u001B[38;5;241m%\u001B[39m \u001B[38;5;241m2\u001B[39m \u001B[38;5;241m!=\u001B[39m \u001B[38;5;241m0\u001B[39m: best_epoch_track \u001B[38;5;241m-\u001B[39m\u001B[38;5;241m=\u001B[39m \u001B[38;5;241m1\u001B[39m\n\u001B[0;32m---> 21\u001B[0m all_true_states, all_global_states \u001B[38;5;241m=\u001B[39m \u001B[43mget_best_track_file\u001B[49m\u001B[43m(\u001B[49m\u001B[43mroot_score_dir\u001B[49m\u001B[38;5;241;43m=\u001B[39;49m\u001B[43mroot_score_dir\u001B[49m\u001B[43m,\u001B[49m\u001B[43m \u001B[49m\u001B[43mts_type\u001B[49m\u001B[38;5;241;43m=\u001B[39;49m\u001B[43mts_type\u001B[49m\u001B[43m,\u001B[49m\u001B[43m \u001B[49m\u001B[43mbest_epoch_track\u001B[49m\u001B[38;5;241;43m=\u001B[39;49m\u001B[43mbest_epoch_track\u001B[49m\u001B[43m)\u001B[49m\n\u001B[1;32m     22\u001B[0m \u001B[38;5;28mprint\u001B[39m(all_true_states\u001B[38;5;241m.\u001B[39mshape)\n\u001B[1;32m     23\u001B[0m time_steps \u001B[38;5;241m=\u001B[39m np\u001B[38;5;241m.\u001B[39mlinspace(config\u001B[38;5;241m.\u001B[39mt0,config\u001B[38;5;241m.\u001B[39mdeltaT\u001B[38;5;241m*\u001B[39mall_true_states\u001B[38;5;241m.\u001B[39mshape[\u001B[38;5;241m2\u001B[39m],all_true_states\u001B[38;5;241m.\u001B[39mshape[\u001B[38;5;241m2\u001B[39m])\n",
      "Cell \u001B[0;32mIn[15], line 16\u001B[0m, in \u001B[0;36mget_best_track_file\u001B[0;34m(root_score_dir, ts_type, best_epoch_track)\u001B[0m\n\u001B[1;32m     14\u001B[0m     \u001B[38;5;28;01melif\u001B[39;00m (\u001B[38;5;124m\"\u001B[39m\u001B[38;5;124m_\u001B[39m\u001B[38;5;124m\"\u001B[39m\u001B[38;5;241m+\u001B[39m\u001B[38;5;28mstr\u001B[39m(best_epoch_track)\u001B[38;5;241m+\u001B[39m\u001B[38;5;124m\"\u001B[39m\u001B[38;5;124mNep\u001B[39m\u001B[38;5;124m\"\u001B[39m) \u001B[38;5;129;01min\u001B[39;00m file \u001B[38;5;129;01mand\u001B[39;00m \u001B[38;5;124m\"\u001B[39m\u001B[38;5;124mglobal\u001B[39m\u001B[38;5;124m\"\u001B[39m \u001B[38;5;129;01min\u001B[39;00m file \u001B[38;5;129;01mand\u001B[39;00m ts_type \u001B[38;5;129;01min\u001B[39;00m file:\n\u001B[1;32m     15\u001B[0m         global_file \u001B[38;5;241m=\u001B[39m np\u001B[38;5;241m.\u001B[39mload(root_score_dir\u001B[38;5;241m+\u001B[39mfile, allow_pickle\u001B[38;5;241m=\u001B[39m\u001B[38;5;28;01mTrue\u001B[39;00m)\n\u001B[0;32m---> 16\u001B[0m \u001B[38;5;28;01mreturn\u001B[39;00m \u001B[43mtrue_file\u001B[49m, global_file\n",
      "\u001B[0;31mUnboundLocalError\u001B[0m: local variable 'true_file' referenced before assignment"
     ]
    }
   ],
   "source": [
    "toSave = False\n",
    "eval_tracks = {t: np.inf for t in [\"8DLnz\", \"12DLnz\", \"20DLnz\"]}\n",
    "for config in [lnz_8d_config, lnz_12d_config, lnz_20d_config]:\n",
    "    Xshape = config.ts_length\n",
    "    root_score_dir = root_dir\n",
    "    label = \"$\\mu_{5}$\"\n",
    "    if \"8DLnz\" in config.data_path:\n",
    "        root_score_dir = root_dir + f\"ExperimentResults/TSPM_Markovian/8DLnz/\"\n",
    "        ts_type = \"8DLnz\"\n",
    "    elif \"12DLnz\" in config.data_path:\n",
    "        root_score_dir = root_dir + f\"ExperimentResults/TSPM_Markovian/12DLnz/\"\n",
    "        ts_type = \"12DLnz\"\n",
    "    elif \"20DLnz\" in config.data_path:\n",
    "        root_score_dir = root_dir + f\"ExperimentResults/TSPM_Markovian/20DLnz/\"\n",
    "        ts_type = \"20DLnz\"\n",
    "    rmse = track_pipeline(root_score_dir=root_score_dir, ts_type=ts_type, config=config, root_dir=root_dir, toSave=toSave, label=label)\n",
    "    eval_tracks[ts_type] = [rmse]"
   ],
   "metadata": {
    "collapsed": false
   }
  },
  {
   "cell_type": "code",
   "execution_count": null,
   "outputs": [],
   "source": [
    "eval_tracks = (pd.DataFrame.from_dict(eval_tracks))\n",
    "print(eval_tracks)"
   ],
   "metadata": {
    "collapsed": false
   }
  },
  {
   "cell_type": "code",
   "execution_count": null,
   "outputs": [],
   "source": [],
   "metadata": {
    "collapsed": false
   }
  }
 ],
 "metadata": {
  "kernelspec": {
   "display_name": "Python 3",
   "language": "python",
   "name": "python3"
  },
  "language_info": {
   "codemirror_mode": {
    "name": "ipython",
    "version": 2
   },
   "file_extension": ".py",
   "mimetype": "text/x-python",
   "name": "python",
   "nbconvert_exporter": "python",
   "pygments_lexer": "ipython2",
   "version": "2.7.6"
  }
 },
 "nbformat": 4,
 "nbformat_minor": 0
}
