{
 "cells": [
  {
   "cell_type": "code",
   "execution_count": null,
   "metadata": {
    "collapsed": true,
    "pycharm": {
     "is_executing": true
    }
   },
   "outputs": [],
   "source": [
    "from configs.RecursiveVPSDE.Markovian_20DLorenz.recursive_Markovian_PostMeanScore_20DLorenz_Chaos_T256_H05_tl_110data_StbleTgt import get_config as config20\n",
    "from configs.RecursiveVPSDE.Markovian_8DLorenz.recursive_Markovian_PostMeanScore_8DLorenz_Chaos_T256_H05_tl_110data_StbleTgt import get_config as config8\n",
    "from configs.RecursiveVPSDE.Markovian_12DLorenz.recursive_Markovian_PostMeanScore_12DLorenz_Chaos_T256_H05_tl_110data_StbleTgt import get_config as config12\n",
    "from configs.RecursiveVPSDE.Markovian_40DLorenz.recursive_Markovian_PostMeanScore_40DLorenz_Chaos_T256_H05_tl_110data_StbleTgt import get_config as config40\n",
    "import matplotlib.pyplot as plt\n",
    "import numpy as np\n",
    "from utils.resource_logger import wallclock_and_system_metrics"
   ]
  },
  {
   "cell_type": "code",
   "execution_count": 9,
   "outputs": [
    {
     "data": {
      "text/plain": "array([2.81838293e-04, 3.72125692e-04, 4.91336820e-04, 6.48737444e-04,\n       8.56561639e-04, 1.13096268e-03, 1.49326859e-03, 1.97163984e-03,\n       2.60325818e-03, 3.43721657e-03, 4.53833501e-03, 5.99219871e-03,\n       7.91181023e-03, 1.04463727e-02, 1.37928868e-02, 1.82114627e-02,\n       2.40455371e-02, 3.17485677e-02, 4.19192779e-02, 5.53481932e-02,\n       7.30790854e-02, 9.64901005e-02, 1.27400876e-01, 1.68213973e-01,\n       2.22101619e-01, 2.93252268e-01, 3.87196154e-01, 5.11235131e-01,\n       6.75010215e-01, 8.91250938e-01])"
     },
     "execution_count": 9,
     "metadata": {},
     "output_type": "execute_result"
    }
   ],
   "source": [
    "np.logspace(-3.55, -0.05, 30)"
   ],
   "metadata": {
    "collapsed": false
   }
  },
  {
   "cell_type": "code",
   "execution_count": 8,
   "outputs": [
    {
     "ename": "FileNotFoundError",
     "evalue": "[Errno 2] No such file or directory: '/Users/marcos/GitHubRepos/FractionalBrownianMotion/src/generative_modelling/resource_logging/trained_rec_PM_ST_0010FTh_MLP_2LFac_NSTgtNFMReg_8DLnz_125e+00FConst_VPSDE_T256_Ndiff10000_Tdiff1000e+00_DiffEmbSz64_ResLay10_ResChan8_DiffHdnSz64_TrueHybd_TrueWghts_t00_dT3906e-03_MLP_H4_CUp20_tl110.json.json'",
     "output_type": "error",
     "traceback": [
      "\u001B[0;31m---------------------------------------------------------------------------\u001B[0m",
      "\u001B[0;31mFileNotFoundError\u001B[0m                         Traceback (most recent call last)",
      "Cell \u001B[0;32mIn[8], line 1\u001B[0m\n\u001B[0;32m----> 1\u001B[0m nad8, nad12, nad20, nad40 \u001B[38;5;241m=\u001B[39m \u001B[43mwallclock_and_system_metrics\u001B[49m\u001B[43m(\u001B[49m\u001B[43mconfig8\u001B[49m\u001B[43m(\u001B[49m\u001B[43m)\u001B[49m\u001B[38;5;241;43m.\u001B[39;49m\u001B[43mnadaraya_resource_logging_path\u001B[49m\u001B[43m,\u001B[49m\u001B[43m \u001B[49m\u001B[43minclusive\u001B[49m\u001B[38;5;241;43m=\u001B[39;49m\u001B[38;5;28;43;01mFalse\u001B[39;49;00m\u001B[43m)\u001B[49m, wallclock_and_system_metrics(config12()\u001B[38;5;241m.\u001B[39mnadaraya_resource_logging_path, inclusive\u001B[38;5;241m=\u001B[39m\u001B[38;5;28;01mFalse\u001B[39;00m), wallclock_and_system_metrics(config20()\u001B[38;5;241m.\u001B[39mnadaraya_resource_logging_path, inclusive\u001B[38;5;241m=\u001B[39m\u001B[38;5;28;01mFalse\u001B[39;00m), wallclock_and_system_metrics(config40()\u001B[38;5;241m.\u001B[39mnadaraya_resource_logging_path, inclusive\u001B[38;5;241m=\u001B[39m\u001B[38;5;28;01mFalse\u001B[39;00m)\n",
      "File \u001B[0;32m~/GitHubRepos/FractionalBrownianMotion/utils/resource_logger.py:356\u001B[0m, in \u001B[0;36mwallclock_and_system_metrics\u001B[0;34m(run_json_or_path, inclusive)\u001B[0m\n\u001B[1;32m    355\u001B[0m \u001B[38;5;28;01mdef\u001B[39;00m \u001B[38;5;21mwallclock_and_system_metrics\u001B[39m(run_json_or_path, inclusive\u001B[38;5;241m=\u001B[39m\u001B[38;5;28;01mFalse\u001B[39;00m):\n\u001B[0;32m--> 356\u001B[0m     r \u001B[38;5;241m=\u001B[39m \u001B[43m_load\u001B[49m\u001B[43m(\u001B[49m\u001B[43mrun_json_or_path\u001B[49m\u001B[43m)\u001B[49m\n\u001B[1;32m    358\u001B[0m     \u001B[38;5;66;03m# total wall-clock [h]\u001B[39;00m\n\u001B[1;32m    359\u001B[0m     wall_s \u001B[38;5;241m=\u001B[39m r\u001B[38;5;241m.\u001B[39mget(\u001B[38;5;124m\"\u001B[39m\u001B[38;5;124mwall_clock_sec\u001B[39m\u001B[38;5;124m\"\u001B[39m) \u001B[38;5;129;01mor\u001B[39;00m (\u001B[38;5;28mfloat\u001B[39m(r[\u001B[38;5;124m\"\u001B[39m\u001B[38;5;124mend_time\u001B[39m\u001B[38;5;124m\"\u001B[39m]) \u001B[38;5;241m-\u001B[39m \u001B[38;5;28mfloat\u001B[39m(r[\u001B[38;5;124m\"\u001B[39m\u001B[38;5;124mstart_time\u001B[39m\u001B[38;5;124m\"\u001B[39m]))\n",
      "File \u001B[0;32m~/GitHubRepos/FractionalBrownianMotion/utils/resource_logger.py:350\u001B[0m, in \u001B[0;36m_load\u001B[0;34m(run)\u001B[0m\n\u001B[1;32m    348\u001B[0m \u001B[38;5;28;01mdef\u001B[39;00m \u001B[38;5;21m_load\u001B[39m(run):\n\u001B[1;32m    349\u001B[0m     \u001B[38;5;28;01mif\u001B[39;00m \u001B[38;5;28misinstance\u001B[39m(run, \u001B[38;5;28mdict\u001B[39m): \u001B[38;5;28;01mreturn\u001B[39;00m run\n\u001B[0;32m--> 350\u001B[0m     \u001B[38;5;28;01mwith\u001B[39;00m \u001B[38;5;28;43mopen\u001B[39;49m\u001B[43m(\u001B[49m\u001B[43mrun\u001B[49m\u001B[43m,\u001B[49m\u001B[43m \u001B[49m\u001B[38;5;124;43m\"\u001B[39;49m\u001B[38;5;124;43mr\u001B[39;49m\u001B[38;5;124;43m\"\u001B[39;49m\u001B[43m)\u001B[49m \u001B[38;5;28;01mas\u001B[39;00m f: \u001B[38;5;28;01mreturn\u001B[39;00m json\u001B[38;5;241m.\u001B[39mload(f)\n",
      "\u001B[0;31mFileNotFoundError\u001B[0m: [Errno 2] No such file or directory: '/Users/marcos/GitHubRepos/FractionalBrownianMotion/src/generative_modelling/resource_logging/trained_rec_PM_ST_0010FTh_MLP_2LFac_NSTgtNFMReg_8DLnz_125e+00FConst_VPSDE_T256_Ndiff10000_Tdiff1000e+00_DiffEmbSz64_ResLay10_ResChan8_DiffHdnSz64_TrueHybd_TrueWghts_t00_dT3906e-03_MLP_H4_CUp20_tl110.json.json'"
     ]
    }
   ],
   "source": [
    "nad8, nad12, nad20, nad40 = wallclock_and_system_metrics(config8().nadaraya_resource_logging_path, inclusive=False), wallclock_and_system_metrics(config12().nadaraya_resource_logging_path, inclusive=False), wallclock_and_system_metrics(config20().nadaraya_resource_logging_path, inclusive=False), wallclock_and_system_metrics(config40().nadaraya_resource_logging_path, inclusive=False)\n"
   ],
   "metadata": {
    "collapsed": false
   }
  },
  {
   "cell_type": "code",
   "execution_count": null,
   "outputs": [],
   "source": [
    "score8, score12, score20, score40 = wallclock_and_system_metrics(config8().resource_logging_path, inclusive=False), wallclock_and_system_metrics(config12().resource_logging_path, inclusive=False), wallclock_and_system_metrics(config20().resource_logging_path, inclusive=False), wallclock_and_system_metrics(config40().resource_logging_path, inclusive=False)\n"
   ],
   "metadata": {
    "collapsed": false
   }
  },
  {
   "cell_type": "code",
   "execution_count": null,
   "outputs": [],
   "source": [
    "dims = [8, 12, 20, 40]"
   ],
   "metadata": {
    "collapsed": false
   }
  },
  {
   "cell_type": "code",
   "execution_count": null,
   "outputs": [],
   "source": [
    "from matplotlib.ticker import MaxNLocator, MultipleLocator, FormatStrFormatter\n",
    "\n",
    "fig, ax = plt.subplots(figsize=(14,9))\n",
    "#plt.scatter(dims, [nad8[\"wall_clock_per_unit_h\"], nad12[\"wall_clock_per_unit_h\"], nad20[\"wall_clock_per_unit_h\"], nad40[\"wall_clock_per_unit_h\"]],s=300, label=\"Nadaraya\")\n",
    "plt.scatter(dims, [score8[\"wall_clock_per_unit_h\"], score12[\"wall_clock_per_unit_h\"], score20[\"wall_clock_per_unit_h\"],score40[\"wall_clock_per_unit_h\"]], label=\"Score\", s=300)\n",
    "plt.title(rf\"Average Wall Clock Time\",fontsize=40)\n",
    "plt.grid(True)\n",
    "plt.yscale(\"log\")\n",
    "ax.tick_params(labelsize=38)\n",
    "ax.xaxis.set_major_locator(MaxNLocator(integer=True))\n",
    "plt.ylabel(r\"hours\", fontsize=38)\n",
    "plt.xlabel(\"Drift Dimension\", fontsize=38)\n",
    "plt.legend(fontsize=24)\n",
    "plt.show()"
   ],
   "metadata": {
    "collapsed": false
   }
  },
  {
   "cell_type": "code",
   "execution_count": null,
   "outputs": [],
   "source": [
    "from matplotlib.ticker import MaxNLocator, MultipleLocator, FormatStrFormatter\n",
    "\n",
    "fig, ax = plt.subplots(figsize=(14,9))\n",
    "#plt.scatter(dims, [nad8[\"ram_avg_gib\"], nad12[\"ram_avg_gib\"], nad20[\"ram_avg_gib\"], nad40[\"ram_avg_gib\"]],s=300, label=\"Nadaraya\")\n",
    "plt.scatter(dims, [score8[\"gpu_mem_avg_gib\"]+score8[\"ram_avg_gib\"], score12[\"gpu_mem_avg_gib\"]+score12[\"ram_avg_gib\"], score20[\"gpu_mem_avg_gib\"]+score20[\"ram_avg_gib\"], score40[\"gpu_mem_avg_gib\"]+score40[\"ram_avg_gib\"]], label=\"Score\", s=300)\n",
    "plt.title(rf\"Average Memory Usage\",fontsize=40)\n",
    "plt.grid(True)\n",
    "ax.tick_params(labelsize=38)\n",
    "ax.xaxis.set_major_locator(MaxNLocator(integer=True))\n",
    "plt.ylabel(r\"GiB\", fontsize=38)\n",
    "plt.xlabel(\"Drift Dimension\", fontsize=38)\n",
    "plt.legend(fontsize=24)\n",
    "plt.show()"
   ],
   "metadata": {
    "collapsed": false
   }
  },
  {
   "cell_type": "code",
   "execution_count": null,
   "outputs": [],
   "source": [],
   "metadata": {
    "collapsed": false
   }
  }
 ],
 "metadata": {
  "kernelspec": {
   "display_name": "Python 3",
   "language": "python",
   "name": "python3"
  },
  "language_info": {
   "codemirror_mode": {
    "name": "ipython",
    "version": 2
   },
   "file_extension": ".py",
   "mimetype": "text/x-python",
   "name": "python",
   "nbconvert_exporter": "python",
   "pygments_lexer": "ipython2",
   "version": "2.7.6"
  }
 },
 "nbformat": 4,
 "nbformat_minor": 0
}
