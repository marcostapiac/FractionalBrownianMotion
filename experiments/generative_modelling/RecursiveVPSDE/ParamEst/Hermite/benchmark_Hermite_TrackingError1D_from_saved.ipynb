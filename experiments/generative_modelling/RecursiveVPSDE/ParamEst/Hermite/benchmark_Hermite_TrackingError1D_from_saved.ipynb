{
 "cells": [
  {
   "cell_type": "code",
   "execution_count": null,
   "metadata": {
    "collapsed": true
   },
   "outputs": [],
   "source": [
    "%load_ext autoreload\n",
    "%autoreload 2\n",
    "import os\n",
    "from configs import project_config\n",
    "import matplotlib.pyplot as plt\n",
    "import numpy as np\n",
    "from configs.RecursiveVPSDE.Markovian_fQuadSinHF.recursive_Markovian_PostMeanScore_fQuadSinHF2_LowFTh_T256_H05_tl_110data_StbleTgt import get_config\n",
    "#from configs.RecursiveVPSDE.Markovian_fSinLog.recursive_Markovian_PostMeanScore_fSinLog_LowFTh_T256_H05_tl_110data_StbleTgt import get_config\n",
    "#from configs.RecursiveVPSDE.Markovian_fBiPot.recursive_Markovian_PostMeanScore_fBiPot_LowFTh_T256_H05_tl_110data_StbleTgt import get_config"
   ]
  },
  {
   "cell_type": "code",
   "execution_count": null,
   "outputs": [],
   "source": [
    "from IPython.core.magic import register_cell_magic\n",
    "\n",
    "@register_cell_magic\n",
    "def skip(line, cell):\n",
    "    return"
   ],
   "metadata": {
    "collapsed": false
   }
  },
  {
   "cell_type": "code",
   "execution_count": null,
   "outputs": [],
   "source": [
    "config = get_config()\n",
    "assert config.deltaT == 1./256\n",
    "num_paths = 10240\n",
    "root_dir =\"/Users/marcos/Library/CloudStorage/OneDrive-ImperialCollegeLondon/StatML_CDT/Year2/DiffusionModels/\"\n",
    "hermite_dir = root_dir + \"ExperimentResults/Hermite/\""
   ],
   "metadata": {
    "collapsed": false
   }
  },
  {
   "cell_type": "code",
   "execution_count": null,
   "outputs": [],
   "source": [
    "def rmse_ignore_nans(y_true, y_pred):\n",
    "    assert (y_true.shape == y_pred.shape and len(y_pred.shape) == 1)\n",
    "    y_true = y_true.flatten()\n",
    "    y_pred = y_pred.flatten()\n",
    "    mask = ~np.isnan(y_true) & ~np.isnan(y_pred)  # Ignore NaNs in both arrays\n",
    "    return (np.mean((y_true[mask] - y_pred[mask]) ** 2))"
   ],
   "metadata": {
    "collapsed": false
   }
  },
  {
   "cell_type": "code",
   "execution_count": null,
   "outputs": [],
   "source": [
    "if \"fQuadSin\" in config.data_path:\n",
    "    minx = -1.5\n",
    "    assert config.sin_space_scale == 25.\n",
    "    ts_type = \"fQuadSin2\"\n",
    "    label = \"$\\mu_{2}$\"\n",
    "    dirname = \"QuadSinHF2\"\n",
    "    include = (f\"{config.deltaT:.3e}dT_{config.quad_coeff}a_{config.sin_coeff}b_{config.sin_space_scale}c\").replace(\n",
    "        \".\", \"\")\n",
    "elif \"fSinLog\" in config.data_path:\n",
    "    minx = -1.5\n",
    "    ts_type = \"fSinLog\"\n",
    "    label = \"$\\mu_{1}$\"\n",
    "    dirname = \"SinLog\"\n",
    "    include = (f\"{config.deltaT:.3e}dT_{config.log_space_scale}b_{config.sin_space_scale}c\").replace(\n",
    "        \".\", \"\")\n",
    "elif \"fBiPot\" in config.data_path:\n",
    "    minx = -1.5\n",
    "    ts_type = \"fBiPot\"\n",
    "    label = \"$\\mu_{3}$\"\n",
    "    dirname = \"BiPot\"\n",
    "    include = (f\"{config.deltaT:.3e}dT_{config.quartic_coeff}a_{config.quad_coeff}b_{config.const}c\").replace(\n",
    "        \".\", \"\")\n",
    "maxx = -minx\n",
    "print(ts_type)"
   ],
   "metadata": {
    "collapsed": false
   }
  },
  {
   "cell_type": "code",
   "execution_count": null,
   "outputs": [],
   "source": [
    "import os\n",
    "keepfiles = []\n",
    "if ts_type == \"fSinLog\":\n",
    "    dir = hermite_dir + \"SinLog/\"\n",
    "elif ts_type == \"fQuadSin2\":\n",
    "    dir = hermite_dir + \"QuadSinHF2/\"\n",
    "elif ts_type == \"fBiPot\":\n",
    "    dir = hermite_dir + \"BiPot/\"\n",
    "def extract_R_number(s):\n",
    "    match = s.split(\"/\")[-1].split(\"_\")[3][0]\n",
    "    return int(match)"
   ],
   "metadata": {
    "collapsed": false
   }
  },
  {
   "cell_type": "code",
   "execution_count": null,
   "outputs": [],
   "source": [
    "for file in os.listdir(dir):\n",
    "    print(file)\n",
    "    if \"Hermite\" in file and ts_type[:-1] in file and include in file and \"DriftEvalExp\" in file:\n",
    "        keepfiles.append(dir+file)\n",
    "print(len(keepfiles), ts_type)\n",
    "assert len(keepfiles)>0, \"No files found\"\n",
    "keepfiles = sorted(keepfiles, key=extract_R_number)\n",
    "Rs = [extract_R_number(f) for f in keepfiles]\n",
    "Xshape = np.load(keepfiles[0]).shape[1]\n",
    "print(keepfiles, Xshape)"
   ],
   "metadata": {
    "collapsed": false
   }
  },
  {
   "cell_type": "code",
   "execution_count": null,
   "outputs": [],
   "source": [
    "vispaths = np.linspace(minx, maxx, Xshape)\n",
    "if \"QuadSin\" in config.data_path:\n",
    "    is_true_drift = -2.*config.quad_coeff * vispaths.flatten() + config.sin_coeff * config.sin_space_scale*np.sin(config.sin_space_scale*vispaths.flatten())\n",
    "elif \"fSinLog\" in config.data_path:\n",
    "    is_true_drift = (-np.sin(config.sin_space_scale*vispaths)*np.log(1+config.log_space_scale*np.abs(vispaths))/config.sin_space_scale).flatten()\n",
    "elif \"BiPot\" in config.data_path:\n",
    "    is_true_drift = -(4.*config.quartic_coeff * np.power(vispaths, 3) + 2.*config.quad_coeff * vispaths + config.const).flatten()\n",
    "print(ts_type)"
   ],
   "metadata": {
    "collapsed": false
   }
  },
  {
   "cell_type": "code",
   "execution_count": null,
   "outputs": [],
   "source": [
    "curr_mse = np.inf\n",
    "toSave = True\n",
    "for f_idx in range(len(keepfiles)):\n",
    "    R = Rs[f_idx]\n",
    "    f = keepfiles[f_idx]\n",
    "    print(R)\n",
    "    try:\n",
    "        is_drift = np.load(f).flatten()\n",
    "        mse = (rmse_ignore_nans(is_true_drift, is_drift))\n",
    "        if mse < curr_mse:\n",
    "            curr_mse = mse\n",
    "            fig, ax = plt.subplots(figsize=(14,9))\n",
    "            plt.scatter(vispaths, is_true_drift,label=\"True Drift\", color=\"red\")\n",
    "            plt.scatter(vispaths, is_drift, label=\"Estimated Drift\", color=\"blue\")\n",
    "            plt.legend(fontsize=18)\n",
    "            plt.title(rf\"Hermite Estimator for {label}\", fontsize=40)\n",
    "            ax.tick_params(labelsize=38)\n",
    "            plt.ylabel(\"Drift Value\", fontsize=48)\n",
    "            plt.xlabel(r\"State $X$\", fontsize=48)\n",
    "            plt.legend(fontsize=24)\n",
    "            plt.grid(True)\n",
    "            plt.tight_layout()\n",
    "            if toSave:\n",
    "                plt.savefig(root_dir + f\"DiffusionModelPresentationImages/Hermite/{dirname}/Hermite_{ts_type}_DriftEvalExp_{R}R\".replace(\".\",\"\")+\".png\",  bbox_inches='tight')\n",
    "            print(f\"MSE for {R} is {curr_mse}\")\n",
    "            plt.show()\n",
    "            plt.close()\n",
    "    except ValueError as e:\n",
    "        plt.close()\n",
    "        continue\n"
   ],
   "metadata": {
    "collapsed": false
   }
  },
  {
   "cell_type": "code",
   "execution_count": null,
   "outputs": [],
   "source": [
    "def get_drifttrack_files(config, dir):\n",
    "    include = (f\"_{num_paths}NPaths_{config.t0}t0_{config.deltaT:.3e}dT_\").replace(\".\", \"\")\n",
    "    true_files = []\n",
    "    local_files = []\n",
    "    for file in os.listdir(dir):\n",
    "        if \"QuadSin\" in ts_type:\n",
    "            if \"Hermite\" in file and  \"DriftTrack\" in file and ts_type[:-1] in file and include in file and f\"{config.sin_space_scale}c\".replace(\".\", \"\") in file:\n",
    "                print(file)\n",
    "                if \"true\" in file:\n",
    "                    true_files.append(dir+file)\n",
    "                elif \"global\" in file:\n",
    "                    local_files.append(dir+file)\n",
    "        else:\n",
    "            if \"Hermite\" in file and  \"DriftTrack\" in file and ts_type[:-1] in file and include in file:\n",
    "                print(file)\n",
    "                if \"true\" in file:\n",
    "                    true_files.append(dir+file)\n",
    "                elif \"global\" in file:\n",
    "                    local_files.append(dir+file)\n",
    "    assert len(true_files)>0, \"No true files found\"\n",
    "    assert len(local_files)>0, \"No local files found\"\n",
    "    assert (len(true_files) == len(local_files))\n",
    "    true_files = sorted(true_files, key=extract_R_number)\n",
    "    local_files = sorted(local_files, key=extract_R_number)\n",
    "    Rs = [extract_R_number(f) for f in true_files]\n",
    "    return true_files, local_files, Rs"
   ],
   "metadata": {
    "collapsed": false
   }
  },
  {
   "cell_type": "code",
   "execution_count": null,
   "outputs": [],
   "source": [
    "config = get_config()\n",
    "true_files, local_files, Rs = get_drifttrack_files(config=config, dir=dir)\n",
    "local_files"
   ],
   "metadata": {
    "collapsed": false
   }
  },
  {
   "cell_type": "code",
   "execution_count": null,
   "outputs": [],
   "source": [
    "curr_mse = np.inf\n",
    "toSave = True\n",
    "i = 0\n",
    "for file in zip(*[true_files, local_files, Rs]):\n",
    "    R = file[-1]\n",
    "    all_true_states = np.load(file[0])\n",
    "    all_local_states = np.load(file[1])\n",
    "    if (len(all_true_states.shape) == len(all_local_states.shape) == 4):\n",
    "        all_global_errors = np.sum(np.power(all_true_states- all_local_states,2), axis=-1)\n",
    "        all_global_errors=all_global_errors.reshape(-1, all_global_errors.shape[-1])            # (K, N, T)\n",
    "        total_local_errors = np.sqrt(np.mean(all_global_errors, axis=(0)))/np.sqrt(time_steps)\n",
    "        all_paths_err = np.sqrt(all_global_errors)/np.sqrt(time_steps)\n",
    "        total_local_errors[total_local_errors==np.inf] = 0.\n",
    "        all_paths_err[all_paths_err==np.inf] = 0.\n",
    "        total_local_errors_minq, total_local_errors_maxq  = np.quantile(all_paths_err, q=[0.005, 0.995], axis=0) # (T,)\n",
    "        print(R, total_local_errors[-1], (total_local_errors_minq[-1], total_local_errors_maxq[-1]), curr_mse)\n",
    "        i += 1\n",
    "        if total_local_errors[-1]  < curr_mse:\n",
    "            time_steps = np.linspace(config.t0,config.deltaT*total_local_errors.shape[0],total_local_errors.shape[0])\n",
    "            curr_mse = total_local_errors[-1]\n",
    "            fig, ax = plt.subplots(figsize=(14,9))\n",
    "            plt.grid(True)\n",
    "            ax.scatter(time_steps, total_local_errors)\n",
    "            plt.fill_between(time_steps,y1=total_local_errors_minq, y2=total_local_errors_maxq, color=\"blue\", alpha=0.4)\n",
    "            ax.set_title(rf\"Pathwise RMSE for Hermite Estimator for {label}\",fontsize=40)\n",
    "            plt.tight_layout()\n",
    "            ax.set_xlabel(\"Time Axis\", fontsize=38)\n",
    "            ax.tick_params(labelsize=38)\n",
    "\n",
    "            fig.canvas.draw()\n",
    "            # Get the offset text (e.g., '1e-5')\n",
    "            offset_text = ax.yaxis.get_offset_text().get_text()\n",
    "\n",
    "            # Remove the offset text from the axis\n",
    "            ax.yaxis.get_offset_text().set_visible(False)\n",
    "\n",
    "            # Inject the scale into the y-axis label\n",
    "            if offset_text:\n",
    "                ax.set_ylabel(f'RMSE ({offset_text})', fontsize=38)\n",
    "            else:\n",
    "                ax.set_ylabel('RMSE', fontsize=38)\n",
    "            plt.tight_layout()\n",
    "            if toSave:\n",
    "                plt.savefig((f\"/Users/marcos/Library/CloudStorage/OneDrive-ImperialCollegeLondon/StatML_CDT/Year2/DiffusionModels/DiffusionModelPresentationImages/Hermite/{dirname}/Hermite_{ts_type}_DriftTrack_{R}R_{round(total_local_errors_minq[-1], 8)}_MinIQR_{round(total_local_errors_maxq[-1], 8)}_MaxIQR\").replace(\".\", \"\")+\".png\")\n",
    "            plt.show()\n",
    "            plt.close()\n",
    "            print(f\"Final time cumulative MSE local-time error {total_local_errors[-1]} with IQR ({total_local_errors_minq[-1], total_local_errors_maxq[-1]})at R {R}\\n\")"
   ],
   "metadata": {
    "collapsed": false
   }
  },
  {
   "cell_type": "code",
   "execution_count": null,
   "outputs": [],
   "source": [],
   "metadata": {
    "collapsed": false
   }
  },
  {
   "cell_type": "code",
   "execution_count": null,
   "outputs": [],
   "source": [],
   "metadata": {
    "collapsed": false
   }
  }
 ],
 "metadata": {
  "kernelspec": {
   "display_name": "Python 3",
   "language": "python",
   "name": "python3"
  },
  "language_info": {
   "codemirror_mode": {
    "name": "ipython",
    "version": 2
   },
   "file_extension": ".py",
   "mimetype": "text/x-python",
   "name": "python",
   "nbconvert_exporter": "python",
   "pygments_lexer": "ipython2",
   "version": "2.7.6"
  }
 },
 "nbformat": 4,
 "nbformat_minor": 0
}
