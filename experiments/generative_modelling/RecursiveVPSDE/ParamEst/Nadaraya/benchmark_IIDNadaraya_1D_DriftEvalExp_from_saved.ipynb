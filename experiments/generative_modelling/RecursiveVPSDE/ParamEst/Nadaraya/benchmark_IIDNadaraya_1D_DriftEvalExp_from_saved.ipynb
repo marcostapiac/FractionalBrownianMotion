{
 "cells": [
  {
   "cell_type": "code",
   "execution_count": null,
   "metadata": {
    "collapsed": true
   },
   "outputs": [],
   "source": [
    "%load_ext autoreload\n",
    "%autoreload 2\n",
    "import os\n",
    "import re\n",
    "import os\n",
    "from configs import project_config\n",
    "import matplotlib.pyplot as plt\n",
    "import numpy as np\n",
    "from configs.RecursiveVPSDE.Markovian_fQuadSinHF.recursive_Markovian_PostMeanScore_fQuadSinHF2_LowFTh_T256_H05_tl_110data_StbleTgt import get_config\n",
    "#from configs.RecursiveVPSDE.Markovian_fSinLog.recursive_Markovian_PostMeanScore_fSinLog_LowFTh_T256_H05_tl_110data_StbleTgt import get_config\n",
    "#from configs.RecursiveVPSDE.Markovian_fBiPot.recursive_Markovian_PostMeanScore_fBiPot_LowFTh_T256_H05_tl_110data_StbleTgt import get_config"
   ]
  },
  {
   "cell_type": "code",
   "execution_count": null,
   "outputs": [],
   "source": [
    "config = get_config()\n",
    "root_dir = \"/Users/marcos/Library/CloudStorage/OneDrive-ImperialCollegeLondon/StatML_CDT/Year2/DiffusionModels/\"\n",
    "assert config.deltaT == 1./256\n",
    "num_paths = 10240"
   ],
   "metadata": {
    "collapsed": false
   }
  },
  {
   "cell_type": "code",
   "execution_count": null,
   "outputs": [],
   "source": [
    "def rmse_ignore_nans(y_true, y_pred):\n",
    "    assert (y_true.shape == y_pred.shape and len(y_pred.shape) == 1)\n",
    "    y_true = y_true.flatten()\n",
    "    y_pred = y_pred.flatten()\n",
    "    mask = ~np.isnan(y_true) & ~np.isnan(y_pred)  # Ignore NaNs in both arrays\n",
    "    return (np.mean((y_true[mask] - y_pred[mask]) ** 2))"
   ],
   "metadata": {
    "collapsed": false
   }
  },
  {
   "cell_type": "code",
   "execution_count": null,
   "outputs": [],
   "source": [
    "if \"fQuadSin\" in config.data_path:\n",
    "    minx = -1.5\n",
    "    assert config.sin_space_scale == 25.\n",
    "    ts_type = \"fQuadSin2\"\n",
    "    include = (f\"{config.deltaT:.3e}dT_{config.quad_coeff}a_{config.sin_coeff}b_{config.sin_space_scale}c\").replace(\n",
    "        \".\", \"\")\n",
    "    root_nadaraya_dir = root_dir + f\"ExperimentResults/Nadaraya/QuadSinHF2/\"\n",
    "elif \"fSinLog\" in config.data_path:\n",
    "    minx = -1.5\n",
    "    ts_type = \"fSinLog\"\n",
    "    include = (f\"{config.deltaT:.3e}dT_{config.log_space_scale}b_{config.sin_space_scale}c\").replace(\n",
    "        \".\", \"\")\n",
    "    root_nadaraya_dir = root_dir + f\"ExperimentResults/Nadaraya/SinLog/\"\n",
    "elif \"fBiPot\" in config.data_path:\n",
    "    minx = -1.5\n",
    "    ts_type = \"fBiPot\"\n",
    "    include = (f\"{config.deltaT:.3e}dT_{config.quartic_coeff}a_{config.quad_coeff}b_{config.const}c\").replace(\n",
    "        \".\", \"\")\n",
    "    root_nadaraya_dir = root_dir + f\"ExperimentResults/Nadaraya/BiPot/\"\n",
    "\n",
    "maxx = -minx\n",
    "print(ts_type)"
   ],
   "metadata": {
    "collapsed": false
   }
  },
  {
   "cell_type": "code",
   "execution_count": null,
   "outputs": [],
   "source": [
    "keepfiles = []\n",
    "for file in os.listdir(root_nadaraya_dir):\n",
    "    if \"IIDNadaraya\" in file and ts_type[:-1] in file and include in file and \"DriftEvalExp\" in file:\n",
    "        keepfiles.append(root_nadaraya_dir+file)\n",
    "print(len(keepfiles), ts_type)\n",
    "assert len(keepfiles)>0, \"No files found\"\n",
    "def extract_bw_number(s):\n",
    "    match = s.split(\"/\")[-1].split(\"_\")[3][:-2]\n",
    "    return float(\"0.\" + match)\n",
    "\n",
    "\n",
    "keepfiles = sorted(keepfiles, key=extract_bw_number)\n",
    "bws = [extract_bw_number(f) for f in keepfiles]\n",
    "Xshape = np.load(keepfiles[0]).shape[0]\n",
    "print(keepfiles)"
   ],
   "metadata": {
    "collapsed": false
   }
  },
  {
   "cell_type": "code",
   "execution_count": null,
   "outputs": [],
   "source": [
    "vispaths = np.linspace(minx, maxx, Xshape)\n",
    "if \"QuadSin\" in config.data_path:\n",
    "    print(config.quad_coeff, config.sin_coeff, config.sin_space_scale, config.deltaT)\n",
    "    is_true_drift = -2.*config.quad_coeff * vispaths.flatten() + config.sin_coeff * config.sin_space_scale*np.sin(config.sin_space_scale*vispaths.flatten())\n",
    "    label = \"$\\mu_{2}$\"\n",
    "    dirname = \"QuadSinHF2\"\n",
    "elif \"BiPot\" in config.data_path:\n",
    "    is_true_drift = -(4.*config.quartic_coeff * np.power(vispaths, 3) + 2.*config.quad_coeff * vispaths + config.const).flatten()\n",
    "    label = \"$\\mu_{3}$\"\n",
    "    dirname = \"BiPot\"\n",
    "elif \"SinLog\" in config.data_path:\n",
    "    is_true_drift = (-np.sin(config.sin_space_scale*vispaths)*np.log(1+config.log_space_scale*np.abs(vispaths))/config.sin_space_scale).flatten()\n",
    "    label = \"$\\mu_{1}$\"\n",
    "    dirname = \"SinLog\"\n",
    "print(ts_type)"
   ],
   "metadata": {
    "collapsed": false
   }
  },
  {
   "cell_type": "code",
   "execution_count": null,
   "outputs": [],
   "source": [
    "curr_mse = np.inf\n",
    "toSave = True\n",
    "for f_idx in range(len(keepfiles)):\n",
    "    bw = bws[f_idx]\n",
    "    f = keepfiles[f_idx]\n",
    "    try:\n",
    "        is_drift = np.load(f).mean(axis=-1).flatten()\n",
    "        mse = (rmse_ignore_nans(is_true_drift, is_drift))\n",
    "        if mse < curr_mse:\n",
    "            curr_mse = mse\n",
    "            fig, ax = plt.subplots(figsize=(14,9))\n",
    "            plt.scatter(vispaths, is_true_drift,label=\"True Drift\", color=\"red\")\n",
    "            plt.scatter(vispaths, is_drift, label=\"Estimated Drift\", color=\"blue\")\n",
    "            plt.legend(fontsize=18)\n",
    "            plt.title(rf\"Nadaraya Estimator for {label}\", fontsize=40)\n",
    "            plt.grid(True)\n",
    "            ax.tick_params(labelsize=38)\n",
    "            plt.ylabel(\"Drift Value\", fontsize=48)\n",
    "            plt.xlabel(r\"State $X$\", fontsize=48)\n",
    "            plt.legend(fontsize=24)\n",
    "            plt.tight_layout()\n",
    "            if toSave:\n",
    "                plt.savefig(root_dir + f\"DiffusionModelPresentationImages/IIDNadaraya/{dirname}/IIDNadaraya_{ts_type}_DriftEvalExp_{round(bw, 6)}bw\".replace(\".\",\"\")+\".png\",  bbox_inches='tight')\n",
    "            plt.show()\n",
    "            plt.close()\n",
    "            print(f_idx, bw, curr_mse)\n",
    "    except ValueError as e:\n",
    "        plt.close()\n",
    "        continue\n"
   ],
   "metadata": {
    "collapsed": false
   }
  },
  {
   "cell_type": "code",
   "execution_count": null,
   "outputs": [],
   "source": [
    "def get_drifttrack_files(root_nadaraya_dir, ts_type, num_paths):\n",
    "    include = (f\"_{num_paths}NPaths_{config.t0}t0_{config.deltaT:.3e}dT_\").replace(\".\", \"\")\n",
    "    true_files = []\n",
    "    local_files = []\n",
    "    for file in os.listdir(root_nadaraya_dir):\n",
    "        if \"IIDNadaraya\" in file:\n",
    "            if \"QuadSin\" in ts_type:\n",
    "                if \"DriftTrack\" in file and ts_type[:-1] in file and include in file and f\"{config.sin_space_scale}c\".replace(\".\", \"\") in file:\n",
    "                    if \"true\" in file:\n",
    "                        true_files.append(root_nadaraya_dir+file)\n",
    "                    elif \"global\" in file:\n",
    "                        local_files.append(root_nadaraya_dir+file)\n",
    "            else:\n",
    "                if \"DriftTrack\" in file and ts_type[:-1] in file and include in file:\n",
    "                    if \"true\" in file:\n",
    "                        true_files.append(root_nadaraya_dir+file)\n",
    "                    elif \"global\" in file:\n",
    "                        local_files.append(root_nadaraya_dir+file)\n",
    "    assert len(true_files)>0, \"No true files found\"\n",
    "    assert len(local_files)>0, \"No local files found\"\n",
    "    assert (len(true_files) == len(local_files))\n",
    "    def extract_bw_number(s):\n",
    "        match = s.split(\"/\")[-1].split(\"_\")[3][:-2]\n",
    "        return float(\"0.\" + match)\n",
    "    true_files = sorted(true_files, key=extract_bw_number)\n",
    "    local_files = sorted(local_files, key=extract_bw_number)\n",
    "    bws = [extract_bw_number(f) for f in true_files]\n",
    "    bws_local = [extract_bw_number(f) for f in local_files]\n",
    "    assert np.all(bws==bws_local)\n",
    "    return true_files, local_files, bws"
   ],
   "metadata": {
    "collapsed": false
   }
  },
  {
   "cell_type": "code",
   "execution_count": null,
   "outputs": [],
   "source": [
    "true_files, local_files, bws = get_drifttrack_files(root_nadaraya_dir=root_nadaraya_dir, ts_type=ts_type, num_paths=num_paths)\n",
    "local_files, len(bws)"
   ],
   "metadata": {
    "collapsed": false
   }
  },
  {
   "cell_type": "code",
   "execution_count": null,
   "outputs": [],
   "source": [
    "curr_mse = np.inf\n",
    "toSave = True\n",
    "i = 0\n",
    "for file in zip(*[true_files, local_files, bws]):\n",
    "    bw = file[-1]\n",
    "    all_true_states = np.load(file[0])\n",
    "    all_local_states = np.load(file[1])\n",
    "    if all_local_states.shape[0] != 2: continue\n",
    "    if (len(all_true_states.shape) == len(all_local_states.shape) == 4):\n",
    "        time_steps = np.linspace(config.t0,config.deltaT*all_true_states.shape[2],all_true_states.shape[2])\n",
    "        all_global_errors = np.sum(np.power(all_true_states- all_local_states,2), axis=-1)\n",
    "        all_global_errors=all_global_errors.reshape(-1, all_global_errors.shape[-1])            # (K, N, T)\n",
    "        total_local_errors = np.sqrt(np.mean(all_global_errors, axis=(0)))/np.sqrt(time_steps)\n",
    "        all_paths_err = np.sqrt(all_global_errors)/np.sqrt(time_steps)\n",
    "        total_local_errors[total_local_errors==np.inf] = 0.\n",
    "        all_paths_err[all_paths_err==np.inf] = 0.\n",
    "        total_local_errors_minq, total_local_errors_maxq  = np.quantile(all_paths_err, q=[0.005, 0.995], axis=0) # (T,)\n",
    "        print(total_local_errors[-1], bw, curr_mse)\n",
    "        i += 1\n",
    "        if i == 1: continue\n",
    "        if total_local_errors[-1]  < curr_mse:\n",
    "            curr_mse = total_local_errors[-1]\n",
    "            fig, ax = plt.subplots(figsize=(14,9))\n",
    "            plt.grid(True)\n",
    "            ax.scatter(time_steps, total_local_errors)\n",
    "            plt.fill_between(time_steps,y1=total_local_errors_minq, y2=total_local_errors_maxq, color=\"blue\", alpha=0.4)\n",
    "            ax.set_title(f\"Pathwise RMSE for Nadaraya Estimator for {label}\",fontsize=40)\n",
    "\n",
    "            ax.set_xlabel(\"Time Axis\", fontsize=38)\n",
    "            ax.tick_params(labelsize=38)\n",
    "\n",
    "            fig.canvas.draw()\n",
    "            # Get the offset text (e.g., '1e-5')\n",
    "            offset_text = ax.yaxis.get_offset_text().get_text()\n",
    "\n",
    "            # Remove the offset text from the axis\n",
    "            ax.yaxis.get_offset_text().set_visible(False)\n",
    "\n",
    "            # Inject the scale into the y-axis label\n",
    "            if offset_text:\n",
    "                ax.set_ylabel(f'RMSE ({offset_text})', fontsize=38)\n",
    "            else:\n",
    "                ax.set_ylabel('RMSE', fontsize=38)\n",
    "            plt.tight_layout()\n",
    "            if toSave:\n",
    "                plt.savefig((root_dir + f\"DiffusionModelPresentationImages/IIDNadaraya/{dirname}/IIDNadaraya_{ts_type}_DriftTrack_{round(bw, 6)}bw_{round(total_local_errors_minq[-1], 8)}_MinIQR_{round(total_local_errors_maxq[-1], 8)}_MaxIQR\").replace(\".\", \"\")+\".png\")\n",
    "            plt.show()\n",
    "            plt.close()\n",
    "            print(f\"Final time cumulative MSE local-time error {total_local_errors[-1]} at bw {bw}\\n\")"
   ],
   "metadata": {
    "collapsed": false
   }
  },
  {
   "cell_type": "code",
   "execution_count": null,
   "outputs": [],
   "source": [
    "10**(-3.55)"
   ],
   "metadata": {
    "collapsed": false
   }
  },
  {
   "cell_type": "code",
   "execution_count": null,
   "outputs": [],
   "source": [],
   "metadata": {
    "collapsed": false
   }
  }
 ],
 "metadata": {
  "kernelspec": {
   "display_name": "Python 3",
   "language": "python",
   "name": "python3"
  },
  "language_info": {
   "codemirror_mode": {
    "name": "ipython",
    "version": 2
   },
   "file_extension": ".py",
   "mimetype": "text/x-python",
   "name": "python",
   "nbconvert_exporter": "python",
   "pygments_lexer": "ipython2",
   "version": "2.7.6"
  }
 },
 "nbformat": 4,
 "nbformat_minor": 0
}
