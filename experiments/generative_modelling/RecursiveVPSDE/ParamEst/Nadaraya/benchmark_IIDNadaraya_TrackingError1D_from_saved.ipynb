{
 "cells": [
  {
   "cell_type": "code",
   "execution_count": 25,
   "metadata": {
    "collapsed": true
   },
   "outputs": [],
   "source": [
    "import numpy as np\n",
    "import os\n",
    "import matplotlib.pyplot as plt\n",
    "from configs import project_config\n",
    "from configs.RecursiveVPSDE.LSTM_fBiPot.recursive_LSTM_PostMeanScore_fBiPot_T256_H05_tl_110data import get_config\n",
    "from configs.RecursiveVPSDE.LSTM_fQuadSinHF.recursive_LSTM_PostMeanScore_fQuadSinHF_T256_H05_tl_110data import get_config"
   ]
  },
  {
   "cell_type": "code",
   "execution_count": 26,
   "outputs": [],
   "source": [
    "num_paths = 10952"
   ],
   "metadata": {
    "collapsed": false
   }
  },
  {
   "cell_type": "code",
   "execution_count": 27,
   "outputs": [],
   "source": [
    "def get_drift_files(config):\n",
    "    ts_type = \"QuadSinHF\" if \"QuadSinHF\" in config.data_path else \"BiPot\"\n",
    "    ts_type = f\"{ts_type}\"\n",
    "    print(ts_type)\n",
    "    try:\n",
    "        include =  (f\"{config.deltaT:.3e}dT_{config.quartic_coeff}a_{config.quad_coeff}b_{config.const}c\").replace(\n",
    "            \".\", \"\")\n",
    "    except AttributeError as e:\n",
    "        include = (f\"{config.deltaT:.3e}dT_{config.quad_coeff}a_{config.sin_coeff}b_{config.sin_space_scale}c\").replace(\n",
    "        \".\", \"\")\n",
    "    root_dir = project_config.ROOT_DIR + f\"experiments/results/\"\n",
    "    global_files = []\n",
    "    true_files = []\n",
    "    local_files = []\n",
    "    for file in os.listdir(root_dir):\n",
    "        if \"IIDNadaraya\" in file and ts_type in file and include in file and \"DriftTrack\" in file:\n",
    "            if \"global\" in file:\n",
    "                global_files.append(root_dir+file)\n",
    "            elif \"true\" in file:\n",
    "                true_files.append(root_dir+file)\n",
    "            elif \"local\" in file:\n",
    "                local_files.append(root_dir+file)\n",
    "    assert len(global_files)>0, \"No global files found\"\n",
    "    assert len(true_files)>0, \"No true files found\"\n",
    "    assert len(local_files)>0, \"No local files found\"\n",
    "    assert (len(global_files) == len(true_files) == len(local_files))\n",
    "    def extract_bw_number(s):\n",
    "        match = s.split(\"/\")[-1].split(\"_\")[3][:-2]\n",
    "        return float(\"0.\" + match)\n",
    "    global_files = sorted(global_files, key=extract_bw_number)\n",
    "    true_files = sorted(true_files, key=extract_bw_number)\n",
    "    local_files = sorted(local_files, key=extract_bw_number)\n",
    "    bws = [extract_bw_number(f) for f in global_files]\n",
    "    return global_files, true_files, local_files, bws"
   ],
   "metadata": {
    "collapsed": false
   }
  },
  {
   "cell_type": "code",
   "execution_count": 28,
   "outputs": [
    {
     "name": "stdout",
     "output_type": "stream",
     "text": [
      "QuadSinHF\n"
     ]
    },
    {
     "ename": "AssertionError",
     "evalue": "No global files found",
     "output_type": "error",
     "traceback": [
      "\u001B[0;31m---------------------------------------------------------------------------\u001B[0m",
      "\u001B[0;31mAssertionError\u001B[0m                            Traceback (most recent call last)",
      "Cell \u001B[0;32mIn[28], line 2\u001B[0m\n\u001B[1;32m      1\u001B[0m config \u001B[38;5;241m=\u001B[39m get_config()\n\u001B[0;32m----> 2\u001B[0m global_files, true_files, local_files, bws \u001B[38;5;241m=\u001B[39m \u001B[43mget_drift_files\u001B[49m\u001B[43m(\u001B[49m\u001B[43mconfig\u001B[49m\u001B[38;5;241;43m=\u001B[39;49m\u001B[43mconfig\u001B[49m\u001B[43m)\u001B[49m\n\u001B[1;32m      3\u001B[0m global_files\n",
      "Cell \u001B[0;32mIn[27], line 23\u001B[0m, in \u001B[0;36mget_drift_files\u001B[0;34m(config)\u001B[0m\n\u001B[1;32m     21\u001B[0m         \u001B[38;5;28;01melif\u001B[39;00m \u001B[38;5;124m\"\u001B[39m\u001B[38;5;124mlocal\u001B[39m\u001B[38;5;124m\"\u001B[39m \u001B[38;5;129;01min\u001B[39;00m file:\n\u001B[1;32m     22\u001B[0m             local_files\u001B[38;5;241m.\u001B[39mappend(root_dir\u001B[38;5;241m+\u001B[39mfile)\n\u001B[0;32m---> 23\u001B[0m \u001B[38;5;28;01massert\u001B[39;00m \u001B[38;5;28mlen\u001B[39m(global_files)\u001B[38;5;241m>\u001B[39m\u001B[38;5;241m0\u001B[39m, \u001B[38;5;124m\"\u001B[39m\u001B[38;5;124mNo global files found\u001B[39m\u001B[38;5;124m\"\u001B[39m\n\u001B[1;32m     24\u001B[0m \u001B[38;5;28;01massert\u001B[39;00m \u001B[38;5;28mlen\u001B[39m(true_files)\u001B[38;5;241m>\u001B[39m\u001B[38;5;241m0\u001B[39m, \u001B[38;5;124m\"\u001B[39m\u001B[38;5;124mNo true files found\u001B[39m\u001B[38;5;124m\"\u001B[39m\n\u001B[1;32m     25\u001B[0m \u001B[38;5;28;01massert\u001B[39;00m \u001B[38;5;28mlen\u001B[39m(local_files)\u001B[38;5;241m>\u001B[39m\u001B[38;5;241m0\u001B[39m, \u001B[38;5;124m\"\u001B[39m\u001B[38;5;124mNo local files found\u001B[39m\u001B[38;5;124m\"\u001B[39m\n",
      "\u001B[0;31mAssertionError\u001B[0m: No global files found"
     ]
    }
   ],
   "source": [
    "config = get_config()\n",
    "global_files, true_files, local_files, bws = get_drift_files(config=config)\n",
    "global_files"
   ],
   "metadata": {
    "collapsed": false
   }
  },
  {
   "cell_type": "code",
   "execution_count": null,
   "outputs": [],
   "source": [
    "local_bw_rmses = np.inf\n",
    "for file in zip(*[true_files, global_files, local_files, bws]):\n",
    "    bw = file[-1]\n",
    "    true_states = np.load(file[0])/np.sqrt(config.deltaT)\n",
    "    global_states= np.load(file[1])/np.sqrt(config.deltaT)\n",
    "    local_states = np.load(file[2])/np.sqrt(config.deltaT)\n",
    "    local_errors = np.power(np.cumsum(np.mean(np.power(true_states- local_states,2), axis=0), axis=0), 0.5)\n",
    "    total_local_errors = np.power(np.sum(np.power(local_errors, 2), axis=1)/np.arange(1, local_errors.shape[0]+1), 0.5)\n",
    "    if total_local_errors[-1] < local_bw_rmses:\n",
    "        local_bw_rmses = total_local_errors[-1]\n",
    "        fig, ax = plt.subplots(figsize=(14,9))\n",
    "        total_local_errors = np.power(np.sum(np.power(local_errors, 2), axis=1)/np.arange(1, local_errors.shape[0]+1), 0.5)\n",
    "        ax.scatter(np.linspace(config.t0,config.deltaT*total_local_errors.shape[0],total_local_errors.shape[0]), total_local_errors)\n",
    "        ax.set_title(f\"Cumulative RMSE for Nadaraya Estimator\", fontsize=40)\n",
    "        ax.set_ylabel(\"RMSE\", fontsize=38)\n",
    "        ax.set_xlabel(\"Time Axis\", fontsize=38)\n",
    "        ax.tick_params(labelsize=38)\n",
    "        plt.tight_layout()\n",
    "        plt.show()\n",
    "        plt.close()\n",
    "        print(f\"Final time cumulative RMSE local-time error {total_local_errors[-1]} at bw {bw}\\n\")\n"
   ],
   "metadata": {
    "collapsed": false
   }
  },
  {
   "cell_type": "code",
   "execution_count": null,
   "outputs": [],
   "source": [],
   "metadata": {
    "collapsed": false
   }
  },
  {
   "cell_type": "code",
   "execution_count": null,
   "outputs": [],
   "source": [],
   "metadata": {
    "collapsed": false
   }
  }
 ],
 "metadata": {
  "kernelspec": {
   "display_name": "Python 3",
   "language": "python",
   "name": "python3"
  },
  "language_info": {
   "codemirror_mode": {
    "name": "ipython",
    "version": 2
   },
   "file_extension": ".py",
   "mimetype": "text/x-python",
   "name": "python",
   "nbconvert_exporter": "python",
   "pygments_lexer": "ipython2",
   "version": "2.7.6"
  }
 },
 "nbformat": 4,
 "nbformat_minor": 0
}
