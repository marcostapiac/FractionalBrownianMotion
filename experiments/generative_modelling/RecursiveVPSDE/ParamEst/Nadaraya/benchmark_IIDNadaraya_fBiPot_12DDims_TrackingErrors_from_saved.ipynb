{
 "cells": [
  {
   "cell_type": "code",
   "execution_count": 30,
   "metadata": {
    "collapsed": true
   },
   "outputs": [
    {
     "name": "stdout",
     "output_type": "stream",
     "text": [
      "The autoreload extension is already loaded. To reload it, use:\n",
      "  %reload_ext autoreload\n"
     ]
    }
   ],
   "source": [
    "%load_ext autoreload\n",
    "%autoreload 2\n",
    "import numpy as np\n",
    "import os\n",
    "import matplotlib.pyplot as plt\n",
    "from configs import project_config\n",
    "from configs.RecursiveVPSDE.Markovian_fBiPotDDims.recursive_Markovian_PostMeanScore_fBiPot12Dims_T256_H05_tl_110data_StbleTgt import get_config"
   ]
  },
  {
   "cell_type": "code",
   "execution_count": 31,
   "outputs": [],
   "source": [
    "num_paths = 10240\n",
    "root_dir =\"/Users/marcos/Library/CloudStorage/OneDrive-ImperialCollegeLondon/StatML_CDT/Year2/DiffusionModels/\"\n",
    "config = get_config()"
   ],
   "metadata": {
    "collapsed": false
   }
  },
  {
   "cell_type": "code",
   "execution_count": 32,
   "outputs": [],
   "source": [
    "def get_drift_files(config, root_dir):\n",
    "    ts_type = f\"{config.ndims}DDims\"\n",
    "    include = (f\"_{num_paths}NPaths_{config.t0}t0_{config.deltaT:.3e}dT_\").replace(\".\", \"\")\n",
    "    root_nadaraya_dir = root_dir + f\"ExperimentResults/Nadaraya/12DDims/\"\n",
    "    true_files = []\n",
    "    local_files = []\n",
    "    for file in os.listdir(root_nadaraya_dir):\n",
    "        print(file)\n",
    "        if \"IIDNadaraya\" in file and ts_type in file and include in file:\n",
    "            if \"true\" in file:\n",
    "                true_files.append(root_nadaraya_dir+file)\n",
    "            elif \"local\" in file:\n",
    "                local_files.append(root_nadaraya_dir+file)\n",
    "    assert len(true_files)>0, \"No true files found\"\n",
    "    assert len(local_files)>0, \"No local files found\"\n",
    "    assert (len(true_files) == len(local_files))\n",
    "    def extract_bw_number(s):\n",
    "        match = s.split(\"/\")[-1].split(\"_\")[4][:-2]\n",
    "        return float(\"0.\" + match)\n",
    "    true_files = sorted(true_files, key=extract_bw_number)\n",
    "    local_files = sorted(local_files, key=extract_bw_number)\n",
    "    bws = [extract_bw_number(f) for f in true_files]\n",
    "    return true_files, local_files, bws"
   ],
   "metadata": {
    "collapsed": false
   }
  },
  {
   "cell_type": "code",
   "execution_count": 33,
   "outputs": [
    {
     "name": "stdout",
     "output_type": "stream",
     "text": [
      "IIDNadaraya_fBiPot_12DDims_DriftTrack_0008604bw_10240NPaths_00t0_3906e-03dT_025a_-20b_00c_local_states.npy\n",
      "IIDNadaraya_fBiPot_12DDims_DriftTrack_0000305bw_10240NPaths_00t0_3906e-03dT_025a_-20b_00c_true_states.npy\n",
      "IIDNadaraya_fBiPot_12DDims_DriftTrack_0010359bw_10240NPaths_00t0_3906e-03dT_025a_-20b_00c_local_states.npy\n",
      "IIDNadaraya_fBiPot_12DDims_DriftEvalExp_0003401bw_10240NPaths_00t0_3906e-03dT_025a_-20b_00c_isdriftHats.npy\n",
      "IIDNadaraya_fBiPot_12DDims_DriftEvalExp_0012471bw_10240NPaths_00t0_3906e-03dT_025a_-20b_00c_isdriftHats.npy\n",
      "IIDNadaraya_fBiPot_12DDims_DriftEvalExp_0031549bw_10240NPaths_00t0_3906e-03dT_025a_-20b_00c_isdriftHats.npy\n",
      "IIDNadaraya_fBiPot_12DDims_DriftTrack_0007146bw_10240NPaths_00t0_3906e-03dT_025a_-20b_00c_true_states.npy\n",
      "IIDNadaraya_fBiPot_12DDims_DriftTrack_0000253bw_10240NPaths_00t0_3906e-03dT_025a_-20b_00c_global_states.npy\n",
      "IIDNadaraya_fBiPot_12DDims_DriftTrack_0000367bw_10240NPaths_00t0_3906e-03dT_025a_-20b_00c_global_states.npy\n",
      "IIDNadaraya_fBiPot_12DDims_DriftTrack_0004095bw_10240NPaths_00t0_3906e-03dT_025a_-20b_00c_local_states.npy\n",
      "IIDNadaraya_fBiPot_12DDims_DriftEvalExp_000064bw_10240NPaths_00t0_3906e-03dT_025a_-20b_00c_isdriftHats.npy\n",
      "IIDNadaraya_fBiPot_12DDims_DriftTrack_00001bw_10240NPaths_00t0_3906e-03dT_025a_-20b_00c_true_states.npy\n",
      "IIDNadaraya_fBiPot_12DDims_DriftTrack_0000441bw_10240NPaths_00t0_3906e-03dT_025a_-20b_00c_local_states.npy\n",
      "IIDNadaraya_fBiPot_12DDims_DriftTrack_0005936bw_10240NPaths_00t0_3906e-03dT_025a_-20b_00c_local_states.npy\n",
      "IIDNadaraya_fBiPot_12DDims_DriftTrack_000021bw_10240NPaths_00t0_3906e-03dT_025a_-20b_00c_global_states.npy\n",
      "IIDNadaraya_fBiPot_12DDims_DriftEvalExp_0002825bw_10240NPaths_00t0_3906e-03dT_025a_-20b_00c_isdriftHats.npy\n",
      "IIDNadaraya_fBiPot_12DDims_DriftEvalExp_00001bw_10240NPaths_00t0_3906e-03dT_025a_-20b_00c_isdriftHats.npy\n",
      ".DS_Store\n",
      "IIDNadaraya_fBiPot_12DDims_DriftTrack_000064bw_10240NPaths_00t0_3906e-03dT_025a_-20b_00c_true_states.npy\n",
      "IIDNadaraya_fBiPot_12DDims_DriftTrack_0000305bw_10240NPaths_00t0_3906e-03dT_025a_-20b_00c_local_states.npy\n",
      "IIDNadaraya_fBiPot_12DDims_DriftEvalExp_0000367bw_10240NPaths_00t0_3906e-03dT_025a_-20b_00c_isdriftHats.npy\n",
      "IIDNadaraya_fBiPot_12DDims_DriftTrack_0000532bw_10240NPaths_00t0_3906e-03dT_025a_-20b_00c_local_states.npy\n",
      "IIDNadaraya_fBiPot_12DDims_DriftTrack_000064bw_10240NPaths_00t0_3906e-03dT_025a_-20b_00c_global_states.npy\n",
      "IIDNadaraya_fBiPot_12DDims_DriftTrack_0002346bw_10240NPaths_00t0_3906e-03dT_025a_-20b_00c_global_states.npy\n",
      "IIDNadaraya_fBiPot_12DDims_DriftEvalExp_004573bw_10240NPaths_00t0_3906e-03dT_025a_-20b_00c_isdriftHats.npy\n",
      "IIDNadaraya_fBiPot_12DDims_DriftTrack_0010359bw_10240NPaths_00t0_3906e-03dT_025a_-20b_00c_global_states.npy\n",
      "IIDNadaraya_fBiPot_12DDims_DriftTrack_0008604bw_10240NPaths_00t0_3906e-03dT_025a_-20b_00c_true_states.npy\n",
      "IIDNadaraya_fBiPot_12DDims_DriftEvalExp_0021765bw_10240NPaths_00t0_3906e-03dT_025a_-20b_00c_isdriftHats.npy\n",
      "IIDNadaraya_fBiPot_12DDims_DriftTrack_0000928bw_10240NPaths_00t0_3906e-03dT_025a_-20b_00c_true_states.npy\n",
      "IIDNadaraya_fBiPot_12DDims_DriftTrack_0001619bw_10240NPaths_00t0_3906e-03dT_025a_-20b_00c_local_states.npy\n",
      "IIDNadaraya_fBiPot_12DDims_DriftTrack_0002346bw_10240NPaths_00t0_3906e-03dT_025a_-20b_00c_true_states.npy\n",
      "IIDNadaraya_fBiPot_12DDims_DriftTrack_0008604bw_10240NPaths_00t0_3906e-03dT_025a_-20b_00c_global_states.npy\n",
      "IIDNadaraya_fBiPot_12DDims_DriftTrack_0000928bw_10240NPaths_00t0_3906e-03dT_025a_-20b_00c_local_states.npy\n",
      "IIDNadaraya_fBiPot_12DDims_DriftEvalExp_0000532bw_10240NPaths_00t0_3906e-03dT_025a_-20b_00c_isdriftHats.npy\n",
      "IIDNadaraya_fBiPot_12DDims_DriftTrack_000077bw_10240NPaths_00t0_3906e-03dT_025a_-20b_00c_global_states.npy\n",
      "IIDNadaraya_fBiPot_12DDims_DriftTrack_0005936bw_10240NPaths_00t0_3906e-03dT_025a_-20b_00c_global_states.npy\n",
      "IIDNadaraya_fBiPot_12DDims_DriftTrack_0000441bw_10240NPaths_00t0_3906e-03dT_025a_-20b_00c_true_states.npy\n",
      "IIDNadaraya_fBiPot_12DDims_DriftEvalExp_0001619bw_10240NPaths_00t0_3906e-03dT_025a_-20b_00c_isdriftHats.npy\n",
      "IIDNadaraya_fBiPot_12DDims_DriftEvalExp_0079807bw_10240NPaths_00t0_3906e-03dT_025a_-20b_00c_isdriftHats.npy\n",
      "IIDNadaraya_fBiPot_12DDims_DriftEvalExp_0004095bw_10240NPaths_00t0_3906e-03dT_025a_-20b_00c_isdriftHats.npy\n",
      "IIDNadaraya_fBiPot_12DDims_DriftTrack_0007146bw_10240NPaths_00t0_3906e-03dT_025a_-20b_00c_global_states.npy\n",
      "IIDNadaraya_fBiPot_12DDims_DriftTrack_000012bw_10240NPaths_00t0_3906e-03dT_025a_-20b_00c_global_states.npy\n",
      "IIDNadaraya_fBiPot_12DDims_DriftTrack_0000145bw_10240NPaths_00t0_3906e-03dT_025a_-20b_00c_true_states.npy\n",
      "IIDNadaraya_fBiPot_12DDims_DriftEvalExp_0018078bw_10240NPaths_00t0_3906e-03dT_025a_-20b_00c_isdriftHats.npy\n",
      "IIDNadaraya_fBiPot_12DDims_DriftTrack_00001bw_10240NPaths_00t0_3906e-03dT_025a_-20b_00c_local_states.npy\n",
      "IIDNadaraya_fBiPot_12DDims_DriftTrack_0001117bw_10240NPaths_00t0_3906e-03dT_025a_-20b_00c_true_states.npy\n",
      "IIDNadaraya_fBiPot_12DDims_DriftTrack_000077bw_10240NPaths_00t0_3906e-03dT_025a_-20b_00c_local_states.npy\n",
      "IIDNadaraya_fBiPot_12DDims_DriftTrack_0010359bw_10240NPaths_00t0_3906e-03dT_025a_-20b_00c_true_states.npy\n",
      "IIDNadaraya_fBiPot_12DDims_DriftTrack_0001949bw_10240NPaths_00t0_3906e-03dT_025a_-20b_00c_global_states.npy\n",
      "IIDNadaraya_fBiPot_12DDims_DriftTrack_0003401bw_10240NPaths_00t0_3906e-03dT_025a_-20b_00c_global_states.npy\n",
      "IIDNadaraya_fBiPot_12DDims_DriftTrack_0000175bw_10240NPaths_00t0_3906e-03dT_025a_-20b_00c_true_states.npy\n",
      "IIDNadaraya_fBiPot_12DDims_DriftEvalExp_0026204bw_10240NPaths_00t0_3906e-03dT_025a_-20b_00c_isdriftHats.npy\n",
      "IIDNadaraya_fBiPot_12DDims_DriftEvalExp_0005936bw_10240NPaths_00t0_3906e-03dT_025a_-20b_00c_isdriftHats.npy\n",
      "IIDNadaraya_fBiPot_12DDims_DriftEvalExp_0000253bw_10240NPaths_00t0_3906e-03dT_025a_-20b_00c_isdriftHats.npy\n",
      "IIDNadaraya_fBiPot_12DDims_DriftEvalExp_0015015bw_10240NPaths_00t0_3906e-03dT_025a_-20b_00c_isdriftHats.npy\n",
      "IIDNadaraya_fBiPot_12DDims_DriftTrack_0001949bw_10240NPaths_00t0_3906e-03dT_025a_-20b_00c_true_states.npy\n",
      "IIDNadaraya_fBiPot_12DDims_DriftTrack_000493bw_10240NPaths_00t0_3906e-03dT_025a_-20b_00c_local_states.npy\n",
      "IIDNadaraya_fBiPot_12DDims_DriftTrack_0001619bw_10240NPaths_00t0_3906e-03dT_025a_-20b_00c_global_states.npy\n",
      "IIDNadaraya_fBiPot_12DDims_DriftTrack_0001949bw_10240NPaths_00t0_3906e-03dT_025a_-20b_00c_local_states.npy\n",
      "IIDNadaraya_fBiPot_12DDims_DriftEvalExp_0001345bw_10240NPaths_00t0_3906e-03dT_025a_-20b_00c_isdriftHats.npy\n",
      "IIDNadaraya_fBiPot_12DDims_DriftTrack_0000145bw_10240NPaths_00t0_3906e-03dT_025a_-20b_00c_local_states.npy\n",
      "IIDNadaraya_fBiPot_12DDims_DriftTrack_0001117bw_10240NPaths_00t0_3906e-03dT_025a_-20b_00c_global_states.npy\n",
      "IIDNadaraya_fBiPot_12DDims_DriftTrack_0003401bw_10240NPaths_00t0_3906e-03dT_025a_-20b_00c_local_states.npy\n",
      "IIDNadaraya_fBiPot_12DDims_DriftTrack_0000175bw_10240NPaths_00t0_3906e-03dT_025a_-20b_00c_global_states.npy\n",
      "IIDNadaraya_fBiPot_12DDims_DriftTrack_000021bw_10240NPaths_00t0_3906e-03dT_025a_-20b_00c_local_states.npy\n",
      "IIDNadaraya_fBiPot_12DDims_DriftTrack_0000145bw_10240NPaths_00t0_3906e-03dT_025a_-20b_00c_global_states.npy\n",
      "IIDNadaraya_fBiPot_12DDims_DriftEvalExp_0096084bw_10240NPaths_00t0_3906e-03dT_025a_-20b_00c_isdriftHats.npy\n",
      "IIDNadaraya_fBiPot_12DDims_DriftEvalExp_000012bw_10240NPaths_00t0_3906e-03dT_025a_-20b_00c_isdriftHats.npy\n",
      "IIDNadaraya_fBiPot_12DDims_DriftTrack_0018078bw_10240NPaths_00t0_3906e-03dT_025a_-20b_00c_true_states.npy\n",
      "IIDNadaraya_fBiPot_12DDims_DriftEvalExp_0000145bw_10240NPaths_00t0_3906e-03dT_025a_-20b_00c_isdriftHats.npy\n",
      "IIDNadaraya_fBiPot_12DDims_DriftEvalExp_0001117bw_10240NPaths_00t0_3906e-03dT_025a_-20b_00c_isdriftHats.npy\n",
      "IIDNadaraya_fBiPot_12DDims_DriftEvalExp_0115682bw_10240NPaths_00t0_3906e-03dT_025a_-20b_00c_isdriftHats.npy\n",
      "IIDNadaraya_fBiPot_12DDims_DriftEvalExp_0010359bw_10240NPaths_00t0_3906e-03dT_025a_-20b_00c_isdriftHats.npy\n",
      "IIDNadaraya_fBiPot_12DDims_DriftEvalExp_0000441bw_10240NPaths_00t0_3906e-03dT_025a_-20b_00c_isdriftHats.npy\n",
      "IIDNadaraya_fBiPot_12DDims_DriftTrack_0015015bw_10240NPaths_00t0_3906e-03dT_025a_-20b_00c_local_states.npy\n",
      "IIDNadaraya_fBiPot_12DDims_DriftTrack_0001619bw_10240NPaths_00t0_3906e-03dT_025a_-20b_00c_true_states.npy\n",
      "IIDNadaraya_fBiPot_12DDims_DriftTrack_0004095bw_10240NPaths_00t0_3906e-03dT_025a_-20b_00c_true_states.npy\n",
      "IIDNadaraya_fBiPot_12DDims_DriftTrack_0001345bw_10240NPaths_00t0_3906e-03dT_025a_-20b_00c_true_states.npy\n",
      "IIDNadaraya_fBiPot_12DDims_DriftTrack_0015015bw_10240NPaths_00t0_3906e-03dT_025a_-20b_00c_global_states.npy\n",
      "IIDNadaraya_fBiPot_12DDims_DriftTrack_0004095bw_10240NPaths_00t0_3906e-03dT_025a_-20b_00c_global_states.npy\n",
      "IIDNadaraya_fBiPot_12DDims_DriftEvalExp_0055057bw_10240NPaths_00t0_3906e-03dT_025a_-20b_00c_isdriftHats.npy\n",
      "IIDNadaraya_fBiPot_12DDims_DriftTrack_0001117bw_10240NPaths_00t0_3906e-03dT_025a_-20b_00c_local_states.npy\n",
      "IIDNadaraya_fBiPot_12DDims_DriftTrack_0005936bw_10240NPaths_00t0_3906e-03dT_025a_-20b_00c_true_states.npy\n",
      "IIDNadaraya_fBiPot_12DDims_DriftTrack_0000253bw_10240NPaths_00t0_3906e-03dT_025a_-20b_00c_true_states.npy\n",
      "IIDNadaraya_fBiPot_12DDims_DriftEvalExp_0000175bw_10240NPaths_00t0_3906e-03dT_025a_-20b_00c_isdriftHats.npy\n",
      "IIDNadaraya_fBiPot_12DDims_DriftTrack_000012bw_10240NPaths_00t0_3906e-03dT_025a_-20b_00c_true_states.npy\n",
      "IIDNadaraya_fBiPot_12DDims_DriftEvalExp_0001949bw_10240NPaths_00t0_3906e-03dT_025a_-20b_00c_isdriftHats.npy\n",
      "IIDNadaraya_fBiPot_12DDims_DriftEvalExp_0037983bw_10240NPaths_00t0_3906e-03dT_025a_-20b_00c_isdriftHats.npy\n",
      "IIDNadaraya_fBiPot_12DDims_DriftTrack_0015015bw_10240NPaths_00t0_3906e-03dT_025a_-20b_00c_true_states.npy\n",
      "IIDNadaraya_fBiPot_12DDims_DriftTrack_0000367bw_10240NPaths_00t0_3906e-03dT_025a_-20b_00c_local_states.npy\n",
      "IIDNadaraya_fBiPot_12DDims_DriftTrack_0000253bw_10240NPaths_00t0_3906e-03dT_025a_-20b_00c_local_states.npy\n",
      "IIDNadaraya_fBiPot_12DDims_DriftTrack_000077bw_10240NPaths_00t0_3906e-03dT_025a_-20b_00c_true_states.npy\n",
      "IIDNadaraya_fBiPot_12DDims_DriftTrack_0007146bw_10240NPaths_00t0_3906e-03dT_025a_-20b_00c_local_states.npy\n",
      "IIDNadaraya_fBiPot_12DDims_DriftTrack_000493bw_10240NPaths_00t0_3906e-03dT_025a_-20b_00c_global_states.npy\n",
      "IIDNadaraya_fBiPot_12DDims_DriftTrack_0001345bw_10240NPaths_00t0_3906e-03dT_025a_-20b_00c_global_states.npy\n",
      "IIDNadaraya_fBiPot_12DDims_DriftEvalExp_000021bw_10240NPaths_00t0_3906e-03dT_025a_-20b_00c_isdriftHats.npy\n",
      "IIDNadaraya_fBiPot_12DDims_DriftEvalExp_0000305bw_10240NPaths_00t0_3906e-03dT_025a_-20b_00c_isdriftHats.npy\n",
      "IIDNadaraya_fBiPot_12DDims_DriftEvalExp_000493bw_10240NPaths_00t0_3906e-03dT_025a_-20b_00c_isdriftHats.npy\n",
      "IIDNadaraya_fBiPot_12DDims_DriftTrack_0001345bw_10240NPaths_00t0_3906e-03dT_025a_-20b_00c_local_states.npy\n",
      "IIDNadaraya_fBiPot_12DDims_DriftTrack_0000175bw_10240NPaths_00t0_3906e-03dT_025a_-20b_00c_local_states.npy\n",
      "IIDNadaraya_fBiPot_12DDims_DriftTrack_00001bw_10240NPaths_00t0_3906e-03dT_025a_-20b_00c_global_states.npy\n",
      "IIDNadaraya_fBiPot_12DDims_DriftTrack_0000305bw_10240NPaths_00t0_3906e-03dT_025a_-20b_00c_global_states.npy\n",
      "IIDNadaraya_fBiPot_12DDims_DriftTrack_0003401bw_10240NPaths_00t0_3906e-03dT_025a_-20b_00c_true_states.npy\n",
      "IIDNadaraya_fBiPot_12DDims_DriftTrack_0012471bw_10240NPaths_00t0_3906e-03dT_025a_-20b_00c_true_states.npy\n",
      "IIDNadaraya_fBiPot_12DDims_DriftEvalExp_0007146bw_10240NPaths_00t0_3906e-03dT_025a_-20b_00c_isdriftHats.npy\n",
      "IIDNadaraya_fBiPot_12DDims_DriftTrack_0002825bw_10240NPaths_00t0_3906e-03dT_025a_-20b_00c_global_states.npy\n",
      "IIDNadaraya_fBiPot_12DDims_DriftTrack_0012471bw_10240NPaths_00t0_3906e-03dT_025a_-20b_00c_global_states.npy\n",
      "IIDNadaraya_fBiPot_12DDims_DriftEvalExp_0000928bw_10240NPaths_00t0_3906e-03dT_025a_-20b_00c_isdriftHats.npy\n",
      "IIDNadaraya_fBiPot_12DDims_DriftTrack_0018078bw_10240NPaths_00t0_3906e-03dT_025a_-20b_00c_global_states.npy\n",
      "IIDNadaraya_fBiPot_12DDims_DriftTrack_000012bw_10240NPaths_00t0_3906e-03dT_025a_-20b_00c_local_states.npy\n",
      "IIDNadaraya_fBiPot_12DDims_DriftTrack_000021bw_10240NPaths_00t0_3906e-03dT_025a_-20b_00c_true_states.npy\n",
      "IIDNadaraya_fBiPot_12DDims_DriftTrack_0018078bw_10240NPaths_00t0_3906e-03dT_025a_-20b_00c_local_states.npy\n",
      "IIDNadaraya_fBiPot_12DDims_DriftTrack_000493bw_10240NPaths_00t0_3906e-03dT_025a_-20b_00c_true_states.npy\n",
      "IIDNadaraya_fBiPot_12DDims_DriftEvalExp_0008604bw_10240NPaths_00t0_3906e-03dT_025a_-20b_00c_isdriftHats.npy\n",
      "IIDNadaraya_fBiPot_12DDims_DriftTrack_0012471bw_10240NPaths_00t0_3906e-03dT_025a_-20b_00c_local_states.npy\n",
      "IIDNadaraya_fBiPot_12DDims_DriftTrack_0000532bw_10240NPaths_00t0_3906e-03dT_025a_-20b_00c_true_states.npy\n",
      "IIDNadaraya_fBiPot_12DDims_DriftTrack_0002346bw_10240NPaths_00t0_3906e-03dT_025a_-20b_00c_local_states.npy\n",
      "IIDNadaraya_fBiPot_12DDims_DriftEvalExp_0002346bw_10240NPaths_00t0_3906e-03dT_025a_-20b_00c_isdriftHats.npy\n",
      "IIDNadaraya_fBiPot_12DDims_DriftTrack_0000441bw_10240NPaths_00t0_3906e-03dT_025a_-20b_00c_global_states.npy\n",
      "IIDNadaraya_fBiPot_12DDims_DriftTrack_0000532bw_10240NPaths_00t0_3906e-03dT_025a_-20b_00c_global_states.npy\n",
      "IIDNadaraya_fBiPot_12DDims_DriftTrack_000064bw_10240NPaths_00t0_3906e-03dT_025a_-20b_00c_local_states.npy\n",
      "IIDNadaraya_fBiPot_12DDims_DriftTrack_0000928bw_10240NPaths_00t0_3906e-03dT_025a_-20b_00c_global_states.npy\n",
      "IIDNadaraya_fBiPot_12DDims_DriftTrack_0002825bw_10240NPaths_00t0_3906e-03dT_025a_-20b_00c_true_states.npy\n",
      "IIDNadaraya_fBiPot_12DDims_DriftTrack_0002825bw_10240NPaths_00t0_3906e-03dT_025a_-20b_00c_local_states.npy\n",
      "IIDNadaraya_fBiPot_12DDims_DriftTrack_0000367bw_10240NPaths_00t0_3906e-03dT_025a_-20b_00c_true_states.npy\n",
      "IIDNadaraya_fBiPot_12DDims_DriftEvalExp_0066287bw_10240NPaths_00t0_3906e-03dT_025a_-20b_00c_isdriftHats.npy\n",
      "IIDNadaraya_fBiPot_12DDims_DriftEvalExp_000077bw_10240NPaths_00t0_3906e-03dT_025a_-20b_00c_isdriftHats.npy\n"
     ]
    },
    {
     "data": {
      "text/plain": "['/Users/marcos/Library/CloudStorage/OneDrive-ImperialCollegeLondon/StatML_CDT/Year2/DiffusionModels/ExperimentResults/Nadaraya/12DDims/IIDNadaraya_fBiPot_12DDims_DriftTrack_00001bw_10240NPaths_00t0_3906e-03dT_025a_-20b_00c_local_states.npy',\n '/Users/marcos/Library/CloudStorage/OneDrive-ImperialCollegeLondon/StatML_CDT/Year2/DiffusionModels/ExperimentResults/Nadaraya/12DDims/IIDNadaraya_fBiPot_12DDims_DriftTrack_000012bw_10240NPaths_00t0_3906e-03dT_025a_-20b_00c_local_states.npy',\n '/Users/marcos/Library/CloudStorage/OneDrive-ImperialCollegeLondon/StatML_CDT/Year2/DiffusionModels/ExperimentResults/Nadaraya/12DDims/IIDNadaraya_fBiPot_12DDims_DriftTrack_0000145bw_10240NPaths_00t0_3906e-03dT_025a_-20b_00c_local_states.npy',\n '/Users/marcos/Library/CloudStorage/OneDrive-ImperialCollegeLondon/StatML_CDT/Year2/DiffusionModels/ExperimentResults/Nadaraya/12DDims/IIDNadaraya_fBiPot_12DDims_DriftTrack_0000175bw_10240NPaths_00t0_3906e-03dT_025a_-20b_00c_local_states.npy',\n '/Users/marcos/Library/CloudStorage/OneDrive-ImperialCollegeLondon/StatML_CDT/Year2/DiffusionModels/ExperimentResults/Nadaraya/12DDims/IIDNadaraya_fBiPot_12DDims_DriftTrack_000021bw_10240NPaths_00t0_3906e-03dT_025a_-20b_00c_local_states.npy',\n '/Users/marcos/Library/CloudStorage/OneDrive-ImperialCollegeLondon/StatML_CDT/Year2/DiffusionModels/ExperimentResults/Nadaraya/12DDims/IIDNadaraya_fBiPot_12DDims_DriftTrack_0000253bw_10240NPaths_00t0_3906e-03dT_025a_-20b_00c_local_states.npy',\n '/Users/marcos/Library/CloudStorage/OneDrive-ImperialCollegeLondon/StatML_CDT/Year2/DiffusionModels/ExperimentResults/Nadaraya/12DDims/IIDNadaraya_fBiPot_12DDims_DriftTrack_0000305bw_10240NPaths_00t0_3906e-03dT_025a_-20b_00c_local_states.npy',\n '/Users/marcos/Library/CloudStorage/OneDrive-ImperialCollegeLondon/StatML_CDT/Year2/DiffusionModels/ExperimentResults/Nadaraya/12DDims/IIDNadaraya_fBiPot_12DDims_DriftTrack_0000367bw_10240NPaths_00t0_3906e-03dT_025a_-20b_00c_local_states.npy',\n '/Users/marcos/Library/CloudStorage/OneDrive-ImperialCollegeLondon/StatML_CDT/Year2/DiffusionModels/ExperimentResults/Nadaraya/12DDims/IIDNadaraya_fBiPot_12DDims_DriftTrack_0000441bw_10240NPaths_00t0_3906e-03dT_025a_-20b_00c_local_states.npy',\n '/Users/marcos/Library/CloudStorage/OneDrive-ImperialCollegeLondon/StatML_CDT/Year2/DiffusionModels/ExperimentResults/Nadaraya/12DDims/IIDNadaraya_fBiPot_12DDims_DriftTrack_0000532bw_10240NPaths_00t0_3906e-03dT_025a_-20b_00c_local_states.npy',\n '/Users/marcos/Library/CloudStorage/OneDrive-ImperialCollegeLondon/StatML_CDT/Year2/DiffusionModels/ExperimentResults/Nadaraya/12DDims/IIDNadaraya_fBiPot_12DDims_DriftTrack_000064bw_10240NPaths_00t0_3906e-03dT_025a_-20b_00c_local_states.npy',\n '/Users/marcos/Library/CloudStorage/OneDrive-ImperialCollegeLondon/StatML_CDT/Year2/DiffusionModels/ExperimentResults/Nadaraya/12DDims/IIDNadaraya_fBiPot_12DDims_DriftTrack_000077bw_10240NPaths_00t0_3906e-03dT_025a_-20b_00c_local_states.npy',\n '/Users/marcos/Library/CloudStorage/OneDrive-ImperialCollegeLondon/StatML_CDT/Year2/DiffusionModels/ExperimentResults/Nadaraya/12DDims/IIDNadaraya_fBiPot_12DDims_DriftTrack_0000928bw_10240NPaths_00t0_3906e-03dT_025a_-20b_00c_local_states.npy',\n '/Users/marcos/Library/CloudStorage/OneDrive-ImperialCollegeLondon/StatML_CDT/Year2/DiffusionModels/ExperimentResults/Nadaraya/12DDims/IIDNadaraya_fBiPot_12DDims_DriftTrack_0001117bw_10240NPaths_00t0_3906e-03dT_025a_-20b_00c_local_states.npy',\n '/Users/marcos/Library/CloudStorage/OneDrive-ImperialCollegeLondon/StatML_CDT/Year2/DiffusionModels/ExperimentResults/Nadaraya/12DDims/IIDNadaraya_fBiPot_12DDims_DriftTrack_0001345bw_10240NPaths_00t0_3906e-03dT_025a_-20b_00c_local_states.npy',\n '/Users/marcos/Library/CloudStorage/OneDrive-ImperialCollegeLondon/StatML_CDT/Year2/DiffusionModels/ExperimentResults/Nadaraya/12DDims/IIDNadaraya_fBiPot_12DDims_DriftTrack_0001619bw_10240NPaths_00t0_3906e-03dT_025a_-20b_00c_local_states.npy',\n '/Users/marcos/Library/CloudStorage/OneDrive-ImperialCollegeLondon/StatML_CDT/Year2/DiffusionModels/ExperimentResults/Nadaraya/12DDims/IIDNadaraya_fBiPot_12DDims_DriftTrack_0001949bw_10240NPaths_00t0_3906e-03dT_025a_-20b_00c_local_states.npy',\n '/Users/marcos/Library/CloudStorage/OneDrive-ImperialCollegeLondon/StatML_CDT/Year2/DiffusionModels/ExperimentResults/Nadaraya/12DDims/IIDNadaraya_fBiPot_12DDims_DriftTrack_0002346bw_10240NPaths_00t0_3906e-03dT_025a_-20b_00c_local_states.npy',\n '/Users/marcos/Library/CloudStorage/OneDrive-ImperialCollegeLondon/StatML_CDT/Year2/DiffusionModels/ExperimentResults/Nadaraya/12DDims/IIDNadaraya_fBiPot_12DDims_DriftTrack_0002825bw_10240NPaths_00t0_3906e-03dT_025a_-20b_00c_local_states.npy',\n '/Users/marcos/Library/CloudStorage/OneDrive-ImperialCollegeLondon/StatML_CDT/Year2/DiffusionModels/ExperimentResults/Nadaraya/12DDims/IIDNadaraya_fBiPot_12DDims_DriftTrack_0003401bw_10240NPaths_00t0_3906e-03dT_025a_-20b_00c_local_states.npy',\n '/Users/marcos/Library/CloudStorage/OneDrive-ImperialCollegeLondon/StatML_CDT/Year2/DiffusionModels/ExperimentResults/Nadaraya/12DDims/IIDNadaraya_fBiPot_12DDims_DriftTrack_0004095bw_10240NPaths_00t0_3906e-03dT_025a_-20b_00c_local_states.npy',\n '/Users/marcos/Library/CloudStorage/OneDrive-ImperialCollegeLondon/StatML_CDT/Year2/DiffusionModels/ExperimentResults/Nadaraya/12DDims/IIDNadaraya_fBiPot_12DDims_DriftTrack_000493bw_10240NPaths_00t0_3906e-03dT_025a_-20b_00c_local_states.npy',\n '/Users/marcos/Library/CloudStorage/OneDrive-ImperialCollegeLondon/StatML_CDT/Year2/DiffusionModels/ExperimentResults/Nadaraya/12DDims/IIDNadaraya_fBiPot_12DDims_DriftTrack_0005936bw_10240NPaths_00t0_3906e-03dT_025a_-20b_00c_local_states.npy',\n '/Users/marcos/Library/CloudStorage/OneDrive-ImperialCollegeLondon/StatML_CDT/Year2/DiffusionModels/ExperimentResults/Nadaraya/12DDims/IIDNadaraya_fBiPot_12DDims_DriftTrack_0007146bw_10240NPaths_00t0_3906e-03dT_025a_-20b_00c_local_states.npy',\n '/Users/marcos/Library/CloudStorage/OneDrive-ImperialCollegeLondon/StatML_CDT/Year2/DiffusionModels/ExperimentResults/Nadaraya/12DDims/IIDNadaraya_fBiPot_12DDims_DriftTrack_0008604bw_10240NPaths_00t0_3906e-03dT_025a_-20b_00c_local_states.npy',\n '/Users/marcos/Library/CloudStorage/OneDrive-ImperialCollegeLondon/StatML_CDT/Year2/DiffusionModels/ExperimentResults/Nadaraya/12DDims/IIDNadaraya_fBiPot_12DDims_DriftTrack_0010359bw_10240NPaths_00t0_3906e-03dT_025a_-20b_00c_local_states.npy',\n '/Users/marcos/Library/CloudStorage/OneDrive-ImperialCollegeLondon/StatML_CDT/Year2/DiffusionModels/ExperimentResults/Nadaraya/12DDims/IIDNadaraya_fBiPot_12DDims_DriftTrack_0012471bw_10240NPaths_00t0_3906e-03dT_025a_-20b_00c_local_states.npy',\n '/Users/marcos/Library/CloudStorage/OneDrive-ImperialCollegeLondon/StatML_CDT/Year2/DiffusionModels/ExperimentResults/Nadaraya/12DDims/IIDNadaraya_fBiPot_12DDims_DriftTrack_0015015bw_10240NPaths_00t0_3906e-03dT_025a_-20b_00c_local_states.npy',\n '/Users/marcos/Library/CloudStorage/OneDrive-ImperialCollegeLondon/StatML_CDT/Year2/DiffusionModels/ExperimentResults/Nadaraya/12DDims/IIDNadaraya_fBiPot_12DDims_DriftTrack_0018078bw_10240NPaths_00t0_3906e-03dT_025a_-20b_00c_local_states.npy']"
     },
     "execution_count": 33,
     "metadata": {},
     "output_type": "execute_result"
    }
   ],
   "source": [
    "true_files, local_files, bws = get_drift_files(config=config, root_dir=root_dir)\n",
    "local_files"
   ],
   "metadata": {
    "collapsed": false
   }
  },
  {
   "cell_type": "code",
   "execution_count": null,
   "outputs": [],
   "source": [
    "curr_rmse = np.inf\n",
    "toSave = False\n",
    "i = 0\n",
    "for file in zip(*[true_files, local_files, bws]):\n",
    "    bw = file[-1]\n",
    "    all_true_states = np.load(file[0])/np.sqrt(config.deltaT)\n",
    "    all_local_states = np.load(file[1])/np.sqrt(config.deltaT)\n",
    "    if (len(all_true_states.shape) == len(all_local_states.shape) == 4):\n",
    "        all_local_errors = np.cumsum(np.mean(np.power(all_true_states- all_local_states,2), axis=(1,3)), axis=-1)/np.arange(1, all_local_states.shape[2]+1)\n",
    "        total_local_errors = np.mean((all_local_errors), axis=0)\n",
    "        total_local_errors_minq = np.quantile((all_local_errors), axis=0,q=0.025)\n",
    "        total_local_errors_maxq = np.quantile((all_local_errors), axis=0,q=0.975)\n",
    "        print(total_local_errors[-1], total_local_errors_maxq[-1]-total_local_errors_minq[-1], curr_rmse, i)\n",
    "        i += 1\n",
    "        if total_local_errors[-1]  < curr_rmse:\n",
    "            miny = total_local_errors-total_local_errors_minq\n",
    "            miny[miny < 0.] = 0.\n",
    "            maxy = total_local_errors_maxq-total_local_errors\n",
    "            maxy[maxy < 0.] = 0.\n",
    "            time_steps = np.linspace(config.t0,config.deltaT*total_local_errors.shape[0],total_local_errors.shape[0])\n",
    "            curr_rmse = total_local_errors[-1]\n",
    "            fig, ax = plt.subplots(figsize=(14,9))\n",
    "            ax.scatter(np.linspace(config.t0,config.deltaT*total_local_errors.shape[0],total_local_errors.shape[0]), total_local_errors)\n",
    "            plt.errorbar(time_steps,total_local_errors,yerr=[miny, maxy],xerr=None, fmt='o', color=\"blue\", alpha=0.4)\n",
    "            ax.set_title(f\"Cumulative MSE for Nadaraya Estimator\",fontsize=40)\n",
    "            ax.set_ylabel(\"MSE\", fontsize=38)\n",
    "            ax.set_xlabel(\"Time Axis\", fontsize=38)\n",
    "            ax.tick_params(labelsize=38)\n",
    "            plt.tight_layout()\n",
    "            if toSave:\n",
    "                plt.savefig((root_dir + f\"DiffusionModelPresentationImages/IIDNadaraya_fBiPot_{config.ndims}DDims_DriftTrack_{round(bw, 6)}bw_{round(total_local_errors_minq[-1], 8)}_MinIQR_{round(total_local_errors[-1], 8)}MeanIQR_{round(total_local_errors_maxq[-1], 8)}_MaxIQR\").replace(\".\", \"\")+\".png\")\n",
    "            plt.show()\n",
    "            plt.close()\n",
    "            print(f\"Final time cumulative MSE local-time error {total_local_errors[-1]} with IQR ({total_local_errors_minq[-1], total_local_errors_maxq[-1]})at bw {bw}\\n\")\n",
    "        print(f\"Bandwidth, BWIDX, Error Mean, Error IQR, CurrMSE {bw, np.argwhere(np.array(bws)==bw)[0,0], total_local_errors[-1], total_local_errors_maxq[-1]-total_local_errors_minq[-1], curr_rmse}\\n\")"
   ],
   "metadata": {
    "collapsed": false,
    "pycharm": {
     "is_executing": true
    }
   }
  },
  {
   "cell_type": "code",
   "execution_count": 34,
   "outputs": [],
   "source": [
    "def get_evalexpdrift_files(config, root_dir):\n",
    "    ts_type = f\"{config.ndims}DDims\"\n",
    "    include = (f\"_{num_paths}NPaths_{config.t0}t0_{config.deltaT:.3e}dT_\").replace(\".\", \"\")\n",
    "    root_nadaraya_dir = root_dir + f\"ExperimentResults/Nadaraya/12DDims/\"\n",
    "    driftevalexp_files = []\n",
    "    for file in os.listdir(root_nadaraya_dir):\n",
    "        if \"EvalExp\" in file and ts_type in file and include in file:\n",
    "            driftevalexp_files.append(root_nadaraya_dir+file)\n",
    "    assert len(driftevalexp_files)>0, \"No evalexp files found\"\n",
    "    def extract_bw_number(s):\n",
    "        match = s.split(\"/\")[-1].split(\"_\")[4][:-2]\n",
    "        return float(\"0.\" + match)\n",
    "    driftevalexp_files = sorted(driftevalexp_files, key=extract_bw_number)\n",
    "    bws = [extract_bw_number(f) for f in driftevalexp_files]\n",
    "    return driftevalexp_files, bws"
   ],
   "metadata": {
    "collapsed": false
   }
  },
  {
   "cell_type": "code",
   "execution_count": 35,
   "outputs": [
    {
     "data": {
      "text/plain": "[1e-05,\n 1.2e-05,\n 1.45e-05,\n 1.75e-05,\n 2.1e-05,\n 2.53e-05,\n 3.05e-05,\n 3.67e-05,\n 4.41e-05,\n 5.32e-05,\n 6.4e-05,\n 7.7e-05,\n 9.28e-05,\n 0.0001117,\n 0.0001345,\n 0.0001619,\n 0.0001949,\n 0.0002346,\n 0.0002825,\n 0.0003401,\n 0.0004095,\n 0.000493,\n 0.0005936,\n 0.0007146,\n 0.0008604,\n 0.0010359,\n 0.0012471,\n 0.0015015,\n 0.0018078,\n 0.0021765,\n 0.0026204,\n 0.0031549,\n 0.0037983,\n 0.004573,\n 0.0055057,\n 0.0066287,\n 0.0079807,\n 0.0096084,\n 0.0115682]"
     },
     "execution_count": 35,
     "metadata": {},
     "output_type": "execute_result"
    }
   ],
   "source": [
    "eval_exp_files, bws = get_evalexpdrift_files(config=config, root_dir=root_dir)\n",
    "bws"
   ],
   "metadata": {
    "collapsed": false
   }
  },
  {
   "cell_type": "code",
   "execution_count": 8,
   "outputs": [],
   "source": [
    "def plot_drift_estimator(mean, mean_min, mean_max, numpy_Xs, true_drift, bw,  toSave: bool = False):\n",
    "    mse = np.nanmean((true_drift- mean)**2).astype(\n",
    "        np.float64)\n",
    "    fig, axes = plt.subplots(6, 2, figsize=(30, 34))\n",
    "    axes = axes.flatten()  # Flatten to easily index with a single loop\n",
    "    for d in range(mean.shape[-1]):\n",
    "        axes[d].scatter(numpy_Xs[:, d], true_drift[:, d], color=\"red\", label=\"True Drift\")\n",
    "        ymin = mean[:, d] - mean_min[:, d]\n",
    "        ymax = mean_max[:, d] - mean[:, d]\n",
    "        ymin[ymin < 0.] = 0.\n",
    "        ymax[ymax < 0.] = 0.\n",
    "        axes[d].errorbar(numpy_Xs[:, d], mean[:, d], yerr=[ymin, ymax], xerr=None, fmt='o', color=\"blue\", alpha=0.4)\n",
    "        axes[d].errorbar(numpy_Xs[:, d], mean[:, d], label=\"Estimated Drift\", color=\"blue\")\n",
    "        axes[d].set_title(rf\"MSE {round(mse, 6)} for Nadaraya Estimator\", fontsize=22)\n",
    "        axes[d].tick_params(labelsize=13)\n",
    "        axes[d].set_xlabel(f\"State $X$ at Dimension {d+1}\", fontsize=20)\n",
    "        axes[d].set_ylabel(\"Drift Value\", fontsize=20)\n",
    "        axes[d].legend(fontsize=14)\n",
    "    plt.tight_layout()\n",
    "    if toSave:\n",
    "        plt.savefig((root_dir + f\"DiffusionModelPresentationImages/IIDNadaraya_fBiPot_{config.ndims}DDims_DriftEvalExp_{round(bw, 6)}bw\").replace(\".\", \"\")+\".png\")\n",
    "        plt.show()\n",
    "        plt.close()\n",
    "        print(f\"Final time domain MSE local-time error {total_local_errors[-1]} at bw {bw}\\n\")\n",
    "    plt.show()\n",
    "    plt.close()"
   ],
   "metadata": {
    "collapsed": false
   }
  },
  {
   "cell_type": "code",
   "execution_count": 8,
   "outputs": [
    {
     "ename": "RuntimeError",
     "evalue": "",
     "output_type": "error",
     "traceback": [
      "\u001B[0;31m---------------------------------------------------------------------------\u001B[0m",
      "\u001B[0;31mRuntimeError\u001B[0m                              Traceback (most recent call last)",
      "Cell \u001B[0;32mIn[8], line 15\u001B[0m\n\u001B[1;32m      5\u001B[0m Xs \u001B[38;5;241m=\u001B[39m np\u001B[38;5;241m.\u001B[39mconcatenate([np\u001B[38;5;241m.\u001B[39mlinspace(\u001B[38;5;241m-\u001B[39m\u001B[38;5;241m5\u001B[39m, \u001B[38;5;241m5\u001B[39m, num\u001B[38;5;241m=\u001B[39mXshape)\u001B[38;5;241m.\u001B[39mreshape(\u001B[38;5;241m-\u001B[39m\u001B[38;5;241m1\u001B[39m,\u001B[38;5;241m1\u001B[39m), np\u001B[38;5;241m.\u001B[39mlinspace(\u001B[38;5;241m-\u001B[39m\u001B[38;5;241m4.7\u001B[39m, \u001B[38;5;241m4.7\u001B[39m, num\u001B[38;5;241m=\u001B[39mXshape)\u001B[38;5;241m.\u001B[39mreshape(\u001B[38;5;241m-\u001B[39m\u001B[38;5;241m1\u001B[39m,\u001B[38;5;241m1\u001B[39m), \\\n\u001B[1;32m      6\u001B[0m                                      np\u001B[38;5;241m.\u001B[39mlinspace(\u001B[38;5;241m-\u001B[39m\u001B[38;5;241m4.4\u001B[39m, \u001B[38;5;241m4.4\u001B[39m, num\u001B[38;5;241m=\u001B[39mXshape)\u001B[38;5;241m.\u001B[39mreshape(\u001B[38;5;241m-\u001B[39m\u001B[38;5;241m1\u001B[39m,\u001B[38;5;241m1\u001B[39m), np\u001B[38;5;241m.\u001B[39mlinspace(\u001B[38;5;241m-\u001B[39m\u001B[38;5;241m4.2\u001B[39m, \u001B[38;5;241m4.2\u001B[39m, num\u001B[38;5;241m=\u001B[39mXshape)\u001B[38;5;241m.\u001B[39mreshape(\u001B[38;5;241m-\u001B[39m\u001B[38;5;241m1\u001B[39m,\u001B[38;5;241m1\u001B[39m), \\\n\u001B[1;32m      7\u001B[0m                                      np\u001B[38;5;241m.\u001B[39mlinspace(\u001B[38;5;241m-\u001B[39m\u001B[38;5;241m4.05\u001B[39m, \u001B[38;5;241m4.05\u001B[39m, num\u001B[38;5;241m=\u001B[39mXshape)\u001B[38;5;241m.\u001B[39mreshape(\u001B[38;5;241m-\u001B[39m\u001B[38;5;241m1\u001B[39m,\u001B[38;5;241m1\u001B[39m), np\u001B[38;5;241m.\u001B[39mlinspace(\u001B[38;5;241m-\u001B[39m\u001B[38;5;241m3.9\u001B[39m, \u001B[38;5;241m3.9\u001B[39m, num\u001B[38;5;241m=\u001B[39mXshape)\u001B[38;5;241m.\u001B[39mreshape(\u001B[38;5;241m-\u001B[39m\u001B[38;5;241m1\u001B[39m,\u001B[38;5;241m1\u001B[39m), \\\n\u001B[0;32m   (...)\u001B[0m\n\u001B[1;32m     11\u001B[0m                                      np\u001B[38;5;241m.\u001B[39mlinspace(\u001B[38;5;241m-\u001B[39m\u001B[38;5;241m3.4\u001B[39m, \u001B[38;5;241m3.4\u001B[39m, num\u001B[38;5;241m=\u001B[39mXshape)\u001B[38;5;241m.\u001B[39mreshape(\u001B[38;5;241m-\u001B[39m\u001B[38;5;241m1\u001B[39m,\u001B[38;5;241m1\u001B[39m), np\u001B[38;5;241m.\u001B[39mlinspace(\u001B[38;5;241m-\u001B[39m\u001B[38;5;241m3.4\u001B[39m, \u001B[38;5;241m3.4\u001B[39m, num\u001B[38;5;241m=\u001B[39mXshape)\u001B[38;5;241m.\u001B[39mreshape(\u001B[38;5;241m-\u001B[39m\u001B[38;5;241m1\u001B[39m,\u001B[38;5;241m1\u001B[39m)],\n\u001B[1;32m     12\u001B[0m                                     axis\u001B[38;5;241m=\u001B[39m\u001B[38;5;241m1\u001B[39m)\n\u001B[1;32m     13\u001B[0m is_true_drift \u001B[38;5;241m=\u001B[39m \u001B[38;5;241m-\u001B[39m(\u001B[38;5;241m4.\u001B[39m \u001B[38;5;241m*\u001B[39m np\u001B[38;5;241m.\u001B[39marray(config\u001B[38;5;241m.\u001B[39mquartic_coeff) \u001B[38;5;241m*\u001B[39m np\u001B[38;5;241m.\u001B[39mpower(Xs,\u001B[38;5;241m3\u001B[39m) \u001B[38;5;241m+\u001B[39m \u001B[38;5;241m2.\u001B[39m \u001B[38;5;241m*\u001B[39m np\u001B[38;5;241m.\u001B[39marray(\n\u001B[1;32m     14\u001B[0m         config\u001B[38;5;241m.\u001B[39mquad_coeff) \u001B[38;5;241m*\u001B[39m Xs \u001B[38;5;241m+\u001B[39m np\u001B[38;5;241m.\u001B[39marray(config\u001B[38;5;241m.\u001B[39mconst))\n\u001B[0;32m---> 15\u001B[0m \u001B[38;5;28;01mraise\u001B[39;00m \u001B[38;5;167;01mRuntimeError\u001B[39;00m\n\u001B[1;32m     16\u001B[0m \u001B[38;5;28;01mfor\u001B[39;00m file \u001B[38;5;129;01min\u001B[39;00m \u001B[38;5;28mzip\u001B[39m(\u001B[38;5;241m*\u001B[39m[eval_exp_files, bws]):\n\u001B[1;32m     17\u001B[0m     bw \u001B[38;5;241m=\u001B[39m file[\u001B[38;5;241m-\u001B[39m\u001B[38;5;241m1\u001B[39m]\n",
      "\u001B[0;31mRuntimeError\u001B[0m: "
     ]
    }
   ],
   "source": [
    "curr_best_mse = np.inf\n",
    "toSave = False\n",
    "Xshape = 256\n",
    "bw_idx = 0\n",
    "Xs = np.concatenate([np.linspace(-5, 5, num=Xshape).reshape(-1,1), np.linspace(-4.7, 4.7, num=Xshape).reshape(-1,1), \\\n",
    "                                     np.linspace(-4.4, 4.4, num=Xshape).reshape(-1,1), np.linspace(-4.2, 4.2, num=Xshape).reshape(-1,1), \\\n",
    "                                     np.linspace(-4.05, 4.05, num=Xshape).reshape(-1,1), np.linspace(-3.9, 3.9, num=Xshape).reshape(-1,1), \\\n",
    "                                     np.linspace(-3.7, 3.7, num=Xshape).reshape(-1,1), np.linspace(-3.6, 3.6, num=Xshape).reshape(-1,1), \\\n",
    "                                     np.linspace(-3.55, 3.55, num=Xshape).reshape(-1,1),\n",
    "                                     np.linspace(-3.48, 3.48, num=Xshape).reshape(-1,1), \\\n",
    "                                     np.linspace(-3.4, 3.4, num=Xshape).reshape(-1,1), np.linspace(-3.4, 3.4, num=Xshape).reshape(-1,1)],\n",
    "                                    axis=1)\n",
    "is_true_drift = -(4. * np.array(config.quartic_coeff) * np.power(Xs,3) + 2. * np.array(\n",
    "        config.quad_coeff) * Xs + np.array(config.const))\n",
    "for file in zip(*[eval_exp_files, bws]):\n",
    "    bw = file[-1]\n",
    "    print(bw)\n",
    "    try:\n",
    "        f = np.load(file[0])\n",
    "        is_drift = f.mean(axis=1)\n",
    "        print(is_drift.shape)\n",
    "        mse = np.nanmean((is_true_drift-is_drift)**2)\n",
    "        if mse < np.inf:#curr_best_mse:\n",
    "            mu_hats_minq = np.quantile(f, q=0.025, axis=1) # Lower bound\n",
    "            mu_hats_maxq = np.quantile(f, q=0.975, axis=1) # uPPER bound\n",
    "            print(is_drift.shape, is_true_drift.shape, Xs.shape)\n",
    "            plot_drift_estimator(mean=is_drift, mean_min=mu_hats_minq, mean_max=mu_hats_maxq, numpy_Xs=Xs, true_drift=is_true_drift, bw=bw)\n",
    "            curr_best_mse = mse\n",
    "            print(f\"MSE  {mse} with IQR ({mu_hats_minq, mu_hats_maxq})at BW {bw} at BWIDX {bw_idx}\\n\")\n",
    "        bw_idx += 1\n",
    "    except FileNotFoundError as e:\n",
    "        continue"
   ],
   "metadata": {
    "collapsed": false
   }
  },
  {
   "cell_type": "code",
   "execution_count": 25,
   "outputs": [
    {
     "data": {
      "text/plain": "array([[[ 0.        ,  0.        ,  0.        , ...,  0.        ,\n          0.        ,  0.        ],\n        [ 0.10458249,  0.15139404,  0.00719696, ...,  0.02687327,\n         -0.48020021,  0.39466125],\n        [ 0.11825212,  0.43032198,  0.24590827, ..., -0.21027818,\n         -0.84416784,  0.24755569]],\n\n       [[ 0.        ,  0.        ,  0.        , ...,  0.        ,\n          0.        ,  0.        ],\n        [ 0.2514893 ,  0.11280376, -0.14835842, ..., -0.49182291,\n          0.22184461, -0.33205946],\n        [ 0.55837127, -0.03779373, -0.82502427, ..., -0.30363328,\n          0.1507435 , -0.3742213 ]],\n\n       [[ 0.        ,  0.        ,  0.        , ...,  0.        ,\n          0.        ,  0.        ],\n        [-0.03289495, -0.09049232,  0.19550778, ..., -0.12888265,\n         -0.05490935,  0.10058648],\n        [ 0.05001486,  0.19421124,  0.29012484, ..., -0.06843165,\n          0.26668026,  0.03013194]],\n\n       ...,\n\n       [[ 0.        ,  0.        ,  0.        , ...,  0.        ,\n          0.        ,  0.        ],\n        [ 0.300867  ,  0.42712646, -0.11803178, ...,  0.01980381,\n          0.24290636, -0.27578525],\n        [ 0.39097504,  0.44344934, -0.37197284, ...,  0.09249449,\n         -0.0980513 , -0.5832162 ]],\n\n       [[ 0.        ,  0.        ,  0.        , ...,  0.        ,\n          0.        ,  0.        ],\n        [ 0.03618132,  0.18582051,  0.16854882, ...,  0.02915454,\n         -0.10248146,  0.12680452],\n        [ 0.22761346,  0.4840927 ,  0.23782193, ..., -0.22787854,\n         -0.06327198,  0.1490228 ]],\n\n       [[ 0.        ,  0.        ,  0.        , ...,  0.        ,\n          0.        ,  0.        ],\n        [-0.47354649, -0.14063773, -0.03392346, ..., -0.05362434,\n         -0.52198871, -0.38182343],\n        [-0.53399555,  0.01344863, -0.06068615, ..., -0.43607865,\n         -0.43986011, -0.23281357]]])"
     },
     "execution_count": 25,
     "metadata": {},
     "output_type": "execute_result"
    }
   ],
   "source": [
    "np.load(local_files[5]).reshape((1000, 257, 12))[:, :3, :]"
   ],
   "metadata": {
    "collapsed": false
   }
  },
  {
   "cell_type": "code",
   "execution_count": 56,
   "outputs": [
    {
     "data": {
      "text/plain": "(array([ 13.,  44., 153., 284., 334., 250.,  91.,  26.,   4.,   1.]),\n array([-0.77529804, -0.59546885, -0.41563965, -0.23581046, -0.05598126,\n         0.12384794,  0.30367713,  0.48350633,  0.66333552,  0.84316472,\n         1.02299392]),\n <BarContainer object of 10 artists>)"
     },
     "execution_count": 56,
     "metadata": {},
     "output_type": "execute_result"
    },
    {
     "data": {
      "text/plain": "<Figure size 640x480 with 1 Axes>",
      "image/png": "[encoded data removed]"
     },
     "metadata": {},
     "output_type": "display_data"
    }
   ],
   "source": [
    "plt.hist(is_true_drift.flatten()*(1./256))\n",
    "eps = 4*np.sqrt(1./256)*np.random.normal(loc=0., scale=1., size=(100, 1, config.ndims))\n",
    "plt.hist(eps.flatten(), color=\"black\")"
   ],
   "metadata": {
    "collapsed": false
   }
  },
  {
   "cell_type": "code",
   "execution_count": 58,
   "outputs": [
    {
     "name": "stdout",
     "output_type": "stream",
     "text": [
      "(10, 100, 257, 12)\n"
     ]
    },
    {
     "data": {
      "text/plain": "array([[[ 0.34806928,  0.52183229,  0.60788237, ...,  0.16790854,\n          0.05370406,  0.21062867],\n        [ 0.34806928,  0.52183229,  0.60788237, ...,  0.16790854,\n          0.05370406,  0.21062867],\n        [ 0.34806928,  0.52183229,  0.60788237, ...,  0.16790854,\n          0.05370406,  0.21062867],\n        ...,\n        [ 0.34806928,  0.52183229,  0.60788237, ...,  0.16790854,\n          0.05370406,  0.21062867],\n        [ 0.34806928,  0.52183229,  0.60788237, ...,  0.16790854,\n          0.05370406,  0.21062867],\n        [ 0.34806928,  0.52183229,  0.60788237, ...,  0.16790854,\n          0.05370406,  0.21062867]],\n\n       [[ 0.30051361,  0.06119594,  0.47619277, ...,  0.32569727,\n          0.18284748,  0.38197845],\n        [ 0.30051361,  0.06119594,  0.47619277, ...,  0.32569727,\n          0.18284748,  0.38197845],\n        [ 0.30051361,  0.06119594,  0.47619277, ...,  0.32569727,\n          0.18284748,  0.38197845],\n        ...,\n        [ 0.30051361,  0.06119594,  0.47619277, ...,  0.32569727,\n          0.18284748,  0.38197845],\n        [ 0.30051361,  0.06119594,  0.47619277, ...,  0.32569727,\n          0.18284748,  0.38197845],\n        [ 0.30051361,  0.06119594,  0.47619277, ...,  0.32569727,\n          0.18284748,  0.38197845]],\n\n       [[ 0.2760469 ,  0.30316478,  0.44740594, ...,  0.22642797,\n          0.38217283,  0.16852226],\n        [ 0.2760469 ,  0.30316478,  0.44740594, ...,  0.22642797,\n          0.38217283,  0.16852226],\n        [ 0.2760469 ,  0.30316478,  0.44740594, ...,  0.22642797,\n          0.38217283,  0.16852226],\n        ...,\n        [ 0.2760469 ,  0.30316478,  0.44740594, ...,  0.22642797,\n          0.38217283,  0.16852226],\n        [ 0.2760469 ,  0.30316478,  0.44740594, ...,  0.22642797,\n          0.38217283,  0.16852226],\n        [ 0.2760469 ,  0.30316478,  0.44740594, ...,  0.22642797,\n          0.38217283,  0.16852226]],\n\n       ...,\n\n       [[ 0.45386622,  0.11722881,  0.28326327, ...,  0.54525809,\n          0.57661013,  0.59762706],\n        [ 0.45386622,  0.11722881,  0.28326327, ...,  0.54525809,\n          0.57661013,  0.59762706],\n        [ 0.45386622,  0.11722881,  0.28326327, ...,  0.54525809,\n          0.57661013,  0.59762706],\n        ...,\n        [ 0.45386622,  0.11722881,  0.28326327, ...,  0.54525809,\n          0.57661013,  0.59762706],\n        [ 0.45386622,  0.11722881,  0.28326327, ...,  0.54525809,\n          0.57661013,  0.59762706],\n        [ 0.45386622,  0.11722881,  0.28326327, ...,  0.54525809,\n          0.57661013,  0.59762706]],\n\n       [[ 0.69458829,  0.73092938,  0.18310667, ...,  0.55402902,\n         -0.02897924,  0.29533856],\n        [ 0.69458829,  0.73092938,  0.18310667, ...,  0.55402902,\n         -0.02897924,  0.29533856],\n        [ 0.69458829,  0.73092938,  0.18310667, ...,  0.55402902,\n         -0.02897924,  0.29533856],\n        ...,\n        [ 0.69458829,  0.73092938,  0.18310667, ...,  0.55402902,\n         -0.02897924,  0.29533856],\n        [ 0.69458829,  0.73092938,  0.18310667, ...,  0.55402902,\n         -0.02897924,  0.29533856],\n        [ 0.69458829,  0.73092938,  0.18310667, ...,  0.55402902,\n         -0.02897924,  0.29533856]],\n\n       [[ 0.15719731,  0.58059586,  0.38794677, ..., -0.03933844,\n          0.2719783 ,  0.55352449],\n        [ 0.15719731,  0.58059586,  0.38794677, ..., -0.03933844,\n          0.2719783 ,  0.55352449],\n        [ 0.15719731,  0.58059586,  0.38794677, ..., -0.03933844,\n          0.2719783 ,  0.55352449],\n        ...,\n        [ 0.15719731,  0.58059586,  0.38794677, ..., -0.03933844,\n          0.2719783 ,  0.55352449],\n        [ 0.15719731,  0.58059586,  0.38794677, ..., -0.03933844,\n          0.2719783 ,  0.55352449],\n        [ 0.15719731,  0.58059586,  0.38794677, ..., -0.03933844,\n          0.2719783 ,  0.55352449]]])"
     },
     "execution_count": 58,
     "metadata": {},
     "output_type": "execute_result"
    }
   ],
   "source": [
    "from utils.drift_evaluation_functions import IID_NW_multivar_estimator\n",
    "num_paths = 1000\n",
    "grid_1d = np.array([bws[25]])\n",
    "my_bws = np.stack([grid_1d for m in range(config.ndims)], axis=-1)\n",
    "assert (my_bws.shape == (1, config.ndims))\n",
    "bw = my_bws[0,:]\n",
    "inv_H = np.diag(np.power(bw, -2))\n",
    "norm_const = 1 / np.sqrt((2. * np.pi) ** config.ndims * (1. / np.linalg.det(inv_H)))\n",
    "is_path_observations = np.load(config.data_path, allow_pickle=True)[:num_paths, :, :]\n",
    "is_path_observations = np.concatenate(\n",
    "            [np.repeat(np.array(config.initState).reshape((1, 1, config.ndims)), is_path_observations.shape[0], axis=0),\n",
    "             is_path_observations], axis=1)\n",
    "assert is_path_observations.shape == (num_paths, config.ts_length + 1, config.ndims)\n",
    "is_idxs = np.arange(is_path_observations.shape[0])\n",
    "path_observations = is_path_observations[np.random.choice(is_idxs, size=num_paths, replace=False), :]\n",
    "# We note that we DO NOT evaluate the drift at time t_{0}=0\n",
    "# We therefore remove the first element of path_observations since it includes X_{t_{0}} = X_{0}\n",
    "# We also remove the last element since we never evaluate the drift at that point\n",
    "t0 = config.deltaT\n",
    "prevPath_observations = path_observations[:, 1:-1, :]\n",
    "# We compute the path incs with respect to the prevPath_observations (since X_{t_{0}} != X_{0})\n",
    "print(np.load(true_files[5]).shape)\n",
    "path_incs = np.diff(path_observations, axis=1)[:, 1:, :]\n",
    "states_to_eval = np.load(true_files[25])[0,:,:,:][:, 0, :]\n",
    "drift_estimator_via_track = IID_NW_multivar_estimator(prevPath_observations=prevPath_observations, inv_H=inv_H,\n",
    "                                               norm_const=norm_const,\n",
    "                                               x=states_to_eval, path_incs=path_incs, t1=config.t1,\n",
    "                                               t0=config.t0, truncate=True)[:, np.newaxis, :]\n",
    "\n",
    "states_to_eval + drift_estimator_via_track*(1/256) + eps\n"
   ],
   "metadata": {
    "collapsed": false
   }
  },
  {
   "cell_type": "code",
   "execution_count": 59,
   "outputs": [
    {
     "data": {
      "text/plain": "array([[[ 0.34692856,  0.52069157,  0.60674165, ...,  0.16676782,\n          0.05256334,  0.20948795],\n        [ 0.34692856,  0.52069157,  0.60674165, ...,  0.16676782,\n          0.05256334,  0.20948795],\n        [ 0.34692856,  0.52069157,  0.60674165, ...,  0.16676782,\n          0.05256334,  0.20948795],\n        ...,\n        [ 0.34692856,  0.52069157,  0.60674165, ...,  0.16676782,\n          0.05256334,  0.20948795],\n        [ 0.34692856,  0.52069157,  0.60674165, ...,  0.16676782,\n          0.05256334,  0.20948795],\n        [ 0.34692856,  0.52069157,  0.60674165, ...,  0.16676782,\n          0.05256334,  0.20948795]],\n\n       [[ 0.2993729 ,  0.06005523,  0.47505206, ...,  0.32455655,\n          0.18170677,  0.38083773],\n        [ 0.2993729 ,  0.06005523,  0.47505206, ...,  0.32455655,\n          0.18170677,  0.38083773],\n        [ 0.2993729 ,  0.06005523,  0.47505206, ...,  0.32455655,\n          0.18170677,  0.38083773],\n        ...,\n        [ 0.2993729 ,  0.06005523,  0.47505206, ...,  0.32455655,\n          0.18170677,  0.38083773],\n        [ 0.2993729 ,  0.06005523,  0.47505206, ...,  0.32455655,\n          0.18170677,  0.38083773],\n        [ 0.2993729 ,  0.06005523,  0.47505206, ...,  0.32455655,\n          0.18170677,  0.38083773]],\n\n       [[ 0.27490618,  0.30202407,  0.44626523, ...,  0.22528726,\n          0.38103211,  0.16738155],\n        [ 0.27490618,  0.30202407,  0.44626523, ...,  0.22528726,\n          0.38103211,  0.16738155],\n        [ 0.27490618,  0.30202407,  0.44626523, ...,  0.22528726,\n          0.38103211,  0.16738155],\n        ...,\n        [ 0.27490618,  0.30202407,  0.44626523, ...,  0.22528726,\n          0.38103211,  0.16738155],\n        [ 0.27490618,  0.30202407,  0.44626523, ...,  0.22528726,\n          0.38103211,  0.16738155],\n        [ 0.27490618,  0.30202407,  0.44626523, ...,  0.22528726,\n          0.38103211,  0.16738155]],\n\n       ...,\n\n       [[ 0.45272551,  0.11608809,  0.28212255, ...,  0.54411738,\n          0.57546942,  0.59648634],\n        [ 0.45272551,  0.11608809,  0.28212255, ...,  0.54411738,\n          0.57546942,  0.59648634],\n        [ 0.45272551,  0.11608809,  0.28212255, ...,  0.54411738,\n          0.57546942,  0.59648634],\n        ...,\n        [ 0.45272551,  0.11608809,  0.28212255, ...,  0.54411738,\n          0.57546942,  0.59648634],\n        [ 0.45272551,  0.11608809,  0.28212255, ...,  0.54411738,\n          0.57546942,  0.59648634],\n        [ 0.45272551,  0.11608809,  0.28212255, ...,  0.54411738,\n          0.57546942,  0.59648634]],\n\n       [[ 0.69344758,  0.72978867,  0.18196595, ...,  0.5528883 ,\n         -0.03011996,  0.29419785],\n        [ 0.69344758,  0.72978867,  0.18196595, ...,  0.5528883 ,\n         -0.03011996,  0.29419785],\n        [ 0.69344758,  0.72978867,  0.18196595, ...,  0.5528883 ,\n         -0.03011996,  0.29419785],\n        ...,\n        [ 0.69344758,  0.72978867,  0.18196595, ...,  0.5528883 ,\n         -0.03011996,  0.29419785],\n        [ 0.69344758,  0.72978867,  0.18196595, ...,  0.5528883 ,\n         -0.03011996,  0.29419785],\n        [ 0.69344758,  0.72978867,  0.18196595, ...,  0.5528883 ,\n         -0.03011996,  0.29419785]],\n\n       [[ 0.15605659,  0.57945515,  0.38680606, ..., -0.04047916,\n          0.27083759,  0.55238377],\n        [ 0.15605659,  0.57945515,  0.38680606, ..., -0.04047916,\n          0.27083759,  0.55238377],\n        [ 0.15605659,  0.57945515,  0.38680606, ..., -0.04047916,\n          0.27083759,  0.55238377],\n        ...,\n        [ 0.15605659,  0.57945515,  0.38680606, ..., -0.04047916,\n          0.27083759,  0.55238377],\n        [ 0.15605659,  0.57945515,  0.38680606, ..., -0.04047916,\n          0.27083759,  0.55238377],\n        [ 0.15605659,  0.57945515,  0.38680606, ..., -0.04047916,\n          0.27083759,  0.55238377]]])"
     },
     "execution_count": 59,
     "metadata": {},
     "output_type": "execute_result"
    }
   ],
   "source": [
    "is_ss_path_observations = is_path_observations[np.random.choice(is_idxs, size=num_paths, replace=False), :]\n",
    "is_prevPath_observations = is_ss_path_observations[:, 1:-1]\n",
    "is_path_incs = np.diff(is_ss_path_observations, axis=1)[:, 1:]\n",
    "unif_is_drift_hats= IID_NW_multivar_estimator(prevPath_observations=is_prevPath_observations, inv_H=inv_H, x=states_to_eval,\n",
    "                                                    path_incs=is_path_incs, t1=config.t1, t0=t0, truncate=True, norm_const=norm_const)\n",
    "states_to_eval + unif_is_drift_hats*(1/256) + eps"
   ],
   "metadata": {
    "collapsed": false
   }
  },
  {
   "cell_type": "code",
   "execution_count": 60,
   "outputs": [
    {
     "data": {
      "text/plain": "array([[[ 0.05605166,  0.22981471,  0.31586481, ..., -0.12410934,\n         -0.23831392, -0.08138944],\n        [ 0.05605166,  0.22981471,  0.31586481, ..., -0.12410934,\n         -0.23831392, -0.08138944],\n        [ 0.05605166,  0.22981471,  0.31586481, ..., -0.12410934,\n         -0.23831392, -0.08138944],\n        ...,\n        [ 0.05605166,  0.22981471,  0.31586481, ..., -0.12410934,\n         -0.23831392, -0.08138944],\n        [ 0.05605166,  0.22981471,  0.31586481, ..., -0.12410934,\n         -0.23831392, -0.08138944],\n        [ 0.05605166,  0.22981471,  0.31586481, ..., -0.12410934,\n         -0.23831392, -0.08138944]],\n\n       [[ 0.008496  , -0.23082164,  0.18417521, ...,  0.0336794 ,\n         -0.1091705 ,  0.08996034],\n        [ 0.008496  , -0.23082164,  0.18417521, ...,  0.0336794 ,\n         -0.1091705 ,  0.08996034],\n        [ 0.008496  , -0.23082164,  0.18417521, ...,  0.0336794 ,\n         -0.1091705 ,  0.08996034],\n        ...,\n        [ 0.008496  , -0.23082164,  0.18417521, ...,  0.0336794 ,\n         -0.1091705 ,  0.08996034],\n        [ 0.008496  , -0.23082164,  0.18417521, ...,  0.0336794 ,\n         -0.1091705 ,  0.08996034],\n        [ 0.008496  , -0.23082164,  0.18417521, ...,  0.0336794 ,\n         -0.1091705 ,  0.08996034]],\n\n       [[-0.01597072,  0.0111472 ,  0.15538839, ..., -0.0655899 ,\n          0.09015484, -0.12349584],\n        [-0.01597072,  0.0111472 ,  0.15538839, ..., -0.0655899 ,\n          0.09015484, -0.12349584],\n        [-0.01597072,  0.0111472 ,  0.15538839, ..., -0.0655899 ,\n          0.09015484, -0.12349584],\n        ...,\n        [-0.01597072,  0.0111472 ,  0.15538839, ..., -0.0655899 ,\n          0.09015484, -0.12349584],\n        [-0.01597072,  0.0111472 ,  0.15538839, ..., -0.0655899 ,\n          0.09015484, -0.12349584],\n        [-0.01597072,  0.0111472 ,  0.15538839, ..., -0.0655899 ,\n          0.09015484, -0.12349584]],\n\n       ...,\n\n       [[ 0.16184861, -0.17478877, -0.00875429, ...,  0.25324022,\n          0.28459215,  0.30560895],\n        [ 0.16184861, -0.17478877, -0.00875429, ...,  0.25324022,\n          0.28459215,  0.30560895],\n        [ 0.16184861, -0.17478877, -0.00875429, ...,  0.25324022,\n          0.28459215,  0.30560895],\n        ...,\n        [ 0.16184861, -0.17478877, -0.00875429, ...,  0.25324022,\n          0.28459215,  0.30560895],\n        [ 0.16184861, -0.17478877, -0.00875429, ...,  0.25324022,\n          0.28459215,  0.30560895],\n        [ 0.16184861, -0.17478877, -0.00875429, ...,  0.25324022,\n          0.28459215,  0.30560895]],\n\n       [[ 0.40257068,  0.4389118 , -0.10891089, ...,  0.26201115,\n         -0.32099722,  0.00332046],\n        [ 0.40257068,  0.4389118 , -0.10891089, ...,  0.26201115,\n         -0.32099722,  0.00332046],\n        [ 0.40257068,  0.4389118 , -0.10891089, ...,  0.26201115,\n         -0.32099722,  0.00332046],\n        ...,\n        [ 0.40257068,  0.4389118 , -0.10891089, ...,  0.26201115,\n         -0.32099722,  0.00332046],\n        [ 0.40257068,  0.4389118 , -0.10891089, ...,  0.26201115,\n         -0.32099722,  0.00332046],\n        [ 0.40257068,  0.4389118 , -0.10891089, ...,  0.26201115,\n         -0.32099722,  0.00332046]],\n\n       [[-0.13482031,  0.28857828,  0.09592921, ..., -0.33135631,\n         -0.02003968,  0.26150638],\n        [-0.13482031,  0.28857828,  0.09592921, ..., -0.33135631,\n         -0.02003968,  0.26150638],\n        [-0.13482031,  0.28857828,  0.09592921, ..., -0.33135631,\n         -0.02003968,  0.26150638],\n        ...,\n        [-0.13482031,  0.28857828,  0.09592921, ..., -0.33135631,\n         -0.02003968,  0.26150638],\n        [-0.13482031,  0.28857828,  0.09592921, ..., -0.33135631,\n         -0.02003968,  0.26150638],\n        [-0.13482031,  0.28857828,  0.09592921, ..., -0.33135631,\n         -0.02003968,  0.26150638]]])"
     },
     "execution_count": 60,
     "metadata": {},
     "output_type": "execute_result"
    }
   ],
   "source": [
    "def true_drift(prev, num_paths, config):\n",
    "    assert (prev.shape == (num_paths, config.ndims))\n",
    "    drift_X = -(4. * np.array(config.quartic_coeff) * np.power(prev,\n",
    "                                                               3) + 2. * np.array(config.quad_coeff) * prev + np.array(\n",
    "        config.const))\n",
    "    return drift_X[:, np.newaxis, :]\n",
    "\n",
    "true_mean = true_drift(states_to_eval, num_paths=100, config=config)\n",
    "states_to_eval + true_mean*(1/256) + eps"
   ],
   "metadata": {
    "collapsed": false
   }
  },
  {
   "cell_type": "code",
   "execution_count": 41,
   "outputs": [
    {
     "data": {
      "text/plain": "array([[[ 0.00000000e+00,  1.04582491e-01,  1.19881753e-01, ...,\n          2.23630581e+00,  2.25782585e+00,  2.22635596e+00],\n        [ 0.00000000e+00,  2.51489298e-01,  5.62238662e-01, ...,\n         -8.96949120e-01, -5.81769890e-01, -7.97682122e-01],\n        [ 0.00000000e+00, -3.28949517e-02,  4.95010197e-02, ...,\n          2.44365150e+00,  2.42547250e+00,  2.05170195e+00],\n        ...,\n        [ 0.00000000e+00, -1.42875428e-01,  2.59406767e-01, ...,\n          3.22911142e-01,  6.22026568e-01,  8.05974916e-01],\n        [ 0.00000000e+00, -2.80875997e-01, -5.00700212e-01, ...,\n         -2.73133932e+00, -3.10155510e+00, -3.45807178e+00],\n        [ 0.00000000e+00,  4.33869600e-01,  6.62001353e-01, ...,\n          2.15535666e+00,  1.98346362e+00,  1.99546475e+00]],\n\n       [[ 0.00000000e+00,  3.13623592e-01,  1.76017970e-01, ...,\n         -4.23420069e-01, -2.11455847e-01,  1.67417090e-01],\n        [ 0.00000000e+00, -9.07142916e-02,  1.16520809e-01, ...,\n         -9.93690937e-02, -9.79369402e-03,  6.64431134e-03],\n        [ 0.00000000e+00, -1.68416459e-01, -7.83737925e-02, ...,\n          2.58814721e+00,  2.34064958e+00,  2.38200192e+00],\n        ...,\n        [ 0.00000000e+00,  1.30764548e-01,  1.87255564e-01, ...,\n         -2.18652572e+00, -2.03013224e+00, -1.91245469e+00],\n        [ 0.00000000e+00,  2.33977569e-02, -2.30472105e-01, ...,\n         -1.57651179e+00, -1.73507631e+00, -1.44503003e+00],\n        [ 0.00000000e+00, -1.69153909e-01, -2.18832273e-02, ...,\n         -1.76575488e+00, -1.95913431e+00, -2.51190630e+00]],\n\n       [[ 0.00000000e+00, -4.12349754e-01, -2.62076350e-01, ...,\n          1.64519336e+00,  1.48160498e+00,  1.55073065e+00],\n        [ 0.00000000e+00, -5.06671044e-01, -6.98955408e-01, ...,\n         -1.56215358e+00, -1.62527344e+00, -1.67621466e+00],\n        [ 0.00000000e+00, -1.31798409e-02,  3.46981873e-01, ...,\n          2.82169079e+00,  2.86754671e+00,  2.95188878e+00],\n        ...,\n        [ 0.00000000e+00,  2.27194087e-01, -1.62419177e-01, ...,\n         -1.54331078e+00, -1.41293645e+00, -1.61350093e+00],\n        [ 0.00000000e+00, -1.17626108e-01,  7.60082512e-02, ...,\n          2.80831840e+00,  2.72122453e+00,  2.67298859e+00],\n        [ 0.00000000e+00,  7.80364236e-02,  1.13060172e-01, ...,\n         -2.30799232e+00, -1.98249371e+00, -2.28506496e+00]],\n\n       ...,\n\n       [[ 0.00000000e+00,  7.76689834e-03, -7.25926920e-02, ...,\n          2.63403004e+00,  2.47513313e+00,  2.62082555e+00],\n        [ 0.00000000e+00, -1.13133071e-01, -1.24601318e-02, ...,\n         -8.36021615e-01, -4.45035995e-01, -7.30147204e-01],\n        [ 0.00000000e+00, -5.41259996e-02, -3.38307916e-01, ...,\n          2.19713354e+00,  1.84008867e+00,  1.58144293e+00],\n        ...,\n        [ 0.00000000e+00,  5.23626001e-01,  2.02326206e-01, ...,\n          1.56606031e+00,  1.59815002e+00,  2.10090503e+00],\n        [ 0.00000000e+00,  9.33482292e-02,  1.12934900e-01, ...,\n          1.27086641e+00,  1.59092002e+00,  1.46606451e+00],\n        [ 0.00000000e+00, -1.38686408e-01,  3.47493773e-01, ...,\n          2.38708498e+00,  2.52684349e+00,  2.40273899e+00]],\n\n       [[ 0.00000000e+00,  4.49744072e-01,  2.83680421e-01, ...,\n          2.20211715e+00,  1.97932459e+00,  2.66360846e+00],\n        [ 0.00000000e+00, -1.69233015e-01, -2.02083109e-01, ...,\n          2.27778683e+00,  2.60880989e+00,  2.63354275e+00],\n        [ 0.00000000e+00, -5.38102508e-02, -5.43682957e-01, ...,\n         -6.10535039e-01, -4.23574879e-01, -8.00195362e-01],\n        ...,\n        [ 0.00000000e+00,  2.46906867e-01, -8.01959853e-04, ...,\n          2.40882385e+00,  2.39770238e+00,  2.66741256e+00],\n        [ 0.00000000e+00,  1.56434663e-01,  3.32707064e-01, ...,\n          2.03873573e+00,  2.40830864e+00,  1.73840805e+00],\n        [ 0.00000000e+00, -1.46147296e-01, -2.85362386e-02, ...,\n         -2.36648373e+00, -2.23421092e+00, -2.41647343e+00]],\n\n       [[ 0.00000000e+00, -1.50952942e-01, -1.20780808e-01, ...,\n          3.26004293e+00,  3.35697368e+00,  3.33954734e+00],\n        [ 0.00000000e+00,  6.38766616e-02,  2.58438058e-01, ...,\n         -1.07253828e+00, -9.43398133e-01, -9.54405651e-01],\n        [ 0.00000000e+00,  9.23630319e-02, -1.80640826e-02, ...,\n          2.11847964e+00,  1.86556137e+00,  1.59342227e+00],\n        ...,\n        [ 0.00000000e+00,  3.00867001e-01,  3.95569701e-01, ...,\n         -4.94143563e-01, -6.17763580e-01, -5.97488521e-01],\n        [ 0.00000000e+00,  3.61813205e-02,  2.28178611e-01, ...,\n          2.27148701e+00,  2.30518732e+00,  2.03810625e+00],\n        [ 0.00000000e+00, -4.73546493e-01, -5.40979906e-01, ...,\n         -2.97178523e+00, -3.26196304e+00, -3.76172676e+00]]])"
     },
     "execution_count": 41,
     "metadata": {},
     "output_type": "execute_result"
    }
   ],
   "source": [
    "np.load(true_files[25])[:, :, :, 0]"
   ],
   "metadata": {
    "collapsed": false
   }
  },
  {
   "cell_type": "code",
   "execution_count": 43,
   "outputs": [
    {
     "data": {
      "text/plain": "array([[[ 0.        ,  0.10444854,  0.11825212, ...,  2.23023006,\n          2.26657071,  2.23603795],\n        [ 0.        ,  0.25135535,  0.55837127, ..., -0.88555917,\n         -0.57057385, -0.78936112],\n        [ 0.        , -0.0330289 ,  0.05001486, ...,  2.50229154,\n          2.44429083,  2.06954165],\n        ...,\n        [ 0.        , -0.14300938,  0.2616278 , ...,  0.31335322,\n          0.61711261,  0.79719588],\n        [ 0.        , -0.28100995, -0.49639808, ..., -2.75524105,\n         -3.13847315, -3.52615629],\n        [ 0.        ,  0.43373565,  0.65554117, ...,  2.14975337,\n          1.98889884,  1.99495438]],\n\n       [[ 0.        ,  0.31348964,  0.1712381 , ..., -0.4134957 ,\n         -0.20513644,  0.17068415],\n        [ 0.        , -0.09084824,  0.1179353 , ..., -0.09733647,\n         -0.00824488,  0.00679733],\n        [ 0.        , -0.16855041, -0.07576095, ...,  2.61001876,\n          2.36793134,  2.39552137],\n        ...,\n        [ 0.        ,  0.1306306 ,  0.1852211 , ..., -2.20077794,\n         -2.03680195, -1.91341771],\n        [ 0.        ,  0.02326381, -0.23083764, ..., -1.57033123,\n         -1.72574896, -1.43832349],\n        [ 0.        , -0.16928786, -0.0192591 , ..., -1.76124639,\n         -1.95304997, -2.51066812]],\n\n       [[ 0.        , -0.41248371, -0.25590726, ...,  1.63721052,\n          1.47329329,  1.54028507],\n        [ 0.        , -0.506805  , -0.69154676, ..., -1.55123295,\n         -1.61575605, -1.66759001],\n        [ 0.        , -0.01331379,  0.3471878 , ...,  2.88155058,\n          2.91121611,  2.99919013],\n        ...,\n        [ 0.        ,  0.22706014, -0.16592328, ..., -1.5343416 ,\n         -1.40318109, -1.60244244],\n        [ 0.        , -0.11776006,  0.0778398 , ...,  2.8468671 ,\n          2.76386108,  2.70918367],\n        [ 0.        ,  0.07790247,  0.11184271, ..., -2.33380809,\n         -1.99445586, -2.28452505]],\n\n       ...,\n\n       [[ 0.        ,  0.00763295, -0.07271405, ...,  2.69622075,\n          2.50536391,  2.64138351],\n        [ 0.        , -0.11326702, -0.01069808, ..., -0.82456512,\n         -0.43425567, -0.72353782],\n        [ 0.        , -0.05425995, -0.33746282, ...,  2.19692723,\n          1.84718984,  1.57702906],\n        ...,\n        [ 0.        ,  0.52349205,  0.19470537, ...,  1.55521414,\n          1.58868358,  2.09187851],\n        [ 0.        ,  0.09321428,  0.11147951, ...,  1.25914097,\n          1.57908062,  1.45693553],\n        [ 0.        , -0.13882036,  0.34965033, ...,  2.42569935,\n          2.5426782 ,  2.42627948]],\n\n       [[ 0.        ,  0.44961012,  0.27700852, ...,  2.20475638,\n          1.98663046,  2.66297234],\n        [ 0.        , -0.16936697, -0.19945778, ...,  2.29478869,\n          2.61938303,  2.66213662],\n        [ 0.        , -0.0539442 , -0.54284278, ..., -0.60323941,\n         -0.41492425, -0.79387386],\n        ...,\n        [ 0.        ,  0.24677291, -0.00460108, ...,  2.417916  ,\n          2.41466231,  2.68379352],\n        [ 0.        ,  0.15630071,  0.33027773, ...,  2.05702603,\n          2.40955453,  1.755341  ],\n        [ 0.        , -0.14628125, -0.02626488, ..., -2.3868434 ,\n         -2.24900371, -2.42512837]],\n\n       [[ 0.        , -0.15108689, -0.1184356 , ...,  3.32443293,\n          3.4413767 ,  3.4348706 ],\n        [ 0.        ,  0.06374271,  0.257441  , ..., -1.06095393,\n         -0.93145918, -0.94294484],\n        [ 0.        ,  0.09222908, -0.01950418, ...,  2.11141249,\n          1.86959935,  1.58963518],\n        ...,\n        [ 0.        ,  0.30073305,  0.39097504, ..., -0.48411266,\n         -0.61051391, -0.5887569 ],\n        [ 0.        ,  0.03604737,  0.22761346, ...,  2.26703999,\n          2.31547692,  2.04993734],\n        [ 0.        , -0.47368045, -0.53399555, ..., -3.04436301,\n         -3.31804977, -3.84633906]]])"
     },
     "execution_count": 43,
     "metadata": {},
     "output_type": "execute_result"
    }
   ],
   "source": [
    "np.load(local_files[25])[:,:,:,0]"
   ],
   "metadata": {
    "collapsed": false
   }
  },
  {
   "cell_type": "code",
   "execution_count": 42,
   "outputs": [
    {
     "data": {
      "text/plain": "array([[[ 0.        , -0.00013395, -0.00162963, ..., -0.00607575,\n          0.00874486,  0.00968199],\n        [ 0.        , -0.00013395, -0.00386739, ...,  0.01138995,\n          0.01119604,  0.008321  ],\n        [ 0.        , -0.00013395,  0.00051384, ...,  0.05864004,\n          0.01881834,  0.0178397 ],\n        ...,\n        [ 0.        , -0.00013395,  0.00222104, ..., -0.00955792,\n         -0.00491396, -0.00877904],\n        [ 0.        , -0.00013395,  0.00430213, ..., -0.02390173,\n         -0.03691805, -0.06808451],\n        [ 0.        , -0.00013395, -0.00646018, ..., -0.00560329,\n          0.00543522, -0.00051037]],\n\n       [[ 0.        , -0.00013395, -0.00477987, ...,  0.00992437,\n          0.0063194 ,  0.00326706],\n        [ 0.        , -0.00013395,  0.00141449, ...,  0.00203263,\n          0.00154881,  0.00015302],\n        [ 0.        , -0.00013395,  0.00261285, ...,  0.02187155,\n          0.02728176,  0.01351945],\n        ...,\n        [ 0.        , -0.00013395, -0.00203446, ..., -0.01425222,\n         -0.00666971, -0.00096302],\n        [ 0.        , -0.00013395, -0.00036554, ...,  0.00618055,\n          0.00932735,  0.00670655],\n        [ 0.        , -0.00013395,  0.00262412, ...,  0.00450849,\n          0.00608433,  0.00123818]],\n\n       [[ 0.        , -0.00013395,  0.00616909, ..., -0.00798283,\n         -0.00831169, -0.01044559],\n        [ 0.        , -0.00013395,  0.00740865, ...,  0.01092063,\n          0.0095174 ,  0.00862465],\n        [ 0.        , -0.00013395,  0.00020593, ...,  0.05985979,\n          0.0436694 ,  0.04730135],\n        ...,\n        [ 0.        , -0.00013395, -0.0035041 , ...,  0.00896918,\n          0.00975536,  0.01105849],\n        [ 0.        , -0.00013395,  0.00183155, ...,  0.0385487 ,\n          0.04263655,  0.03619508],\n        [ 0.        , -0.00013395, -0.00121746, ..., -0.02581577,\n         -0.01196215,  0.00053991]],\n\n       ...,\n\n       [[ 0.        , -0.00013395, -0.00012136, ...,  0.06219072,\n          0.03023079,  0.02055795],\n        [ 0.        , -0.00013395,  0.00176205, ...,  0.0114565 ,\n          0.01078033,  0.00660938],\n        [ 0.        , -0.00013395,  0.0008451 , ..., -0.00020631,\n          0.00710117, -0.00441387],\n        ...,\n        [ 0.        , -0.00013395, -0.00762084, ..., -0.01084617,\n         -0.00946644, -0.00902653],\n        [ 0.        , -0.00013395, -0.00145539, ..., -0.01172544,\n         -0.0118394 , -0.00912898],\n        [ 0.        , -0.00013395,  0.00215656, ...,  0.03861436,\n          0.01583472,  0.02354049]],\n\n       [[ 0.        , -0.00013395, -0.0066719 , ...,  0.00263923,\n          0.00730587, -0.00063612],\n        [ 0.        , -0.00013395,  0.00262533, ...,  0.01700186,\n          0.01057314,  0.02859387],\n        [ 0.        , -0.00013395,  0.00084018, ...,  0.00729563,\n          0.00865063,  0.0063215 ],\n        ...,\n        [ 0.        , -0.00013395, -0.00379912, ...,  0.00909215,\n          0.01695993,  0.01638096],\n        [ 0.        , -0.00013395, -0.00242934, ...,  0.0182903 ,\n          0.00124589,  0.01693295],\n        [ 0.        , -0.00013395,  0.00227136, ..., -0.02035967,\n         -0.01479279, -0.00865494]],\n\n       [[ 0.        , -0.00013395,  0.0023452 , ...,  0.06439   ,\n          0.08440302,  0.09532326],\n        [ 0.        , -0.00013395, -0.00099705, ...,  0.01158435,\n          0.01193895,  0.01146081],\n        [ 0.        , -0.00013395, -0.00144009, ..., -0.00706716,\n          0.00403799, -0.0037871 ],\n        ...,\n        [ 0.        , -0.00013395, -0.00459466, ...,  0.0100309 ,\n          0.00724967,  0.00873163],\n        [ 0.        , -0.00013395, -0.00056515, ..., -0.00444702,\n          0.0102896 ,  0.01183109],\n        [ 0.        , -0.00013395,  0.00698436, ..., -0.07257777,\n         -0.05608673, -0.0846123 ]]])"
     },
     "execution_count": 42,
     "metadata": {},
     "output_type": "execute_result"
    }
   ],
   "source": [
    "(np.load(local_files[25])-np.load(true_files[25]))[:,:,:, 0]"
   ],
   "metadata": {
    "collapsed": false
   }
  },
  {
   "cell_type": "code",
   "execution_count": null,
   "outputs": [],
   "source": [],
   "metadata": {
    "collapsed": false
   }
  }
 ],
 "metadata": {
  "kernelspec": {
   "display_name": "Python 3",
   "language": "python",
   "name": "python3"
  },
  "language_info": {
   "codemirror_mode": {
    "name": "ipython",
    "version": 2
   },
   "file_extension": ".py",
   "mimetype": "text/x-python",
   "name": "python",
   "nbconvert_exporter": "python",
   "pygments_lexer": "ipython2",
   "version": "2.7.6"
  }
 },
 "nbformat": 4,
 "nbformat_minor": 0
}
