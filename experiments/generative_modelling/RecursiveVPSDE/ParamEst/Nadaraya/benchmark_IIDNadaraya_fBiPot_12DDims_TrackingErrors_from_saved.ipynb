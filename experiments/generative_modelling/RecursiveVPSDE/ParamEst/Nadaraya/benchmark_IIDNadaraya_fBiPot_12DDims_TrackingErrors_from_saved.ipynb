{
 "cells": [
  {
   "cell_type": "code",
   "execution_count": null,
   "metadata": {
    "collapsed": true
   },
   "outputs": [],
   "source": [
    "%load_ext autoreload\n",
    "%autoreload 2\n",
    "import numpy as np\n",
    "import os\n",
    "import matplotlib.pyplot as plt\n",
    "from configs import project_config\n",
    "from configs.RecursiveVPSDE.Markovian_fBiPotDDims.recursive_Markovian_PostMeanScore_fBiPot12Dims_T256_H05_tl_110data_StbleTgt import get_config"
   ]
  },
  {
   "cell_type": "code",
   "execution_count": null,
   "outputs": [],
   "source": [
    "num_paths = 10240\n",
    "root_dir =\"/Users/marcos/Library/CloudStorage/OneDrive-ImperialCollegeLondon/StatML_CDT/Year2/DiffusionModels/\"\n",
    "config = get_config()"
   ],
   "metadata": {
    "collapsed": false
   }
  },
  {
   "cell_type": "code",
   "execution_count": null,
   "outputs": [],
   "source": [
    "def get_drift_files(config, root_dir):\n",
    "    ts_type = f\"{config.ndims}DDims\"\n",
    "    include = (f\"_{num_paths}NPaths_{config.t0}t0_{config.deltaT:.3e}dT_\").replace(\".\", \"\")\n",
    "    root_nadaraya_dir = root_dir + f\"ExperimentResults/Nadaraya/12DDims/\"\n",
    "    true_files = []\n",
    "    local_files = []\n",
    "    for file in os.listdir(root_nadaraya_dir):\n",
    "        print(file)\n",
    "        if \"IIDNadaraya\" in file and ts_type in file and include in file:\n",
    "            if \"true\" in file:\n",
    "                true_files.append(root_nadaraya_dir+file)\n",
    "            elif \"global\" in file:\n",
    "                local_files.append(root_nadaraya_dir+file)\n",
    "    assert len(true_files)>0, \"No true files found\"\n",
    "    assert len(local_files)>0, \"No local files found\"\n",
    "    def extract_bw_number(s):\n",
    "        match = s.split(\"/\")[-1].split(\"_\")[4][:-2]\n",
    "        return float(\"0.\" + match)\n",
    "    true_files = sorted(true_files, key=extract_bw_number)\n",
    "    local_files = sorted(local_files, key=extract_bw_number)\n",
    "    bws = [extract_bw_number(f) for f in true_files]\n",
    "    return true_files, local_files, bws"
   ],
   "metadata": {
    "collapsed": false
   }
  },
  {
   "cell_type": "code",
   "execution_count": null,
   "outputs": [],
   "source": [
    "true_files, local_files, bws = get_drift_files(config=config, root_dir=root_dir)\n",
    "local_files"
   ],
   "metadata": {
    "collapsed": false
   }
  },
  {
   "cell_type": "code",
   "execution_count": null,
   "outputs": [],
   "source": [
    "curr_rmse = np.inf\n",
    "toSave = True\n",
    "i = 0\n",
    "for file in zip(*[true_files, local_files, bws]):\n",
    "    bw = file[-1]\n",
    "    all_true_states = np.load(file[0])\n",
    "    all_local_states = np.load(file[1])\n",
    "    if all_local_states.shape[0] != 2: continue\n",
    "    if (len(all_true_states.shape) == len(all_local_states.shape) == 4):\n",
    "        time_steps = np.linspace(config.t0,config.deltaT*all_true_states.shape[2],all_true_states.shape[2])\n",
    "        all_global_errors = np.sum(np.power(all_true_states- all_local_states,2), axis=-1)\n",
    "        all_global_errors=all_global_errors.reshape(-1, all_global_errors.shape[-1])            # (K, N, T)\n",
    "        total_local_errors = np.sqrt(np.mean(all_global_errors, axis=(0)))/np.sqrt(time_steps)\n",
    "        all_paths_err = np.sqrt(all_global_errors)/np.sqrt(time_steps)\n",
    "        total_local_errors[total_local_errors==np.inf] = 0.\n",
    "        all_paths_err[all_paths_err==np.inf] = 0.\n",
    "        total_local_errors_minq, total_local_errors_maxq  = np.quantile(all_paths_err, q=[0.005, 0.995], axis=0) # (T,)\n",
    "        print(total_local_errors[-1], bw, curr_rmse)\n",
    "        i += 1\n",
    "        if i == 1: continue\n",
    "        if total_local_errors[-1]  < curr_rmse:\n",
    "            curr_rmse = total_local_errors[-1]\n",
    "            fig, ax = plt.subplots(figsize=(14,9))\n",
    "            plt.grid(True)\n",
    "            ax.scatter(time_steps, total_local_errors)\n",
    "            plt.fill_between(time_steps,y1=total_local_errors_minq, y2=total_local_errors_maxq, color=\"blue\", alpha=0.4)\n",
    "            ax.set_title(rf\"Pathwise RMSE for Nadaraya Estimator for $\\mu_4$\",fontsize=40)\n",
    "            ax.set_ylabel(\"RMSE\", fontsize=38)\n",
    "            ax.set_xlabel(\"Time Axis\", fontsize=38)\n",
    "            ax.tick_params(labelsize=38)\n",
    "            plt.tight_layout()\n",
    "            if toSave:\n",
    "                plt.savefig((root_dir + f\"DiffusionModelPresentationImages/IIDNadaraya/12DDims/IIDNadaraya_fBiPot_{config.ndims}DDims_DriftTrack_{round(bw, 6)}bw_{round(total_local_errors_minq[-1], 8)}_MinIQR_{round(total_local_errors[-1], 8)}MeanIQR_{round(total_local_errors_maxq[-1], 8)}_MaxIQR\").replace(\".\", \"\")+\".png\")\n",
    "            plt.show()\n",
    "            plt.close()"
   ],
   "metadata": {
    "collapsed": false
   }
  },
  {
   "cell_type": "code",
   "execution_count": null,
   "outputs": [],
   "source": [
    "simpaths=all_local_states.reshape(-1, 257, 12)"
   ],
   "metadata": {
    "collapsed": false
   }
  },
  {
   "cell_type": "code",
   "execution_count": null,
   "outputs": [],
   "source": [
    "true_paths=np.load(config.data_path, allow_pickle=True)[:num_paths, :]"
   ],
   "metadata": {
    "collapsed": false
   }
  },
  {
   "cell_type": "code",
   "execution_count": null,
   "outputs": [],
   "source": [
    "markv=np.load(\"/Users/marcos/Library/CloudStorage/OneDrive-ImperialCollegeLondon/StatML_CDT/Year2/DiffusionModels/ExperimentResults/TSPM_Markovian/12DDims/TSPM_MLP_ST_0010FTh_fBiPot_12DDims_OOSDriftTrack_496Nep_00t0_3906e-03dT_025a_-20b_00c_10ResLay_2LFac_BetaMax20e+01_global_states.npy\", allow_pickle=True).reshape(-1, 257, 12)"
   ],
   "metadata": {
    "collapsed": false
   }
  },
  {
   "cell_type": "code",
   "execution_count": null,
   "outputs": [],
   "source": [
    "markv.shape"
   ],
   "metadata": {
    "collapsed": false
   }
  },
  {
   "cell_type": "code",
   "execution_count": null,
   "outputs": [],
   "source": [
    "plt.hist(simpaths[:, 1:, 10].flatten(), bins=150, alpha=0.6, density=True, color=\"orange\", label=\"Nadaraya Sim\")\n",
    "plt.hist(markv[:, 1:, 10].flatten(), bins=150, alpha=0.6, density=True, color=\"green\", label=\"Score Sim\")\n",
    "plt.hist(true_paths[:, 10].flatten(), bins=150,alpha=0.3,  density=True, color=\"blue\", label=\"True\")\n",
    "plt.legend()"
   ],
   "metadata": {
    "collapsed": false
   }
  },
  {
   "cell_type": "code",
   "execution_count": null,
   "outputs": [],
   "source": [
    "def get_evalexpdrift_files(config, root_dir):\n",
    "    ts_type = f\"{config.ndims}DDims\"\n",
    "    include = (f\"_{num_paths}NPaths_{config.t0}t0_{config.deltaT:.3e}dT_\").replace(\".\", \"\")\n",
    "    root_nadaraya_dir = root_dir + f\"ExperimentResults/Nadaraya/12DDims/\"\n",
    "    driftevalexp_files = []\n",
    "    for file in os.listdir(root_nadaraya_dir):\n",
    "        if \"EvalExp\" in file and ts_type in file and include in file:\n",
    "            driftevalexp_files.append(root_nadaraya_dir+file)\n",
    "    assert len(driftevalexp_files)>0, \"No evalexp files found\"\n",
    "    def extract_bw_number(s):\n",
    "        match = s.split(\"/\")[-1].split(\"_\")[4][:-2]\n",
    "        return float(\"0.\" + match)\n",
    "    driftevalexp_files = sorted(driftevalexp_files, key=extract_bw_number)\n",
    "    bws = [extract_bw_number(f) for f in driftevalexp_files]\n",
    "    return driftevalexp_files, bws"
   ],
   "metadata": {
    "collapsed": false
   }
  },
  {
   "cell_type": "code",
   "execution_count": null,
   "outputs": [],
   "source": [
    "eval_exp_files, bws = get_evalexpdrift_files(config=config, root_dir=root_dir)\n",
    "bws"
   ],
   "metadata": {
    "collapsed": false
   }
  },
  {
   "cell_type": "code",
   "execution_count": null,
   "outputs": [],
   "source": [
    "def plot_drift_estimator(mean, mean_min, mean_max, numpy_Xs, true_drift, bw,  toSave: bool = False):\n",
    "    fig, axes = plt.subplots(6, 2, figsize=(30, 34))\n",
    "    axes = axes.flatten()  # Flatten to easily index with a single loop\n",
    "    for d in range(mean.shape[-1]):\n",
    "        axes[d].scatter(numpy_Xs[:, d], true_drift[:, d], color=\"red\", label=\"True Drift\")\n",
    "        ymin = mean[:, d] - mean_min[:, d]\n",
    "        ymax = mean_max[:, d] - mean[:, d]\n",
    "        ymin[ymin < 0.] = 0.\n",
    "        ymax[ymax < 0.] = 0.\n",
    "        axes[d].errorbar(numpy_Xs[:, d], mean[:, d], yerr=[ymin, ymax], xerr=None, fmt='o', color=\"blue\", alpha=0.4)\n",
    "        axes[d].errorbar(numpy_Xs[:, d], mean[:, d], label=\"Estimated Drift\", color=\"blue\")\n",
    "        axes[d].set_title(rf\"Nadaraya Estimator for $\\mu_4$\", fontsize=22)\n",
    "        axes[d].tick_params(labelsize=13)\n",
    "        axes[d].set_xlabel(f\"State $X$ at Dimension {d+1}\", fontsize=20)\n",
    "        axes[d].set_ylabel(\"Drift Value\", fontsize=20)\n",
    "        axes[d].legend(fontsize=14)\n",
    "    plt.tight_layout()\n",
    "    if toSave:\n",
    "        plt.savefig((root_dir + f\"DiffusionModelPresentationImages/IIDNadaraya/12DDims/IIDNadaraya_fBiPot_{config.ndims}DDims_DriftEvalExp_{round(bw, 6)}bw\").replace(\".\", \"\")+\".png\")\n",
    "        plt.show()\n",
    "        plt.close()\n",
    "        print(f\"Final time domain MSE local-time error {total_local_errors[-1]} at bw {bw}\\n\")\n",
    "    plt.show()\n",
    "    plt.close()"
   ],
   "metadata": {
    "collapsed": false
   }
  },
  {
   "cell_type": "code",
   "execution_count": null,
   "outputs": [],
   "source": [
    "curr_best_mse = np.inf\n",
    "toSave = True\n",
    "Xshape = 256\n",
    "bw_idx = 0\n",
    "Xs = np.concatenate([np.linspace(-5, 5, num=Xshape).reshape(-1,1), np.linspace(-4.7, 4.7, num=Xshape).reshape(-1,1), \\\n",
    "                                     np.linspace(-4.4, 4.4, num=Xshape).reshape(-1,1), np.linspace(-4.2, 4.2, num=Xshape).reshape(-1,1), \\\n",
    "                                     np.linspace(-4.05, 4.05, num=Xshape).reshape(-1,1), np.linspace(-3.9, 3.9, num=Xshape).reshape(-1,1), \\\n",
    "                                     np.linspace(-3.7, 3.7, num=Xshape).reshape(-1,1), np.linspace(-3.6, 3.6, num=Xshape).reshape(-1,1), \\\n",
    "                                     np.linspace(-3.55, 3.55, num=Xshape).reshape(-1,1),\n",
    "                                     np.linspace(-3.48, 3.48, num=Xshape).reshape(-1,1), \\\n",
    "                                     np.linspace(-3.4, 3.4, num=Xshape).reshape(-1,1), np.linspace(-3.4, 3.4, num=Xshape).reshape(-1,1)],\n",
    "                                    axis=1)\n",
    "is_true_drift = -(4. * np.array(config.quartic_coeff) * np.power(Xs,3) + 2. * np.array(\n",
    "        config.quad_coeff) * Xs + np.array(config.const))\n",
    "is_true_drift = is_true_drift/(1.+config.deltaT*np.abs(is_true_drift))\n",
    "for file in zip(*[eval_exp_files, bws]):\n",
    "    bw = file[-1]\n",
    "    if bw < 0.03: continue\n",
    "    try:\n",
    "        f = np.load(file[0])\n",
    "        is_drift = f.mean(axis=1)\n",
    "        mse =  np.nanmean(np.sum((is_true_drift-is_drift)**2, axis=-1))\n",
    "        if mse < curr_best_mse:\n",
    "            mu_hats_minq = np.quantile(f, q=0.005, axis=1) # Lower bound\n",
    "            mu_hats_maxq = np.quantile(f, q=0.995, axis=1) # uPPER bound\n",
    "            plot_drift_estimator(mean=is_drift, mean_min=mu_hats_minq, mean_max=mu_hats_maxq, numpy_Xs=Xs, true_drift=is_true_drift, bw=bw)\n",
    "            curr_best_mse = mse\n",
    "            print(f\"MSE  {mse} at BW {bw} at BWIDX {bw_idx}\\n\")\n",
    "        bw_idx += 1\n",
    "    except FileNotFoundError as e:\n",
    "        continue"
   ],
   "metadata": {
    "collapsed": false
   }
  },
  {
   "cell_type": "code",
   "execution_count": null,
   "outputs": [],
   "source": [],
   "metadata": {
    "collapsed": false
   }
  }
 ],
 "metadata": {
  "kernelspec": {
   "display_name": "Python 3",
   "language": "python",
   "name": "python3"
  },
  "language_info": {
   "codemirror_mode": {
    "name": "ipython",
    "version": 2
   },
   "file_extension": ".py",
   "mimetype": "text/x-python",
   "name": "python",
   "nbconvert_exporter": "python",
   "pygments_lexer": "ipython2",
   "version": "2.7.6"
  }
 },
 "nbformat": 4,
 "nbformat_minor": 0
}
