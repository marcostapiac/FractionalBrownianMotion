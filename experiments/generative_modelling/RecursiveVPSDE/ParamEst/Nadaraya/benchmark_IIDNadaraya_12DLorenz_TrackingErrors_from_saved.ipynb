{
 "cells": [
  {
   "cell_type": "code",
   "execution_count": 7,
   "metadata": {
    "collapsed": true
   },
   "outputs": [
    {
     "name": "stdout",
     "output_type": "stream",
     "text": [
      "The autoreload extension is already loaded. To reload it, use:\n",
      "  %reload_ext autoreload\n"
     ]
    }
   ],
   "source": [
    "%load_ext autoreload\n",
    "%autoreload 2\n",
    "import numpy as np\n",
    "import os\n",
    "import matplotlib.pyplot as plt\n",
    "from configs.RecursiveVPSDE.Markovian_12DLorenz.recursive_Markovian_PostMeanScore_12DLorenz_T256_H05_tl_110data_StbleTgt import get_config\n",
    "from configs.RecursiveVPSDE.Markovian_12DLorenz.recursive_Markovian_PostMeanScore_12DLorenz_T256_H05_tl_110data_StbleTgt import get_config\n",
    "from configs.RecursiveVPSDE.Markovian_12DLorenz.recursive_Markovian_PostMeanScore_12DLorenz_T256_H05_tl_110data_StbleTgt import get_config"
   ]
  },
  {
   "cell_type": "code",
   "execution_count": 8,
   "outputs": [],
   "source": [
    "num_paths = 10240\n",
    "root_dir = \"/Users/marcos/Library/CloudStorage/OneDrive-ImperialCollegeLondon/StatML_CDT/Year2/DiffusionModels/\"\n",
    "config = get_config()"
   ],
   "metadata": {
    "collapsed": false
   }
  },
  {
   "cell_type": "code",
   "execution_count": 9,
   "outputs": [],
   "source": [
    "def get_drift_files(config, root_dir ):\n",
    "    ts_type = f\"{config.ndims}DLnz\"\n",
    "    include = (f\"_{num_paths}NPaths_{config.t0}t0_{config.deltaT:.3e}dT_\").replace(\".\", \"\")\n",
    "    root_nadaraya_dir = root_dir + f\"ExperimentResults/Nadaraya/12DLnz/\"\n",
    "    true_files = []\n",
    "    local_files = []\n",
    "    for file in os.listdir(root_nadaraya_dir):\n",
    "        if \"IIDNadaraya\" in file and ts_type in file and include in file and ((f\"{config.forcing_const}FConst\").replace(\".\",\"\") in file):\n",
    "            if \"true\" in file:\n",
    "                true_files.append(root_nadaraya_dir+file)\n",
    "            elif \"local\" in file:\n",
    "                local_files.append(root_nadaraya_dir+file)\n",
    "    assert len(true_files)>0, \"No true files found\"\n",
    "    assert len(local_files)>0, \"No local files found\"\n",
    "    assert (len(true_files) == len(local_files))\n",
    "    def extract_bw_number(s):\n",
    "        match = s.split(\"/\")[-1].split(\"_\")[3][:-2]\n",
    "        return float(\"0.\" + match)\n",
    "    true_files = sorted(true_files, key=extract_bw_number)\n",
    "    local_files = sorted(local_files, key=extract_bw_number)\n",
    "    bws = [extract_bw_number(f) for f in true_files]\n",
    "    return true_files, local_files, bws"
   ],
   "metadata": {
    "collapsed": false
   }
  },
  {
   "cell_type": "code",
   "execution_count": 10,
   "outputs": [
    {
     "data": {
      "text/plain": "['/Users/marcos/Library/CloudStorage/OneDrive-ImperialCollegeLondon/StatML_CDT/Year2/DiffusionModels/ExperimentResults/Nadaraya/12DLnz/IIDNadaraya_f12DLnz_DriftTrack_00001bw_10240NPaths_00t0_3906e-03dT_075FConst_local_states.npy',\n '/Users/marcos/Library/CloudStorage/OneDrive-ImperialCollegeLondon/StatML_CDT/Year2/DiffusionModels/ExperimentResults/Nadaraya/12DLnz/IIDNadaraya_f12DLnz_DriftTrack_000012bw_10240NPaths_00t0_3906e-03dT_075FConst_local_states.npy',\n '/Users/marcos/Library/CloudStorage/OneDrive-ImperialCollegeLondon/StatML_CDT/Year2/DiffusionModels/ExperimentResults/Nadaraya/12DLnz/IIDNadaraya_f12DLnz_DriftTrack_0000145bw_10240NPaths_00t0_3906e-03dT_075FConst_local_states.npy',\n '/Users/marcos/Library/CloudStorage/OneDrive-ImperialCollegeLondon/StatML_CDT/Year2/DiffusionModels/ExperimentResults/Nadaraya/12DLnz/IIDNadaraya_f12DLnz_DriftTrack_0000175bw_10240NPaths_00t0_3906e-03dT_075FConst_local_states.npy',\n '/Users/marcos/Library/CloudStorage/OneDrive-ImperialCollegeLondon/StatML_CDT/Year2/DiffusionModels/ExperimentResults/Nadaraya/12DLnz/IIDNadaraya_f12DLnz_DriftTrack_000021bw_10240NPaths_00t0_3906e-03dT_075FConst_local_states.npy']"
     },
     "execution_count": 10,
     "metadata": {},
     "output_type": "execute_result"
    }
   ],
   "source": [
    "config = get_config()\n",
    "true_files, local_files, bws = get_drift_files(config=config, root_dir=root_dir)\n",
    "local_files"
   ],
   "metadata": {
    "collapsed": false
   }
  },
  {
   "cell_type": "code",
   "execution_count": 11,
   "outputs": [
    {
     "name": "stdout",
     "output_type": "stream",
     "text": [
      "nan nan inf 0\n",
      "nan nan inf 1\n",
      "nan nan inf 2\n",
      "nan nan inf 3\n",
      "nan nan inf 4\n"
     ]
    }
   ],
   "source": [
    "curr_rmse = np.inf\n",
    "toSave = False\n",
    "i = 0\n",
    "for file in zip(*[true_files, local_files, bws]):\n",
    "    bw = file[-1]\n",
    "    all_true_states = np.load(file[0])/np.sqrt(config.deltaT)\n",
    "    all_local_states = np.load(file[1])/np.sqrt(config.deltaT)\n",
    "    try:\n",
    "        if (len(all_true_states.shape) == len(all_local_states.shape) == 4):\n",
    "            all_local_errors = np.cumsum(np.mean(np.power(all_true_states- all_local_states,2), axis=(1,3)), axis=-1)/np.arange(1, all_local_states.shape[2]+1)\n",
    "            total_local_errors = np.mean((all_local_errors), axis=0)\n",
    "            total_local_errors_minq = np.quantile((all_local_errors), axis=0,q=0.025)\n",
    "            total_local_errors_maxq = np.quantile((all_local_errors), axis=0,q=0.975)\n",
    "            print(total_local_errors[-1], total_local_errors_maxq[-1]-total_local_errors_minq[-1], curr_rmse, i)\n",
    "            i += 1\n",
    "            if i  <39: raise FileNotFoundError\n",
    "            if total_local_errors[-1]  < curr_rmse:\n",
    "                miny = total_local_errors-total_local_errors_minq\n",
    "                miny[miny < 0.] = 0.\n",
    "                maxy = total_local_errors_maxq-total_local_errors\n",
    "                maxy[maxy < 0.] = 0.\n",
    "                time_steps = np.linspace(config.t0,config.deltaT*total_local_errors.shape[0],total_local_errors.shape[0])\n",
    "                curr_rmse = total_local_errors[-1]\n",
    "                fig, ax = plt.subplots(figsize=(14,9))\n",
    "                ax.scatter(np.linspace(config.t0,config.deltaT*total_local_errors.shape[0],total_local_errors.shape[0]), total_local_errors)\n",
    "                plt.errorbar(time_steps,total_local_errors,yerr=[miny, maxy],xerr=None, fmt='o', color=\"blue\", alpha=0.4)\n",
    "                ax.set_title(f\"Cumulative MSE for Nadaraya Estimator\",fontsize=40)\n",
    "                ax.set_ylabel(\"MSE\", fontsize=38)\n",
    "                ax.set_xlabel(\"Time Axis\", fontsize=38)\n",
    "                ax.tick_params(labelsize=38)\n",
    "                plt.tight_layout()\n",
    "                if toSave:\n",
    "                    print(root_dir + f\"DiffusionModelPresentationImages/\")\n",
    "                    plt.savefig((root_dir + f\"DiffusionModelPresentationImages/IIDNadaraya_{config.ndims}DLnz_DriftTrack_{round(bw, 6)}bw_{config.forcing_const}FConst_{config.forcing_const}FConst_{round(total_local_errors_minq[-1], 8)}_MinIQR_{round(total_local_errors[-1], 8)}MeanIQR_{round(total_local_errors_maxq[-1], 8)}_MaxIQR\").replace(\".\", \"\")+\".png\")\n",
    "                plt.show()\n",
    "                plt.close()\n",
    "                print(f\"Final time cumulative MSE local-time error {total_local_errors[-1]} with IQR ({total_local_errors_minq[-1], total_local_errors_maxq[-1]})at bw {bw} for {config.forcing_const}FConst\\n\")\n",
    "            print(f\"Bandwidth, BWIDX, Error Mean, Error IQR, CurrMSE {bw, np.argwhere(np.array(bws)==bw)[0,0], total_local_errors[-1], total_local_errors_maxq[-1]-total_local_errors_minq[-1], curr_rmse}\\n\")\n",
    "    except FileNotFoundError:\n",
    "        pass"
   ],
   "metadata": {
    "collapsed": false
   }
  },
  {
   "cell_type": "code",
   "execution_count": 12,
   "outputs": [
    {
     "ename": "IndexError",
     "evalue": "list index out of range",
     "output_type": "error",
     "traceback": [
      "\u001B[0;31m---------------------------------------------------------------------------\u001B[0m",
      "\u001B[0;31mIndexError\u001B[0m                                Traceback (most recent call last)",
      "Cell \u001B[0;32mIn[12], line 3\u001B[0m\n\u001B[1;32m      1\u001B[0m good_idx \u001B[38;5;241m=\u001B[39m \u001B[38;5;241m46\u001B[39m\n\u001B[1;32m      2\u001B[0m bad_idx \u001B[38;5;241m=\u001B[39m \u001B[38;5;241m49\u001B[39m\n\u001B[0;32m----> 3\u001B[0m good_true \u001B[38;5;241m=\u001B[39m np\u001B[38;5;241m.\u001B[39mload(\u001B[43mtrue_files\u001B[49m\u001B[43m[\u001B[49m\u001B[43mgood_idx\u001B[49m\u001B[43m]\u001B[49m)[\u001B[38;5;241m0\u001B[39m, :, :, :]\n\u001B[1;32m      4\u001B[0m good_local \u001B[38;5;241m=\u001B[39m np\u001B[38;5;241m.\u001B[39mload(local_files[good_idx])[\u001B[38;5;241m0\u001B[39m, :,:, :]\n\u001B[1;32m      5\u001B[0m bad_true \u001B[38;5;241m=\u001B[39m np\u001B[38;5;241m.\u001B[39mload(true_files[bad_idx])[\u001B[38;5;241m0\u001B[39m, :, :, :]\n",
      "\u001B[0;31mIndexError\u001B[0m: list index out of range"
     ]
    }
   ],
   "source": [
    "good_idx = 46\n",
    "bad_idx = 49\n",
    "good_true = np.load(true_files[good_idx])[0, :, :, :]\n",
    "good_local = np.load(local_files[good_idx])[0, :,:, :]\n",
    "bad_true = np.load(true_files[bad_idx])[0, :, :, :]\n",
    "bad_local = np.load(local_files[bad_idx])[0, :, :,:]\n",
    "print(bad_local.shape, bad_true.shape)\n",
    "B, T, D = bad_local.shape"
   ],
   "metadata": {
    "collapsed": false
   }
  },
  {
   "cell_type": "code",
   "execution_count": null,
   "outputs": [],
   "source": [
    "for dim in range(config.ndims):\n",
    "    dim_idx = dim + 1\n",
    "    time_ax = np.linspace(config.t0,config.deltaT*T,T)\n",
    "    # Print different \"true sample paths\"\n",
    "    fig, axes = plt.subplots(1, 2, figsize=(10, 4))\n",
    "    for _ in range(B):\n",
    "        axes[0].scatter(time_ax, good_true[_, :, dim]-good_local[_, :, dim], color=\"red\", s=1)\n",
    "        axes[1].scatter(time_ax, bad_true[_, :, dim]-bad_local[_, :, dim], color=\"blue\", s=1)\n",
    "    plt.suptitle(f\"True vs Score-Based Path Difference for Dimension {dim_idx}\\n\")\n",
    "    plt.xlabel(\"Time\")\n",
    "    plt.ylabel(\"Path\")\n",
    "    plt.show()\n",
    "    plt.close()"
   ],
   "metadata": {
    "collapsed": false
   }
  },
  {
   "cell_type": "code",
   "execution_count": null,
   "outputs": [],
   "source": [],
   "metadata": {
    "collapsed": false
   }
  }
 ],
 "metadata": {
  "kernelspec": {
   "display_name": "Python 3",
   "language": "python",
   "name": "python3"
  },
  "language_info": {
   "codemirror_mode": {
    "name": "ipython",
    "version": 2
   },
   "file_extension": ".py",
   "mimetype": "text/x-python",
   "name": "python",
   "nbconvert_exporter": "python",
   "pygments_lexer": "ipython2",
   "version": "2.7.6"
  }
 },
 "nbformat": 4,
 "nbformat_minor": 0
}
