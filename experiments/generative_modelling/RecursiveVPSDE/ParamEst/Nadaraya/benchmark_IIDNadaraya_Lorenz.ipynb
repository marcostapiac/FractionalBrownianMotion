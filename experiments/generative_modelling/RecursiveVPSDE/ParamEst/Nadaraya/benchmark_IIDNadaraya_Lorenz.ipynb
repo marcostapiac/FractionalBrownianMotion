{
 "cells": [
  {
   "cell_type": "code",
   "execution_count": 1,
   "metadata": {
    "collapsed": true
   },
   "outputs": [],
   "source": [
    "%load_ext autoreload\n",
    "%autoreload 2\n",
    "import numpy as np\n",
    "from configs import project_config\n",
    "from tqdm import tqdm\n",
    "from scipy.stats import norm\n",
    "from configs.RecursiveVPSDE.LSTM_4DLorenz.recursive_LSTM_PostMeanScore_4DLorenz_T256_H05_tl_110data import get_config\n",
    "from src.classes.ClassFractionalLorenz96 import FractionalLorenz96"
   ]
  },
  {
   "cell_type": "code",
   "execution_count": 2,
   "outputs": [],
   "source": [
    "def gaussian_kernel(bw, x):\n",
    "    return norm.pdf(x / bw) / bw\n",
    "\n",
    "def multivar_gaussian_kernel(bw, x):\n",
    "    D = x.shape[-1]\n",
    "    inv_H = np.diag(np.power(bw,-2))\n",
    "    norm_const = 1 / np.sqrt((2. * np.pi)**D * (1./np.linalg.det(inv_H)))\n",
    "    exponent = -0.5 * np.einsum('...i,ij,...j', x, inv_H, x)\n",
    "    return norm_const * np.exp(exponent)\n",
    "\n",
    "def rmse_ignore_nans(y_true, y_pred):\n",
    "    y_true = y_true.flatten()\n",
    "    y_pred = y_pred.flatten()\n",
    "    mask = ~np.isnan(y_true) & ~np.isnan(y_pred)  # Ignore NaNs in both arrays\n",
    "    return np.sqrt(np.mean((y_true[mask] - y_pred[mask]) ** 2))"
   ],
   "metadata": {
    "collapsed": false
   }
  },
  {
   "cell_type": "code",
   "execution_count": 3,
   "outputs": [],
   "source": [
    "config = get_config()\n",
    "num_paths = 20\n",
    "t0 = config.t0\n",
    "deltaT = config.deltaT\n",
    "t1 = deltaT*config.ts_length\n",
    "# Drift parameters\n",
    "diff = config.diffusion\n",
    "initial_state = np.array(config.initState)\n",
    "rvs = None\n",
    "H = config.hurst"
   ],
   "metadata": {
    "collapsed": false
   }
  },
  {
   "cell_type": "code",
   "execution_count": 4,
   "outputs": [],
   "source": [
    "fLnz = FractionalLorenz96(X0=config.initState,diff=config.diffusion, num_dims=config.ndims, forcing_const=config.forcing_const)\n",
    "is_path_observations  = np.array(\n",
    "        [fLnz.euler_simulation(H=H, N=config.ts_length, deltaT=deltaT, X0=initial_state, Ms=None, gaussRvs=rvs,\n",
    "                               t0=t0, t1=t1) for _ in (range(num_paths))]).reshape(\n",
    "        (num_paths, config.ts_length+1, config.ndims))\n",
    "\n",
    "\n",
    "is_idxs = np.arange(is_path_observations.shape[0])\n",
    "path_observations = is_path_observations[np.random.choice(is_idxs, size=num_paths, replace=False),:,:]\n",
    "# We note that we DO NOT evaluate the drift at time t_{0}=0\n",
    "# We therefore remove the first element of path_observations since it includes X_{t_{0}} = X_{0}\n",
    "# We also remove the last element since we never evaluate the drift at that point\n",
    "t0 = deltaT\n",
    "prevPath_observations = path_observations[:,1:-1,:]\n",
    "# We compute the path incs with respect to the prevPath_observations (since X_{t_{0}} != X_{0})\n",
    "path_incs = np.diff(path_observations, axis=1)[:, 1:,:]\n",
    "assert (prevPath_observations.shape == path_incs.shape)\n",
    "assert (path_incs.shape[1] == config.ts_length - 1)\n",
    "assert (path_observations.shape[1] == prevPath_observations.shape[1] + 2)"
   ],
   "metadata": {
    "collapsed": false
   }
  },
  {
   "cell_type": "code",
   "execution_count": 5,
   "outputs": [],
   "source": [
    "def IID_NW_multivar_estimator(prevPath_observations, path_incs, bw, x, t1, t0, truncate):\n",
    "    N, n, d = prevPath_observations.shape\n",
    "    kernel_weights_unnorm = multivar_gaussian_kernel(bw=bw, x=prevPath_observations[:,:, np.newaxis,:] - x[np.newaxis,np.newaxis, :,:])\n",
    "    denominator = np.sum(kernel_weights_unnorm, axis=(1,0))[:, np.newaxis] / (N*n)\n",
    "    assert (denominator.shape == (x.shape[0], 1))\n",
    "    numerator = np.sum(kernel_weights_unnorm[..., np.newaxis] * path_incs[:, :, np.newaxis, :], axis=(1,0)) / N*(t1 - t0)\n",
    "    assert (numerator.shape == x.shape)\n",
    "    estimator = numerator/denominator\n",
    "    assert (estimator.shape == x.shape)\n",
    "    #assert all([np.all(estimator[i, :] == numerator[i,:]/denominator[i,0]) for i in range(estimator.shape[0])])\n",
    "    # This is the \"truncated\" discrete drift estimator to ensure appropriate risk bounds\n",
    "    if truncate:\n",
    "        m = np.min(denominator[:, 0])\n",
    "        estimator[denominator[:,0] <= m/2., :] = 0.\n",
    "    return estimator"
   ],
   "metadata": {
    "collapsed": false
   }
  },
  {
   "cell_type": "code",
   "execution_count": 6,
   "outputs": [],
   "source": [
    "assert (prevPath_observations.shape[1]*deltaT == (t1-t0))"
   ],
   "metadata": {
    "collapsed": false
   }
  },
  {
   "cell_type": "code",
   "execution_count": 13,
   "outputs": [
    {
     "name": "stdout",
     "output_type": "stream",
     "text": [
      "(20, 4)\n"
     ]
    }
   ],
   "source": [
    "grid_1d = np.logspace(-2, -0.05, 20)\n",
    "#mesh = np.meshgrid(*([grid_1d] * config.ndims), indexing='ij')\n",
    "# Stack and reshape the grid so each row is a point in the n-dimensional grid\n",
    "#bws = np.stack([m.ravel() for m in mesh], axis=-1)\n",
    "bws = np.stack([grid_1d for m in range(config.ndims)], axis=-1)\n",
    "print(bws.shape)"
   ],
   "metadata": {
    "collapsed": false
   }
  },
  {
   "cell_type": "code",
   "execution_count": 8,
   "outputs": [],
   "source": [
    "num_time_steps = 50\n",
    "true_states = np.zeros(shape=(num_paths, 1 + num_time_steps, config.ndims))\n",
    "global_states = np.zeros(shape=(num_paths, 1 + num_time_steps, config.ndims))\n",
    "local_states = np.zeros(shape=(num_paths, 1 + num_time_steps, config.ndims))\n",
    "# Initialise the \"true paths\"\n",
    "true_states[:, [0], :] = config.initState\n",
    "# Initialise the \"global score-based drift paths\"\n",
    "global_states[:, [0], :] = config.initState\n",
    "# Initialise the \"local score-based drift paths\"\n",
    "local_states[:, [0], :] = config.initState"
   ],
   "metadata": {
    "collapsed": false
   }
  },
  {
   "cell_type": "code",
   "execution_count": 9,
   "outputs": [],
   "source": [
    "def true_drift(prev, num_paths, config):\n",
    "    assert (prev.shape == (num_paths, config.ndims))\n",
    "    drift_X = np.zeros((num_paths, config.ndims))\n",
    "    for i in range(config.ndims):\n",
    "        drift_X[:, i] = (prev[:, (i + 1) % config.ndims] - prev[:, i - 2]) * prev[:, i - 1] - prev[:,\n",
    "                                                                                              i] + config.forcing_const\n",
    "    return drift_X[:, np.newaxis, :]"
   ],
   "metadata": {
    "collapsed": false
   }
  },
  {
   "cell_type": "code",
   "execution_count": 10,
   "outputs": [
    {
     "name": "stderr",
     "output_type": "stream",
     "text": [
      "  8%|▊         | 4/50 [00:00<00:01, 35.96it/s]/var/folders/68/vrxg2n311sz1gs264pkys2zh0000gn/T/ipykernel_22250/2402472965.py:8: RuntimeWarning: invalid value encountered in divide\n",
      "  estimator = numerator/denominator\n",
      "100%|██████████| 50/50 [00:01<00:00, 47.17it/s]\n",
      "100%|██████████| 50/50 [00:01<00:00, 46.29it/s]\n",
      "100%|██████████| 50/50 [00:01<00:00, 48.13it/s]\n",
      "100%|██████████| 50/50 [00:01<00:00, 47.95it/s]\n",
      "100%|██████████| 50/50 [00:01<00:00, 47.29it/s]\n",
      "100%|██████████| 50/50 [00:01<00:00, 47.57it/s]\n",
      "100%|██████████| 50/50 [00:01<00:00, 47.90it/s]\n",
      "100%|██████████| 50/50 [00:01<00:00, 47.61it/s]\n",
      "100%|██████████| 50/50 [00:01<00:00, 47.34it/s]\n",
      "100%|██████████| 50/50 [00:01<00:00, 48.12it/s]\n",
      "100%|██████████| 50/50 [00:01<00:00, 48.19it/s]\n",
      "100%|██████████| 50/50 [00:01<00:00, 47.95it/s]\n",
      "100%|██████████| 50/50 [00:01<00:00, 47.55it/s]\n",
      "100%|██████████| 50/50 [00:01<00:00, 47.66it/s]\n",
      "100%|██████████| 50/50 [00:01<00:00, 47.95it/s]\n",
      "100%|██████████| 50/50 [00:01<00:00, 48.52it/s]\n",
      "100%|██████████| 50/50 [00:01<00:00, 48.51it/s]\n",
      "100%|██████████| 50/50 [00:01<00:00, 48.03it/s]\n",
      "100%|██████████| 50/50 [00:01<00:00, 47.82it/s]\n",
      "100%|██████████| 50/50 [00:01<00:00, 47.96it/s]\n"
     ]
    }
   ],
   "source": [
    "# Euler-Maruyama Scheme for Tracking Errors\n",
    "for bw in bws:\n",
    "    for i in tqdm(range(1, num_time_steps + 1)):\n",
    "        eps = np.random.randn(num_paths, 1, config.ndims) * np.sqrt(deltaT)\n",
    "        assert (eps.shape == (num_paths, 1, config.ndims))\n",
    "        true_mean = true_drift(true_states[:, i - 1, :], num_paths=num_paths, config=config)\n",
    "        global_mean = IID_NW_multivar_estimator(prevPath_observations=prevPath_observations, bw=bw, x=global_states[:, i - 1, :], path_incs=path_incs, t1=config.t1, t0=config.t0, truncate=True)[:, np.newaxis, :]\n",
    "        local_mean = IID_NW_multivar_estimator(prevPath_observations=prevPath_observations, bw=bw, x=true_states[:, i - 1, :], path_incs=path_incs, t1=config.t1, t0=config.t0, truncate=True)[:, np.newaxis, :]\n",
    "        #global_score_based_drift(score_model=PM,end_diff_time=end_diff_time,diffusion=diffusion, num_paths=num_paths, ts_step=deltaT,config=config, device=device, prev=global_states[:, i - 1, :])\n",
    "        true_states[:, [i], :] = true_states[:, [i - 1], :]  + true_mean * deltaT + eps\n",
    "        global_states[:, [i], :] = global_states[:, [i - 1], :] + global_mean * deltaT + eps\n",
    "        local_states[:, [i], :] = true_states[:, [i - 1], :] + local_mean * deltaT + eps\n",
    "    save_path = (\n",
    "            project_config.ROOT_DIR + f\"experiments/results/IIDNadaraya_f{config.ndims}DLnz_DriftEvalExp_{round(bw[0], 4)}bw_{num_paths}NPaths_{config.t0}t0_{config.deltaT:.3e}dT\").replace(\n",
    "        \".\", \"\")\n",
    "    np.save(save_path + \"_true_states.npy\", true_states)\n",
    "    np.save(save_path + \"_global_states.npy\", global_states)\n",
    "    np.save(save_path + \"_local_states.npy\", local_states)"
   ],
   "metadata": {
    "collapsed": false
   }
  },
  {
   "cell_type": "code",
   "execution_count": 10,
   "outputs": [],
   "source": [],
   "metadata": {
    "collapsed": false
   }
  }
 ],
 "metadata": {
  "kernelspec": {
   "display_name": "Python 3",
   "language": "python",
   "name": "python3"
  },
  "language_info": {
   "codemirror_mode": {
    "name": "ipython",
    "version": 2
   },
   "file_extension": ".py",
   "mimetype": "text/x-python",
   "name": "python",
   "nbconvert_exporter": "python",
   "pygments_lexer": "ipython2",
   "version": "2.7.6"
  }
 },
 "nbformat": 4,
 "nbformat_minor": 0
}
