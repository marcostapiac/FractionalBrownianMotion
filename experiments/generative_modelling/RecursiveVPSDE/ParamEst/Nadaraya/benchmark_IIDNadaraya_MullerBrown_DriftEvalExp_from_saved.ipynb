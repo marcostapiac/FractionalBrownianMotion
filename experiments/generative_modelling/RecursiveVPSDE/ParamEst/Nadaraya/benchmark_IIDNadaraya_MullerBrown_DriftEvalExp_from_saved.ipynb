{
 "cells": [
  {
   "cell_type": "code",
   "execution_count": 11,
   "metadata": {
    "collapsed": true
   },
   "outputs": [
    {
     "name": "stdout",
     "output_type": "stream",
     "text": [
      "The autoreload extension is already loaded. To reload it, use:\n",
      "  %reload_ext autoreload\n"
     ]
    }
   ],
   "source": [
    "%load_ext autoreload\n",
    "%autoreload 2\n",
    "from configs import project_config\n",
    "import matplotlib.pyplot as plt\n",
    "import numpy as np\n",
    "from configs.RecursiveVPSDE.LSTM_fMullerBrown.recursive_LSTM_PostMeanScore_MullerBrown_T256_H05_tl_110data import get_config"
   ]
  },
  {
   "cell_type": "code",
   "execution_count": 12,
   "outputs": [],
   "source": [
    "config = get_config()"
   ],
   "metadata": {
    "collapsed": false
   }
  },
  {
   "cell_type": "code",
   "execution_count": 13,
   "outputs": [],
   "source": [
    "def rmse_ignore_nans(y_true, y_pred):\n",
    "    assert (y_true.shape == y_pred.shape and len(y_pred.shape) == 1)\n",
    "    y_true = y_true.flatten()\n",
    "    y_pred = y_pred.flatten()\n",
    "    mask = ~np.isnan(y_true) & ~np.isnan(y_pred)  # Ignore NaNs in both arrays\n",
    "    return np.sqrt(np.mean((y_true[mask] - y_pred[mask]) ** 2))"
   ],
   "metadata": {
    "collapsed": false
   }
  },
  {
   "cell_type": "code",
   "execution_count": 14,
   "outputs": [],
   "source": [
    "ts_type = \"MullerBrown\"\n",
    "include = (f\"{config.t0}t0_{config.deltaT:.3e}dT\").replace(\".\", \"\")"
   ],
   "metadata": {
    "collapsed": false
   }
  },
  {
   "cell_type": "code",
   "execution_count": 15,
   "outputs": [
    {
     "name": "stdout",
     "output_type": "stream",
     "text": [
      "0 MullerBrown\n"
     ]
    },
    {
     "ename": "AssertionError",
     "evalue": "No files found",
     "output_type": "error",
     "traceback": [
      "\u001B[0;31m---------------------------------------------------------------------------\u001B[0m",
      "\u001B[0;31mAssertionError\u001B[0m                            Traceback (most recent call last)",
      "Cell \u001B[0;32mIn[15], line 8\u001B[0m\n\u001B[1;32m      6\u001B[0m         keepfiles\u001B[38;5;241m.\u001B[39mappend(root_dir\u001B[38;5;241m+\u001B[39mfile)\n\u001B[1;32m      7\u001B[0m \u001B[38;5;28mprint\u001B[39m(\u001B[38;5;28mlen\u001B[39m(keepfiles), ts_type)\n\u001B[0;32m----> 8\u001B[0m \u001B[38;5;28;01massert\u001B[39;00m \u001B[38;5;28mlen\u001B[39m(keepfiles)\u001B[38;5;241m>\u001B[39m\u001B[38;5;241m0\u001B[39m, \u001B[38;5;124m\"\u001B[39m\u001B[38;5;124mNo files found\u001B[39m\u001B[38;5;124m\"\u001B[39m\n\u001B[1;32m      9\u001B[0m \u001B[38;5;28;01mdef\u001B[39;00m \u001B[38;5;21mextract_bw_number\u001B[39m(s):\n\u001B[1;32m     10\u001B[0m     match \u001B[38;5;241m=\u001B[39m s\u001B[38;5;241m.\u001B[39msplit(\u001B[38;5;124m\"\u001B[39m\u001B[38;5;124m/\u001B[39m\u001B[38;5;124m\"\u001B[39m)[\u001B[38;5;241m-\u001B[39m\u001B[38;5;241m1\u001B[39m]\u001B[38;5;241m.\u001B[39msplit(\u001B[38;5;124m\"\u001B[39m\u001B[38;5;124m_\u001B[39m\u001B[38;5;124m\"\u001B[39m)[\u001B[38;5;241m3\u001B[39m][:\u001B[38;5;241m-\u001B[39m\u001B[38;5;241m2\u001B[39m]\n",
      "\u001B[0;31mAssertionError\u001B[0m: No files found"
     ]
    }
   ],
   "source": [
    "import os\n",
    "keepfiles = []\n",
    "root_dir = project_config.ROOT_DIR + f\"experiments/results/\"\n",
    "for file in os.listdir(root_dir):\n",
    "    if \"Nadaraya\" in file and ts_type in file and include in file and \"DriftEvalExp\" in file:\n",
    "        keepfiles.append(root_dir+file)\n",
    "print(len(keepfiles), ts_type)\n",
    "assert len(keepfiles)>0, \"No files found\"\n",
    "def extract_bw_number(s):\n",
    "    match = s.split(\"/\")[-1].split(\"_\")[3][:-2]\n",
    "    return float(\"0.\" + match)\n",
    "\n",
    "keepfiles = sorted(keepfiles, key=extract_bw_number)\n",
    "Xshape = np.load(keepfiles[0]).shape[0]\n",
    "bws = [extract_bw_number(f) for f in keepfiles]"
   ],
   "metadata": {
    "collapsed": false
   }
  },
  {
   "cell_type": "code",
   "execution_count": null,
   "outputs": [],
   "source": [
    "def find_true_drift(prev, numXs, config):\n",
    "    assert (prev.shape == (numXs, config.ndims))\n",
    "    Aks = np.array(config.Aks)[np.newaxis, :]\n",
    "    aks = np.array(config.aks)[np.newaxis, :]\n",
    "    bks = np.array(config.bks)[np.newaxis, :]\n",
    "    cks = np.array(config.cks)[np.newaxis, :]\n",
    "    X0s = np.array(config.X0s)[np.newaxis, :]\n",
    "    Y0s = np.array(config.Y0s)[np.newaxis, :]\n",
    "    common = Aks * np.exp(aks* np.power(prev[:,[0]] - X0s, 2) \\\n",
    "                                 + bks* (prev[:,[0]] - X0s) * (prev[:, [1]] - Y0s)\n",
    "                                 + cks* np.power(prev[:, [1]] - Y0s, 2))\n",
    "    assert (common.shape == (numXs, 4))\n",
    "    drift_X = np.zeros((numXs, config.ndims))\n",
    "    drift_X[:, 0] = -np.sum(common * (2. * aks* (prev[:, [0]] - X0s) + bks* (prev[:, [1]] - Y0s)), axis=1)\n",
    "    drift_X[:, 1] = -np.sum(common * (2. * cks* (prev[:, [1]] - Y0s) + bks* (prev[:, [0]] - X0s)), axis=1)\n",
    "\n",
    "    return drift_X"
   ],
   "metadata": {
    "collapsed": false
   }
  },
  {
   "cell_type": "code",
   "execution_count": null,
   "outputs": [],
   "source": [
    "numXs = 25\n",
    "minx = -1.\n",
    "maxx = -0.9\n",
    "Xs = np.linspace(minx, maxx, numXs)\n",
    "miny = 1.\n",
    "maxy = 1.1\n",
    "Ys = np.linspace(miny, maxy, numXs)\n",
    "X, Y = np.meshgrid(Xs, Ys)\n",
    "Xs = np.column_stack([X.ravel(), Y.ravel()])\n",
    "num_paths = 10952\n",
    "is_true_drifts = find_true_drift(prev=Xs, numXs=Xshape, config=config)\n",
    "print(ts_type)"
   ],
   "metadata": {
    "collapsed": false
   }
  },
  {
   "cell_type": "code",
   "execution_count": null,
   "outputs": [],
   "source": [
    "def plot_drift_estimator(mean, true_drift, coords, ts_type, bw, toSave:bool = False):\n",
    "    fig, ax = plt.subplots(figsize=(20,12))\n",
    "    rmse = rmse_ignore_nans(true_drift, mean).astype(np.float64)\n",
    "    error_data = np.power(np.mean(np.power(true_drift  - mean,2), axis=-1), 0.5)\n",
    "    assert (error_data.shape == (true_drift.shape[0],))\n",
    "\n",
    "    # Extract x and y from coordinates\n",
    "    x, y = coords[:, 0], coords[:, 1]\n",
    "\n",
    "    # Create a heatmap using tricontourf\n",
    "    plt.tricontourf(x, y, error_data, levels=20, cmap=\"hot\")  # Contour plot with 20 levels\n",
    "    cbar = plt.colorbar(label=\"RMSE Value\")  # Add color bar\n",
    "    cbar.ax.tick_params(labelsize=38)  # Change font size of numbers on colorbar\n",
    "    cbar.set_label(\"RMSE Value\", fontsize=38)\n",
    "    ax.set_title(rf\"RMSE {round(rmse,3)} for LSTM Score Estimator\", fontsize=40)\n",
    "    ax.tick_params(labelsize=38)\n",
    "    ax.set_xlabel(\"State $X_{1}$\", fontsize=38)\n",
    "    ax.set_ylabel(\"State $X_{2}$\", fontsize=38)\n",
    "    ax.legend(fontsize=24)\n",
    "    plt.tight_layout()\n",
    "    plt.show()\n",
    "    plt.close()"
   ],
   "metadata": {
    "collapsed": false
   }
  },
  {
   "cell_type": "code",
   "execution_count": null,
   "outputs": [],
   "source": [
    "best_rmse = np.inf\n",
    "toSave = False\n",
    "for fidx in keepfiles:\n",
    "    f = keepfiles[fidx]\n",
    "    bw = bws[fidx]\n",
    "    try:\n",
    "        print(f)\n",
    "        is_drift = np.load(f).mean(axis=1)\n",
    "        assert (is_drift.shape == Xs.shape)\n",
    "        fig, ax = plt.subplots(figsize=(14,9))\n",
    "        rmse = rmse_ignore_nans(is_true_drifts, is_drift).astype(np.float64)#np.power(np.mean(np.power(true_drift - mean, 2)), 0.5)\n",
    "        if rmse < np.inf*best_rmse:\n",
    "            best_rmse = rmse\n",
    "            plot_drift_estimator(mean=is_drift, toSave=toSave, true_drift=is_true_drifts, ts_type=ts_type, bw=bw, coords=Xs)\n",
    "        print(f\"Bandwidth {bw} done with Best RMSE {best_rmse}\\n\\n\\n\\n\")\n",
    "    except ValueError as e:\n",
    "        plt.close()\n",
    "        continue\n"
   ],
   "metadata": {
    "collapsed": false
   }
  },
  {
   "cell_type": "code",
   "execution_count": null,
   "outputs": [],
   "source": [],
   "metadata": {
    "collapsed": false
   }
  },
  {
   "cell_type": "code",
   "execution_count": null,
   "outputs": [],
   "source": [],
   "metadata": {
    "collapsed": false
   }
  },
  {
   "cell_type": "code",
   "execution_count": null,
   "outputs": [],
   "source": [],
   "metadata": {
    "collapsed": false
   }
  },
  {
   "cell_type": "code",
   "execution_count": null,
   "outputs": [],
   "source": [],
   "metadata": {
    "collapsed": false
   }
  }
 ],
 "metadata": {
  "kernelspec": {
   "display_name": "Python 3",
   "language": "python",
   "name": "python3"
  },
  "language_info": {
   "codemirror_mode": {
    "name": "ipython",
    "version": 2
   },
   "file_extension": ".py",
   "mimetype": "text/x-python",
   "name": "python",
   "nbconvert_exporter": "python",
   "pygments_lexer": "ipython2",
   "version": "2.7.6"
  }
 },
 "nbformat": 4,
 "nbformat_minor": 0
}
