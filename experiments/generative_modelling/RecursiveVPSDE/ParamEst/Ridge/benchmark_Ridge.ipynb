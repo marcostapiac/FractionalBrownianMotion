{
 "cells": [
  {
   "cell_type": "code",
   "execution_count": null,
   "metadata": {
    "collapsed": true
   },
   "outputs": [],
   "source": [
    "%load_ext autoreload\n",
    "%autoreload 2\n",
    "from tqdm import tqdm\n",
    "from src.classes.ClassFractionalBiPotential import FractionalBiPotential\n",
    "from src.classes.ClassFractionalQuadSin import FractionalQuadSin\n",
    "import matplotlib.pyplot as plt\n",
    "import numpy as np\n",
    "from src.classes.ClassFractionalSinLog import FractionalSinLog\n",
    "#from configs.RecursiveVPSDE.Markovian_fQuadSinHF.recursive_Markovian_PostMeanScore_fQuadSinHF2_LowFTh_T256_H05_tl_110data_StbleTgt import get_config\n",
    "#from configs.RecursiveVPSDE.Markovian_fSinLog.recursive_Markovian_PostMeanScore_fSinLog_LowFTh_T256_H05_tl_110data_StbleTgt import get_config\n",
    "from configs.RecursiveVPSDE.Markovian_fBiPot.recursive_Markovian_PostMeanScore_fBiPot_LowFTh_T256_H05_tl_110data_StbleTgt import get_config"
   ]
  },
  {
   "cell_type": "markdown",
   "source": [
    "# From A ridge estimator of the drift from discrete repeated observations of the solutions of a stochastic differential equation (Denis et al 2021)"
   ],
   "metadata": {
    "collapsed": false
   }
  },
  {
   "cell_type": "code",
   "execution_count": null,
   "outputs": [],
   "source": [
    "config = get_config()"
   ],
   "metadata": {
    "collapsed": false
   }
  },
  {
   "cell_type": "code",
   "execution_count": null,
   "outputs": [],
   "source": [
    "def rmse_ignore_nans(y_true, y_pred):\n",
    "    y_true = y_true.flatten()\n",
    "    y_pred = y_pred.flatten()\n",
    "    mask = ~np.isnan(y_true) & ~np.isnan(y_pred)  # Ignore NaNs in both arrays\n",
    "    return np.mean((y_true[mask] - y_pred[mask]) ** 2)"
   ],
   "metadata": {
    "collapsed": false
   }
  },
  {
   "cell_type": "code",
   "execution_count": null,
   "outputs": [],
   "source": [
    "num_paths = 10240\n",
    "num_time_steps = config.ts_length\n",
    "isUnitInterval = True\n",
    "diff = config.diffusion\n",
    "initial_state = config.initState\n",
    "rvs = None\n",
    "H = config.hurst\n",
    "deltaT = config.deltaT\n",
    "t0 = config.t0\n",
    "t1 = deltaT * num_time_steps\n",
    "try:\n",
    "    paths = np.load(config.data_path, allow_pickle=True)[:num_paths, :]\n",
    "    paths = np.concatenate(\n",
    "        [np.repeat(np.array(config.initState).reshape((1, 1)), paths.shape[0], axis=0),\n",
    "         paths], axis=1)\n",
    "    assert paths.shape == (num_paths, config.ts_length + 1)\n",
    "except (FileNotFoundError, AssertionError) as e:\n",
    "    print(e)\n",
    "    if \"QuadSin\" in config.data_path:\n",
    "        fQuadSin = FractionalQuadSin(quad_coeff=config.quad_coeff, sin_coeff= config.sin_coeff, sin_space_scale=config.sin_space_scale, diff=diff, X0=initial_state)\n",
    "        paths = np.array(\n",
    "            [fQuadSin.euler_simulation(H=H, N=num_time_steps, deltaT=deltaT, isUnitInterval=isUnitInterval, X0=initial_state, Ms=None, gaussRvs=rvs,\n",
    "                                   t0=t0, t1=t1) for _ in (range(num_paths))]).reshape(\n",
    "            (num_paths, num_time_steps+1))\n",
    "    elif \"fSinLog\" in config.data_path:\n",
    "        paths = np.load(config.data_path, allow_pickle=True)[:num_paths, :]\n",
    "        paths = np.concatenate(\n",
    "            [np.repeat(np.array(config.initState).reshape((1, 1)), paths.shape[0], axis=0),\n",
    "             paths], axis=1)\n",
    "        print(paths.shape, num_paths, config.ts_length + 1)\n",
    "        assert paths.shape == (num_paths, config.ts_length + 1)\n",
    "\n",
    "    elif \"fBiPot\" in config.data_path:\n",
    "        fBiPot = FractionalBiPotential(num_dims=config.ndims, const=config.const, quartic_coeff=config.quartic_coeff, quad_coeff = config.quad_coeff, diff=diff, X0=initial_state)\n",
    "        paths = np.array(\n",
    "            [fBiPot.euler_simulation(H=H, N=num_time_steps, deltaT=deltaT, isUnitInterval=isUnitInterval, X0=initial_state, Ms=None, gaussRvs=rvs,\n",
    "                                   t0=t0, t1=t1) for _ in (range(num_paths))]).reshape(\n",
    "            (num_paths, num_time_steps+1))\n",
    "\n",
    "fig, ax = plt.subplots(figsize=(14,9))\n",
    "plt.hist(paths.flatten(), bins=50, density=True)\n",
    "plt.title(\"Histogram of State\", fontsize=24)\n",
    "plt.show()\n",
    "plt.close()\n"
   ],
   "metadata": {
    "collapsed": false
   }
  },
  {
   "cell_type": "code",
   "execution_count": null,
   "outputs": [],
   "source": [
    "print(np.min(paths), np.max(paths))\n",
    "for k in range(num_paths, 1000):\n",
    "    plt.plot(np.arange(1, 258), paths[k,:])\n",
    "plt.show()"
   ],
   "metadata": {
    "collapsed": false
   }
  },
  {
   "cell_type": "code",
   "execution_count": null,
   "outputs": [],
   "source": [
    "def spline_basis(paths, KN, AN, BN, M):\n",
    "    assert (paths.shape[0] >= 1 and len(paths.shape)==2)\n",
    "    assert (AN < BN and KN > 0 and M > 0)\n",
    "    def construct_ith_knot(i, AN, BN, KN):\n",
    "        if i < 0:\n",
    "            return AN\n",
    "        elif i > KN:\n",
    "            return BN\n",
    "        else:\n",
    "            return AN + i*(BN-AN)/KN\n",
    "    def bspline(i, l, u, x, KN, M):\n",
    "        if l == 0 and -M <= i <= KN+M-1:\n",
    "            return ((u[i] <= x) & (x < u[i+1])).astype(float)\n",
    "        elif 1 <= l <= M  and -M <= i <= KN+M-l-1:\n",
    "            num1 = ((x-u[i])/(u[i+l]-u[i]))\n",
    "            num1[np.isinf(num1)] = 0.\n",
    "            num2 = ((-x+u[i+l+1])/(u[i+l+1]-u[i+1]))\n",
    "            num2[np.isinf(num2)] = 0.\n",
    "            return num1*bspline(i=i,l=l-1, u=u, x=x, KN=KN, M=M)+num2*bspline(i=i+1, l=l-1, u=u, x=x, KN=KN, M=M)\n",
    "\n",
    "    knots = {i:construct_ith_knot(i, AN, BN, KN) for i in range(-M, KN+M+1)}\n",
    "    if paths.shape[1] > 1:\n",
    "        paths = paths[:,:-1].flatten()\n",
    "    else:\n",
    "        paths = paths.flatten()\n",
    "    basis = np.array([bspline(i=i, l=M, u=knots, x=paths, KN=KN,M=M) for i in range(-M, KN)]).T\n",
    "    assert (basis.shape == (paths.shape[0], KN+M)), f\"Basis is shape {basis.shape} but should be {(paths.shape[0], KN+M)}\"\n",
    "    assert np.all(basis >= 0.)\n",
    "    return basis\n",
    "\n",
    "import scipy\n",
    "def find_optimal_estimator_coeffs(B, Z, KN, LN, M):\n",
    "    # Precompute certain matrices\n",
    "    BTB = B.T@B\n",
    "    BTZ = (B.T@Z)\n",
    "    const = (KN+M)*LN\n",
    "    if np.all(np.linalg.eigvalsh(BTB)>0.):\n",
    "        print(f\"Matrix BTB is invertible\\n\")\n",
    "        a = np.linalg.inv(BTB)@BTZ\n",
    "        if a.T@a <= const:\n",
    "            print(f\"L2 norm of coefficients automatically satisfies projection constraint\\n\")\n",
    "            return a\n",
    "    I = np.eye(KN+M)\n",
    "    def obj(l):\n",
    "        inv = np.linalg.inv(BTB+l*I) @ BTZ\n",
    "        return np.abs(inv.T@inv - const)\n",
    "    opt = scipy.optimize.minimize(obj, max(0.,-np.min(np.linalg.eigvalsh(BTB)))+1e-12)\n",
    "    lhat = np.inf\n",
    "    while not (opt.success) and not np.allclose(lhat, opt.x):\n",
    "        lhat = opt.x\n",
    "        opt = scipy.optimize.minimize(obj, opt.x)\n",
    "    lhat = opt.x[0]\n",
    "    a = np.atleast_2d(np.linalg.inv(BTB+lhat*I)@BTZ)\n",
    "    assert (np.allclose(a.T@a , const))\n",
    "    return a\n",
    "\n",
    "def construct_estimator(coeffs, B, LN):\n",
    "    drift  = B@coeffs\n",
    "    drift[np.abs(drift) > np.sqrt(LN)] = np.sqrt(LN)*np.sign(drift[np.abs(drift) > np.sqrt(LN)])\n",
    "    return drift\n"
   ],
   "metadata": {
    "collapsed": false
   }
  },
  {
   "cell_type": "code",
   "execution_count": null,
   "outputs": [],
   "source": [
    "config.data_path"
   ],
   "metadata": {
    "collapsed": false
   }
  },
  {
   "cell_type": "code",
   "execution_count": null,
   "outputs": [],
   "source": [
    "AN = -1.5\n",
    "BN = -AN\n",
    "M = 2\n",
    "LN = np.log(num_paths)\n",
    "KNs = {2**p: np.inf for p in [0, 1, 3, 4, 5]}\n",
    "for KN in list(KNs.keys()):\n",
    "    break\n",
    "    B = spline_basis(paths=paths[:num_paths,:], KN=KN, AN=AN, BN=BN, M=M)\n",
    "    Z = np.power(deltaT,-1)*np.diff(paths[:num_paths,:], axis=1).reshape((paths[:num_paths,:].shape[0]*(paths.shape[1]-1),1))\n",
    "    assert (B.shape[0] == Z.shape[0] and len(B.shape)==len(Z.shape) == 2)\n",
    "    coeffs = find_optimal_estimator_coeffs(B=B, Z=Z, KN=KN, LN=LN, M=M)\n",
    "    drift = construct_estimator(coeffs=coeffs, B=B, LN=LN).flatten()\n",
    "    KNs[KN] = np.mean(np.power(drift-Z.flatten(),2)) + 0.1*np.power(np.log(num_paths),2)*(KN+M)/num_paths\n",
    "#KN = list(dict(sorted(KNs.items(), key= lambda item: item[1])).keys())[0]"
   ],
   "metadata": {
    "collapsed": false
   }
  },
  {
   "cell_type": "code",
   "execution_count": null,
   "outputs": [],
   "source": [
    "if \"fQuadSin\" in config.data_path:\n",
    "    minx = -1.5\n",
    "    assert config.sin_space_scale == 25.\n",
    "    ts_type = \"fQuadSin2\"\n",
    "    label = \"$\\mu_{2}$\"\n",
    "    dirname = \"QuadSinHF2\"\n",
    "elif \"fSinLog\" in config.data_path:\n",
    "    minx = -1.5\n",
    "    ts_type = \"fSinLog\"\n",
    "    label = \"$\\mu_{1}$\"\n",
    "    dirname = \"SinLog\"\n",
    "elif \"fBiPot\" in config.data_path:\n",
    "    minx = -1.5\n",
    "    ts_type = \"fBiPot\"\n",
    "    label = \"$\\mu_{3}$\"\n",
    "    dirname = \"BiPot\"\n",
    "maxx = -minx"
   ],
   "metadata": {
    "collapsed": false
   }
  },
  {
   "cell_type": "code",
   "execution_count": null,
   "outputs": [],
   "source": [
    "from IPython.core.magic import register_cell_magic\n",
    "\n",
    "@register_cell_magic\n",
    "def skip(line, cell):\n",
    "    return"
   ],
   "metadata": {
    "collapsed": false
   }
  },
  {
   "cell_type": "code",
   "execution_count": null,
   "outputs": [],
   "source": [
    "KNS = np.arange(1, 60, 1)\n",
    "curr_rmse = np.inf\n",
    "for KN in KNS:\n",
    "    B = spline_basis(paths=paths[:num_paths,:], KN=KN, AN=AN, BN=BN, M=M)\n",
    "    Z = np.power(deltaT,-1)*np.diff(paths[:num_paths,:], axis=1).reshape((paths[:num_paths,:].shape[0]*(paths.shape[1]-1),1))\n",
    "    assert (B.shape[0] == Z.shape[0] and len(B.shape)==len(Z.shape) == 2)\n",
    "    coeffs = find_optimal_estimator_coeffs(B=B, Z=Z, KN=KN, LN=LN, M=M)\n",
    "    ppaths = np.linspace(AN-0.5, BN+0.5, 256).reshape(1, -1)\n",
    "    if \"QuadSin\" in config.data_path:\n",
    "        unif_true_drift = -2.*config.quad_coeff * ppaths[:,:-1].flatten() + config.sin_coeff * config.sin_space_scale*np.sin(config.sin_space_scale*ppaths[:,:-1].flatten())\n",
    "    elif \"fSinLog\" in config.data_path:\n",
    "        unif_true_drift = (-np.sin(config.sin_space_scale*ppaths[:,:-1].flatten())*np.log(1+config.log_space_scale*np.abs(ppaths[:,:-1].flatten()))/config.sin_space_scale).flatten()\n",
    "    elif \"BiPot\" in config.data_path:\n",
    "        unif_true_drift = -(4.*config.quartic_coeff * np.power(ppaths[:,:-1], 3) + 2.*config.quad_coeff * ppaths[:,:-1] + config.const).flatten()\n",
    "    unif_true_drift[ppaths[:,:-1].flatten() < AN] = np.nan\n",
    "    unif_true_drift[ppaths[:,:-1].flatten() > BN] = np.nan\n",
    "    unif_B = spline_basis(paths=ppaths[:,:], KN=KN, AN=AN, BN=BN, M=M)\n",
    "    unif_drift = construct_estimator(coeffs=coeffs, B=unif_B, LN=LN).flatten()\n",
    "    unif_drift[ppaths[:,:-1].flatten() < AN] = np.nan\n",
    "    unif_drift[ppaths[:,:-1].flatten() > BN] = np.nan\n",
    "    rmse = (rmse_ignore_nans(unif_true_drift, unif_drift))\n",
    "    if rmse < curr_rmse:\n",
    "        curr_rmse = rmse\n",
    "        fig, ax = plt.subplots(figsize=(14,9))\n",
    "        plt.scatter(ppaths[:,:-1].flatten(), unif_true_drift, label=\"True Drift\", color=\"red\")\n",
    "        plt.scatter(ppaths[:,:-1].flatten(), unif_drift, label=\"Estimated Drift\",color=\"blue\")\n",
    "        plt.title(rf\"Ridge Estimator for {label}\", fontsize=40)\n",
    "        ax.tick_params(labelsize=38)\n",
    "        plt.grid(True)\n",
    "        plt.ylabel(\"Drift Value\", fontsize=38)\n",
    "        plt.xlabel(r\"State $X$\", fontsize=38)\n",
    "        plt.legend(fontsize=24)\n",
    "        plt.tight_layout()\n",
    "        plt.savefig(f\"/Users/marcos/Library/CloudStorage/OneDrive-ImperialCollegeLondon/StatML_CDT/Year2/DiffusionModels/DiffusionModelPresentationImages/Ridge/{dirname}/Ridge_{ts_type}_DriftEvalExp_{KN}KN_{M}M\".replace(\".\",\"\")+\".png\",  bbox_inches='tight')\n",
    "        plt.show()\n",
    "        plt.close()\n",
    "        print(f\"MSE {rmse} for KN {KN}\")\n",
    "# KN=1, M=3 for fBiPot\n",
    "# KN=43, M=2 for fQuadSin2 (high frequency for clean report)\n",
    "# KN = 8, m=2 for SinLog"
   ],
   "metadata": {
    "collapsed": false
   }
  },
  {
   "cell_type": "code",
   "execution_count": null,
   "outputs": [],
   "source": [
    "def true_drift(prev, num_paths, config):\n",
    "    assert (prev.shape == (num_paths, config.ndims))\n",
    "    if \"BiPot\" in config.data_path:\n",
    "        drift_X = -(4. * config.quartic_coeff * np.power(prev, 3) + 2. * config.quad_coeff * prev + config.const)\n",
    "    elif \"QuadSin\" in config.data_path:\n",
    "        drift_X = -2. * config.quad_coeff * prev + config.sin_coeff * config.sin_space_scale * np.sin(\n",
    "        config.sin_space_scale * prev)\n",
    "    elif \"SinLog\" in config.data_path:\n",
    "        drift_X = (-np.sin(config.sin_space_scale*prev)*np.log(1+config.log_space_scale*np.abs(prev))/config.sin_space_scale)\n",
    "    return drift_X[:, np.newaxis, :]\n"
   ],
   "metadata": {
    "collapsed": false
   }
  },
  {
   "cell_type": "code",
   "execution_count": null,
   "outputs": [],
   "source": [
    "best_rmse = np.inf\n",
    "toSave = True\n",
    "num_time_steps = 256\n",
    "num_state_paths = 100\n",
    "rmse_quantile_nums = 2\n",
    "LN = np.log(num_paths)\n",
    "KNS = np.arange(1, 60, 1)\n",
    "for k_idx in range(len(KNS)):\n",
    "    KN = KNS[k_idx]\n",
    "    all_true_states = np.zeros(shape=(rmse_quantile_nums, num_state_paths, 1 + num_time_steps, config.ndims))\n",
    "    all_global_states = np.zeros(shape=(rmse_quantile_nums, num_state_paths, 1 + num_time_steps, config.ndims))\n",
    "    all_local_states = np.zeros(shape=(rmse_quantile_nums, num_state_paths, 1 + num_time_steps, config.ndims))\n",
    "    assert (all_true_states.shape == all_global_states.shape)\n",
    "    B = spline_basis(paths=paths[:num_paths,:], KN=KN, AN=AN, BN=BN, M=M)\n",
    "    Z = np.power(deltaT,-1)*np.diff(paths[:num_paths,:], axis=1).reshape((paths[:num_paths,:].shape[0]*(paths.shape[1]-1),1))\n",
    "    assert (B.shape[0] == Z.shape[0] and len(B.shape)==len(Z.shape) == 2)\n",
    "    coeffs = find_optimal_estimator_coeffs(B=B, Z=Z, KN=KN, LN=LN, M=M)\n",
    "    for quant_idx in tqdm(range(rmse_quantile_nums)):\n",
    "        true_states = np.zeros(shape=(num_state_paths, 1 + num_time_steps, config.ndims))\n",
    "        global_states = np.zeros(shape=(num_state_paths, 1 + num_time_steps, config.ndims))\n",
    "        local_states = np.zeros(shape=(num_state_paths, 1 + num_time_steps, config.ndims))\n",
    "        # Initialise the \"true paths\"\n",
    "        true_states[:, [0], :] = config.initState\n",
    "        global_states[:, [0], :] = config.initState\n",
    "        local_states[:, [0], :] = config.initState\n",
    "        for i in (range(1, num_time_steps + 1)):\n",
    "            eps = np.random.randn(num_state_paths, 1, config.ndims) * np.sqrt(deltaT)\n",
    "            assert (eps.shape == (num_state_paths, 1, config.ndims))\n",
    "            true_mean = true_drift(true_states[:, i - 1, :], num_paths=num_state_paths, config=config)\n",
    "            global_basis = spline_basis(paths=global_states[:, i - 1, :], KN=KN, AN=AN, BN=BN, M=M)\n",
    "            local_basis = spline_basis(paths=true_states[:, i - 1, :], KN=KN, AN=AN, BN=BN, M=M)\n",
    "            local_mean = construct_estimator(coeffs=coeffs, B=local_basis, LN=LN)[:, np.newaxis, :]\n",
    "            global_mean = construct_estimator(coeffs=coeffs, B=global_basis, LN=LN)[:, np.newaxis, :]\n",
    "            true_states[:, [i], :] = true_states[:, [i - 1], :] + true_mean * deltaT + eps\n",
    "            global_states[:, [i], :] = global_states[:, [i - 1], :] + global_mean * deltaT + eps\n",
    "            local_states[:, [i], :] = true_states[:, [i - 1], :] + local_mean * deltaT + eps\n",
    "        all_true_states[quant_idx, :, :, :] = true_states\n",
    "        all_local_states[quant_idx, :, :, :] = local_states\n",
    "        all_global_states[quant_idx, :, :, :] = global_states\n",
    "\n",
    "    time_steps = np.linspace(config.t0,config.deltaT*all_true_states.shape[2],all_true_states.shape[2])\n",
    "    print(time_steps)\n",
    "    all_global_errors = np.sum(np.power(all_true_states- all_global_states,2), axis=-1)\n",
    "    all_global_errors=all_global_errors.reshape(-1, all_global_errors.shape[-1])            # (K, N, T)\n",
    "    total_local_errors = np.sqrt(np.mean(all_global_errors, axis=(0)))/np.sqrt(time_steps)\n",
    "    all_paths_err = np.sqrt(all_global_errors)/np.sqrt(time_steps)\n",
    "    total_local_errors[total_local_errors==np.inf] = 0.\n",
    "    all_paths_err[all_paths_err==np.inf] = 0.\n",
    "    total_local_errors_minq, total_local_errors_maxq  = np.quantile(all_paths_err, q=[0.005, 0.995], axis=0) # (T,)\n",
    "    print(total_local_errors[-1], (total_local_errors_minq[-1], total_local_errors_maxq[-1]), best_rmse)\n",
    "    if total_local_errors[-1]  < best_rmse:\n",
    "        best_rmse = total_local_errors[-1]\n",
    "        fig, ax = plt.subplots(figsize=(14,9))\n",
    "        plt.grid(True)\n",
    "        ax.scatter(time_steps, total_local_errors)\n",
    "        plt.fill_between(time_steps,y1=total_local_errors_minq, y2=total_local_errors_maxq, color=\"blue\", alpha=0.4)\n",
    "        ax.set_title(f\"Pathwise RMSE for Ridge Estimator for {label}\",fontsize=40)\n",
    "        plt.tight_layout()\n",
    "        ax.set_xlabel(\"Time Axis\", fontsize=38)\n",
    "        ax.tick_params(labelsize=38)\n",
    "\n",
    "        fig.canvas.draw()\n",
    "        # Get the offset text (e.g., '1e-5')\n",
    "        offset_text = ax.yaxis.get_offset_text().get_text()\n",
    "\n",
    "        # Remove the offset text from the axis\n",
    "        ax.yaxis.get_offset_text().set_visible(False)\n",
    "\n",
    "        # Inject the scale into the y-axis label\n",
    "        if offset_text:\n",
    "            ax.set_ylabel(f'RMSE ({offset_text})', fontsize=38)\n",
    "        else:\n",
    "            ax.set_ylabel('RMSE', fontsize=38)\n",
    "        plt.tight_layout()\n",
    "        if toSave:\n",
    "            plt.savefig((f\"/Users/marcos/Library/CloudStorage/OneDrive-ImperialCollegeLondon/StatML_CDT/Year2/DiffusionModels/DiffusionModelPresentationImages/Ridge/{dirname}/Ridge_{ts_type}_DriftTrack_{KN}KN_{M}M_{round(total_local_errors_minq[-1], 8)}_MinIQR_{round(total_local_errors_maxq[-1], 8)}_MaxIQR\").replace(\".\", \"\")+\".png\")\n",
    "        plt.show()\n",
    "        plt.close()\n",
    "        print(f\"Final time cumulative MSE local-time error {total_local_errors[-1]} with IQR {(total_local_errors_minq[-1], total_local_errors_maxq[-1])} at KN {KN}\\n\")\n"
   ],
   "metadata": {
    "collapsed": false
   }
  },
  {
   "cell_type": "code",
   "execution_count": null,
   "outputs": [],
   "source": [],
   "metadata": {
    "collapsed": false
   }
  }
 ],
 "metadata": {
  "kernelspec": {
   "display_name": "Python 3",
   "language": "python",
   "name": "python3"
  },
  "language_info": {
   "codemirror_mode": {
    "name": "ipython",
    "version": 2
   },
   "file_extension": ".py",
   "mimetype": "text/x-python",
   "name": "python",
   "nbconvert_exporter": "python",
   "pygments_lexer": "ipython2",
   "version": "2.7.6"
  }
 },
 "nbformat": 4,
 "nbformat_minor": 0
}
