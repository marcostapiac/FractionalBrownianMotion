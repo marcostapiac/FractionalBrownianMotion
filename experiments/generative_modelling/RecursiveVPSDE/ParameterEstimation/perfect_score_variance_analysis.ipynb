{
 "cells": [
  {
   "cell_type": "code",
   "execution_count": 1,
   "metadata": {
    "collapsed": true
   },
   "outputs": [],
   "source": [
    "import numpy as np\n",
    "from tqdm import tqdm\n",
    "import matplotlib.pyplot as plt\n",
    "from experiments.generative_modelling.estimate_fSDEs import second_order_estimator, estimate_hurst_from_filter"
   ]
  },
  {
   "cell_type": "code",
   "execution_count": 2,
   "outputs": [],
   "source": [
    "# Specify parameters -dXt = -gXtdt+dBt\n",
    "ts_length = 256\n",
    "ts_diff = 1./ts_length\n",
    "mean_rev = 0.8\n",
    "# Specify diffusion model parameters\n",
    "num_diff_steps = 10000\n",
    "data_shape = (2000, 1)\n",
    "beta_max = 20\n",
    "beta_min = 0.0001\n",
    "sample_eps = 0.0001\n",
    "end_diff_time = 1.\n",
    "diff_time_space = np.linspace(sample_eps, end_diff_time, num_diff_steps)\n"
   ],
   "metadata": {
    "collapsed": false
   }
  },
  {
   "cell_type": "code",
   "execution_count": 3,
   "outputs": [],
   "source": [
    "def get_eff_time(diff_time, bmin, bmax):\n",
    "    return bmin*diff_time + 0.5*(diff_time**2)*(bmax-bmin)\n",
    "def get_beta(diff_time, bmin,bmax):\n",
    "    return np.exp(-0.5*get_eff_time(diff_time, bmin, bmax))\n",
    "def get_sigma(beta):\n",
    "    return 1.-np.power(beta, 2)\n",
    "def perfect_score(diff_time, bmin, bmax, ts_step, sample, meanrev, prevpath):\n",
    "    # Perfect score for INCREMENTS\n",
    "    beta_diff = get_beta(diff_time=diff_time, bmin=bmin, bmax=bmax)\n",
    "    sigma_diff = get_sigma(beta=beta_diff)\n",
    "    gradscore = -np.power(sigma_diff+np.power(beta_diff,2)*ts_step, -1)\n",
    "    linscore =  sample - beta_diff*ts_step*(-meanrev*prevpath)\n",
    "    return gradscore*linscore"
   ],
   "metadata": {
    "collapsed": false
   }
  },
  {
   "cell_type": "code",
   "execution_count": null,
   "outputs": [
    {
     "name": "stderr",
     "output_type": "stream",
     "text": [
      " 18%|█▊        | 46/256 [00:53<04:08,  1.18s/it]"
     ]
    }
   ],
   "source": [
    "incs = np.zeros(shape=(data_shape[0], ts_length+1))\n",
    "prev_path = incs[:, [0]]\n",
    "scores = np.zeros(shape=(data_shape[0], ts_length, num_diff_steps))\n",
    "means_low = np.zeros(shape = (data_shape[0], ts_length))\n",
    "means_opt = np.zeros(shape = (data_shape[0], ts_length))\n",
    "means_high = np.zeros(shape = (data_shape[0], ts_length))\n",
    "\n",
    "for t in tqdm(range(ts_length)):\n",
    "    sample = np.random.normal(size=data_shape)\n",
    "    for diff_index in range(num_diff_steps):\n",
    "        diff_time = diff_time_space[num_diff_steps-1-diff_index]\n",
    "        score = perfect_score(diff_time=diff_time, bmin=beta_min, bmax=beta_max, ts_step=ts_diff, sample=sample, meanrev=mean_rev, prevpath=prev_path)\n",
    "        if diff_index == 3214:\n",
    "            beta_diff = get_beta(diff_time=diff_time, bmin=beta_min, bmax=beta_max)\n",
    "            sigma_diff = get_sigma(beta=beta_diff)\n",
    "            mean_est = np.power(beta_diff*ts_diff,-1)*(sigma_diff+np.power(beta_diff,2)*ts_diff)*score + np.power(beta_diff*ts_diff,-1)*sample\n",
    "            means_opt[:, [t]] = mean_est\n",
    "        if diff_index == 100:\n",
    "            beta_diff = get_beta(diff_time=diff_time, bmin=beta_min, bmax=beta_max)\n",
    "            sigma_diff = get_sigma(beta=beta_diff)\n",
    "            mean_est = np.power(beta_diff*ts_diff,-1)*(sigma_diff+np.power(beta_diff,2)*ts_diff)*score + np.power(beta_diff*ts_diff,-1)*sample\n",
    "            means_low[:, [t]] = mean_est\n",
    "        if diff_index == 9999:\n",
    "            beta_diff = get_beta(diff_time=diff_time, bmin=beta_min, bmax=beta_max)\n",
    "            sigma_diff = get_sigma(beta=beta_diff)\n",
    "            mean_est = np.power(beta_diff*ts_diff,-1)*(sigma_diff+np.power(beta_diff,2)*ts_diff)*score + np.power(beta_diff*ts_diff,-1)*sample\n",
    "            means_high[:, [t]] = mean_est\n",
    "        discrete_beta = get_beta(diff_time=diff_time, bmin=beta_min, bmax=beta_max)/num_diff_steps\n",
    "        drift = sample + 0.5 * discrete_beta * sample + discrete_beta * score\n",
    "        diffusion = np.sqrt(1.-discrete_beta)\n",
    "        sample = drift + diffusion*np.random.normal(size=data_shape)\n",
    "        scores[:, [t], [diff_index]] = score\n",
    "    incs[:, [t+1]] = sample\n",
    "    prev_path = np.sum(incs, axis=1)[:, np.newaxis]\n",
    "    assert(prev_path.shape == data_shape)\n",
    "incs = incs[:, 1:]\n",
    "paths = np.cumsum(incs,axis=1)"
   ],
   "metadata": {
    "collapsed": false,
    "pycharm": {
     "is_executing": true
    }
   }
  },
  {
   "cell_type": "code",
   "execution_count": null,
   "outputs": [],
   "source": [
    "if len(paths.shape) == 3:\n",
    "    paths = paths[:,:,0]"
   ],
   "metadata": {
    "collapsed": false,
    "pycharm": {
     "is_executing": true
    }
   }
  },
  {
   "cell_type": "code",
   "execution_count": null,
   "outputs": [],
   "source": [
    "# Construct estimator for mean reversion\n",
    "def mean_rev_estimate_plot(paths):\n",
    "    augdata = np.concatenate([np.zeros(shape=(paths.shape[0], 1)), paths], axis=1)\n",
    "    denom = np.sum(np.power(augdata[:, :-1], 2), axis=1) * (1. / ts_length)\n",
    "    diffs = np.diff(augdata, n=1, axis=1)\n",
    "    num = np.sum(augdata[:, :-1] * diffs, axis=1)\n",
    "    estimators = -num / denom\n",
    "    plt.hist(estimators, bins=150, density=True)\n",
    "    plt.vlines(x=mean_rev, ymin=0, ymax=0.25, label=\"\", color='b')\n",
    "    plt.title(\"Estimator\")\n",
    "    plt.legend()\n",
    "    plt.show()\n",
    "    plt.close()\n"
   ],
   "metadata": {
    "collapsed": false,
    "pycharm": {
     "is_executing": true
    }
   }
  },
  {
   "cell_type": "code",
   "execution_count": null,
   "outputs": [],
   "source": [
    "mean_rev_estimate_plot(paths=paths)"
   ],
   "metadata": {
    "collapsed": false,
    "pycharm": {
     "is_executing": true
    }
   }
  },
  {
   "cell_type": "code",
   "execution_count": null,
   "outputs": [],
   "source": [
    "for _ in range(paths.shape[0]):\n",
    "    plt.plot(np.linspace(0, 1, ts_length), paths[_, :])\n",
    "plt.show()\n",
    "plt.close()\n",
    "#Estimate Hurst indices from paths\n",
    "U_a1, U_a2 = second_order_estimator(paths=paths, Nsamples=paths.shape[0])\n",
    "estimate_hurst_from_filter(Ua1=U_a1, Ua2=U_a2, epoch=0).flatten()"
   ],
   "metadata": {
    "collapsed": false,
    "pycharm": {
     "is_executing": true
    }
   }
  },
  {
   "cell_type": "code",
   "execution_count": null,
   "outputs": [],
   "source": [
    "def means_lin_reg(means, paths, type):\n",
    "    N = means.shape[1]\n",
    "    mean_revs = []\n",
    "    for pathidx in tqdm(range(data_shape[0])):\n",
    "        ys = means[pathidx, :].flatten().reshape((N, 1))\n",
    "        designmat = paths[pathidx, :-1].flatten().reshape((N, 1))\n",
    "        meanrev = -np.linalg.solve(designmat.T @ designmat, designmat.T @ ys)\n",
    "        mean_revs.append(float(meanrev))\n",
    "    plt.hist(mean_revs, bins=150, density=True)\n",
    "    plt.xlim((-2, 2))\n",
    "    plt.title(f\"Mean Rev LinReg Estimates for {type} with std {np.std(mean_revs)}\")\n",
    "    plt.show()\n",
    "    plt.close()"
   ],
   "metadata": {
    "collapsed": false,
    "pycharm": {
     "is_executing": true
    }
   }
  },
  {
   "cell_type": "code",
   "execution_count": null,
   "outputs": [],
   "source": [
    "means_lin_reg(means_low[:, 1:], paths, \"low\")\n",
    "means_lin_reg(means_opt[:, 1:], paths, \"opt\")\n",
    "means_lin_reg(means_high[:, 1:], paths, \"low\")"
   ],
   "metadata": {
    "collapsed": false,
    "pycharm": {
     "is_executing": true
    }
   }
  },
  {
   "cell_type": "code",
   "execution_count": null,
   "outputs": [],
   "source": [
    "for idx in range(data_shape[0]):\n",
    "    path = paths[idx,:-1]\n",
    "    meansl = means_opt[idx, 1:]\n",
    "    plt.plot(path, meansl)\n",
    "    plt.plot(paths, -mean_rev*paths, color=\"blue\")\n",
    "    plt.show()"
   ],
   "metadata": {
    "collapsed": false,
    "pycharm": {
     "is_executing": true
    }
   }
  },
  {
   "cell_type": "code",
   "execution_count": null,
   "outputs": [],
   "source": [],
   "metadata": {
    "collapsed": false
   }
  }
 ],
 "metadata": {
  "kernelspec": {
   "display_name": "Python 3",
   "language": "python",
   "name": "python3"
  },
  "language_info": {
   "codemirror_mode": {
    "name": "ipython",
    "version": 2
   },
   "file_extension": ".py",
   "mimetype": "text/x-python",
   "name": "python",
   "nbconvert_exporter": "python",
   "pygments_lexer": "ipython2",
   "version": "2.7.6"
  }
 },
 "nbformat": 4,
 "nbformat_minor": 0
}
