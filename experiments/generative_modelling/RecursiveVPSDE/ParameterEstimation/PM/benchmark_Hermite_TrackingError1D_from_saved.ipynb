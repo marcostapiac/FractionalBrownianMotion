{
 "cells": [
  {
   "cell_type": "code",
   "execution_count": 15,
   "metadata": {
    "collapsed": true
   },
   "outputs": [
    {
     "name": "stdout",
     "output_type": "stream",
     "text": [
      "The autoreload extension is already loaded. To reload it, use:\n",
      "  %reload_ext autoreload\n"
     ]
    }
   ],
   "source": [
    "%load_ext autoreload\n",
    "%autoreload 2\n",
    "import os\n",
    "from configs import project_config\n",
    "import matplotlib.pyplot as plt\n",
    "import numpy as np\n",
    "from configs.RecursiveVPSDE.LSTM_fQuadSinHF.recursive_LSTM_PostMeanScore_fQuadSinHF_T256_H05_tl_110data import \\\n",
    "    get_config\n",
    "from configs.RecursiveVPSDE.LSTM_fBiPot.recursive_LSTM_PostMeanScore_fBiPot_T256_H05_tl_110data import get_config"
   ]
  },
  {
   "cell_type": "code",
   "execution_count": 17,
   "outputs": [],
   "source": [
    "def rmse_ignore_nans(y_true, y_pred):\n",
    "    assert (y_true.shape == y_pred.shape and len(y_pred.shape) == 1)\n",
    "    y_true = y_true.flatten()\n",
    "    y_pred = y_pred.flatten()\n",
    "    mask = ~np.isnan(y_true) & ~np.isnan(y_pred)  # Ignore NaNs in both arrays\n",
    "    return np.sqrt(np.mean((y_true[mask] - y_pred[mask]) ** 2))"
   ],
   "metadata": {
    "collapsed": false
   }
  },
  {
   "cell_type": "code",
   "execution_count": 19,
   "outputs": [],
   "source": [
    "def get_drift_files(config, num_paths):\n",
    "    ts_type = \"QuadSinHF\" if \"QuadSinHF\" in config.data_path else \"BiPot\"\n",
    "    ts_type = f\"{ts_type}\"\n",
    "    print(ts_type)\n",
    "    include = f\"_{num_paths}NPaths_{config.t0}t0_{config.deltaT:.3e}dT_\".replace(\".\", \"\")\n",
    "    root_dir = project_config.ROOT_DIR + f\"experiments/results/\"\n",
    "    global_files = []\n",
    "    true_files = []\n",
    "    local_files = []\n",
    "    for file in os.listdir(root_dir):\n",
    "        if \"Hermite\" in file and ts_type in file and include in file and \"DriftTrack\" in file:\n",
    "            if \"global\" in file:\n",
    "                global_files.append(root_dir+file)\n",
    "            elif \"true\" in file:\n",
    "                true_files.append(root_dir+file)\n",
    "            elif \"local\" in file:\n",
    "                local_files.append(root_dir+file)\n",
    "    assert len(global_files)>0, \"No global files found\"\n",
    "    assert len(true_files)>0, \"No true files found\"\n",
    "    assert len(local_files)>0, \"No local files found\"\n",
    "    assert (len(global_files) == len(true_files) == len(local_files))\n",
    "    def extract_bw_number(s):\n",
    "        match = s.split(\"/\")[-1].split(\"_\")\n",
    "        print(match)\n",
    "        match = match[3][:-2]\n",
    "        return int(match)\n",
    "    global_files = sorted(global_files, key=extract_bw_number)\n",
    "    true_files = sorted(true_files, key=extract_bw_number)\n",
    "    local_files = sorted(local_files, key=extract_bw_number)\n",
    "    Rs = [extract_bw_number(f) for f in global_files]\n",
    "    return global_files, true_files, local_files, Rs"
   ],
   "metadata": {
    "collapsed": false
   }
  },
  {
   "cell_type": "code",
   "execution_count": null,
   "outputs": [],
   "source": [
    "config = get_config()\n",
    "global_files, true_files, local_files, Rs = get_drift_files(config=config, num_paths=10952)\n",
    "global_files"
   ],
   "metadata": {
    "collapsed": false
   }
  },
  {
   "cell_type": "code",
   "execution_count": null,
   "outputs": [],
   "source": [
    "local_bw_rmses = {}\n",
    "global_bw_rmses = {}\n",
    "for file in zip(*[global_files, true_files, local_files, Rs]):\n",
    "    R = file[-1]\n",
    "    true_states = np.load(file[0])/np.sqrt(config.deltaT)\n",
    "    local_states = np.load(file[2])/np.sqrt(config.deltaT)\n",
    "    local_errors = np.power(np.cumsum(np.mean(np.power(true_states- local_states,2), axis=0), axis=0), 0.5)\n",
    "    fig, ax = plt.subplots(figsize=(14,9))\n",
    "    total_local_errors = np.power(np.sum(np.power(local_errors, 2), axis=1)/np.arange(1, local_errors.shape[0]+1), 0.5)\n",
    "    ax.scatter(np.linspace(config.t0,config.deltaT*total_local_errors.shape[0],total_local_errors.shape[0]), total_local_errors)\n",
    "    ax.set_title(f\"Cumulative RMSE for Hermite Estimator\", fontsize=40)\n",
    "    ax.set_ylabel(\"RMSE\", fontsize=38)\n",
    "    ax.set_xlabel(\"Time Axis\", fontsize=38)\n",
    "    ax.tick_params(labelsize=38)\n",
    "    plt.tight_layout()\n",
    "    plt.show()\n",
    "    plt.close()"
   ],
   "metadata": {
    "collapsed": false
   }
  },
  {
   "cell_type": "code",
   "execution_count": 21,
   "outputs": [],
   "source": [],
   "metadata": {
    "collapsed": false
   }
  },
  {
   "cell_type": "code",
   "execution_count": 21,
   "outputs": [],
   "source": [],
   "metadata": {
    "collapsed": false
   }
  }
 ],
 "metadata": {
  "kernelspec": {
   "display_name": "Python 3",
   "language": "python",
   "name": "python3"
  },
  "language_info": {
   "codemirror_mode": {
    "name": "ipython",
    "version": 2
   },
   "file_extension": ".py",
   "mimetype": "text/x-python",
   "name": "python",
   "nbconvert_exporter": "python",
   "pygments_lexer": "ipython2",
   "version": "2.7.6"
  }
 },
 "nbformat": 4,
 "nbformat_minor": 0
}
