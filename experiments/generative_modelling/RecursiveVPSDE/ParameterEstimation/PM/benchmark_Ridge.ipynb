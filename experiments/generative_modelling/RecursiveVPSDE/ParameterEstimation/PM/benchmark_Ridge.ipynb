{
 "cells": [
  {
   "cell_type": "code",
   "execution_count": 34,
   "metadata": {
    "collapsed": true
   },
   "outputs": [
    {
     "name": "stdout",
     "output_type": "stream",
     "text": [
      "The autoreload extension is already loaded. To reload it, use:\n",
      "  %reload_ext autoreload\n"
     ]
    }
   ],
   "source": [
    "%load_ext autoreload\n",
    "%autoreload 2\n",
    "import matplotlib.pyplot as plt\n",
    "from src.classes.ClassFractionalSin import FractionalSin\n",
    "from tqdm import tqdm\n",
    "import numpy as np\n",
    "import math\n",
    "from scipy.special import eval_laguerre\n",
    "from configs.RecursiveVPSDE.Markovian_fSin.recursive_Markovian_fSinWithPosition_T256_H05_tl_5data import get_config\n",
    "from configs.RecursiveVPSDE.Markovian_fQuadSin.recursive_Markovian_fQuadSinWithPosition_T256_H05_tl_5data import get_config\n"
   ]
  },
  {
   "cell_type": "markdown",
   "source": [
    "# From A ridge estimator of the drift from discrete repeated observations of the solutions of a stochastic differential equation (Denis et al 2021)"
   ],
   "metadata": {
    "collapsed": false
   }
  },
  {
   "cell_type": "code",
   "execution_count": 35,
   "outputs": [],
   "source": [
    "config = get_config()"
   ],
   "metadata": {
    "collapsed": false
   }
  },
  {
   "cell_type": "code",
   "execution_count": 36,
   "outputs": [],
   "source": [
    "def rmse_ignore_nans(y_true, y_pred):\n",
    "    y_true = y_true.flatten()\n",
    "    y_pred = y_pred.flatten()\n",
    "    mask = ~np.isnan(y_true) & ~np.isnan(y_pred)  # Ignore NaNs in both arrays\n",
    "    return np.sqrt(np.mean((y_true[mask] - y_pred[mask]) ** 2))"
   ],
   "metadata": {
    "collapsed": false
   }
  },
  {
   "cell_type": "code",
   "execution_count": 37,
   "outputs": [
    {
     "data": {
      "text/plain": "<Figure size 1400x900 with 1 Axes>",
      "image/png": "[encoded data removed]"
     },
     "metadata": {},
     "output_type": "display_data"
    }
   ],
   "source": [
    "from src.classes.ClassFractionalQuadSin import FractionalQuadSin\n",
    "\n",
    "num_paths = 10000\n",
    "num_time_steps = int(256)\n",
    "isUnitInterval = True\n",
    "diff = config.diffusion\n",
    "initial_state = 0.\n",
    "rvs = None\n",
    "H = config.hurst\n",
    "deltaT = 1./ (256)\n",
    "t0 = 0.\n",
    "t1 = deltaT*num_time_steps\n",
    "space_scale = 1.\n",
    "fQuadSin = FractionalQuadSin(quad_coeff=config.quad_coeff, sin_coeff= config.sin_coeff, sin_space_scale=config.sin_space_scale, diff=diff, X0=initial_state)\n",
    "paths = np.array(\n",
    "    [fQuadSin.euler_simulation(H=H, N=num_time_steps, deltaT=deltaT, isUnitInterval=isUnitInterval, X0=initial_state, Ms=None, gaussRvs=rvs,\n",
    "                           t0=t0, t1=t1) for _ in (range(num_paths))]).reshape(\n",
    "    (num_paths, num_time_steps+1))\n",
    "fig, ax = plt.subplots(figsize=(14,9))\n",
    "plt.hist(paths.flatten(), bins=50, density=True)\n",
    "plt.title(\"Histogram of State\", fontsize=24)\n",
    "plt.show()\n",
    "plt.close()"
   ],
   "metadata": {
    "collapsed": false
   }
  },
  {
   "cell_type": "code",
   "execution_count": 38,
   "outputs": [],
   "source": [
    "def spline_basis(paths, KN, AN, BN, M):\n",
    "    assert (paths.shape[0] >= 1 and len(paths.shape)==2)\n",
    "    assert (AN < BN and KN > 0 and M > 0)\n",
    "    def construct_ith_knot(i, AN, BN, KN):\n",
    "        if i < 0:\n",
    "            return AN\n",
    "        elif i > KN:\n",
    "            return BN\n",
    "        else:\n",
    "            return AN + i*(BN-AN)/KN\n",
    "    def bspline(i, l, u, x, KN, M):\n",
    "        if l == 0 and -M <= i <= KN+M-1:\n",
    "            return ((u[i] <= x) & (x < u[i+1])).astype(float)\n",
    "        elif 1 <= l <= M  and -M <= i <= KN+M-l-1:\n",
    "            num1 = ((x-u[i])/(u[i+l]-u[i]))\n",
    "            num1[np.isinf(num1)] = 0.\n",
    "            num2 = ((-x+u[i+l+1])/(u[i+l+1]-u[i+1]))\n",
    "            num2[np.isinf(num2)] = 0.\n",
    "            return num1*bspline(i=i,l=l-1, u=u, x=x, KN=KN, M=M)+num2*bspline(i=i+1, l=l-1, u=u, x=x, KN=KN, M=M)\n",
    "\n",
    "    knots = {i:construct_ith_knot(i, AN, BN, KN) for i in range(-M, KN+M+1)}\n",
    "    paths = paths[:,:-1].flatten()\n",
    "    basis = np.array([bspline(i=i, l=M, u=knots, x=paths, KN=KN,M=M) for i in range(-M, KN)]).T\n",
    "    assert (basis.shape == (paths.shape[0], KN+M)), f\"Basis is shape {basis.shape} but should be {(paths.shape[0], KN+M)}\"\n",
    "    assert np.all(basis >= 0.)\n",
    "    return basis\n",
    "\n",
    "import scipy\n",
    "def find_optimal_estimator_coeffs(B, Z, KN, LN, M):\n",
    "    # Precompute certain matrices\n",
    "    BTB = B.T@B\n",
    "    BTZ = (B.T@Z)\n",
    "    const = (KN+M)*LN\n",
    "    if np.all(np.linalg.eigvalsh(BTB)>0.):\n",
    "        print(f\"Matrix BTB is invertible\\n\")\n",
    "        a = np.linalg.inv(BTB)@BTZ\n",
    "        if a.T@a <= const:\n",
    "            print(f\"L2 norm of coefficients automatically satisfies projection constraint\\n\")\n",
    "            return a\n",
    "    I = np.eye(KN+M)\n",
    "    def obj(l):\n",
    "        inv = np.linalg.inv(BTB+l*I) @ BTZ\n",
    "        return np.abs(inv.T@inv - const)\n",
    "    opt = scipy.optimize.minimize(obj, max(0.,-np.min(np.linalg.eigvalsh(BTB)))+1e-12)\n",
    "    lhat = np.inf\n",
    "    while not (opt.success) and not np.allclose(lhat, opt.x):\n",
    "        lhat = opt.x\n",
    "        opt = scipy.optimize.minimize(obj, opt.x)\n",
    "    lhat = opt.x[0]\n",
    "    a = np.atleast_2d(np.linalg.inv(BTB+lhat*I)@BTZ)\n",
    "    assert (np.allclose(a.T@a , const))\n",
    "    return a\n",
    "\n",
    "def construct_estimator(coeffs, B, LN):\n",
    "    drift  = B@coeffs\n",
    "    drift[np.abs(drift) > np.sqrt(LN)] = np.sqrt(LN)*np.sign(drift[np.abs(drift) > np.sqrt(LN)])\n",
    "    return drift\n"
   ],
   "metadata": {
    "collapsed": false
   }
  },
  {
   "cell_type": "code",
   "execution_count": 40,
   "outputs": [
    {
     "name": "stderr",
     "output_type": "stream",
     "text": [
      "/var/folders/68/vrxg2n311sz1gs264pkys2zh0000gn/T/ipykernel_13229/2568163073.py:15: RuntimeWarning: divide by zero encountered in divide\n",
      "  num1 = ((x-u[i])/(u[i+l]-u[i]))\n",
      "/var/folders/68/vrxg2n311sz1gs264pkys2zh0000gn/T/ipykernel_13229/2568163073.py:17: RuntimeWarning: divide by zero encountered in divide\n",
      "  num2 = ((-x+u[i+l+1])/(u[i+l+1]-u[i+1]))\n"
     ]
    },
    {
     "name": "stdout",
     "output_type": "stream",
     "text": [
      "Matrix BTB is invertible\n",
      "\n",
      "Matrix BTB is invertible\n",
      "\n"
     ]
    },
    {
     "name": "stderr",
     "output_type": "stream",
     "text": [
      "/var/folders/68/vrxg2n311sz1gs264pkys2zh0000gn/T/ipykernel_13229/2568163073.py:15: RuntimeWarning: divide by zero encountered in divide\n",
      "  num1 = ((x-u[i])/(u[i+l]-u[i]))\n",
      "/var/folders/68/vrxg2n311sz1gs264pkys2zh0000gn/T/ipykernel_13229/2568163073.py:17: RuntimeWarning: divide by zero encountered in divide\n",
      "  num2 = ((-x+u[i+l+1])/(u[i+l+1]-u[i+1]))\n"
     ]
    },
    {
     "name": "stdout",
     "output_type": "stream",
     "text": [
      "Matrix BTB is invertible\n",
      "\n"
     ]
    },
    {
     "name": "stderr",
     "output_type": "stream",
     "text": [
      "/var/folders/68/vrxg2n311sz1gs264pkys2zh0000gn/T/ipykernel_13229/2568163073.py:15: RuntimeWarning: divide by zero encountered in divide\n",
      "  num1 = ((x-u[i])/(u[i+l]-u[i]))\n",
      "/var/folders/68/vrxg2n311sz1gs264pkys2zh0000gn/T/ipykernel_13229/2568163073.py:17: RuntimeWarning: divide by zero encountered in divide\n",
      "  num2 = ((-x+u[i+l+1])/(u[i+l+1]-u[i+1]))\n"
     ]
    },
    {
     "name": "stdout",
     "output_type": "stream",
     "text": [
      "Matrix BTB is invertible\n",
      "\n"
     ]
    },
    {
     "name": "stderr",
     "output_type": "stream",
     "text": [
      "/var/folders/68/vrxg2n311sz1gs264pkys2zh0000gn/T/ipykernel_13229/2568163073.py:15: RuntimeWarning: divide by zero encountered in divide\n",
      "  num1 = ((x-u[i])/(u[i+l]-u[i]))\n",
      "/var/folders/68/vrxg2n311sz1gs264pkys2zh0000gn/T/ipykernel_13229/2568163073.py:17: RuntimeWarning: divide by zero encountered in divide\n",
      "  num2 = ((-x+u[i+l+1])/(u[i+l+1]-u[i+1]))\n"
     ]
    },
    {
     "name": "stdout",
     "output_type": "stream",
     "text": [
      "Matrix BTB is invertible\n",
      "\n"
     ]
    }
   ],
   "source": [
    "AN = -1.7\n",
    "BN = -AN\n",
    "M = 3\n",
    "LN = np.log(num_paths)\n",
    "KNs = {2**p: np.inf for p in [0, 1, 3, 4, 5]}\n",
    "for KN in list(KNs.keys()):\n",
    "    B = spline_basis(paths=paths[:num_paths,:], KN=KN, AN=AN, BN=BN, M=M)\n",
    "    Z = np.power(deltaT,-1)*np.diff(paths[:num_paths,:], axis=1).reshape((paths[:num_paths,:].shape[0]*(paths.shape[1]-1),1))\n",
    "    assert (B.shape[0] == Z.shape[0] and len(B.shape)==len(Z.shape) == 2)\n",
    "    coeffs = find_optimal_estimator_coeffs(B=B, Z=Z, KN=KN, LN=LN, M=M)\n",
    "    drift = construct_estimator(coeffs=coeffs, B=B, LN=LN).flatten()\n",
    "    KNs[KN] = np.mean(np.power(drift-Z.flatten(),2)) + 0.1*np.power(np.log(num_paths),2)*(KN+M)/num_paths\n",
    "KN = list(dict(sorted(KNs.items(), key= lambda item: item[1])).keys())[0]"
   ],
   "metadata": {
    "collapsed": false
   }
  },
  {
   "cell_type": "code",
   "execution_count": 41,
   "outputs": [
    {
     "data": {
      "text/plain": "16"
     },
     "execution_count": 41,
     "metadata": {},
     "output_type": "execute_result"
    }
   ],
   "source": [
    "KN"
   ],
   "metadata": {
    "collapsed": false
   }
  },
  {
   "cell_type": "code",
   "execution_count": 42,
   "outputs": [
    {
     "name": "stderr",
     "output_type": "stream",
     "text": [
      "/var/folders/68/vrxg2n311sz1gs264pkys2zh0000gn/T/ipykernel_13229/2568163073.py:15: RuntimeWarning: divide by zero encountered in divide\n",
      "  num1 = ((x-u[i])/(u[i+l]-u[i]))\n",
      "/var/folders/68/vrxg2n311sz1gs264pkys2zh0000gn/T/ipykernel_13229/2568163073.py:17: RuntimeWarning: divide by zero encountered in divide\n",
      "  num2 = ((-x+u[i+l+1])/(u[i+l+1]-u[i+1]))\n"
     ]
    },
    {
     "name": "stdout",
     "output_type": "stream",
     "text": [
      "Matrix BTB is invertible\n",
      "\n"
     ]
    }
   ],
   "source": [
    "B = spline_basis(paths=paths[:num_paths,:], KN=KN, AN=AN, BN=BN, M=M)\n",
    "Z = np.power(deltaT,-1)*np.diff(paths[:num_paths,:], axis=1).reshape((paths[:num_paths,:].shape[0]*(paths.shape[1]-1),1))\n",
    "assert (B.shape[0] == Z.shape[0] and len(B.shape)==len(Z.shape) == 2)\n",
    "coeffs = find_optimal_estimator_coeffs(B=B, Z=Z, KN=KN, LN=LN, M=M)"
   ],
   "metadata": {
    "collapsed": false
   }
  },
  {
   "cell_type": "code",
   "execution_count": 43,
   "outputs": [
    {
     "data": {
      "text/plain": "'is_true_drift = mean_rev*np.sin(space_scale*paths[:num_paths,:-1].flatten())\\nis_true_drift[paths[:num_paths,:-1].flatten() < AN] = np.nan\\nis_true_drift[paths[:num_paths,:-1].flatten() > BN] = np.nan\\nplt.scatter(paths[:num_paths,:-1].flatten(), is_true_drift, s=10,label=\"True Drift\", color=\"blue\")\\nis_drift = construct_estimator(coeffs=coeffs, B=B, LN=LN).flatten()\\nis_drift[paths[:num_paths,:-1].flatten() < AN] = np.nan\\nis_drift[paths[:num_paths,:-1].flatten() > BN] = np.nan\\nplt.scatter(paths[:num_paths,:-1].flatten(), is_drift, s=10,label=\"Estimated Drift\", color=\"orange\")\\nplt.xlim(AN-0.5, BN+0.5)\\nplt.legend()\\nprint(rmse_ignore_nans(is_drift, is_true_drift))'"
     },
     "execution_count": 43,
     "metadata": {},
     "output_type": "execute_result"
    }
   ],
   "source": [
    "\"\"\"is_true_drift = mean_rev*np.sin(space_scale*paths[:num_paths,:-1].flatten())\n",
    "is_true_drift[paths[:num_paths,:-1].flatten() < AN] = np.nan\n",
    "is_true_drift[paths[:num_paths,:-1].flatten() > BN] = np.nan\n",
    "plt.scatter(paths[:num_paths,:-1].flatten(), is_true_drift, s=10,label=\"True Drift\", color=\"blue\")\n",
    "is_drift = construct_estimator(coeffs=coeffs, B=B, LN=LN).flatten()\n",
    "is_drift[paths[:num_paths,:-1].flatten() < AN] = np.nan\n",
    "is_drift[paths[:num_paths,:-1].flatten() > BN] = np.nan\n",
    "plt.scatter(paths[:num_paths,:-1].flatten(), is_drift, s=10,label=\"Estimated Drift\", color=\"orange\")\n",
    "plt.xlim(AN-0.5, BN+0.5)\n",
    "plt.legend()\n",
    "print(rmse_ignore_nans(is_drift, is_true_drift))\"\"\""
   ],
   "metadata": {
    "collapsed": false
   }
  },
  {
   "cell_type": "code",
   "execution_count": 44,
   "outputs": [
    {
     "data": {
      "text/plain": "'oos_paths = np.array(\\n    [fSin.euler_simulation(H=H, N=num_time_steps, deltaT=deltaT, isUnitInterval=isUnitInterval, X0=0, Ms=None, gaussRvs=rvs,\\n                           t0=t0, t1=t1) for _ in (range(num_paths))]).reshape(\\n    (num_paths, num_time_steps+1))\\noos_true_drift = mean_rev*np.sin(space_scale*oos_paths[:num_paths,:-1].flatten())\\noos_true_drift[oos_paths[:num_paths,:-1].flatten() < AN] = np.nan\\noos_true_drift[oos_paths[:num_paths,:-1].flatten() > BN] = np.nan\\nplt.scatter(oos_paths[:num_paths,:-1].flatten(), oos_true_drift, s=10,label=\"True Drift\", color=\"blue\")\\noos_B = spline_basis(paths=oos_paths[:num_paths,:], KN=KN, AN=AN, BN=BN, M=M)\\noos_drift = construct_estimator(coeffs=coeffs, B=oos_B, LN=LN).flatten()\\noos_drift[oos_paths[:num_paths,:-1].flatten() < AN] = np.nan\\noos_drift[oos_paths[:num_paths,:-1].flatten() > BN] = np.nan\\nplt.scatter(oos_paths[:num_paths,:-1].flatten(), oos_drift, s=10,label=\"Estimated Drift\", color=\"orange\")\\nplt.xlim(AN-0.5, BN+0.5)\\nplt.legend()\\nprint(rmse_ignore_nans(oos_true_drift, oos_drift))'"
     },
     "execution_count": 44,
     "metadata": {},
     "output_type": "execute_result"
    }
   ],
   "source": [
    "\"\"\"oos_paths = np.array(\n",
    "    [fSin.euler_simulation(H=H, N=num_time_steps, deltaT=deltaT, isUnitInterval=isUnitInterval, X0=0, Ms=None, gaussRvs=rvs,\n",
    "                           t0=t0, t1=t1) for _ in (range(num_paths))]).reshape(\n",
    "    (num_paths, num_time_steps+1))\n",
    "oos_true_drift = mean_rev*np.sin(space_scale*oos_paths[:num_paths,:-1].flatten())\n",
    "oos_true_drift[oos_paths[:num_paths,:-1].flatten() < AN] = np.nan\n",
    "oos_true_drift[oos_paths[:num_paths,:-1].flatten() > BN] = np.nan\n",
    "plt.scatter(oos_paths[:num_paths,:-1].flatten(), oos_true_drift, s=10,label=\"True Drift\", color=\"blue\")\n",
    "oos_B = spline_basis(paths=oos_paths[:num_paths,:], KN=KN, AN=AN, BN=BN, M=M)\n",
    "oos_drift = construct_estimator(coeffs=coeffs, B=oos_B, LN=LN).flatten()\n",
    "oos_drift[oos_paths[:num_paths,:-1].flatten() < AN] = np.nan\n",
    "oos_drift[oos_paths[:num_paths,:-1].flatten() > BN] = np.nan\n",
    "plt.scatter(oos_paths[:num_paths,:-1].flatten(), oos_drift, s=10,label=\"Estimated Drift\", color=\"orange\")\n",
    "plt.xlim(AN-0.5, BN+0.5)\n",
    "plt.legend()\n",
    "print(rmse_ignore_nans(oos_true_drift, oos_drift))\"\"\""
   ],
   "metadata": {
    "collapsed": false
   }
  },
  {
   "cell_type": "code",
   "execution_count": 45,
   "outputs": [
    {
     "name": "stderr",
     "output_type": "stream",
     "text": [
      "/var/folders/68/vrxg2n311sz1gs264pkys2zh0000gn/T/ipykernel_13229/2568163073.py:15: RuntimeWarning: divide by zero encountered in divide\n",
      "  num1 = ((x-u[i])/(u[i+l]-u[i]))\n",
      "/var/folders/68/vrxg2n311sz1gs264pkys2zh0000gn/T/ipykernel_13229/2568163073.py:17: RuntimeWarning: divide by zero encountered in divide\n",
      "  num2 = ((-x+u[i+l+1])/(u[i+l+1]-u[i+1]))\n"
     ]
    },
    {
     "name": "stdout",
     "output_type": "stream",
     "text": [
      "1.8730629672634045\n"
     ]
    },
    {
     "data": {
      "text/plain": "<Figure size 640x480 with 1 Axes>",
      "image/png": "[encoded data removed]"
     },
     "metadata": {},
     "output_type": "display_data"
    }
   ],
   "source": [
    "ppaths = np.linspace(AN-0.5, BN+0.5, num_paths*num_time_steps).reshape(1, -1)\n",
    "unif_true_drift = 2.*config.quad_coeff * ppaths[:,:-1].flatten() + config.sin_coeff * config.sin_space_scale*np.sin(config.sin_space_scale*ppaths[:,:-1].flatten())\n",
    "unif_true_drift[ppaths[:,:-1].flatten() < AN] = np.nan\n",
    "unif_true_drift[ppaths[:,:-1].flatten() > BN] = np.nan\n",
    "plt.scatter(ppaths[:,:-1].flatten(), unif_true_drift, label=\"True Drift\", s=10, color=\"blue\")\n",
    "unif_B = spline_basis(paths=ppaths[:,:], KN=KN, AN=AN, BN=BN, M=M)\n",
    "unif_drift = construct_estimator(coeffs=coeffs, B=unif_B, LN=LN).flatten()\n",
    "unif_drift[ppaths[:,:-1].flatten() < AN] = np.nan\n",
    "unif_drift[ppaths[:,:-1].flatten() > BN] = np.nan\n",
    "plt.scatter(ppaths[:,:-1].flatten(), unif_drift, label=\"Estimated Drift\", s=10,color=\"orange\")\n",
    "plt.xlim(AN-0.5, BN+0.5)\n",
    "plt.legend()\n",
    "print(rmse_ignore_nans(unif_true_drift, unif_drift))"
   ],
   "metadata": {
    "collapsed": false
   }
  },
  {
   "cell_type": "code",
   "execution_count": 45,
   "outputs": [],
   "source": [],
   "metadata": {
    "collapsed": false
   }
  },
  {
   "cell_type": "code",
   "execution_count": null,
   "outputs": [],
   "source": [],
   "metadata": {
    "collapsed": false
   }
  }
 ],
 "metadata": {
  "kernelspec": {
   "display_name": "Python 3",
   "language": "python",
   "name": "python3"
  },
  "language_info": {
   "codemirror_mode": {
    "name": "ipython",
    "version": 2
   },
   "file_extension": ".py",
   "mimetype": "text/x-python",
   "name": "python",
   "nbconvert_exporter": "python",
   "pygments_lexer": "ipython2",
   "version": "2.7.6"
  }
 },
 "nbformat": 4,
 "nbformat_minor": 0
}
