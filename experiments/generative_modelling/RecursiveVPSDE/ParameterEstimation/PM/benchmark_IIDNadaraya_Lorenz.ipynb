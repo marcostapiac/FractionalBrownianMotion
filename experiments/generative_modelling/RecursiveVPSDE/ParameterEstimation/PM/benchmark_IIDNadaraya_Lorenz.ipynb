{
 "cells": [
  {
   "cell_type": "code",
   "execution_count": 116,
   "metadata": {
    "collapsed": true
   },
   "outputs": [
    {
     "name": "stdout",
     "output_type": "stream",
     "text": [
      "The autoreload extension is already loaded. To reload it, use:\n",
      "  %reload_ext autoreload\n"
     ]
    }
   ],
   "source": [
    "%load_ext autoreload\n",
    "%autoreload 2\n",
    "import numpy as np\n",
    "from configs import project_config\n",
    "from tqdm import tqdm\n",
    "from scipy.stats import norm\n",
    "from configs.RecursiveVPSDE.LSTM_4DLorenz.recursive_LSTM_PostMeanScore_4DLorenz_T256_H05_tl_110data import get_config\n",
    "from src.classes.ClassFractionalLorenz96 import FractionalLorenz96"
   ]
  },
  {
   "cell_type": "code",
   "execution_count": 117,
   "outputs": [],
   "source": [
    "def gaussian_kernel(bw, x):\n",
    "    return norm.pdf(x / bw) / bw\n",
    "\n",
    "def multivar_gaussian_kernel(bw, x):\n",
    "    D = x.shape[-1]\n",
    "    inv_H = np.diag(np.power(bw,-2))\n",
    "    norm_const = 1 / np.sqrt((2. * np.pi)**D * (1./np.linalg.det(inv_H)))\n",
    "    exponent = -0.5 * np.einsum('...i,ij,...j', x, inv_H, x)\n",
    "    return norm_const * np.exp(exponent)\n",
    "\n",
    "def rmse_ignore_nans(y_true, y_pred):\n",
    "    y_true = y_true.flatten()\n",
    "    y_pred = y_pred.flatten()\n",
    "    mask = ~np.isnan(y_true) & ~np.isnan(y_pred)  # Ignore NaNs in both arrays\n",
    "    return np.sqrt(np.mean((y_true[mask] - y_pred[mask]) ** 2))"
   ],
   "metadata": {
    "collapsed": false
   }
  },
  {
   "cell_type": "code",
   "execution_count": 118,
   "outputs": [],
   "source": [
    "config = get_config()\n",
    "num_paths = 20\n",
    "t0 = config.t0\n",
    "deltaT = config.deltaT\n",
    "t1 = deltaT*config.ts_length\n",
    "# Drift parameters\n",
    "diff = config.diffusion\n",
    "initial_state = np.array(config.initState)\n",
    "rvs = None\n",
    "H = config.hurst"
   ],
   "metadata": {
    "collapsed": false
   }
  },
  {
   "cell_type": "code",
   "execution_count": 119,
   "outputs": [],
   "source": [
    "fLnz = FractionalLorenz96(X0=config.initState,diff=config.diffusion, num_dims=config.ndims, forcing_const=config.forcing_const)\n",
    "is_path_observations  = np.array(\n",
    "        [fLnz.euler_simulation(H=H, N=config.ts_length, deltaT=deltaT, X0=initial_state, Ms=None, gaussRvs=rvs,\n",
    "                               t0=t0, t1=t1) for _ in (range(num_paths))]).reshape(\n",
    "        (num_paths, config.ts_length+1, config.ndims))\n",
    "\n",
    "\n",
    "is_idxs = np.arange(is_path_observations.shape[0])\n",
    "path_observations = is_path_observations[np.random.choice(is_idxs, size=num_paths, replace=False),:,:]\n",
    "# We note that we DO NOT evaluate the drift at time t_{0}=0\n",
    "# We therefore remove the first element of path_observations since it includes X_{t_{0}} = X_{0}\n",
    "# We also remove the last element since we never evaluate the drift at that point\n",
    "t0 = deltaT\n",
    "prevPath_observations = path_observations[:,1:-1,:]\n",
    "# We compute the path incs with respect to the prevPath_observations (since X_{t_{0}} != X_{0})\n",
    "path_incs = np.diff(path_observations, axis=1)[:, 1:,:]\n",
    "assert (prevPath_observations.shape == path_incs.shape)\n",
    "assert (path_incs.shape[1] == config.ts_length - 1)\n",
    "assert (path_observations.shape[1] == prevPath_observations.shape[1] + 2)"
   ],
   "metadata": {
    "collapsed": false
   }
  },
  {
   "cell_type": "code",
   "execution_count": 120,
   "outputs": [],
   "source": [
    "def IID_NW_multivar_estimator(prevPath_observations, path_incs, bw, x, t1, t0, truncate):\n",
    "    N, n, d = prevPath_observations.shape\n",
    "    kernel_weights_unnorm = multivar_gaussian_kernel(bw=bw, x=prevPath_observations[:,:, np.newaxis,:] - x[np.newaxis,np.newaxis, :,:])\n",
    "    denominator = np.sum(kernel_weights_unnorm, axis=(1,0))[:, np.newaxis] / (N*n)\n",
    "    assert (denominator.shape == (x.shape[0], 1))\n",
    "    numerator = np.sum(kernel_weights_unnorm[..., np.newaxis] * path_incs[:, :, np.newaxis, :], axis=(1,0)) / N*(t1 - t0)\n",
    "    assert (numerator.shape == x.shape)\n",
    "    estimator = numerator/denominator\n",
    "    assert (estimator.shape == x.shape)\n",
    "    #assert all([np.all(estimator[i, :] == numerator[i,:]/denominator[i,0]) for i in range(estimator.shape[0])])\n",
    "    # This is the \"truncated\" discrete drift estimator to ensure appropriate risk bounds\n",
    "    if truncate:\n",
    "        m = np.min(denominator[:, 0])\n",
    "        estimator[denominator[:,0] <= m/2., :] = 0.\n",
    "    return estimator"
   ],
   "metadata": {
    "collapsed": false
   }
  },
  {
   "cell_type": "code",
   "execution_count": 121,
   "outputs": [],
   "source": [
    "assert (prevPath_observations.shape[1]*deltaT == (t1-t0))"
   ],
   "metadata": {
    "collapsed": false
   }
  },
  {
   "cell_type": "code",
   "execution_count": 122,
   "outputs": [
    {
     "name": "stdout",
     "output_type": "stream",
     "text": [
      "[[0.01       0.01       0.01       0.01      ]\n",
      " [0.01266577 0.01266577 0.01266577 0.01266577]\n",
      " [0.01604217 0.01604217 0.01604217 0.01604217]\n",
      " [0.02031864 0.02031864 0.02031864 0.02031864]\n",
      " [0.02573513 0.02573513 0.02573513 0.02573513]\n",
      " [0.03259552 0.03259552 0.03259552 0.03259552]\n",
      " [0.04128473 0.04128473 0.04128473 0.04128473]\n",
      " [0.05229029 0.05229029 0.05229029 0.05229029]\n",
      " [0.06622968 0.06622968 0.06622968 0.06622968]\n",
      " [0.08388498 0.08388498 0.08388498 0.08388498]\n",
      " [0.10624678 0.10624678 0.10624678 0.10624678]\n",
      " [0.13456973 0.13456973 0.13456973 0.13456973]\n",
      " [0.17044291 0.17044291 0.17044291 0.17044291]\n",
      " [0.21587906 0.21587906 0.21587906 0.21587906]\n",
      " [0.27342745 0.27342745 0.27342745 0.27342745]\n",
      " [0.3463169  0.3463169  0.3463169  0.3463169 ]\n",
      " [0.438637   0.438637   0.438637   0.438637  ]\n",
      " [0.55556751 0.55556751 0.55556751 0.55556751]\n",
      " [0.703669   0.703669   0.703669   0.703669  ]\n",
      " [0.89125094 0.89125094 0.89125094 0.89125094]]\n"
     ]
    }
   ],
   "source": [
    "grid_1d = np.logspace(-2, -0.05, 20)\n",
    "#mesh = np.meshgrid(*([grid_1d] * config.ndims), indexing='ij')\n",
    "# Stack and reshape the grid so each row is a point in the n-dimensional grid\n",
    "#bws = np.stack([m.ravel() for m in mesh], axis=-1)\n",
    "bws = np.stack([grid_1d for m in range(config.ndims)], axis=-1)\n",
    "print(bws)"
   ],
   "metadata": {
    "collapsed": false
   }
  },
  {
   "cell_type": "code",
   "execution_count": 123,
   "outputs": [],
   "source": [
    "num_time_steps = 50\n",
    "true_states = np.zeros(shape=(num_paths, 1 + num_time_steps, config.ndims))\n",
    "global_states = np.zeros(shape=(num_paths, 1 + num_time_steps, config.ndims))\n",
    "local_states = np.zeros(shape=(num_paths, 1 + num_time_steps, config.ndims))\n",
    "# Initialise the \"true paths\"\n",
    "true_states[:, [0], :] = config.initState\n",
    "# Initialise the \"global score-based drift paths\"\n",
    "global_states[:, [0], :] = config.initState\n",
    "# Initialise the \"local score-based drift paths\"\n",
    "local_states[:, [0], :] = config.initState"
   ],
   "metadata": {
    "collapsed": false
   }
  },
  {
   "cell_type": "code",
   "execution_count": 124,
   "outputs": [],
   "source": [
    "def true_drift(prev, num_paths, config):\n",
    "    assert (prev.shape == (num_paths, config.ndims))\n",
    "    drift_X = np.zeros((num_paths, config.ndims))\n",
    "    for i in range(config.ndims):\n",
    "        drift_X[:, i] = (prev[:, (i + 1) % config.ndims] - prev[:, i - 2]) * prev[:, i - 1] - prev[:,\n",
    "                                                                                              i] + config.forcing_const\n",
    "    return drift_X[:, np.newaxis, :]"
   ],
   "metadata": {
    "collapsed": false
   }
  },
  {
   "cell_type": "code",
   "execution_count": 125,
   "outputs": [
    {
     "name": "stderr",
     "output_type": "stream",
     "text": [
      " 10%|█         | 5/50 [00:00<00:00, 45.52it/s]/var/folders/68/vrxg2n311sz1gs264pkys2zh0000gn/T/ipykernel_34704/2402472965.py:8: RuntimeWarning: invalid value encountered in divide\n",
      "  estimator = numerator/denominator\n",
      "100%|██████████| 50/50 [00:01<00:00, 46.96it/s]\n",
      "100%|██████████| 50/50 [00:01<00:00, 47.74it/s]\n",
      "100%|██████████| 50/50 [00:01<00:00, 47.66it/s]\n",
      "100%|██████████| 50/50 [00:01<00:00, 47.04it/s]\n",
      "100%|██████████| 50/50 [00:01<00:00, 47.45it/s]\n",
      "100%|██████████| 50/50 [00:01<00:00, 45.79it/s]\n",
      " 38%|███▊      | 19/50 [00:00<00:00, 45.21it/s]\n"
     ]
    },
    {
     "ename": "KeyboardInterrupt",
     "evalue": "",
     "output_type": "error",
     "traceback": [
      "\u001B[0;31m---------------------------------------------------------------------------\u001B[0m",
      "\u001B[0;31mKeyboardInterrupt\u001B[0m                         Traceback (most recent call last)",
      "Cell \u001B[0;32mIn[125], line 7\u001B[0m\n\u001B[1;32m      5\u001B[0m \u001B[38;5;28;01massert\u001B[39;00m (eps\u001B[38;5;241m.\u001B[39mshape \u001B[38;5;241m==\u001B[39m (num_paths, \u001B[38;5;241m1\u001B[39m, config\u001B[38;5;241m.\u001B[39mndims))\n\u001B[1;32m      6\u001B[0m true_mean \u001B[38;5;241m=\u001B[39m true_drift(true_states[:, i \u001B[38;5;241m-\u001B[39m \u001B[38;5;241m1\u001B[39m, :], num_paths\u001B[38;5;241m=\u001B[39mnum_paths, config\u001B[38;5;241m=\u001B[39mconfig)\n\u001B[0;32m----> 7\u001B[0m global_mean \u001B[38;5;241m=\u001B[39m \u001B[43mIID_NW_multivar_estimator\u001B[49m\u001B[43m(\u001B[49m\u001B[43mprevPath_observations\u001B[49m\u001B[38;5;241;43m=\u001B[39;49m\u001B[43mprevPath_observations\u001B[49m\u001B[43m,\u001B[49m\u001B[43m \u001B[49m\u001B[43mbw\u001B[49m\u001B[38;5;241;43m=\u001B[39;49m\u001B[43mbw\u001B[49m\u001B[43m,\u001B[49m\u001B[43m \u001B[49m\u001B[43mx\u001B[49m\u001B[38;5;241;43m=\u001B[39;49m\u001B[43mglobal_states\u001B[49m\u001B[43m[\u001B[49m\u001B[43m:\u001B[49m\u001B[43m,\u001B[49m\u001B[43m \u001B[49m\u001B[43mi\u001B[49m\u001B[43m \u001B[49m\u001B[38;5;241;43m-\u001B[39;49m\u001B[43m \u001B[49m\u001B[38;5;241;43m1\u001B[39;49m\u001B[43m,\u001B[49m\u001B[43m \u001B[49m\u001B[43m:\u001B[49m\u001B[43m]\u001B[49m\u001B[43m,\u001B[49m\u001B[43m \u001B[49m\u001B[43mpath_incs\u001B[49m\u001B[38;5;241;43m=\u001B[39;49m\u001B[43mpath_incs\u001B[49m\u001B[43m,\u001B[49m\u001B[43m \u001B[49m\u001B[43mt1\u001B[49m\u001B[38;5;241;43m=\u001B[39;49m\u001B[43mconfig\u001B[49m\u001B[38;5;241;43m.\u001B[39;49m\u001B[43mt1\u001B[49m\u001B[43m,\u001B[49m\u001B[43m \u001B[49m\u001B[43mt0\u001B[49m\u001B[38;5;241;43m=\u001B[39;49m\u001B[43mconfig\u001B[49m\u001B[38;5;241;43m.\u001B[39;49m\u001B[43mt0\u001B[49m\u001B[43m,\u001B[49m\u001B[43m \u001B[49m\u001B[43mtruncate\u001B[49m\u001B[38;5;241;43m=\u001B[39;49m\u001B[38;5;28;43;01mTrue\u001B[39;49;00m\u001B[43m)\u001B[49m[:, np\u001B[38;5;241m.\u001B[39mnewaxis, :]\n\u001B[1;32m      8\u001B[0m local_mean \u001B[38;5;241m=\u001B[39m IID_NW_multivar_estimator(prevPath_observations\u001B[38;5;241m=\u001B[39mprevPath_observations, bw\u001B[38;5;241m=\u001B[39mbw, x\u001B[38;5;241m=\u001B[39mtrue_states[:, i \u001B[38;5;241m-\u001B[39m \u001B[38;5;241m1\u001B[39m, :], path_incs\u001B[38;5;241m=\u001B[39mpath_incs, t1\u001B[38;5;241m=\u001B[39mconfig\u001B[38;5;241m.\u001B[39mt1, t0\u001B[38;5;241m=\u001B[39mconfig\u001B[38;5;241m.\u001B[39mt0, truncate\u001B[38;5;241m=\u001B[39m\u001B[38;5;28;01mTrue\u001B[39;00m)[:, np\u001B[38;5;241m.\u001B[39mnewaxis, :]\n\u001B[1;32m      9\u001B[0m \u001B[38;5;66;03m#global_score_based_drift(score_model=PM,end_diff_time=end_diff_time,diffusion=diffusion, num_paths=num_paths, ts_step=deltaT,config=config, device=device, prev=global_states[:, i - 1, :])\u001B[39;00m\n",
      "Cell \u001B[0;32mIn[120], line 13\u001B[0m, in \u001B[0;36mIID_NW_multivar_estimator\u001B[0;34m(prevPath_observations, path_incs, bw, x, t1, t0, truncate)\u001B[0m\n\u001B[1;32m     10\u001B[0m \u001B[38;5;66;03m#assert all([np.all(estimator[i, :] == numerator[i,:]/denominator[i,0]) for i in range(estimator.shape[0])])\u001B[39;00m\n\u001B[1;32m     11\u001B[0m \u001B[38;5;66;03m# This is the \"truncated\" discrete drift estimator to ensure appropriate risk bounds\u001B[39;00m\n\u001B[1;32m     12\u001B[0m \u001B[38;5;28;01mif\u001B[39;00m truncate:\n\u001B[0;32m---> 13\u001B[0m     m \u001B[38;5;241m=\u001B[39m \u001B[43mnp\u001B[49m\u001B[38;5;241;43m.\u001B[39;49m\u001B[43mmin\u001B[49m\u001B[43m(\u001B[49m\u001B[43mdenominator\u001B[49m\u001B[43m[\u001B[49m\u001B[43m:\u001B[49m\u001B[43m,\u001B[49m\u001B[43m \u001B[49m\u001B[38;5;241;43m0\u001B[39;49m\u001B[43m]\u001B[49m\u001B[43m)\u001B[49m\n\u001B[1;32m     14\u001B[0m     estimator[denominator[:,\u001B[38;5;241m0\u001B[39m] \u001B[38;5;241m<\u001B[39m\u001B[38;5;241m=\u001B[39m m\u001B[38;5;241m/\u001B[39m\u001B[38;5;241m2.\u001B[39m, :] \u001B[38;5;241m=\u001B[39m \u001B[38;5;241m0.\u001B[39m\n\u001B[1;32m     15\u001B[0m \u001B[38;5;28;01mreturn\u001B[39;00m estimator\n",
      "File \u001B[0;32m<__array_function__ internals>:180\u001B[0m, in \u001B[0;36mamin\u001B[0;34m(*args, **kwargs)\u001B[0m\n",
      "File \u001B[0;32m~/GitHubRepos/FractionalBrownianMotion/venv/lib/python3.10/site-packages/numpy/core/fromnumeric.py:2918\u001B[0m, in \u001B[0;36mamin\u001B[0;34m(a, axis, out, keepdims, initial, where)\u001B[0m\n\u001B[1;32m   2802\u001B[0m \u001B[38;5;129m@array_function_dispatch\u001B[39m(_amin_dispatcher)\n\u001B[1;32m   2803\u001B[0m \u001B[38;5;28;01mdef\u001B[39;00m \u001B[38;5;21mamin\u001B[39m(a, axis\u001B[38;5;241m=\u001B[39m\u001B[38;5;28;01mNone\u001B[39;00m, out\u001B[38;5;241m=\u001B[39m\u001B[38;5;28;01mNone\u001B[39;00m, keepdims\u001B[38;5;241m=\u001B[39mnp\u001B[38;5;241m.\u001B[39m_NoValue, initial\u001B[38;5;241m=\u001B[39mnp\u001B[38;5;241m.\u001B[39m_NoValue,\n\u001B[1;32m   2804\u001B[0m          where\u001B[38;5;241m=\u001B[39mnp\u001B[38;5;241m.\u001B[39m_NoValue):\n\u001B[1;32m   2805\u001B[0m \u001B[38;5;250m    \u001B[39m\u001B[38;5;124;03m\"\"\"\u001B[39;00m\n\u001B[1;32m   2806\u001B[0m \u001B[38;5;124;03m    Return the minimum of an array or minimum along an axis.\u001B[39;00m\n\u001B[1;32m   2807\u001B[0m \n\u001B[0;32m   (...)\u001B[0m\n\u001B[1;32m   2916\u001B[0m \u001B[38;5;124;03m    6\u001B[39;00m\n\u001B[1;32m   2917\u001B[0m \u001B[38;5;124;03m    \"\"\"\u001B[39;00m\n\u001B[0;32m-> 2918\u001B[0m     \u001B[38;5;28;01mreturn\u001B[39;00m \u001B[43m_wrapreduction\u001B[49m\u001B[43m(\u001B[49m\u001B[43ma\u001B[49m\u001B[43m,\u001B[49m\u001B[43m \u001B[49m\u001B[43mnp\u001B[49m\u001B[38;5;241;43m.\u001B[39;49m\u001B[43mminimum\u001B[49m\u001B[43m,\u001B[49m\u001B[43m \u001B[49m\u001B[38;5;124;43m'\u001B[39;49m\u001B[38;5;124;43mmin\u001B[39;49m\u001B[38;5;124;43m'\u001B[39;49m\u001B[43m,\u001B[49m\u001B[43m \u001B[49m\u001B[43maxis\u001B[49m\u001B[43m,\u001B[49m\u001B[43m \u001B[49m\u001B[38;5;28;43;01mNone\u001B[39;49;00m\u001B[43m,\u001B[49m\u001B[43m \u001B[49m\u001B[43mout\u001B[49m\u001B[43m,\u001B[49m\n\u001B[1;32m   2919\u001B[0m \u001B[43m                          \u001B[49m\u001B[43mkeepdims\u001B[49m\u001B[38;5;241;43m=\u001B[39;49m\u001B[43mkeepdims\u001B[49m\u001B[43m,\u001B[49m\u001B[43m \u001B[49m\u001B[43minitial\u001B[49m\u001B[38;5;241;43m=\u001B[39;49m\u001B[43minitial\u001B[49m\u001B[43m,\u001B[49m\u001B[43m \u001B[49m\u001B[43mwhere\u001B[49m\u001B[38;5;241;43m=\u001B[39;49m\u001B[43mwhere\u001B[49m\u001B[43m)\u001B[49m\n",
      "File \u001B[0;32m~/GitHubRepos/FractionalBrownianMotion/venv/lib/python3.10/site-packages/numpy/core/fromnumeric.py:86\u001B[0m, in \u001B[0;36m_wrapreduction\u001B[0;34m(obj, ufunc, method, axis, dtype, out, **kwargs)\u001B[0m\n\u001B[1;32m     83\u001B[0m         \u001B[38;5;28;01melse\u001B[39;00m:\n\u001B[1;32m     84\u001B[0m             \u001B[38;5;28;01mreturn\u001B[39;00m reduction(axis\u001B[38;5;241m=\u001B[39maxis, out\u001B[38;5;241m=\u001B[39mout, \u001B[38;5;241m*\u001B[39m\u001B[38;5;241m*\u001B[39mpasskwargs)\n\u001B[0;32m---> 86\u001B[0m \u001B[38;5;28;01mreturn\u001B[39;00m \u001B[43mufunc\u001B[49m\u001B[38;5;241;43m.\u001B[39;49m\u001B[43mreduce\u001B[49m\u001B[43m(\u001B[49m\u001B[43mobj\u001B[49m\u001B[43m,\u001B[49m\u001B[43m \u001B[49m\u001B[43maxis\u001B[49m\u001B[43m,\u001B[49m\u001B[43m \u001B[49m\u001B[43mdtype\u001B[49m\u001B[43m,\u001B[49m\u001B[43m \u001B[49m\u001B[43mout\u001B[49m\u001B[43m,\u001B[49m\u001B[43m \u001B[49m\u001B[38;5;241;43m*\u001B[39;49m\u001B[38;5;241;43m*\u001B[39;49m\u001B[43mpasskwargs\u001B[49m\u001B[43m)\u001B[49m\n",
      "\u001B[0;31mKeyboardInterrupt\u001B[0m: "
     ]
    }
   ],
   "source": [
    "# Euler-Maruyama Scheme for Tracking Errors\n",
    "for bw in bws:\n",
    "    for i in tqdm(range(1, num_time_steps + 1)):\n",
    "        eps = np.random.randn(num_paths, 1, config.ndims) * np.sqrt(deltaT)\n",
    "        assert (eps.shape == (num_paths, 1, config.ndims))\n",
    "        true_mean = true_drift(true_states[:, i - 1, :], num_paths=num_paths, config=config)\n",
    "        global_mean = IID_NW_multivar_estimator(prevPath_observations=prevPath_observations, bw=bw, x=global_states[:, i - 1, :], path_incs=path_incs, t1=config.t1, t0=config.t0, truncate=True)[:, np.newaxis, :]\n",
    "        local_mean = IID_NW_multivar_estimator(prevPath_observations=prevPath_observations, bw=bw, x=true_states[:, i - 1, :], path_incs=path_incs, t1=config.t1, t0=config.t0, truncate=True)[:, np.newaxis, :]\n",
    "        #global_score_based_drift(score_model=PM,end_diff_time=end_diff_time,diffusion=diffusion, num_paths=num_paths, ts_step=deltaT,config=config, device=device, prev=global_states[:, i - 1, :])\n",
    "        true_states[:, [i], :] = true_states[:, [i - 1], :]  + true_mean * deltaT + eps\n",
    "        global_states[:, [i], :] = global_states[:, [i - 1], :] + global_mean * deltaT + eps\n",
    "        local_states[:, [i], :] = true_states[:, [i - 1], :] + local_mean * deltaT + eps\n",
    "    save_path = (\n",
    "            project_config.ROOT_DIR + f\"experiments/results/IIDNadaraya_f{config.ndims}DLnz_DriftEvalExp_{round(bw[0], 4)}bw_{num_paths}NPaths_{config.t0}t0_{config.deltaT:.3e}dT\").replace(\n",
    "        \".\", \"\")\n",
    "    np.save(save_path + \"_true_states.npy\", true_states)\n",
    "    np.save(save_path + \"_global_states.npy\", global_states)\n",
    "    np.save(save_path + \"_local_states.npy\", local_states)"
   ],
   "metadata": {
    "collapsed": false
   }
  },
  {
   "cell_type": "code",
   "execution_count": null,
   "outputs": [],
   "source": [],
   "metadata": {
    "collapsed": false
   }
  }
 ],
 "metadata": {
  "kernelspec": {
   "display_name": "Python 3",
   "language": "python",
   "name": "python3"
  },
  "language_info": {
   "codemirror_mode": {
    "name": "ipython",
    "version": 2
   },
   "file_extension": ".py",
   "mimetype": "text/x-python",
   "name": "python",
   "nbconvert_exporter": "python",
   "pygments_lexer": "ipython2",
   "version": "2.7.6"
  }
 },
 "nbformat": 4,
 "nbformat_minor": 0
}
