{
 "cells": [
  {
   "cell_type": "code",
   "execution_count": 1,
   "metadata": {
    "collapsed": true
   },
   "outputs": [],
   "source": [
    "%load_ext autoreload\n",
    "%autoreload 2\n",
    "\n",
    "from configs.RecursiveVPSDE.Markovian_fSin.recursive_Markovian_PostMeanScaledScore_fSin_T256_H05_tl_5data import get_config as get_config_PMS\n",
    "from configs.RecursiveVPSDE.Markovian_fSin.recursive_Markovian_PostMeanScore_fSin_T256_H05_tl_5data import get_config as get_config_PM\n",
    "from configs.RecursiveVPSDE.Markovian_fSin.recursive_Markovian_fSinWithPosition_T256_H05_tl_5data import get_config as get_config_TS\n",
    "\n",
    "from configs import project_config\n",
    "import numpy as np\n",
    "import torch\n",
    "\n",
    "import matplotlib.pyplot as plt"
   ]
  },
  {
   "cell_type": "code",
   "execution_count": 2,
   "outputs": [],
   "source": [
    "config_TS = get_config_TS()\n",
    "config_PM = get_config_PM()\n",
    "config_PMS = get_config_PMS()\n",
    "assert(config_TS.beta_min == config_PM.beta_min == config_PMS.beta_min)\n",
    "assert(config_TS.ts_length == config_PM.ts_length == config_PMS.ts_length)\n",
    "Delta = 1./config_TS.ts_length"
   ],
   "metadata": {
    "collapsed": false
   }
  },
  {
   "cell_type": "code",
   "execution_count": 3,
   "outputs": [
    {
     "name": "stdout",
     "output_type": "stream",
     "text": [
      "(200000, 256)\n"
     ]
    }
   ],
   "source": [
    "assert(config_TS.data_path == config_PM.data_path == config_PMS.data_path)\n",
    "assert (config_TS.max_diff_steps == config_PM.max_diff_steps == config_PMS.max_diff_steps == 1000)\n",
    "true_data = np.load(config_TS.data_path)\n",
    "T = true_data.shape[1]\n",
    "print(true_data.shape)"
   ],
   "metadata": {
    "collapsed": false
   }
  },
  {
   "cell_type": "code",
   "execution_count": 4,
   "outputs": [],
   "source": [
    "def moment_calculations(data):\n",
    "    from scipy.stats import moment\n",
    "    try:\n",
    "        data = data.numpy()\n",
    "    except AttributeError as e:\n",
    "        print(e)\n",
    "        pass\n",
    "    print(data.shape)\n",
    "    means = np.mean(data, axis=0)\n",
    "    assert(means.shape[0] == data.shape[1])\n",
    "    vars, skew, kurt = moment(data, moment=[2,3,4], axis=0)\n",
    "    assert(means.shape == vars.shape == skew.shape == kurt.shape)\n",
    "    return means, vars, skew, kurt"
   ],
   "metadata": {
    "collapsed": false
   }
  },
  {
   "cell_type": "code",
   "execution_count": 19,
   "outputs": [],
   "source": [
    "from scipy.stats import wasserstein_distance\n",
    "import ot\n",
    "def bootstrap_test_wasserstein(sample1, sample2, num_bootstrap=1000):\n",
    "    # Step 1: Compute the observed Wasserstein distance\n",
    "    M = ot.dist(sample1, sample2, metric='euclidean')\n",
    "    a = np.ones((sample1.shape[0],)) / sample1.shape[0]  # Uniform weights for X\n",
    "    b = np.ones((sample1.shape[0],)) / sample1.shape[0]  # Uniform weights for Y\n",
    "\n",
    "    #observed_distance = wasserstein_distance(sample1, sample2)\n",
    "    print(a.shape, b.shape, M.shape)\n",
    "    observed_distance = ot.lp.emd2(a, b, M = M)\n",
    "    # Step 2: Bootstrap samples\n",
    "    bootstrap_distances = []\n",
    "    combined = np.vstack([sample1, sample2])\n",
    "    for _ in range(num_bootstrap):\n",
    "        np.random.shuffle(combined)\n",
    "        obs_perm = combined[:sample1.shape[0], :]\n",
    "        sim_perm = combined[sample2.shape[0]:, :]\n",
    "\n",
    "        # Step 3: Compute Wasserstein distance for bootstrap samples\n",
    "        M = ot.dist(obs_perm, sim_perm, metric='euclidean')\n",
    "        boot_distance = (ot.lp.emd2(a, b, M = M))\n",
    "        #boot_distance = wasserstein_distance(boot_sample1, boot_sample2)\n",
    "        bootstrap_distances.append(boot_distance)\n",
    "\n",
    "    # Step 4: Calculate p-value and confidence intervals\n",
    "    bootstrap_distances = np.array(bootstrap_distances)\n",
    "    fig, ax = plt.subplots(figsize=(14, 9))\n",
    "    counts, bins, patches  = ax.hist(bootstrap_distances, bins=150, alpha=0.75,density=True)\n",
    "    ax.set_title(\"Histogram of Permutation-Test Wasserstein Distances\", fontsize=20)\n",
    "    ax.axvline(observed_distance, 0, np.max(counts), color=\"orange\", label=\"Observed Wasserstein Distance\")\n",
    "    ax.set_xlabel(\"Wasserstein Distances\", fontsize=20)\n",
    "    ax.set_ylabel(\"Normalised Count\", fontsize=20)\n",
    "    ax.legend(fontsize=18)\n",
    "    ax.tick_params(labelsize=18)\n",
    "    plt.savefig(\"/Users/marcos/Library/CloudStorage/OneDrive-ImperialCollegeLondon/StatML_CDT/Year2/DiffusionModelPresentationImages/wassersteindistances.png\")\n",
    "    plt.show()\n",
    "    plt.close()\n",
    "    p_value = np.mean(bootstrap_distances >= observed_distance)\n",
    "    #print(bootstrap_distances, observed_distance, p_value)\n",
    "\n",
    "    return observed_distance, p_value"
   ],
   "metadata": {
    "collapsed": false
   }
  },
  {
   "cell_type": "code",
   "execution_count": 20,
   "outputs": [],
   "source": [
    "def plot_ts(ax, ts, T, label, moment):\n",
    "    time_axis = np.linspace(Delta, Delta*T, T)\n",
    "    plt.plot(time_axis, ts, label=f\"{label}\")\n",
    "    ax.set_title(f\"Empirical {moment}\", fontsize=40)\n",
    "    ax.tick_params(labelsize=38)\n",
    "    ax.legend(fontsize=25)"
   ],
   "metadata": {
    "collapsed": false
   }
  },
  {
   "cell_type": "code",
   "execution_count": 21,
   "outputs": [
    {
     "name": "stdout",
     "output_type": "stream",
     "text": [
      "'numpy.ndarray' object has no attribute 'numpy'\n",
      "(1000, 256)\n"
     ]
    }
   ],
   "source": [
    "true_m, true_v, true_s, true_k = moment_calculations(true_data[np.random.choice(np.arange(true_data.shape[0]), 1000),:])"
   ],
   "metadata": {
    "collapsed": false
   }
  },
  {
   "cell_type": "code",
   "execution_count": null,
   "outputs": [
    {
     "name": "stdout",
     "output_type": "stream",
     "text": [
      "[Errno 2] No such file or directory: '/Users/marcos/GitHubRepos/FractionalBrownianMotion/experiments/results/TSPM_ES0_fSin_PathGen_960Nep_0LFactor_10MeanRev_10000DiffSteps_paths'\n",
      "(1000,) (1000,) (1000, 1000)\n"
     ]
    }
   ],
   "source": [
    "Nepoch = 960\n",
    "means = [true_m]\n",
    "vars = [true_v]\n",
    "skews = [true_s]\n",
    "kurt = [true_k]\n",
    "ppaths = [true_data]\n",
    "for config in [config_PM]:\n",
    "    Ndiff = 10000#config.max_diff_steps\n",
    "    for es in [0,5,10,20,50,100,150,200]:#, 10, 100, 200\n",
    "        if \"PMS\" in config.scoreNet_trained_path:\n",
    "            type = \"PMS\"\n",
    "        elif \"PM\" in config.scoreNet_trained_path:\n",
    "            type = \"PM\"\n",
    "        else:\n",
    "            type = \"\"\n",
    "        try:\n",
    "            file_path = f\"/Users/marcos/GitHubRepos/FractionalBrownianMotion/experiments/results/TS{type}_ES{es}_fSin_PathGen_{Nepoch}Nep_{config.loss_factor}LFactor_10MeanRev_{Ndiff}DiffSteps_\"#{type}_mkv_ES\n",
    "            if type == \"\":\n",
    "                type=\"Standard\"\n",
    "\n",
    "            paths = torch.load(file_path+\"paths\")\n",
    "            paths = paths[np.random.choice(np.arange(paths.shape[0]), 1000), 1:T+1]\n",
    "            print(f\"ES {es} with p val {bootstrap_test_wasserstein(paths.numpy(), true_data[np.random.choice(np.arange(true_data.shape[0]), paths.shape[0]),:])[1]}\")\n",
    "            ppaths.append(paths)\n",
    "            print(type, es)\n",
    "            if type == \"\":\n",
    "                type=\"Standard\"\n",
    "            m, v, k, s = moment_calculations(paths)\n",
    "            means.append(m)\n",
    "            vars.append(v)\n",
    "            skews.append(s)\n",
    "            kurt.append(k)\n",
    "        except FileNotFoundError as e:\n",
    "            ppaths.append(np.zeros((10000, T)))\n",
    "            m = np.zeros(T)\n",
    "            means.append(m)\n",
    "            vars.append(m)\n",
    "            skews.append(m)\n",
    "            kurt.append(m)\n",
    "            print(e)\n",
    "\n",
    "for t in range(0,ppaths[0].shape[1], 50):\n",
    "    for i in range(len(means)):\n",
    "        print(len(means))\n",
    "        if i == 0:\n",
    "            label = \"True\"\n",
    "            plt.hist(ppaths[i][:, t], bins=150, density=True, alpha=0.75, label=label)\n",
    "        elif i == 1:\n",
    "            label = f\"{type} ES 0\"\n",
    "        elif i == 2:\n",
    "            label = f\"{type} ES 5\"\n",
    "        elif i == 3:\n",
    "            label = f\"{type} ES 10\"\n",
    "        elif i == 4:\n",
    "            label = f\"{type} ES 20\"\n",
    "            plt.hist(ppaths[i][:, t], bins=150, density=True, alpha=0.75, label=label)\n",
    "        elif i ==5:\n",
    "            label = f\"{type} ES 50\"\n",
    "        elif i == 6:\n",
    "            label=f\"{type} ES 100\"\n",
    "        elif i == 7:\n",
    "            label=f\"{type} ES 150\"\n",
    "        elif i == 8:\n",
    "            label=f\"{type} ES 200\"\n",
    "\n",
    "\n",
    "#        plt.hist(ppaths[i][:, t], bins=150, density=True, alpha=0.75, label=label)\n",
    "    plt.title(f\"Histogram at time index {t}\")\n",
    "    plt.legend()\n",
    "    plt.show()\n",
    "    plt.close()\n",
    "    print(\"Hi\")\n",
    "for mom in [\"Mean\", \"Variance\", \"Skew\", \"Kurtosis\"]:\n",
    "    print(len(means))\n",
    "    if mom == \"Mean\":\n",
    "        ts = means\n",
    "    elif mom == \"Variance\":\n",
    "        ts = vars\n",
    "    elif mom == \"Skew\":\n",
    "        ts = skews\n",
    "    else:\n",
    "        ts = kurt\n",
    "    fig, ax = plt.subplots(figsize=(14,9))\n",
    "    for i in range(len(ppaths)):\n",
    "        if i == 0:\n",
    "            label = \"True\"\n",
    "        elif i == 1:\n",
    "            label = f\"{type} ES 0\"\n",
    "        elif i == 2:\n",
    "            label = f\"{type} ES 5\"\n",
    "        elif i == 3:\n",
    "            label = f\"{type} ES 10\"\n",
    "        elif i == 4:\n",
    "            label = f\"{type} ES 20\"\n",
    "        elif i ==5:\n",
    "            label = f\"{type} ES 50\"\n",
    "        elif i == 6:\n",
    "            label=f\"{type} ES 100\"\n",
    "        elif i == 7:\n",
    "            label=f\"{type} ES 150\"\n",
    "        elif i == 8:\n",
    "            label=f\"{type} ES 200\"\n",
    "        plot_ts(ax=ax, ts=ts[i], T=T,label=f\"{label} {mom}\", moment=f\"{mom}\")\n",
    "    plt.show()\n",
    "    plt.close()\n",
    "\n",
    "\n"
   ],
   "metadata": {
    "collapsed": false,
    "pycharm": {
     "is_executing": true
    }
   }
  },
  {
   "cell_type": "code",
   "execution_count": null,
   "outputs": [],
   "source": [],
   "metadata": {
    "collapsed": false
   }
  },
  {
   "cell_type": "code",
   "execution_count": 62,
   "outputs": [],
   "source": [],
   "metadata": {
    "collapsed": false
   }
  },
  {
   "cell_type": "code",
   "execution_count": null,
   "outputs": [],
   "source": [],
   "metadata": {
    "collapsed": false,
    "pycharm": {
     "is_executing": true
    }
   }
  },
  {
   "cell_type": "code",
   "execution_count": 131,
   "outputs": [],
   "source": [],
   "metadata": {
    "collapsed": false
   }
  }
 ],
 "metadata": {
  "kernelspec": {
   "display_name": "Python 3",
   "language": "python",
   "name": "python3"
  },
  "language_info": {
   "codemirror_mode": {
    "name": "ipython",
    "version": 2
   },
   "file_extension": ".py",
   "mimetype": "text/x-python",
   "name": "python",
   "nbconvert_exporter": "python",
   "pygments_lexer": "ipython2",
   "version": "2.7.6"
  }
 },
 "nbformat": 4,
 "nbformat_minor": 0
}
