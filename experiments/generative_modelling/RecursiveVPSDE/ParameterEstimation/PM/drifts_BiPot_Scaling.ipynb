{
 "cells": [
  {
   "cell_type": "code",
   "execution_count": 6,
   "metadata": {
    "collapsed": true
   },
   "outputs": [
    {
     "name": "stdout",
     "output_type": "stream",
     "text": [
      "The autoreload extension is already loaded. To reload it, use:\n",
      "  %reload_ext autoreload\n"
     ]
    }
   ],
   "source": [
    "%load_ext autoreload\n",
    "%autoreload 2\n",
    "from configs import project_config\n",
    "import numpy as np\n",
    "import torch\n",
    "import matplotlib.pyplot as plt\n",
    "from configs.RecursiveVPSDE.LSTM_fBiPot.recursive_LSTM_PostMeanScore_fBiPot_T256_H05_tl_110data import get_config as get_config\n",
    "from configs.RecursiveVPSDE.LSTM_fBiPot.recursive_LSTM_PostMeanScore_fBiPot_T256_H05_tl_110data_SbleTgt import get_config as get_config"
   ]
  },
  {
   "cell_type": "code",
   "execution_count": 7,
   "outputs": [],
   "source": [
    "def rmse_ignore_nans(y_true, y_pred):\n",
    "    assert (y_true.shape[0] == y_pred.shape[0])\n",
    "    y_true = y_true.flatten()\n",
    "    y_pred = y_pred.flatten()\n",
    "    mask = ~np.isnan(y_true) & ~np.isnan(y_pred)  # Ignore NaNs in both arrays\n",
    "    return np.sqrt(np.mean((y_true[mask] - y_pred[mask]) ** 2))"
   ],
   "metadata": {
    "collapsed": false
   }
  },
  {
   "cell_type": "code",
   "execution_count": 8,
   "outputs": [],
   "source": [
    "def get_rmses(config):\n",
    "    rmses = {}\n",
    "    for Nepoch in config.max_epochs:\n",
    "        model_type = \"PM\"\n",
    "        if \"_ST_\" in config.scoreNet_trained_path:\n",
    "            file_path = (\n",
    "                    project_config.ROOT_DIR + f\"experiments/results/TS{model_type}_LSTM_ST_fBiPot_DriftEvalExp_{Nepoch}Nep_{config.t0}t0_{config.deltaT:.3e}dT_{config.quartic_coeff}a_{config.quad_coeff}b_{config.const}c_{config.beta_max:.1e}betaMax_{config.loss_factor}LFac_\").replace(\n",
    "                \".\", \"\")\n",
    "        else:\n",
    "             file_path = (\n",
    "                    project_config.ROOT_DIR + f\"experiments/results/TS{model_type}_LSTM_fBiPot_DriftEvalExp_{Nepoch}Nep_{config.t0}t0_{config.deltaT:.3e}dT_{config.quartic_coeff}a_{config.quad_coeff}b_{config.const}c_{config.beta_max:.1e}betaMax_{config.loss_factor}LFac_\").replace(\n",
    "                \".\", \"\")\n",
    "        print(file_path)\n",
    "        try:\n",
    "            if Nepoch == 872: raise FileNotFoundError\n",
    "            muhats = torch.Tensor(np.load(file_path+\"muhats.npy\"))\n",
    "            Xshape = muhats.shape[0]\n",
    "            Xs = torch.Tensor(np.linspace(-1.5,1.5,Xshape))#np.load(file_path+\"numpyXs.npy\"))\n",
    "            true_drifts = -(4.*config.quartic_coeff * np.power(Xs, 3) + 2.*config.quad_coeff * Xs + config.const).numpy()\n",
    "            mu_hats = muhats[:, -1, :].reshape(muhats.shape[0], muhats.shape[-1]*1).mean(dim=-1).numpy()\n",
    "            rmse = rmse_ignore_nans(true_drifts, mu_hats).astype(np.float64)\n",
    "            rmses.update({Nepoch: round(rmse, 4)})\n",
    "        except FileNotFoundError:\n",
    "            continue\n",
    "    return rmses"
   ],
   "metadata": {
    "collapsed": false
   }
  },
  {
   "cell_type": "code",
   "execution_count": 9,
   "outputs": [
    {
     "name": "stdout",
     "output_type": "stream",
     "text": [
      "/Users/marcos/GitHubRepos/FractionalBrownianMotion/experiments/results/TSPM_LSTM_ST_fBiPot_DriftEvalExp_60Nep_00t0_3906e-03dT_025a_-05b_00c_20e+01betaMax_2LFac_\n",
      "/Users/marcos/GitHubRepos/FractionalBrownianMotion/experiments/results/TSPM_LSTM_ST_fBiPot_DriftEvalExp_100Nep_00t0_3906e-03dT_025a_-05b_00c_20e+01betaMax_2LFac_\n",
      "/Users/marcos/GitHubRepos/FractionalBrownianMotion/experiments/results/TSPM_LSTM_ST_fBiPot_DriftEvalExp_150Nep_00t0_3906e-03dT_025a_-05b_00c_20e+01betaMax_2LFac_\n",
      "/Users/marcos/GitHubRepos/FractionalBrownianMotion/experiments/results/TSPM_LSTM_ST_fBiPot_DriftEvalExp_300Nep_00t0_3906e-03dT_025a_-05b_00c_20e+01betaMax_2LFac_\n",
      "/Users/marcos/GitHubRepos/FractionalBrownianMotion/experiments/results/TSPM_LSTM_ST_fBiPot_DriftEvalExp_872Nep_00t0_3906e-03dT_025a_-05b_00c_20e+01betaMax_2LFac_\n",
      "/Users/marcos/GitHubRepos/FractionalBrownianMotion/experiments/results/TSPM_LSTM_ST_fBiPot_DriftEvalExp_960Nep_00t0_3906e-03dT_025a_-05b_00c_20e+01betaMax_2LFac_\n",
      "/Users/marcos/GitHubRepos/FractionalBrownianMotion/experiments/results/TSPM_LSTM_ST_fBiPot_DriftEvalExp_1440Nep_00t0_3906e-03dT_025a_-05b_00c_20e+01betaMax_2LFac_\n",
      "/Users/marcos/GitHubRepos/FractionalBrownianMotion/experiments/results/TSPM_LSTM_ST_fBiPot_DriftEvalExp_1920Nep_00t0_3906e-03dT_025a_-05b_00c_20e+01betaMax_2LFac_\n",
      "/Users/marcos/GitHubRepos/FractionalBrownianMotion/experiments/results/TSPM_LSTM_ST_fBiPot_DriftEvalExp_2920Nep_00t0_3906e-03dT_025a_-05b_00c_20e+01betaMax_2LFac_\n",
      "/Users/marcos/GitHubRepos/FractionalBrownianMotion/experiments/results/TSPM_LSTM_ST_fBiPot_DriftEvalExp_6920Nep_00t0_3906e-03dT_025a_-05b_00c_20e+01betaMax_2LFac_\n",
      "/Users/marcos/GitHubRepos/FractionalBrownianMotion/experiments/results/TSPM_LSTM_ST_fBiPot_DriftEvalExp_7190Nep_00t0_3906e-03dT_025a_-05b_00c_20e+01betaMax_2LFac_\n",
      "/Users/marcos/GitHubRepos/FractionalBrownianMotion/experiments/results/TSPM_LSTM_ST_fBiPot_DriftEvalExp_8190Nep_00t0_3906e-03dT_025a_-05b_00c_20e+01betaMax_2LFac_\n",
      "/Users/marcos/GitHubRepos/FractionalBrownianMotion/experiments/results/TSPM_LSTM_ST_fBiPot_DriftEvalExp_12920Nep_00t0_3906e-03dT_025a_-05b_00c_20e+01betaMax_2LFac_\n",
      "/Users/marcos/GitHubRepos/FractionalBrownianMotion/experiments/results/TSPM_LSTM_fBiPot_DriftEvalExp_60Nep_00t0_3906e-03dT_025a_-05b_00c_20e+01betaMax_0LFac_\n",
      "/Users/marcos/GitHubRepos/FractionalBrownianMotion/experiments/results/TSPM_LSTM_fBiPot_DriftEvalExp_100Nep_00t0_3906e-03dT_025a_-05b_00c_20e+01betaMax_0LFac_\n",
      "/Users/marcos/GitHubRepos/FractionalBrownianMotion/experiments/results/TSPM_LSTM_fBiPot_DriftEvalExp_150Nep_00t0_3906e-03dT_025a_-05b_00c_20e+01betaMax_0LFac_\n",
      "/Users/marcos/GitHubRepos/FractionalBrownianMotion/experiments/results/TSPM_LSTM_fBiPot_DriftEvalExp_300Nep_00t0_3906e-03dT_025a_-05b_00c_20e+01betaMax_0LFac_\n",
      "/Users/marcos/GitHubRepos/FractionalBrownianMotion/experiments/results/TSPM_LSTM_fBiPot_DriftEvalExp_960Nep_00t0_3906e-03dT_025a_-05b_00c_20e+01betaMax_0LFac_\n",
      "/Users/marcos/GitHubRepos/FractionalBrownianMotion/experiments/results/TSPM_LSTM_fBiPot_DriftEvalExp_1440Nep_00t0_3906e-03dT_025a_-05b_00c_20e+01betaMax_0LFac_\n",
      "/Users/marcos/GitHubRepos/FractionalBrownianMotion/experiments/results/TSPM_LSTM_fBiPot_DriftEvalExp_1920Nep_00t0_3906e-03dT_025a_-05b_00c_20e+01betaMax_0LFac_\n",
      "/Users/marcos/GitHubRepos/FractionalBrownianMotion/experiments/results/TSPM_LSTM_fBiPot_DriftEvalExp_2920Nep_00t0_3906e-03dT_025a_-05b_00c_20e+01betaMax_0LFac_\n",
      "/Users/marcos/GitHubRepos/FractionalBrownianMotion/experiments/results/TSPM_LSTM_fBiPot_DriftEvalExp_6920Nep_00t0_3906e-03dT_025a_-05b_00c_20e+01betaMax_0LFac_\n",
      "/Users/marcos/GitHubRepos/FractionalBrownianMotion/experiments/results/TSPM_LSTM_fBiPot_DriftEvalExp_7190Nep_00t0_3906e-03dT_025a_-05b_00c_20e+01betaMax_0LFac_\n",
      "/Users/marcos/GitHubRepos/FractionalBrownianMotion/experiments/results/TSPM_LSTM_fBiPot_DriftEvalExp_8190Nep_00t0_3906e-03dT_025a_-05b_00c_20e+01betaMax_0LFac_\n",
      "/Users/marcos/GitHubRepos/FractionalBrownianMotion/experiments/results/TSPM_LSTM_fBiPot_DriftEvalExp_12920Nep_00t0_3906e-03dT_025a_-05b_00c_20e+01betaMax_0LFac_\n"
     ]
    }
   ],
   "source": [
    "from configs.RecursiveVPSDE.LSTM_fBiPot.recursive_LSTM_PostMeanScore_fBiPot_T256_H05_tl_110data_SbleTgt import get_config\n",
    "rmses_stb = get_rmses(config=get_config())\n",
    "from configs.RecursiveVPSDE.LSTM_fBiPot.recursive_LSTM_PostMeanScore_fBiPot_T256_H05_tl_110data import get_config\n",
    "config = get_config()\n",
    "assert (config.loss_factor == 0)\n",
    "rmses_0 = get_rmses(config=get_config())"
   ],
   "metadata": {
    "collapsed": false
   }
  },
  {
   "cell_type": "code",
   "execution_count": 11,
   "outputs": [
    {
     "name": "stdout",
     "output_type": "stream",
     "text": [
      "The autoreload extension is already loaded. To reload it, use:\n",
      "  %reload_ext autoreload\n",
      "/Users/marcos/GitHubRepos/FractionalBrownianMotion/experiments/results/TSPM_LSTM_fBiPot_DriftEvalExp_60Nep_00t0_3906e-03dT_025a_-05b_00c_20e+01betaMax_2LFac_\n",
      "/Users/marcos/GitHubRepos/FractionalBrownianMotion/experiments/results/TSPM_LSTM_fBiPot_DriftEvalExp_100Nep_00t0_3906e-03dT_025a_-05b_00c_20e+01betaMax_2LFac_\n",
      "/Users/marcos/GitHubRepos/FractionalBrownianMotion/experiments/results/TSPM_LSTM_fBiPot_DriftEvalExp_150Nep_00t0_3906e-03dT_025a_-05b_00c_20e+01betaMax_2LFac_\n",
      "/Users/marcos/GitHubRepos/FractionalBrownianMotion/experiments/results/TSPM_LSTM_fBiPot_DriftEvalExp_300Nep_00t0_3906e-03dT_025a_-05b_00c_20e+01betaMax_2LFac_\n",
      "/Users/marcos/GitHubRepos/FractionalBrownianMotion/experiments/results/TSPM_LSTM_fBiPot_DriftEvalExp_960Nep_00t0_3906e-03dT_025a_-05b_00c_20e+01betaMax_2LFac_\n",
      "/Users/marcos/GitHubRepos/FractionalBrownianMotion/experiments/results/TSPM_LSTM_fBiPot_DriftEvalExp_1440Nep_00t0_3906e-03dT_025a_-05b_00c_20e+01betaMax_2LFac_\n",
      "/Users/marcos/GitHubRepos/FractionalBrownianMotion/experiments/results/TSPM_LSTM_fBiPot_DriftEvalExp_1920Nep_00t0_3906e-03dT_025a_-05b_00c_20e+01betaMax_2LFac_\n",
      "/Users/marcos/GitHubRepos/FractionalBrownianMotion/experiments/results/TSPM_LSTM_fBiPot_DriftEvalExp_2920Nep_00t0_3906e-03dT_025a_-05b_00c_20e+01betaMax_2LFac_\n",
      "/Users/marcos/GitHubRepos/FractionalBrownianMotion/experiments/results/TSPM_LSTM_fBiPot_DriftEvalExp_6920Nep_00t0_3906e-03dT_025a_-05b_00c_20e+01betaMax_2LFac_\n",
      "/Users/marcos/GitHubRepos/FractionalBrownianMotion/experiments/results/TSPM_LSTM_fBiPot_DriftEvalExp_7190Nep_00t0_3906e-03dT_025a_-05b_00c_20e+01betaMax_2LFac_\n",
      "/Users/marcos/GitHubRepos/FractionalBrownianMotion/experiments/results/TSPM_LSTM_fBiPot_DriftEvalExp_8190Nep_00t0_3906e-03dT_025a_-05b_00c_20e+01betaMax_2LFac_\n",
      "/Users/marcos/GitHubRepos/FractionalBrownianMotion/experiments/results/TSPM_LSTM_fBiPot_DriftEvalExp_12920Nep_00t0_3906e-03dT_025a_-05b_00c_20e+01betaMax_2LFac_\n"
     ]
    }
   ],
   "source": [
    "%load_ext autoreload\n",
    "%autoreload 2\n",
    "from configs.RecursiveVPSDE.LSTM_fBiPot.recursive_LSTM_PostMeanScore_fBiPot_T256_H05_tl_110data import get_config\n",
    "config = get_config()\n",
    "assert (config.loss_factor == 2)\n",
    "rmses_2 = get_rmses(config=get_config())"
   ],
   "metadata": {
    "collapsed": false
   }
  },
  {
   "cell_type": "code",
   "execution_count": 12,
   "outputs": [
    {
     "data": {
      "text/plain": "{60: 0.2045,\n 100: 0.0858,\n 150: 0.1509,\n 300: 0.0772,\n 960: 0.2209,\n 1440: 0.1583,\n 1920: 0.1633,\n 2920: 0.1376,\n 6920: 0.0526,\n 7190: 0.0601,\n 8190: 0.0394,\n 12920: 0.1205}"
     },
     "execution_count": 12,
     "metadata": {},
     "output_type": "execute_result"
    }
   ],
   "source": [
    "rmses_stb"
   ],
   "metadata": {
    "collapsed": false
   }
  },
  {
   "cell_type": "code",
   "execution_count": 13,
   "outputs": [
    {
     "data": {
      "text/plain": "{60: 0.4689,\n 100: 0.4411,\n 150: 0.4424,\n 300: 0.1016,\n 960: 0.1995,\n 1440: 0.085,\n 1920: 0.0678,\n 2920: 0.3089,\n 6920: 0.0377,\n 7190: 0.0559,\n 8190: 0.141,\n 12920: 0.1768}"
     },
     "execution_count": 13,
     "metadata": {},
     "output_type": "execute_result"
    }
   ],
   "source": [
    "rmses_0"
   ],
   "metadata": {
    "collapsed": false
   }
  },
  {
   "cell_type": "code",
   "execution_count": 14,
   "outputs": [
    {
     "data": {
      "text/plain": "{60: 0.2953,\n 100: 0.2553,\n 150: 0.3428,\n 300: 0.054,\n 960: 0.0871,\n 1440: 0.1001,\n 1920: 0.0624,\n 2920: 0.0939,\n 6920: 0.1033,\n 7190: 0.0668,\n 8190: 0.104,\n 12920: 0.0982}"
     },
     "execution_count": 14,
     "metadata": {},
     "output_type": "execute_result"
    }
   ],
   "source": [
    "rmses_2"
   ],
   "metadata": {
    "collapsed": false
   }
  },
  {
   "cell_type": "code",
   "execution_count": 15,
   "outputs": [
    {
     "name": "stdout",
     "output_type": "stream",
     "text": [
      "          Stable      LFac0      LFac2\n",
      "count  12.000000  12.000000  12.000000\n",
      "mean    0.122592   0.210550   0.138600\n",
      "std     0.059906   0.162712   0.099178\n",
      "min     0.039400   0.037700   0.054000\n",
      "25%     0.072925   0.080700   0.082025\n",
      "50%     0.129050   0.158900   0.099150\n",
      "75%     0.159550   0.341950   0.141825\n",
      "max     0.220900   0.468900   0.342800\n"
     ]
    }
   ],
   "source": [
    "# Convert to DataFrame (pandas automatically fills missing values with NaN)\n",
    "import pandas as pd\n",
    "df = pd.DataFrame([rmses_stb, rmses_0, rmses_2], [\"Stable\", \"LFac0\", \"LFac2\"])\n",
    "\n",
    "# Compute statistics, ignoring NaNs\n",
    "stats = df.T.describe()\n",
    "print(stats)  # Summary statistics"
   ],
   "metadata": {
    "collapsed": false
   }
  },
  {
   "cell_type": "code",
   "execution_count": 17,
   "outputs": [
    {
     "name": "stdout",
     "output_type": "stream",
     "text": [
      "         60      100     150     300     960     1440    1920    2920   \\\n",
      "Stable  0.2045  0.0858  0.1509  0.0772  0.2209  0.1583  0.1633  0.1376   \n",
      "LFac0   0.4689  0.4411  0.4424  0.1016  0.1995  0.0850  0.0678  0.3089   \n",
      "LFac2   0.2953  0.2553  0.3428  0.0540  0.0871  0.1001  0.0624  0.0939   \n",
      "\n",
      "         6920    7190    8190    12920  \n",
      "Stable  0.0526  0.0601  0.0394  0.1205  \n",
      "LFac0   0.0377  0.0559  0.1410  0.1768  \n",
      "LFac2   0.1033  0.0668  0.1040  0.0982  \n"
     ]
    }
   ],
   "source": [
    "print(df)"
   ],
   "metadata": {
    "collapsed": false
   }
  },
  {
   "cell_type": "code",
   "execution_count": null,
   "outputs": [],
   "source": [],
   "metadata": {
    "collapsed": false
   }
  }
 ],
 "metadata": {
  "kernelspec": {
   "display_name": "Python 3",
   "language": "python",
   "name": "python3"
  },
  "language_info": {
   "codemirror_mode": {
    "name": "ipython",
    "version": 2
   },
   "file_extension": ".py",
   "mimetype": "text/x-python",
   "name": "python",
   "nbconvert_exporter": "python",
   "pygments_lexer": "ipython2",
   "version": "2.7.6"
  }
 },
 "nbformat": 4,
 "nbformat_minor": 0
}
