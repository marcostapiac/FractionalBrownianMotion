{
 "cells": [
  {
   "cell_type": "code",
   "execution_count": 1,
   "metadata": {
    "collapsed": true
   },
   "outputs": [],
   "source": [
    "%load_ext autoreload\n",
    "%autoreload 2\n",
    "import matplotlib.pyplot as plt\n",
    "from src.classes.ClassFractionalSin import FractionalSin\n",
    "from tqdm import tqdm\n",
    "import numpy as np\n",
    "import math\n",
    "from scipy.special import eval_laguerre\n",
    "from configs.RecursiveVPSDE.Markovian_fSin.recursive_Markovian_fSinWithPosition_T256_H05_tl_5data import get_config"
   ]
  },
  {
   "cell_type": "markdown",
   "source": [
    "# From Nonparametric drift estimation for IID paths of SDE (Comte et al 2020)"
   ],
   "metadata": {
    "collapsed": false
   }
  },
  {
   "cell_type": "code",
   "execution_count": 2,
   "outputs": [],
   "source": [
    "config = get_config()"
   ],
   "metadata": {
    "collapsed": false
   }
  },
  {
   "cell_type": "code",
   "execution_count": 3,
   "outputs": [
    {
     "data": {
      "text/plain": "<Figure size 1400x900 with 1 Axes>",
      "image/png": "[encoded data removed]"
     },
     "metadata": {},
     "output_type": "display_data"
    }
   ],
   "source": [
    "num_paths = int(1.25e5)\n",
    "num_time_steps = int(256)\n",
    "isUnitInterval = True\n",
    "mean_rev = config.mean_rev\n",
    "diff = config.diffusion\n",
    "initial_state = 0.\n",
    "rvs = None\n",
    "H = config.hurst\n",
    "deltaT = 1./ (256)\n",
    "t0 = 0.\n",
    "t1 = deltaT*num_time_steps\n",
    "space_scale = 1.\n",
    "fSin = FractionalSin(mean_rev=mean_rev, diff=diff, X0=initial_state, space_scale=space_scale)\n",
    "paths = np.array(\n",
    "    [fSin.euler_simulation(H=H, N=num_time_steps, deltaT=deltaT, isUnitInterval=isUnitInterval, X0=0, Ms=None, gaussRvs=rvs,\n",
    "                           t0=t0, t1=t1) for _ in (range(num_paths))]).reshape(\n",
    "    (num_paths, num_time_steps+1))\n",
    "true_drift = mean_rev * np.sin(space_scale*paths[:,:-1])\n",
    "fig, ax = plt.subplots(figsize=(14,9))\n",
    "plt.hist(paths.flatten(), bins=50, density=True)\n",
    "plt.title(\"Histogram of State\", fontsize=24)\n",
    "plt.show()\n",
    "plt.close()"
   ],
   "metadata": {
    "collapsed": false
   }
  },
  {
   "cell_type": "code",
   "execution_count": 4,
   "outputs": [],
   "source": [
    "def hermite_basis(R, paths):\n",
    "    assert (paths.shape[0] > 1 and len(paths.shape)==2)\n",
    "    basis = np.zeros((paths.shape[0],paths.shape[1], R))\n",
    "    polynomials = np.zeros((paths.shape[0],paths.shape[1], R))\n",
    "    for i in range(R):\n",
    "        if i == 0:\n",
    "            polynomials[:, :, i] = np.ones_like(paths)\n",
    "        elif i == 1:\n",
    "            polynomials[:,:, i] = paths\n",
    "        else:\n",
    "            polynomials[:,:, i] = 2*paths*polynomials[:,:,i-1]-2*(i-1)*polynomials[:,:,i-2]\n",
    "        basis[:,:,i] = np.power((np.power(2, i)*np.sqrt(np.pi)*math.factorial(i)),-0.5)*polynomials[:,:,i]*np.exp(-np.power(paths,2)/2.)\n",
    "        #basis[:,:, i] = np.power((np.power(2, i)*np.sqrt(np.pi)*math.factorial(i)),-0.5)*hermite(i,monic=True)(paths)*np.exp(-np.power(paths,2)/2.)\n",
    "    return basis\n",
    "\n",
    "def laguerre_basis(R, paths):\n",
    "    basis = np.zeros((paths.shape[0],paths.shape[1], R))\n",
    "    for i in range(R):\n",
    "        basis[:,:, i] = np.sqrt(2.)*eval_laguerre(i, 2.*paths)*np.exp(-paths)*(paths>=0.)\n",
    "    return basis"
   ],
   "metadata": {
    "collapsed": false
   }
  },
  {
   "cell_type": "code",
   "execution_count": 5,
   "outputs": [],
   "source": [
    "def perfect_observation_regression(paths, true_drift, basis_type):\n",
    "    paths = paths[:, :-1]\n",
    "    Z_true_drift = true_drift.flatten()[:, np.newaxis]\n",
    "    rmses = {}\n",
    "    for r in tqdm(range(1, 100,20)):\n",
    "        basis = hermite_basis(r, paths) if basis_type == \"hermite\" else laguerre_basis(r, paths)\n",
    "        basis = basis.reshape((np.prod(paths.shape), r))\n",
    "        Z = np.linalg.inv(basis.T@basis)@(basis.T@Z_true_drift)\n",
    "        drift = basis @ Z\n",
    "        if np.all(np.isfinite(Z)):\n",
    "            rmses.update({r:np.linalg.norm(Z_true_drift.flatten()-drift.flatten())/np.sqrt(drift.shape[0])})\n",
    "        else:\n",
    "            rmses.update({r:np.inf})\n",
    "    rmses = dict(sorted(rmses.items(), key=lambda item: item[1]))\n",
    "    print(rmses)\n",
    "    for r in list(rmses.keys())[:1]:\n",
    "        basis = hermite_basis(r, paths) if basis_type == \"hermite\" else laguerre_basis(r, paths)\n",
    "        Z_basis = basis.reshape((np.prod(paths.shape), r))\n",
    "        Z = np.linalg.inv(Z_basis.T@Z_basis)@(Z_basis.T@Z_true_drift)\n",
    "        for j in range(0,paths.shape[0], 20):\n",
    "            plt.scatter(paths[j,:], true_drift[j,:],s=10, label=\"True\")\n",
    "            plt.scatter(paths[j,:], basis[j,:,:]@Z, s=10,label=\"Est\")\n",
    "            plt.legend()\n",
    "            plt.show()\n",
    "            plt.close()\n",
    "basis_type = \"hermite\"\n",
    "#perfect_observation_regression(paths=paths, true_drift=true_drift,basis_type=basis_type)"
   ],
   "metadata": {
    "collapsed": false
   }
  },
  {
   "cell_type": "code",
   "execution_count": null,
   "outputs": [],
   "source": [
    "def construct_Z_vector(R, T, basis,paths):\n",
    "    assert(basis.shape[0] == paths.shape[0])\n",
    "    assert(basis.shape[1] == paths.shape[1])\n",
    "    basis = basis[:,:-1,:]\n",
    "    assert (basis.shape[-1] == R)\n",
    "    N, _ = basis.shape[:2]\n",
    "    dXs = np.diff(paths, axis=1) / T\n",
    "    Z = np.diagonal(basis.transpose((2,0,1))@(dXs.T), axis1=1, axis2=2).mean(axis=-1, keepdims=True)\n",
    "    assert (Z.shape == (R, 1)), f\"Z vector is shape {Z.shape} but should be {(R,1)}\"\n",
    "    return Z\n",
    "\n",
    "def construct_Phi_matrix(R, deltaT,T, basis,paths):\n",
    "    assert(basis.shape[0] == paths.shape[0])\n",
    "    assert(basis.shape[1] == paths.shape[1])\n",
    "    basis = basis[:,:-1,:]\n",
    "    assert (basis.shape[-1] == R)\n",
    "    N, _ = basis.shape[:2]\n",
    "    deltaT /= T\n",
    "    intermediate = deltaT*basis.transpose((0,2,1))@basis\n",
    "    assert intermediate.shape == (N, R, R), f\"Intermidate matrix is shape {intermediate.shape} but shoould be {(N,R,R)}\"\n",
    "    for i in range(N):\n",
    "        es = np.linalg.eigvalsh(intermediate[i,:,:]) >= 0.\n",
    "        assert (np.all(es)), f\"Submat at {i} is not PD\"\n",
    "    Phi = deltaT*(basis.transpose((0,2,1))@basis).mean(axis=0, keepdims=False)\n",
    "    assert (Phi.shape == (R, R)), f\"Phi matrix is shape {Phi.shape} but should be {(R,R)}\"\n",
    "    assert np.all(np.linalg.eigvalsh(Phi) >= 0.), f\"Phi matrix is not PD\"\n",
    "    return Phi\n",
    "\n",
    "def estimate_coefficients(R, deltaT,t1, basis,paths):\n",
    "    Z = construct_Z_vector(R=R, T=t1,basis=basis,paths=paths)\n",
    "    Phi = construct_Phi_matrix(R=R, deltaT=deltaT,T=t1,basis=basis,paths=paths)\n",
    "    theta_hat = np.linalg.solve(Phi, Z)\n",
    "    assert (theta_hat.shape == (R, 1))\n",
    "    return theta_hat\n",
    "\n",
    "\n",
    "def construct_drift(basis, coefficients):\n",
    "    b_hat =  (basis @ coefficients).squeeze(-1)\n",
    "    assert (b_hat.shape == basis.shape[:2]), f\"b_hat should be shape {basis.shape[:2]}, but has shape {b_hat.shape}\"\n",
    "    return b_hat\n",
    "\n",
    "\n",
    "R = 6\n",
    "basis = hermite_basis(R=R, paths=paths[:,:])\n",
    "coeffs = (estimate_coefficients(R=R, deltaT=deltaT, basis=basis, paths=paths[:,:], t1=t1))\n",
    "bhat = construct_drift(basis=basis, coefficients=coeffs)\n",
    "vis_paths = paths[:,:-1].flatten()\n",
    "vis_td = true_drift.flatten()\n",
    "plt.scatter(vis_paths, true_drift,s=10, color=\"cyan\", label=\"True\")\n",
    "for j in range(0,paths[:,:].shape[0]):\n",
    "    plt.plot(paths[j,:-1], bhat[j,:-1], alpha=0.25,color=\"magenta\")\n",
    "plt.show()\n",
    "plt.close()"
   ],
   "metadata": {
    "collapsed": false,
    "pycharm": {
     "is_executing": true
    }
   }
  },
  {
   "cell_type": "code",
   "execution_count": null,
   "outputs": [],
   "source": [],
   "metadata": {
    "collapsed": false,
    "pycharm": {
     "is_executing": true
    }
   }
  },
  {
   "cell_type": "code",
   "execution_count": null,
   "outputs": [],
   "source": [],
   "metadata": {
    "collapsed": false,
    "pycharm": {
     "is_executing": true
    }
   }
  },
  {
   "cell_type": "code",
   "execution_count": null,
   "outputs": [],
   "source": [],
   "metadata": {
    "collapsed": false,
    "pycharm": {
     "is_executing": true
    }
   }
  }
 ],
 "metadata": {
  "kernelspec": {
   "display_name": "Python 3",
   "language": "python",
   "name": "python3"
  },
  "language_info": {
   "codemirror_mode": {
    "name": "ipython",
    "version": 2
   },
   "file_extension": ".py",
   "mimetype": "text/x-python",
   "name": "python",
   "nbconvert_exporter": "python",
   "pygments_lexer": "ipython2",
   "version": "2.7.6"
  }
 },
 "nbformat": 4,
 "nbformat_minor": 0
}
