{
 "cells": [
  {
   "cell_type": "code",
   "execution_count": 21,
   "metadata": {
    "collapsed": true
   },
   "outputs": [
    {
     "name": "stdout",
     "output_type": "stream",
     "text": [
      "The autoreload extension is already loaded. To reload it, use:\n",
      "  %reload_ext autoreload\n"
     ]
    }
   ],
   "source": [
    "%load_ext autoreload\n",
    "%autoreload 2\n",
    "from src.generative_modelling.models.TimeDependentScoreNetworks.ClassConditionalLSTMTSScoreMatching import ConditionalLSTMTSScoreMatching\n",
    "from src.generative_modelling.models.TimeDependentScoreNetworks.ClassConditionalLSTMTSPostMeanScoreMatching import ConditionalLSTMTSPostMeanScoreMatching\n",
    "\n",
    "#from configs.RecursiveVPSDE.LSTM_fSin.recursive_PostMeanScaledScore_fSin_T256_H05_tl_5data import get_config as get_config\n",
    "from configs.RecursiveVPSDE.LSTM_fSin.recursive_PostMeanScore_fSin_T256_H05_tl_5data import get_config as get_config\n",
    "#from configs.RecursiveVPSDE.LSTM_fSin.recursive_fSinWithPosition_T256_H05_tl_5data import get_config as get_config\n",
    "\n",
    "from configs import project_config\n",
    "import numpy as np\n",
    "import torch\n",
    "import os\n",
    "from src.generative_modelling.models.ClassVPSDEDiffusion import VPSDEDiffusion\n",
    "\n",
    "import matplotlib.pyplot as plt"
   ]
  },
  {
   "cell_type": "code",
   "execution_count": 22,
   "outputs": [
    {
     "name": "stdout",
     "output_type": "stream",
     "text": [
      "0.0\n",
      "10000\n",
      "Using CPU\n",
      "\n"
     ]
    }
   ],
   "source": [
    "config = get_config()\n",
    "print(config.beta_min)\n",
    "print(config.max_diff_steps)\n",
    "if config.has_cuda:\n",
    "    device = int(os.environ[\"LOCAL_RANK\"])\n",
    "else:\n",
    "    print(\"Using CPU\\n\")\n",
    "    device = torch.device(\"cpu\")\n",
    "\n",
    "diffusion = VPSDEDiffusion(beta_max=config.beta_max, beta_min=config.beta_min)\n",
    "\n",
    "max_diff_steps = config.max_diff_steps\n",
    "sample_eps = config.sample_eps\n",
    "ts_step = 1 / config.ts_length\n",
    "\n",
    "Nepoch = 960#config.max_epochs[0]\n",
    "# Fix the number of training epochs and training loss objective loss"
   ],
   "metadata": {
    "collapsed": false
   }
  },
  {
   "cell_type": "code",
   "execution_count": 33,
   "outputs": [
    {
     "ename": "FileNotFoundError",
     "evalue": "[Errno 2] No such file or directory: '/Users/marcos/GitHubRepos/FractionalBrownianMotion/src/generative_modelling/training_losses/trained_rec_markv_TSM_False_incs_True_unitIntv_fSin_VPSDE_model_H5000e-01_T256_Ndiff10000_Tdiff1000e+00_trainEps1e-04_BetaMax20000e+01_BetaMin00000e+00_DiffEmbSize64_ResLay10_ResChan8_DiffHiddenSize64_TrueHybrid_TrueWghts_10_tl5_Small_loss'",
     "output_type": "error",
     "traceback": [
      "\u001B[0;31m---------------------------------------------------------------------------\u001B[0m",
      "\u001B[0;31mFileNotFoundError\u001B[0m                         Traceback (most recent call last)",
      "Cell \u001B[0;32mIn[33], line 2\u001B[0m\n\u001B[1;32m      1\u001B[0m \u001B[38;5;28;01mimport\u001B[39;00m \u001B[38;5;21;01mpickle\u001B[39;00m\n\u001B[0;32m----> 2\u001B[0m \u001B[38;5;28;01mwith\u001B[39;00m \u001B[38;5;28;43mopen\u001B[39;49m\u001B[43m(\u001B[49m\u001B[38;5;124;43m\"\u001B[39;49m\u001B[38;5;124;43m/Users/marcos/GitHubRepos/FractionalBrownianMotion/src/generative_modelling/training_losses/trained_rec_markv_TSM_False_incs_True_unitIntv_fSin_VPSDE_model_H5000e-01_T256_Ndiff10000_Tdiff1000e+00_trainEps1e-04_BetaMax20000e+01_BetaMin00000e+00_DiffEmbSize64_ResLay10_ResChan8_DiffHiddenSize64_TrueHybrid_TrueWghts_10_tl5_Small_loss\u001B[39;49m\u001B[38;5;124;43m\"\u001B[39;49m\u001B[43m,\u001B[49m\u001B[43m \u001B[49m\u001B[38;5;124;43m'\u001B[39;49m\u001B[38;5;124;43mrb\u001B[39;49m\u001B[38;5;124;43m'\u001B[39;49m\u001B[43m)\u001B[49m \u001B[38;5;28;01mas\u001B[39;00m f:\n\u001B[1;32m      3\u001B[0m         losses_small \u001B[38;5;241m=\u001B[39m np\u001B[38;5;241m.\u001B[39marray(pickle\u001B[38;5;241m.\u001B[39mload(f))\n\u001B[1;32m      4\u001B[0m \u001B[38;5;28;01mwith\u001B[39;00m \u001B[38;5;28mopen\u001B[39m(\u001B[38;5;124m\"\u001B[39m\u001B[38;5;124m/Users/marcos/GitHubRepos/FractionalBrownianMotion/src/generative_modelling/training_losses/trained_rec_markv_TSM_False_incs_True_unitIntv_fSin_VPSDE_model_H5000e-01_T256_Ndiff10000_Tdiff1000e+00_trainEps1e-04_BetaMax20000e+01_BetaMin00000e+00_DiffEmbSize64_ResLay10_ResChan8_DiffHiddenSize64_TrueHybrid_TrueWghts_10_tl5_loss\u001B[39m\u001B[38;5;124m\"\u001B[39m, \u001B[38;5;124m\"\u001B[39m\u001B[38;5;124mrb\u001B[39m\u001B[38;5;124m\"\u001B[39m) \u001B[38;5;28;01mas\u001B[39;00m f:\n",
      "File \u001B[0;32m~/GitHubRepos/FractionalBrownianMotion/venv/lib/python3.10/site-packages/IPython/core/interactiveshell.py:284\u001B[0m, in \u001B[0;36m_modified_open\u001B[0;34m(file, *args, **kwargs)\u001B[0m\n\u001B[1;32m    277\u001B[0m \u001B[38;5;28;01mif\u001B[39;00m file \u001B[38;5;129;01min\u001B[39;00m {\u001B[38;5;241m0\u001B[39m, \u001B[38;5;241m1\u001B[39m, \u001B[38;5;241m2\u001B[39m}:\n\u001B[1;32m    278\u001B[0m     \u001B[38;5;28;01mraise\u001B[39;00m \u001B[38;5;167;01mValueError\u001B[39;00m(\n\u001B[1;32m    279\u001B[0m         \u001B[38;5;124mf\u001B[39m\u001B[38;5;124m\"\u001B[39m\u001B[38;5;124mIPython won\u001B[39m\u001B[38;5;124m'\u001B[39m\u001B[38;5;124mt let you open fd=\u001B[39m\u001B[38;5;132;01m{\u001B[39;00mfile\u001B[38;5;132;01m}\u001B[39;00m\u001B[38;5;124m by default \u001B[39m\u001B[38;5;124m\"\u001B[39m\n\u001B[1;32m    280\u001B[0m         \u001B[38;5;124m\"\u001B[39m\u001B[38;5;124mas it is likely to crash IPython. If you know what you are doing, \u001B[39m\u001B[38;5;124m\"\u001B[39m\n\u001B[1;32m    281\u001B[0m         \u001B[38;5;124m\"\u001B[39m\u001B[38;5;124myou can use builtins\u001B[39m\u001B[38;5;124m'\u001B[39m\u001B[38;5;124m open.\u001B[39m\u001B[38;5;124m\"\u001B[39m\n\u001B[1;32m    282\u001B[0m     )\n\u001B[0;32m--> 284\u001B[0m \u001B[38;5;28;01mreturn\u001B[39;00m \u001B[43mio_open\u001B[49m\u001B[43m(\u001B[49m\u001B[43mfile\u001B[49m\u001B[43m,\u001B[49m\u001B[43m \u001B[49m\u001B[38;5;241;43m*\u001B[39;49m\u001B[43margs\u001B[49m\u001B[43m,\u001B[49m\u001B[43m \u001B[49m\u001B[38;5;241;43m*\u001B[39;49m\u001B[38;5;241;43m*\u001B[39;49m\u001B[43mkwargs\u001B[49m\u001B[43m)\u001B[49m\n",
      "\u001B[0;31mFileNotFoundError\u001B[0m: [Errno 2] No such file or directory: '/Users/marcos/GitHubRepos/FractionalBrownianMotion/src/generative_modelling/training_losses/trained_rec_markv_TSM_False_incs_True_unitIntv_fSin_VPSDE_model_H5000e-01_T256_Ndiff10000_Tdiff1000e+00_trainEps1e-04_BetaMax20000e+01_BetaMin00000e+00_DiffEmbSize64_ResLay10_ResChan8_DiffHiddenSize64_TrueHybrid_TrueWghts_10_tl5_Small_loss'"
     ]
    }
   ],
   "source": [
    "import pickle\n",
    "with open(\"/Users/marcos/GitHubRepos/FractionalBrownianMotion/src/generative_modelling/training_losses/trained_rec_markv_TSM_False_incs_True_unitIntv_fSin_VPSDE_model_H5000e-01_T256_Ndiff10000_Tdiff1000e+00_trainEps1e-04_BetaMax20000e+01_BetaMin00000e+00_DiffEmbSize64_ResLay10_ResChan8_DiffHiddenSize64_TrueHybrid_TrueWghts_10_tl5_Small_loss\", 'rb') as f:\n",
    "        losses_small = np.array(pickle.load(f))\n",
    "with open(\"/Users/marcos/GitHubRepos/FractionalBrownianMotion/src/generative_modelling/training_losses/trained_rec_markv_TSM_False_incs_True_unitIntv_fSin_VPSDE_model_H5000e-01_T256_Ndiff10000_Tdiff1000e+00_trainEps1e-04_BetaMax20000e+01_BetaMin00000e+00_DiffEmbSize64_ResLay10_ResChan8_DiffHiddenSize64_TrueHybrid_TrueWghts_10_tl5_loss\", \"rb\") as f:\n",
    "    losses = np.array(pickle.load(f))"
   ],
   "metadata": {
    "collapsed": false
   }
  },
  {
   "cell_type": "code",
   "execution_count": 31,
   "outputs": [
    {
     "data": {
      "text/plain": "<Figure size 640x480 with 1 Axes>",
      "image/png": "[encoded data removed]"
     },
     "metadata": {},
     "output_type": "display_data"
    }
   ],
   "source": [
    "plt.scatter(np.arange(100, losses.shape[0]), losses[100:],s=1, label=\"Std Err\")\n",
    "plt.scatter(np.arange(100, losses_small.shape[0]), losses_small[100:], s=1,label=\"Small Err\")\n",
    "plt.legend()\n",
    "plt.yscale(\"log\")"
   ],
   "metadata": {
    "collapsed": false
   }
  },
  {
   "cell_type": "code",
   "execution_count": 13,
   "outputs": [
    {
     "name": "stdout",
     "output_type": "stream",
     "text": [
      "PM\n"
     ]
    }
   ],
   "source": [
    "Ndiff = config.max_diff_steps\n",
    "if \"PMS\" in config.scoreNet_trained_path:\n",
    "    type = \"PMS\"\n",
    "    scoreModel = ConditionalLSTMTSPostMeanScoreMatching(\n",
    "        *config.model_parameters)\n",
    "elif \"PM\" in config.scoreNet_trained_path:\n",
    "    type = \"PM\"\n",
    "    scoreModel = ConditionalLSTMTSPostMeanScoreMatching(\n",
    "        *config.model_parameters)\n",
    "else:\n",
    "    type = \"\"\n",
    "    scoreModel = ConditionalLSTMTSScoreMatching(*config.model_parameters)\n",
    "scoreModel.load_state_dict(torch.load(config.scoreNet_trained_path + \"_NEp\" + str(Nepoch)))\n",
    "print(type)"
   ],
   "metadata": {
    "collapsed": false
   }
  },
  {
   "cell_type": "code",
   "execution_count": 21,
   "outputs": [],
   "source": [
    "from tqdm import tqdm\n",
    "\n",
    "def single_time_sampling(config, data_shape, diff_time_space, diffusion, feature, scoreModel, device, es\n",
    "                         ):\n",
    "    Xs = []\n",
    "    x = diffusion.prior_sampling(shape=data_shape).to(device)  # Move to correct device\n",
    "    Xs.append(x)\n",
    "    for diff_index in tqdm(range(config.max_diff_steps)):\n",
    "        if diff_index <= config.max_diff_steps - es - 1:\n",
    "            tau = diff_time_space[diff_index] * torch.ones((data_shape[0],)).to(device)\n",
    "            try:\n",
    "                scoreModel.eval()\n",
    "                with torch.no_grad():\n",
    "                    tau = tau * torch.ones((x.shape[0],)).to(device)\n",
    "                    predicted_score = scoreModel.forward(x, conditioner=feature, times=tau)\n",
    "            except TypeError:\n",
    "                scoreModel.eval()\n",
    "                with torch.no_grad():\n",
    "                    tau = tau * torch.ones((x.shape[0],)).to(device)\n",
    "                    eff_times = diffusion.get_eff_times(diff_times=tau)\n",
    "                    eff_times = eff_times.reshape(x.shape)\n",
    "                    predicted_score = scoreModel.forward(x, conditioner=feature, times=tau, eff_times=eff_times)\n",
    "\n",
    "            _, drift, diffParam = diffusion.get_conditional_reverse_diffusion(x=x,\n",
    "                                                                              predicted_score=predicted_score,\n",
    "                                                                              diff_index=torch.Tensor(\n",
    "                                                                                  [int(diff_index)]).to(device),\n",
    "                                                                              max_diff_steps=config.max_diff_steps)\n",
    "            z = torch.randn_like(drift)\n",
    "            x = drift + diffParam * z\n",
    "            Xs.append(x)\n",
    "        else:\n",
    "            return x\n",
    "    return x, Xs\n",
    "\n",
    "def run_whole_ts_recursive_diffusion(config, ts_length, initial_feature_input, diffusion, scoreModel, device,\n",
    "                                     diff_time_scale, data_shape, es):\n",
    "    paths = []\n",
    "    cumsamples = initial_feature_input\n",
    "    for t in (range(ts_length)):\n",
    "        paths.append(cumsamples.cpu())\n",
    "        print(\"Sampling at real time {}\\n\".format(t + 1))\n",
    "        scoreModel.eval()\n",
    "        with torch.no_grad():\n",
    "            if t == 0:\n",
    "                feature, (h, c) = scoreModel.rnn(initial_feature_input, None)\n",
    "            else:\n",
    "                feature, (h, c) = scoreModel.rnn(cumsamples, (h, c))\n",
    "        new_samples, Xs = single_time_sampling(config=config, data_shape=data_shape,\n",
    "                                           diff_time_space=diff_time_scale,\n",
    "                                           diffusion=diffusion, scoreModel=scoreModel,\n",
    "                                           device=device, feature=feature,\n",
    "                                           es=es)\n",
    "        cumsamples = cumsamples + new_samples\n",
    "    paths.append(cumsamples.cpu())\n",
    "    paths = torch.concat(paths, dim=1).squeeze(-1)\n",
    "    Zs =torch.concat(Xs, dim=1)\n",
    "    return paths.cpu(), Zs\n"
   ],
   "metadata": {
    "collapsed": false
   }
  },
  {
   "cell_type": "code",
   "execution_count": 22,
   "outputs": [
    {
     "name": "stdout",
     "output_type": "stream",
     "text": [
      "960 /Users/marcos/GitHubRepos/FractionalBrownianMotion/data/fSin_samples_H05_T256_10Rev_10Diff_00Init.npy 40 /Users/marcos/GitHubRepos/FractionalBrownianMotion/src/generative_modelling/trained_models/trained_rec_PM_TSM_False_incs_True_unitIntv_fSin_VPSDE_model_H5000e-01_T256_Ndiff10000_Tdiff1000e+00_trainEps1e-04_BetaMax20000e+01_BetaMin00000e+00_DiffEmbSize64_ResLay10_ResChan8_DiffHiddenSize64_TrueHybrid_TrueWghts_LSTM_H20_Nlay1_10_tl5\n",
      "Sampling at real time 1\n",
      "\n"
     ]
    },
    {
     "name": "stderr",
     "output_type": "stream",
     "text": [
      "100%|█████████▉| 9960/10000 [33:13<00:08,  5.00it/s]  \n"
     ]
    },
    {
     "ename": "ValueError",
     "evalue": "too many values to unpack (expected 2)",
     "output_type": "error",
     "traceback": [
      "\u001B[0;31m---------------------------------------------------------------------------\u001B[0m",
      "\u001B[0;31mValueError\u001B[0m                                Traceback (most recent call last)",
      "Cell \u001B[0;32mIn[22], line 14\u001B[0m\n\u001B[1;32m     12\u001B[0m \u001B[38;5;66;03m# Experiment for score model with fixed (Nepochs, loss scaling, drift eval time, Npaths simulated)\u001B[39;00m\n\u001B[1;32m     13\u001B[0m initial_feature_input \u001B[38;5;241m=\u001B[39m torch\u001B[38;5;241m.\u001B[39mzeros(data_shape)\u001B[38;5;241m.\u001B[39mto(device)\n\u001B[0;32m---> 14\u001B[0m paths, Zs \u001B[38;5;241m=\u001B[39m \u001B[43mrun_whole_ts_recursive_diffusion\u001B[49m\u001B[43m(\u001B[49m\n\u001B[1;32m     15\u001B[0m \u001B[43m    \u001B[49m\u001B[43mts_length\u001B[49m\u001B[38;5;241;43m=\u001B[39;49m\u001B[43meval_ts_length\u001B[49m\u001B[43m,\u001B[49m\u001B[43m \u001B[49m\u001B[43mconfig\u001B[49m\u001B[38;5;241;43m=\u001B[39;49m\u001B[43mconfig\u001B[49m\u001B[43m,\u001B[49m\u001B[43m \u001B[49m\u001B[43minitial_feature_input\u001B[49m\u001B[38;5;241;43m=\u001B[39;49m\u001B[43minitial_feature_input\u001B[49m\u001B[43m,\u001B[49m\u001B[43m \u001B[49m\u001B[43mdiffusion\u001B[49m\u001B[38;5;241;43m=\u001B[39;49m\u001B[43mdiffusion\u001B[49m\u001B[43m,\u001B[49m\n\u001B[1;32m     16\u001B[0m \u001B[43m    \u001B[49m\u001B[43mscoreModel\u001B[49m\u001B[38;5;241;43m=\u001B[39;49m\u001B[43mscoreModel\u001B[49m\u001B[43m,\u001B[49m\u001B[43m \u001B[49m\u001B[43mdevice\u001B[49m\u001B[38;5;241;43m=\u001B[39;49m\u001B[43mdevice\u001B[49m\u001B[43m,\u001B[49m\u001B[43m \u001B[49m\u001B[43mdiff_time_scale\u001B[49m\u001B[38;5;241;43m=\u001B[39;49m\u001B[43mrevDiff_time_scale\u001B[49m\u001B[43m,\u001B[49m\u001B[43m \u001B[49m\u001B[43mdata_shape\u001B[49m\u001B[38;5;241;43m=\u001B[39;49m\u001B[43mdata_shape\u001B[49m\u001B[43m,\u001B[49m\u001B[43m \u001B[49m\u001B[43mes\u001B[49m\u001B[38;5;241;43m=\u001B[39;49m\u001B[38;5;241;43m40\u001B[39;49m\u001B[43m)\u001B[49m\n",
      "Cell \u001B[0;32mIn[21], line 49\u001B[0m, in \u001B[0;36mrun_whole_ts_recursive_diffusion\u001B[0;34m(config, ts_length, initial_feature_input, diffusion, scoreModel, device, diff_time_scale, data_shape, es)\u001B[0m\n\u001B[1;32m     47\u001B[0m         \u001B[38;5;28;01melse\u001B[39;00m:\n\u001B[1;32m     48\u001B[0m             feature, (h, c) \u001B[38;5;241m=\u001B[39m scoreModel\u001B[38;5;241m.\u001B[39mrnn(cumsamples, (h, c))\n\u001B[0;32m---> 49\u001B[0m     new_samples, Xs \u001B[38;5;241m=\u001B[39m single_time_sampling(config\u001B[38;5;241m=\u001B[39mconfig, data_shape\u001B[38;5;241m=\u001B[39mdata_shape,\n\u001B[1;32m     50\u001B[0m                                        diff_time_space\u001B[38;5;241m=\u001B[39mdiff_time_scale,\n\u001B[1;32m     51\u001B[0m                                        diffusion\u001B[38;5;241m=\u001B[39mdiffusion, scoreModel\u001B[38;5;241m=\u001B[39mscoreModel,\n\u001B[1;32m     52\u001B[0m                                        device\u001B[38;5;241m=\u001B[39mdevice, feature\u001B[38;5;241m=\u001B[39mfeature,\n\u001B[1;32m     53\u001B[0m                                        es\u001B[38;5;241m=\u001B[39mes)\n\u001B[1;32m     54\u001B[0m     cumsamples \u001B[38;5;241m=\u001B[39m cumsamples \u001B[38;5;241m+\u001B[39m new_samples\n\u001B[1;32m     55\u001B[0m paths\u001B[38;5;241m.\u001B[39mappend(cumsamples\u001B[38;5;241m.\u001B[39mcpu())\n",
      "\u001B[0;31mValueError\u001B[0m: too many values to unpack (expected 2)"
     ]
    }
   ],
   "source": [
    "print(Nepoch, config.data_path, es, config.scoreNet_trained_path)\n",
    "\n",
    "num_simulated_paths = 10000\n",
    "data_shape = (num_simulated_paths, 1, 1)\n",
    "\n",
    "revDiff_time_scale = torch.linspace(start=config.end_diff_time, end=config.sample_eps,\n",
    "                                    steps=config.max_diff_steps).to(device)\n",
    "diffusion = VPSDEDiffusion(beta_max=config.beta_max, beta_min=config.beta_min)\n",
    "\n",
    "# Fix the number of real times to run diffusion\n",
    "eval_ts_length = 1\n",
    "# Experiment for score model with fixed (Nepochs, loss scaling, drift eval time, Npaths simulated)\n",
    "initial_feature_input = torch.zeros(data_shape).to(device)\n",
    "paths, Zs = run_whole_ts_recursive_diffusion(\n",
    "    ts_length=eval_ts_length, config=config, initial_feature_input=initial_feature_input, diffusion=diffusion,\n",
    "    scoreModel=scoreModel, device=device, diff_time_scale=revDiff_time_scale, data_shape=data_shape, es=40)\n"
   ],
   "metadata": {
    "collapsed": false
   }
  },
  {
   "cell_type": "code",
   "execution_count": 18,
   "outputs": [
    {
     "data": {
      "text/plain": "torch.Size([10000, 2])"
     },
     "execution_count": 18,
     "metadata": {},
     "output_type": "execute_result"
    }
   ],
   "source": [
    "paths"
   ],
   "metadata": {
    "collapsed": false
   }
  },
  {
   "cell_type": "code",
   "execution_count": null,
   "outputs": [],
   "source": [],
   "metadata": {
    "collapsed": false
   }
  }
 ],
 "metadata": {
  "kernelspec": {
   "display_name": "Python 3",
   "language": "python",
   "name": "python3"
  },
  "language_info": {
   "codemirror_mode": {
    "name": "ipython",
    "version": 2
   },
   "file_extension": ".py",
   "mimetype": "text/x-python",
   "name": "python",
   "nbconvert_exporter": "python",
   "pygments_lexer": "ipython2",
   "version": "2.7.6"
  }
 },
 "nbformat": 4,
 "nbformat_minor": 0
}
