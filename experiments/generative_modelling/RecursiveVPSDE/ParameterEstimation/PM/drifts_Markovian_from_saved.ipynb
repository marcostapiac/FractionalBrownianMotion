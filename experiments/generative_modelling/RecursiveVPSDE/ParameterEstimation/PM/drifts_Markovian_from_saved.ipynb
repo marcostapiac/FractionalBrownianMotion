{
 "cells": [
  {
   "cell_type": "code",
   "execution_count": 1,
   "metadata": {
    "collapsed": true
   },
   "outputs": [],
   "source": [
    "%load_ext autoreload\n",
    "%autoreload 2\n",
    "\n",
    "#from configs.RecursiveVPSDE.Markovian_fSin.recursive_Markovian_PostMeanScaledScore_fSin_T256_H05_tl_5data import get_config as get_config\n",
    "from configs.RecursiveVPSDE.Markovian_fSin.recursive_Markovian_PostMeanScore_fSin_T256_H05_tl_5data import get_config as get_config\n",
    "#from configs.RecursiveVPSDE.Markovian_fSin.recursive_Markovian_fSinWithPosition_T256_H05_tl_5data import get_config as get_config\n",
    "\n",
    "from configs import project_config\n",
    "import numpy as np\n",
    "import torch\n",
    "import os\n",
    "from src.generative_modelling.models.ClassVPSDEDiffusion import VPSDEDiffusion\n",
    "from src.generative_modelling.models.TimeDependentScoreNetworks.ClassConditionalMarkovianTSPostMeanScoreMatching  import \\\n",
    "    ConditionalMarkovianTSPostMeanScoreMatching\n",
    "from src.generative_modelling.models.TimeDependentScoreNetworks.ClassConditionalMarkovianTSScoreMatching  import \\\n",
    "    ConditionalMarkovianTSScoreMatching\n",
    "\n",
    "import matplotlib.pyplot as plt"
   ]
  },
  {
   "cell_type": "code",
   "execution_count": 32,
   "outputs": [
    {
     "name": "stdout",
     "output_type": "stream",
     "text": [
      "0.0\n",
      "Using CPU\n",
      "\n"
     ]
    },
    {
     "data": {
      "text/plain": "<All keys matched successfully>"
     },
     "execution_count": 32,
     "metadata": {},
     "output_type": "execute_result"
    }
   ],
   "source": [
    "config = get_config()\n",
    "print(config.beta_min)\n",
    "if config.has_cuda:\n",
    "    device = int(os.environ[\"LOCAL_RANK\"])\n",
    "else:\n",
    "    print(\"Using CPU\\n\")\n",
    "    device = torch.device(\"cpu\")\n",
    "\n",
    "diffusion = VPSDEDiffusion(beta_max=config.beta_max, beta_min=config.beta_min)\n",
    "\n",
    "max_diff_steps = config.max_diff_steps\n",
    "sample_eps = config.sample_eps\n",
    "ts_step = 1 / config.ts_length\n",
    "\n",
    "Nepoch = 1440#config.max_epochs[0]\n",
    "# Fix the number of training epochs and training loss objective loss\n",
    "if \"PM\" in config.scoreNet_trained_path:\n",
    "    PM = ConditionalMarkovianTSPostMeanScoreMatching(*config.model_parameters).to(device)\n",
    "else:\n",
    "    PM = ConditionalMarkovianTSScoreMatching(*config.model_parameters).to(device)\n",
    "PM.load_state_dict(torch.load(config.scoreNet_trained_path + \"_NEp\" + str(Nepoch)))"
   ],
   "metadata": {
    "collapsed": false
   }
  },
  {
   "cell_type": "code",
   "execution_count": 33,
   "outputs": [
    {
     "ename": "SyntaxError",
     "evalue": "unterminated string literal (detected at line 11) (3434883790.py, line 11)",
     "output_type": "error",
     "traceback": [
      "\u001B[0;36m  Cell \u001B[0;32mIn[33], line 11\u001B[0;36m\u001B[0m\n\u001B[0;31m    file_path = f\"/Users/marcos/GitHubRepos/FractionalBrownianMotion/experiments/results/\u001B[0m\n\u001B[0m                ^\u001B[0m\n\u001B[0;31mSyntaxError\u001B[0m\u001B[0;31m:\u001B[0m unterminated string literal (detected at line 11)\n"
     ]
    }
   ],
   "source": [
    "config.max_diff_steps = 10000\n",
    "Ndiff = config.max_diff_steps\n",
    "print(Ndiff)\n",
    "if \"PMS\" in config.scoreNet_trained_path:\n",
    "    type = \"PMS\"\n",
    "elif \"PM\" in config.scoreNet_trained_path:\n",
    "    type = \"PM\"\n",
    "else:\n",
    "    type = \"\"\n",
    "file_path = f\"/Users/marcos/GitHubRepos/FractionalBrownianMotion/experiments/results/TS{type}_Small_mkv_ES40_fSin_DriftEvalExp_{Nepoch}Nep_{config.loss_factor}LFactor_10MeanRev_{Ndiff}DiffSteps_\"\n",
    "file_path = f\"/Users/marcos/GitHubRepos/FractionalBrownianMotion/experiments/results/\n",
    "muhats = torch.Tensor(np.load(file_path+\"muhats.npy\"))\n",
    "Xs = torch.Tensor(np.linspace(-3,3,256))#np.load(file_path+\"numpyXs.npy\"))\n",
    "if type == \"\":\n",
    "    type=\"Standard\"\n",
    "print(type)"
   ],
   "metadata": {
    "collapsed": false
   }
  },
  {
   "cell_type": "code",
   "execution_count": null,
   "outputs": [],
   "source": [
    "def plot_drift_estimator(mean, stds, numpy_Xs, type, toSave:bool = True):\n",
    "    fig, ax = plt.subplots(figsize=(14,9))\n",
    "    rmse = np.power(np.mean(np.power(np.sin(numpy_Xs) - mean, 2)), 0.5)\n",
    "    ax.scatter(numpy_Xs, np.sin(numpy_Xs), color=\"red\", label=\"True Drift\")\n",
    "\n",
    "    ax.errorbar(numpy_Xs, mean, fmt=\"o\",yerr=2*stds, label=\"Drift Estimator with 2 Std\")\n",
    "    ax.set_title(rf\"RMSE {round(rmse,3)} of estimator $\\bar{{\\mu}}(x)$\", fontsize=40)\n",
    "    ax.tick_params(labelsize=38)\n",
    "    ax.set_xlabel(\"State $x$\", fontsize=38)\n",
    "    ax.set_ylabel(\"Drift Value\", fontsize=38)\n",
    "    ax.legend(loc=\"lower right\", fontsize=25)\n",
    "    if toSave:\n",
    "        plt.savefig(f\"/Users/marcos/Library/CloudStorage/OneDrive-ImperialCollegeLondon/StatML_CDT/Year2/DiffusionModelPresentationImages/fSin_{type}.png\",  bbox_inches='tight')\n",
    "    plt.show()\n",
    "    plt.close()"
   ],
   "metadata": {
    "collapsed": false
   }
  },
  {
   "cell_type": "code",
   "execution_count": null,
   "outputs": [],
   "source": [
    "print(type,muhats.shape)\n",
    "assert (config.max_diff_steps == 10000)"
   ],
   "metadata": {
    "collapsed": false
   }
  },
  {
   "cell_type": "code",
   "execution_count": null,
   "outputs": [],
   "source": [
    "true_drifts = np.sin(Xs).unsqueeze(-1)\n",
    "diff_mses = (true_drifts - muhats.mean(dim=-1).numpy()).permute(1,0).pow(2).sum(dim=-1) / (muhats.shape[0])\n",
    "diff_rmses = diff_mses.pow(0.5)\n",
    "fig, ax = plt.subplots(figsize=(14, 9))\n",
    "ax.plot(np.linspace(config.sample_eps, config.end_diff_time, muhats.shape[1]), diff_rmses)\n",
    "ax.set_title(r\"Drift RMSE Against Diffusion Time $\\tau_{s}$\", fontsize=40)\n",
    "ax.tick_params(labelsize=38)\n",
    "plt.yscale(\"log\")\n",
    "ax.set_xlabel(r\"Diffusion Time $\\tau_{s}$\", fontsize=48)\n",
    "ax.set_ylabel(r\"RMSE\", fontsize=38)\n",
    "plt.savefig(f\"/Users/marcos/Library/CloudStorage/OneDrive-ImperialCollegeLondon/StatML_CDT/Year2/DiffusionModelPresentationImages/fSin_{type}_RMSEs.png\",  bbox_inches='tight')"
   ],
   "metadata": {
    "collapsed": false
   }
  },
  {
   "cell_type": "code",
   "execution_count": null,
   "outputs": [],
   "source": [
    "mu_hats = muhats[:, -100, :].reshape(muhats.shape[0], muhats.shape[-1]).mean(dim=-1).numpy()\n",
    "stds = muhats[:, -100, :].reshape(muhats.shape[0], muhats.shape[-1]).std(dim=-1).numpy()\n",
    "plot_drift_estimator(mean=mu_hats, stds=0*stds, numpy_Xs=Xs.numpy(), type=type, toSave=True)\n",
    "print(np.mean(stds))"
   ],
   "metadata": {
    "collapsed": false
   }
  },
  {
   "cell_type": "code",
   "execution_count": null,
   "outputs": [],
   "source": [
    "print(diff_rmses.min())"
   ],
   "metadata": {
    "collapsed": false
   }
  },
  {
   "cell_type": "code",
   "execution_count": null,
   "outputs": [],
   "source": [
    "mu_hats = muhats.mean(dim=-1).numpy()\n",
    "per_diff_stds = muhats.std(dim=-1).numpy()"
   ],
   "metadata": {
    "collapsed": false
   }
  },
  {
   "cell_type": "code",
   "execution_count": null,
   "outputs": [],
   "source": [
    "for j in range(0, 50, -1):\n",
    "    plot_drift_estimator(mean=mu_hats[:,j], stds=per_diff_stds[:, j], numpy_Xs=Xs.numpy(), type=\"type\", toSave=False)"
   ],
   "metadata": {
    "collapsed": false
   }
  },
  {
   "cell_type": "code",
   "execution_count": null,
   "outputs": [],
   "source": [
    "start_diff_idx = int(muhats.shape[1]*0.01)\n",
    "end_diff_idx = int(muhats.shape[1]*1)\n",
    "print(end_diff_idx)\n",
    "mu_hats = muhats[:, start_diff_idx:end_diff_idx, :].reshape(muhats.shape[0], muhats.shape[-1]*(end_diff_idx-start_diff_idx)).mean(dim=-1).numpy()\n",
    "stds = muhats[:, start_diff_idx:end_diff_idx, :].reshape(muhats.shape[0], muhats.shape[-1]*(end_diff_idx-start_diff_idx)).std(dim=-1).numpy()"
   ],
   "metadata": {
    "collapsed": false
   }
  },
  {
   "cell_type": "code",
   "execution_count": null,
   "outputs": [],
   "source": [
    "plot_drift_estimator(mean=mu_hats, stds=stds, numpy_Xs=Xs.numpy(), type=type, toSave=True)\n",
    "print(np.mean(stds))"
   ],
   "metadata": {
    "collapsed": false
   }
  },
  {
   "cell_type": "code",
   "execution_count": null,
   "outputs": [],
   "source": [],
   "metadata": {
    "collapsed": false
   }
  },
  {
   "cell_type": "code",
   "execution_count": null,
   "outputs": [],
   "source": [],
   "metadata": {
    "collapsed": false
   }
  },
  {
   "cell_type": "code",
   "execution_count": null,
   "outputs": [],
   "source": [],
   "metadata": {
    "collapsed": false
   }
  }
 ],
 "metadata": {
  "kernelspec": {
   "display_name": "Python 3",
   "language": "python",
   "name": "python3"
  },
  "language_info": {
   "codemirror_mode": {
    "name": "ipython",
    "version": 2
   },
   "file_extension": ".py",
   "mimetype": "text/x-python",
   "name": "python",
   "nbconvert_exporter": "python",
   "pygments_lexer": "ipython2",
   "version": "2.7.6"
  }
 },
 "nbformat": 4,
 "nbformat_minor": 0
}
