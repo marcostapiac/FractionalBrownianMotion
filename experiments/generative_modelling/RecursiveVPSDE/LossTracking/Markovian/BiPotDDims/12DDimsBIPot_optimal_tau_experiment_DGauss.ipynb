{
 "cells": [
  {
   "cell_type": "code",
   "execution_count": 1,
   "metadata": {},
   "outputs": [
    {
     "name": "stdout",
     "output_type": "stream",
     "text": [
      "Wrote /home/mt622/GitHubRepos/FractionalBrownianMotion/.venv/lib/python3.10/site-packages/namerepo_root.pth\n"
     ]
    }
   ],
   "source": [
    "import site, pathlib, subprocess, sys\n",
    "sys.path.insert(0,\"/home/mt622/GitHubRepos/FractionalBrownianMotion\")\n",
    "repo_root = subprocess.check_output(\n",
    "    [\"git\", \"rev-parse\", \"--show-toplevel\"], text=True\n",
    ").strip()\n",
    "pth_dir = pathlib.Path(site.getsitepackages()[0])\n",
    "(pth_dir / \"namerepo_root.pth\").write_text(repo_root + \"\\n\")\n",
    "print(\"Wrote\", pth_dir / \"namerepo_root.pth\")"
   ]
  },
  {
   "cell_type": "code",
   "execution_count": 2,
   "metadata": {
    "collapsed": true
   },
   "outputs": [],
   "source": [
    "import pickle\n",
    "from configs import project_config\n",
    "import numpy as np\n",
    "import torch\n",
    "import os\n",
    "from tqdm import tqdm\n",
    "from src.classes.ClassConditionalStbleTgtMarkovianPostMeanDiffTrainer import \\\n",
    "    ConditionalStbleTgtMarkovianPostMeanDiffTrainer\n",
    "from src.generative_modelling.data_processing import train_and_save_recursive_diffusion_model\n",
    "from src.generative_modelling.models.ClassVPSDEDiffusion import VPSDEDiffusion\n",
    "from src.generative_modelling.models.TimeDependentScoreNetworks.ClassConditionalMarkovianTSPostMeanScoreMatching import \\\n",
    "    ConditionalMarkovianTSPostMeanScoreMatching\n",
    "from utils.data_processing import init_experiment, cleanup_experiment\n",
    "from utils.math_functions import generate_fQuadSin\n",
    "from utils.resource_logger import ResourceLogger"
   ]
  },
  {
   "cell_type": "code",
   "execution_count": 3,
   "metadata": {
    "collapsed": false
   },
   "outputs": [],
   "source": [
    "# Data parameters\n",
    "from configs.RecursiveVPSDE.Markovian_fBiPotDDims.recursive_Markovian_PostMeanScore_fBiPot12Dims_T256_H05_tl_110data_StbleTgt import get_config\n",
    "config = get_config()"
   ]
  },
  {
   "cell_type": "code",
   "execution_count": 5,
   "metadata": {
    "collapsed": false
   },
   "outputs": [
    {
     "name": "stdout",
     "output_type": "stream",
     "text": [
      "/home/mt622/GitHubRepos/FractionalBrownianMotion/src/generative_modelling/trained_models/trained_rec_ST_0010FTh_PM_MLP_2LFac_fBiPot_12DDims_VPSDE_T256_Ndiff10000_Tdiff1000e+00_DiffEmbSz64_ResLay10_ResChan8_DiffHdnSz64_TrueHybd_TrueWghts_t00_dT3906e-03_025a_-20b_00c_MLP_H4_CUp20_tl110 40000\n"
     ]
    }
   ],
   "source": [
    "assert (config.hurst == 0.5)\n",
    "assert (config.early_stop_idx == 0)\n",
    "assert (config.tdata_mult == 110)\n",
    "#assert (config.sin_space_scale == 25.)\n",
    "assert (config.feat_thresh == 1./100.)\n",
    "print(config.scoreNet_trained_path, config.dataSize)\n",
    "rng = np.random.default_rng()\n",
    "scoreModel = ConditionalMarkovianTSPostMeanScoreMatching(\n",
    "    *config.model_parameters)\n",
    "diffusion = VPSDEDiffusion(beta_max=config.beta_max, beta_min=config.beta_min)\n"
   ]
  },
  {
   "cell_type": "code",
   "execution_count": 6,
   "metadata": {
    "collapsed": false
   },
   "outputs": [
    {
     "name": "stdout",
     "output_type": "stream",
     "text": [
      "trained_rec_ST_0010FTh_PM_MLP_2LFac_fBiPot_12DDims_VPSDE_T256_Ndiff10000_Tdiff1000e+00_DiffEmbSz64_ResLay10_ResChan8_DiffHdnSz64_TrueHybd_TrueWghts_t00_dT3906e-03_025a_-20b_00c_MLP_H4_CUp20_tl110_EENEp328\n"
     ]
    }
   ],
   "source": [
    "model_dir = \"/\".join(config.scoreNet_trained_path.split(\"/\")[:-1]) + \"/\"\n",
    "entered = False\n",
    "for file in os.listdir(model_dir):\n",
    "    if config.scoreNet_trained_path in os.path.join(model_dir, file) and \"EE\" in file:\n",
    "        print(file)\n",
    "        entered = True\n",
    "        scoreModel.load_state_dict(torch.load(os.path.join(model_dir, file)))\n",
    "assert entered"
   ]
  },
  {
   "cell_type": "code",
   "execution_count": 7,
   "metadata": {
    "collapsed": false
   },
   "outputs": [],
   "source": [
    "def experiment_MLP_1D_drifts(config, es,Xs, PM, onlyGauss=False):\n",
    "    print(\"Beta Min : \", config.beta_min)\n",
    "    if config.has_cuda:\n",
    "        device = 0#int(os.environ[\"LOCAL_RANK\"])\n",
    "    else:\n",
    "        print(\"Using CPU\\n\")\n",
    "        device = torch.device(\"cpu\")\n",
    "    Xs = torch.Tensor(Xs).to(device)\n",
    "    PM = PM.to(device)\n",
    "    diffusion = VPSDEDiffusion(beta_max=config.beta_max, beta_min=config.beta_min)\n",
    "    ts_step = config.deltaT\n",
    "    print(config.scoreNet_trained_path)\n",
    "    Xshape = config.ts_length\n",
    "    num_taus = 10\n",
    "\n",
    "    num_diff_times = config.max_diff_steps\n",
    "    Ndiff_discretisation = config.max_diff_steps\n",
    "    diffusion_times = torch.linspace(start=config.sample_eps, end=config.end_diff_time,\n",
    "                                     steps=Ndiff_discretisation).to(device)\n",
    "\n",
    "    features_tensor = torch.stack([Xs for _ in range(1)], dim=0).reshape(Xshape * 1, 1, -1).to(device)\n",
    "    vec_Z_taus = diffusion.prior_sampling(shape=(Xshape * num_taus, 1, config.ts_dims)).to(device)\n",
    "\n",
    "    # ts = []\n",
    "    es = num_diff_times - es\n",
    "    final_vec_mu_hats = np.zeros(\n",
    "        (Xshape, num_diff_times, num_taus, config.ts_dims))  # Xvalues, DiffTimes, Ztaus, Ts_Dims\n",
    "    \n",
    "    ts = []\n",
    "    # mu_hats_mean = np.zeros((tot_num_feats, num_taus))\n",
    "    # mu_hats_std = np.zeros((tot_num_feats, num_taus))\n",
    "    PM.eval()\n",
    "    for difftime_idx in tqdm(np.arange(num_diff_times - 1, num_diff_times - es - 1, -1)): #difftime_idx >= num_diff_times - es:\n",
    "        d = diffusion_times[Ndiff_discretisation - (num_diff_times - 1 - difftime_idx) - 1].to(device)\n",
    "        diff_times = torch.stack([d for _ in range(Xshape)]).reshape(Xshape * 1).to(device)\n",
    "        eff_times = diffusion.get_eff_times(diff_times=diff_times).unsqueeze(-1).unsqueeze(-1).to(device)\n",
    "        vec_diff_times = torch.stack([diff_times for _ in range(num_taus)], dim=0).reshape(num_taus * Xshape)\n",
    "        vec_eff_times = torch.stack([eff_times for _ in range(num_taus)], dim=0).reshape(num_taus * Xshape, 1, 1)\n",
    "        vec_conditioner = torch.stack([features_tensor for _ in range(num_taus)], dim=0).reshape(\n",
    "            num_taus * Xshape,\n",
    "            1, -1)\n",
    "        with torch.no_grad():\n",
    "            if onlyGauss:\n",
    "                scoreEval_vec_Z_taus = torch.randn_like(vec_Z_taus).to(device)\n",
    "            else:\n",
    "                scoreEval_vec_Z_taus = vec_Z_taus\n",
    "            vec_predicted_score = PM.forward(inputs=scoreEval_vec_Z_taus, times=vec_diff_times, conditioner=vec_conditioner,\n",
    "                                             eff_times=vec_eff_times)\n",
    "        vec_scores, vec_drift, vec_diffParam = diffusion.get_conditional_reverse_diffusion(x=vec_Z_taus,\n",
    "                                                                                           predicted_score=vec_predicted_score,\n",
    "                                                                                           diff_index=torch.Tensor(\n",
    "                                                                                               [int((\n",
    "                                                                                                       num_diff_times - 1 - difftime_idx))]).to(\n",
    "                                                                                               device),\n",
    "                                                                                           max_diff_steps=Ndiff_discretisation)\n",
    "        # assert np.allclose((scores- predicted_score).detach(), 0)\n",
    "        beta_taus = torch.exp(-0.5 * eff_times[0, 0, 0]).to(device)\n",
    "        sigma_taus = torch.pow(1. - torch.pow(beta_taus, 2), 0.5).to(device)\n",
    "        final_mu_hats = (scoreEval_vec_Z_taus / (ts_step * beta_taus)) + ((\n",
    "                                                                        (torch.pow(sigma_taus, 2) + (\n",
    "                                                                                torch.pow(beta_taus * config.diffusion,\n",
    "                                                                                          2) * ts_step)) / (\n",
    "                                                                                ts_step * beta_taus)) * vec_scores)\n",
    "\n",
    "        assert (final_mu_hats.shape == (num_taus * Xshape, 1, config.ts_dims))\n",
    "\n",
    "        means = final_mu_hats.reshape((num_taus, Xshape, config.ts_dims))\n",
    "        # print(vec_Z_taus.shape, vec_scores.shape)\n",
    "        final_vec_mu_hats[:, difftime_idx,:, :] = means.permute((1, 0, 2)).cpu().numpy()\n",
    "        vec_z = torch.randn_like(vec_drift).to(device)\n",
    "        vec_Z_taus = vec_drift + vec_diffParam * vec_z\n",
    "        difftime_idx -= 1\n",
    "    assert (final_vec_mu_hats.shape == (Xshape, num_diff_times, num_taus, config.ts_dims))\n",
    "    return final_vec_mu_hats[:, -es:, :, :]"
   ]
  },
  {
   "cell_type": "code",
   "execution_count": 8,
   "metadata": {
    "collapsed": false
   },
   "outputs": [],
   "source": [
    "Xshape = 256\n",
    "if config.ndims == 12:\n",
    "    Xs = np.concatenate([np.linspace(-5, 5, num=Xshape).reshape(-1,1), np.linspace(-4.7, 4.7, num=Xshape).reshape(-1,1), \\\n",
    "                            np.linspace(-4.4, 4.4, num=Xshape).reshape(-1,1), np.linspace(-4.2, 4.2, num=Xshape).reshape(-1,1), \\\n",
    "                            np.linspace(-4.05, 4.05, num=Xshape).reshape(-1,1), np.linspace(-3.9, 3.9, num=Xshape).reshape(-1,1), \\\n",
    "                            np.linspace(-3.7, 3.7, num=Xshape).reshape(-1,1), np.linspace(-3.6, 3.6, num=Xshape).reshape(-1,1), \\\n",
    "                            np.linspace(-3.55, 3.55, num=Xshape).reshape(-1,1),\n",
    "                            np.linspace(-3.48, 3.48, num=Xshape).reshape(-1,1), \\\n",
    "                            np.linspace(-3.4, 3.4, num=Xshape).reshape(-1,1), np.linspace(-3.4, 3.4, num=Xshape).reshape(-1,1)],\n",
    "                        axis=1)\n",
    "elif config.ndims == 8:\n",
    "    Xs = np.concatenate([np.linspace(-4.9, 4.9, num=Xshape).reshape(-1, 1), np.linspace(-4.4, 4.4, num=Xshape).reshape(-1,1), \\\n",
    "                            np.linspace(-4.05, 4.05, num=Xshape).reshape(-1,1), np.linspace(-3.9, 3.9, num=Xshape).reshape(-1,1), \\\n",
    "                            np.linspace(-3.7, 3.7, num=Xshape).reshape(-1,1), np.linspace(-3.6, 3.6, num=Xshape).reshape(-1,1), \\\n",
    "                            np.linspace(-3.5, 3.5, num=Xshape).reshape(-1,1), np.linspace(-3.4, 3.4, num=Xshape).reshape(-1,1)],\n",
    "                        axis=1)"
   ]
  },
  {
   "cell_type": "code",
   "execution_count": 9,
   "metadata": {
    "collapsed": false
   },
   "outputs": [
    {
     "data": {
      "text/plain": [
       "'/home/mt622/GitHubRepos/FractionalBrownianMotion/data/'"
      ]
     },
     "execution_count": 9,
     "metadata": {},
     "output_type": "execute_result"
    }
   ],
   "source": [
    "remote_file_path = project_config.ROOT_DIR+\"data/\" #/Users/marcos/Library/CloudStorage/OneDrive-ImperialCollegeLondon/StatML_CDT/Year2/DiffusionModels/ExperimentResults/\"\n",
    "remote_file_path"
   ]
  },
  {
   "cell_type": "code",
   "execution_count": 10,
   "metadata": {
    "collapsed": false
   },
   "outputs": [
    {
     "name": "stdout",
     "output_type": "stream",
     "text": [
      "Beta Min :  0.0\n",
      "/home/mt622/GitHubRepos/FractionalBrownianMotion/src/generative_modelling/trained_models/trained_rec_ST_0010FTh_PM_MLP_2LFac_fBiPot_12DDims_VPSDE_T256_Ndiff10000_Tdiff1000e+00_DiffEmbSz64_ResLay10_ResChan8_DiffHdnSz64_TrueHybd_TrueWghts_t00_dT3906e-03_025a_-20b_00c_MLP_H4_CUp20_tl110\n"
     ]
    },
    {
     "name": "stderr",
     "output_type": "stream",
     "text": [
      "100%|██████████| 10000/10000 [02:03<00:00, 81.06it/s]\n"
     ]
    },
    {
     "name": "stdout",
     "output_type": "stream",
     "text": [
      "Beta Min :  0.0\n",
      "/home/mt622/GitHubRepos/FractionalBrownianMotion/src/generative_modelling/trained_models/trained_rec_ST_0010FTh_PM_MLP_2LFac_fBiPot_12DDims_VPSDE_T256_Ndiff10000_Tdiff1000e+00_DiffEmbSz64_ResLay10_ResChan8_DiffHdnSz64_TrueHybd_TrueWghts_t00_dT3906e-03_025a_-20b_00c_MLP_H4_CUp20_tl110\n"
     ]
    },
    {
     "name": "stderr",
     "output_type": "stream",
     "text": [
      "100%|██████████| 10000/10000 [02:00<00:00, 82.70it/s]\n"
     ]
    }
   ],
   "source": [
    "es=0\n",
    "DNonGauss = experiment_MLP_1D_drifts(PM=scoreModel,es=es, Xs=Xs, config=config, onlyGauss=False)\n",
    "np.save(remote_file_path + \"12DDimsBiPot_optimal_tau_experiment_DNonGauss.npy\", DNonGauss)\n",
    "\n",
    "DGauss = experiment_MLP_1D_drifts(PM=scoreModel,es=es, Xs=Xs, config=config, onlyGauss=True)\n",
    "np.save(remote_file_path + \"12DDimsBiPot_optimal_tau_experiment_DGauss.npy\", DGauss)"
   ]
  },
  {
   "cell_type": "code",
   "execution_count": 11,
   "metadata": {
    "collapsed": false
   },
   "outputs": [],
   "source": [
    "true_drifts = -(4. * np.array(config.quartic_coeff) * np.power(Xs,\n",
    "                                                                           3) + 2. * np.array(\n",
    "                    config.quad_coeff) * Xs + np.array(config.const))\n",
    "Gauss_errors = np.mean(DGauss, axis=2) - true_drifts[:, np.newaxis,:]\n",
    "assert np.all(Gauss_errors.shape == (Xshape, DGauss.shape[1], config.ts_dims))\n",
    "NonGauss_errors = np.mean(DNonGauss, axis=2) - true_drifts[:, np.newaxis,:]\n",
    "assert np.all(NonGauss_errors.shape == (Xshape, DNonGauss.shape[1], config.ts_dims))\n",
    "Gauss_errors = np.mean(np.sum(np.power(Gauss_errors,2), axis=-1), axis=0)\n",
    "assert np.all(Gauss_errors.shape == (DGauss.shape[1],))\n",
    "NonGauss_errors = np.mean(np.sum(np.power(NonGauss_errors,2), axis=-1), axis=0)\n",
    "assert np.all(NonGauss_errors.shape == (DNonGauss.shape[1],))\n"
   ]
  },
  {
   "cell_type": "code",
   "execution_count": 23,
   "metadata": {},
   "outputs": [
    {
     "data": {
      "text/plain": [
       "array([6.47122540e+09, 1.40240010e+09, 3.48652434e+08, ...,\n",
       "       2.36967819e+04, 2.36972784e+04, 2.36970621e+04])"
      ]
     },
     "execution_count": 23,
     "metadata": {},
     "output_type": "execute_result"
    }
   ],
   "source": [
    "Gauss_errors_std = np.sum(np.power(np.mean(DGauss, axis=2) - true_drifts[:, np.newaxis,:],2), axis=-1)\n",
    "Gauss_errors_std = np.sqrt(np.mean(Gauss_errors_std**2, axis=0)-np.mean(Gauss_errors_std,axis=0)**2)\n",
    "NonGauss_errors_std = np.sum(np.power(np.mean(DNonGauss, axis=2) - true_drifts[:, np.newaxis,:],2), axis=-1)\n",
    "NonGauss_errors_std = np.sqrt(np.mean(NonGauss_errors_std**2, axis=0)-np.mean(NonGauss_errors_std,axis=0)**2)\n",
    "NonGauss_errors_std"
   ]
  },
  {
   "cell_type": "code",
   "execution_count": 27,
   "metadata": {},
   "outputs": [
    {
     "data": {
      "text/plain": [
       "<matplotlib.collections.PolyCollection at 0x7a8164b48490>"
      ]
     },
     "execution_count": 27,
     "metadata": {},
     "output_type": "execute_result"
    },
    {
     "data": {
      "image/png": "[encoded data removed]",
      "text/plain": [
       "<Figure size 640x480 with 1 Axes>"
      ]
     },
     "metadata": {},
     "output_type": "display_data"
    }
   ],
   "source": [
    "startidx=9990\n",
    "plt.scatter(np.arange(startidx,Gauss_errors.shape[0]),Gauss_errors[startidx:], label=\"Gauss\",s=10)\n",
    "plt.fill_between(np.arange(startidx,Gauss_errors.shape[0]), Gauss_errors[startidx:]-Gauss_errors_std[startidx:],Gauss_errors[startidx:]+\n",
    "Gauss_errors_std[startidx:],alpha=0.3)"
   ]
  },
  {
   "cell_type": "code",
   "execution_count": 33,
   "metadata": {},
   "outputs": [
    {
     "data": {
      "image/png": "[encoded data removed]",
      "text/plain": [
       "<Figure size 640x480 with 1 Axes>"
      ]
     },
     "metadata": {},
     "output_type": "display_data"
    }
   ],
   "source": [
    "import matplotlib.pyplot as plt\n",
    "startidx=1000\n",
    "plt.scatter(np.arange(startidx,Gauss_errors.shape[0]),Gauss_errors[startidx:], label=\"Gauss\",s=10)\n",
    "plt.fill_between(np.arange(startidx,Gauss_errors.shape[0]), Gauss_errors[startidx:]-Gauss_errors_std[startidx:],Gauss_errors[startidx:]+\n",
    "Gauss_errors_std[startidx:],alpha=0.3)\n",
    "plt.scatter(np.arange(startidx,NonGauss_errors.shape[0]),NonGauss_errors[startidx:], label=\"NonGauss\",s=10)\n",
    "plt.fill_between(np.arange(startidx,NonGauss_errors.shape[0]), NonGauss_errors[startidx:]-NonGauss_errors_std[startidx:],NonGauss_errors[startidx:]+\n",
    "NonGauss_errors_std[startidx:],alpha=0.3)\n",
    "#plt.yscale(\"log\")\n",
    "plt.legend()\n",
    "plt.show()\n",
    "plt.close()"
   ]
  },
  {
   "cell_type": "code",
   "execution_count": null,
   "metadata": {},
   "outputs": [],
   "source": []
  },
  {
   "cell_type": "code",
   "execution_count": null,
   "metadata": {},
   "outputs": [],
   "source": []
  }
 ],
 "metadata": {
  "kernelspec": {
   "display_name": "Python 3",
   "language": "python",
   "name": "python3"
  },
  "language_info": {
   "codemirror_mode": {
    "name": "ipython",
    "version": 3
   },
   "file_extension": ".py",
   "mimetype": "text/x-python",
   "name": "python",
   "nbconvert_exporter": "python",
   "pygments_lexer": "ipython3",
   "version": "3.10.12"
  }
 },
 "nbformat": 4,
 "nbformat_minor": 0
}
