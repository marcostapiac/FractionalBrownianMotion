{
 "cells": [
  {
   "cell_type": "code",
   "execution_count": 20,
   "metadata": {
    "collapsed": true
   },
   "outputs": [],
   "source": [
    "import pickle\n",
    "from configs import project_config\n",
    "import numpy as np\n",
    "import torch\n",
    "import os\n",
    "from tqdm import tqdm\n",
    "from src.classes.ClassConditionalStbleTgtMarkovianPostMeanDiffTrainer import \\\n",
    "    ConditionalStbleTgtMarkovianPostMeanDiffTrainer\n",
    "from src.generative_modelling.data_processing import train_and_save_recursive_diffusion_model\n",
    "from src.generative_modelling.models.ClassVPSDEDiffusion import VPSDEDiffusion\n",
    "from src.generative_modelling.models.TimeDependentScoreNetworks.ClassConditionalMarkovianTSPostMeanScoreMatching import \\\n",
    "    ConditionalMarkovianTSPostMeanScoreMatching\n",
    "from utils.data_processing import init_experiment, cleanup_experiment\n",
    "from utils.math_functions import generate_fQuadSin\n",
    "from utils.resource_logger import ResourceLogger"
   ]
  },
  {
   "cell_type": "code",
   "execution_count": 21,
   "outputs": [],
   "source": [
    "# Data parameters\n",
    "from configs.RecursiveVPSDE.Markovian_fQuadSinHF.recursive_Markovian_PostMeanScore_fQuadSinHF2_LowFTh_T256_H05_tl_110data_StbleTgt import get_config\n",
    "config = get_config()"
   ],
   "metadata": {
    "collapsed": false
   }
  },
  {
   "cell_type": "code",
   "execution_count": 23,
   "outputs": [
    {
     "name": "stdout",
     "output_type": "stream",
     "text": [
      "/Users/marcos/GitHubRepos/FractionalBrownianMotion/src/generative_modelling/trained_models/trained_rec_ST_0002FTh_PM_MLP_2LFac_fBiPot_VPSDE_T256_Ndiff10000_Tdiff1000e+00_DiffEmbSz64_ResLay10_ResChan8_DiffHdnSz64_TrueHybd_TrueWghts_t00_dT3906e-03_025a_-05b_00c_MLP_H4_CUp20_tl110 40000\n"
     ]
    }
   ],
   "source": [
    "assert (config.hurst == 0.5)\n",
    "assert (config.early_stop_idx == 0)\n",
    "assert (config.tdata_mult == 110)\n",
    "#assert (config.sin_space_scale == 25.)\n",
    "assert (config.feat_thresh == 1./500.)\n",
    "print(config.scoreNet_trained_path, config.dataSize)\n",
    "rng = np.random.default_rng()\n",
    "scoreModel = ConditionalMarkovianTSPostMeanScoreMatching(\n",
    "    *config.model_parameters)\n",
    "diffusion = VPSDEDiffusion(beta_max=config.beta_max, beta_min=config.beta_min)\n"
   ],
   "metadata": {
    "collapsed": false
   }
  },
  {
   "cell_type": "code",
   "execution_count": 27,
   "outputs": [
    {
     "ename": "AssertionError",
     "evalue": "",
     "output_type": "error",
     "traceback": [
      "\u001B[0;31m---------------------------------------------------------------------------\u001B[0m",
      "\u001B[0;31mAssertionError\u001B[0m                            Traceback (most recent call last)",
      "Cell \u001B[0;32mIn[27], line 8\u001B[0m\n\u001B[1;32m      6\u001B[0m         entered \u001B[38;5;241m=\u001B[39m \u001B[38;5;28;01mTrue\u001B[39;00m\n\u001B[1;32m      7\u001B[0m         scoreModel\u001B[38;5;241m.\u001B[39mload_state_dict(torch\u001B[38;5;241m.\u001B[39mload(os\u001B[38;5;241m.\u001B[39mpath\u001B[38;5;241m.\u001B[39mjoin(model_dir, file)))\n\u001B[0;32m----> 8\u001B[0m \u001B[38;5;28;01massert\u001B[39;00m entered\n",
      "\u001B[0;31mAssertionError\u001B[0m: "
     ]
    }
   ],
   "source": [
    "model_dir = \"/\".join(config.scoreNet_trained_path.split(\"/\")[:-1]) + \"/\"\n",
    "entered = False\n",
    "for file in os.listdir(model_dir):\n",
    "    if config.scoreNet_trained_path in os.path.join(model_dir, file) and \"EE\" in file:\n",
    "        print(file)\n",
    "        entered = True\n",
    "        scoreModel.load_state_dict(torch.load(os.path.join(model_dir, file)))\n",
    "assert entered"
   ],
   "metadata": {
    "collapsed": false
   }
  },
  {
   "cell_type": "code",
   "execution_count": 21,
   "outputs": [],
   "source": [
    "def experiment_MLP_1D_drifts(config, Xs, PM, onlyGauss=False):\n",
    "    print(\"Beta Min : \", config.beta_min)\n",
    "    if config.has_cuda:\n",
    "        device = int(os.environ[\"LOCAL_RANK\"])\n",
    "    else:\n",
    "        print(\"Using CPU\\n\")\n",
    "        device = torch.device(\"cpu\")\n",
    "    PM = PM.to(device)\n",
    "    diffusion = VPSDEDiffusion(beta_max=config.beta_max, beta_min=config.beta_min)\n",
    "    ts_step = config.deltaT\n",
    "    print(config.scoreNet_trained_path)\n",
    "    Xshape = config.ts_length\n",
    "    num_taus = 100\n",
    "\n",
    "    num_diff_times = config.max_diff_steps\n",
    "    Ndiff_discretisation = config.max_diff_steps\n",
    "    diffusion_times = torch.linspace(start=config.sample_eps, end=config.end_diff_time,\n",
    "                                     steps=Ndiff_discretisation).to(device)\n",
    "\n",
    "    features_tensor = torch.stack([Xs for _ in range(1)], dim=0).reshape(Xshape * 1, 1, -1).to(device)\n",
    "    final_vec_mu_hats = np.zeros(\n",
    "        (Xshape, num_diff_times, num_taus, config.ts_dims))  # Xvalues, DiffTimes, Ztaus, Ts_Dims\n",
    "    vec_Z_taus = diffusion.prior_sampling(shape=(Xshape * num_taus, 1, config.ts_dims)).to(device)\n",
    "\n",
    "    # ts = []\n",
    "    es = num_diff_times\n",
    "    ts = []\n",
    "    # mu_hats_mean = np.zeros((tot_num_feats, num_taus))\n",
    "    # mu_hats_std = np.zeros((tot_num_feats, num_taus))\n",
    "    difftime_idx = num_diff_times - 1\n",
    "\n",
    "    PM.eval()\n",
    "    for difftime_idx in tqdm(np.arange(num_diff_times - 1, num_diff_times - es - 1, -1)): #difftime_idx >= num_diff_times - es:\n",
    "        d = diffusion_times[Ndiff_discretisation - (num_diff_times - 1 - difftime_idx) - 1].to(device)\n",
    "        diff_times = torch.stack([d for _ in range(Xshape)]).reshape(Xshape * 1).to(device)\n",
    "        eff_times = diffusion.get_eff_times(diff_times=diff_times).unsqueeze(-1).unsqueeze(-1).to(device)\n",
    "        vec_diff_times = torch.stack([diff_times for _ in range(num_taus)], dim=0).reshape(num_taus * Xshape)\n",
    "        vec_eff_times = torch.stack([eff_times for _ in range(num_taus)], dim=0).reshape(num_taus * Xshape, 1, 1)\n",
    "        vec_conditioner = torch.stack([features_tensor for _ in range(num_taus)], dim=0).reshape(\n",
    "            num_taus * Xshape,\n",
    "            1, -1)\n",
    "        with torch.no_grad():\n",
    "            if onlyGauss:\n",
    "                scoreEval_vec_Z_taus = diffusion.prior_sampling(shape=vec_Z_taus.shape).to(device)\n",
    "            else:\n",
    "                scoreEval_vec_Z_taus = vec_Z_taus\n",
    "            vec_predicted_score = PM.forward(inputs=scoreEval_vec_Z_taus, times=vec_diff_times, conditioner=vec_conditioner,\n",
    "                                             eff_times=vec_eff_times)\n",
    "        vec_scores, vec_drift, vec_diffParam = diffusion.get_conditional_reverse_diffusion(x=vec_Z_taus,\n",
    "                                                                                           predicted_score=vec_predicted_score,\n",
    "                                                                                           diff_index=torch.Tensor(\n",
    "                                                                                               [int((\n",
    "                                                                                                       num_diff_times - 1 - difftime_idx))]).to(\n",
    "                                                                                               device),\n",
    "                                                                                           max_diff_steps=Ndiff_discretisation)\n",
    "        # assert np.allclose((scores- predicted_score).detach(), 0)\n",
    "        beta_taus = torch.exp(-0.5 * eff_times[0, 0, 0]).to(device)\n",
    "        sigma_taus = torch.pow(1. - torch.pow(beta_taus, 2), 0.5).to(device)\n",
    "        final_mu_hats = (vec_Z_taus / (ts_step * beta_taus)) + ((\n",
    "                                                                        (torch.pow(sigma_taus, 2) + (\n",
    "                                                                                torch.pow(beta_taus * config.diffusion,\n",
    "                                                                                          2) * ts_step)) / (\n",
    "                                                                                ts_step * beta_taus)) * vec_scores)\n",
    "\n",
    "        assert (final_mu_hats.shape == (num_taus * Xshape, 1, config.ts_dims))\n",
    "\n",
    "        means = final_mu_hats.reshape((num_taus, Xshape, config.ts_dims))\n",
    "        # print(vec_Z_taus.shape, vec_scores.shape)\n",
    "        final_vec_mu_hats[:, difftime_idx, :] = means.permute((1, 0, 2)).cpu().numpy()\n",
    "        vec_z = torch.randn_like(vec_drift).to(device)\n",
    "        vec_Z_taus = vec_drift + vec_diffParam * vec_z\n",
    "        difftime_idx -= 1\n",
    "    assert (final_vec_mu_hats.shape == (Xshape, num_diff_times, num_taus, config.ts_dims))\n",
    "    return final_vec_mu_hats[:, -es:, :, :]"
   ],
   "metadata": {
    "collapsed": false
   }
  },
  {
   "cell_type": "code",
   "execution_count": 22,
   "outputs": [
    {
     "name": "stdout",
     "output_type": "stream",
     "text": [
      "Beta Min :  0.0\n",
      "Using CPU\n",
      "\n",
      "/Users/marcos/GitHubRepos/FractionalBrownianMotion/src/generative_modelling/trained_models/trained_rec_ST_0002FTh_PM_MLP_2LFac_NFMReg_fQuadSinHF_VPSDE_T256_Ndiff10000_Tdiff1000e+00_DiffEmbSz64_ResLay10_ResChan8_DiffHdnSz64_TrueHybd_TrueWghts_t00_dT3906e-03_05a_004b_250c_MLP_H4_CUp20_tl110\n"
     ]
    },
    {
     "name": "stderr",
     "output_type": "stream",
     "text": [
      " 69%|██████▊   | 6868/10000 [25:20<11:33,  4.52it/s]  \n",
      "\n",
      "KeyboardInterrupt\n",
      "\n"
     ]
    }
   ],
   "source": [
    "Xshape = 256\n",
    "Xs = torch.linspace(-1.5, 1.5, steps=Xshape)\n",
    "true_drifts = (-2. * config.quad_coeff * Xs + config.sin_coeff * config.sin_space_scale * np.sin(config.sin_space_scale * Xs))\n",
    "final_vec_mu_hats = experiment_MLP_1D_drifts(PM=scoreModel, Xs=Xs, config=config, onlyGauss=True)"
   ],
   "metadata": {
    "collapsed": false
   }
  },
  {
   "cell_type": "code",
   "execution_count": 5,
   "outputs": [
    {
     "data": {
      "text/plain": "'/Users/marcos/GitHubRepos/FractionalBrownianMotion/data/'"
     },
     "execution_count": 5,
     "metadata": {},
     "output_type": "execute_result"
    }
   ],
   "source": [
    "remote_file_path = project_config.ROOT_DIR+\"data/\" #/Users/marcos/Library/CloudStorage/OneDrive-ImperialCollegeLondon/StatML_CDT/Year2/DiffusionModels/ExperimentResults/\"\n",
    "remote_file_path"
   ],
   "metadata": {
    "collapsed": false
   }
  },
  {
   "cell_type": "code",
   "execution_count": null,
   "outputs": [],
   "source": [
    "np.save(remote_file_path + \"QuadSinHF_optimal_tau_experiment_DGauss.npy\", final_vec_mu_hats)"
   ],
   "metadata": {
    "collapsed": false
   }
  },
  {
   "cell_type": "code",
   "execution_count": null,
   "outputs": [],
   "source": [
    "DGauss = np.load(remote_file_path + \"QuadSinHF_optimal_tau_experiment_DGauss.npy\", allow_pickle=True)\n",
    "DNonGauss = np.load(remote_file_path + \"QuadSinHF_optimal_tau_experiment_DNonGauss.npy\", allow_pickle=True)\n",
    "Xshape = 256\n",
    "Xs = np.linspace(-1.5, 1.5, num=Xshape)\n",
    "true_drifts = (-2. * config.quad_coeff * Xs + config.sin_coeff * config.sin_space_scale * np.sin(config.sin_space_scale * Xs))[:, np.newaxis, np.newaxis, np.newaxis]\n",
    "Gauss_errors = np.mean(DGauss, axis=2) - true_drifts\n",
    "assert np.all(Gauss_errors.shape == (Xshape, DGauss.shape[1], config.ts_dims))\n",
    "NonGauss_errors = np.mean(DNonGauss, axis=2) - true_drifts\n",
    "assert np.all(NonGauss_errors.shape == (Xshape, DNonGauss.shape[1], config.ts_dims))\n",
    "Gauss_errors = np.sum(np.power(Gauss_errors,2), axis=-1)\n",
    "NonGauss_errors = np.sum(np.power(NonGauss_errors,2), axis=-1)"
   ],
   "metadata": {
    "collapsed": false
   }
  }
 ],
 "metadata": {
  "kernelspec": {
   "display_name": "Python 3",
   "language": "python",
   "name": "python3"
  },
  "language_info": {
   "codemirror_mode": {
    "name": "ipython",
    "version": 2
   },
   "file_extension": ".py",
   "mimetype": "text/x-python",
   "name": "python",
   "nbconvert_exporter": "python",
   "pygments_lexer": "ipython2",
   "version": "2.7.6"
  }
 },
 "nbformat": 4,
 "nbformat_minor": 0
}
