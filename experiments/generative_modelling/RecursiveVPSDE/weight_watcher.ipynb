{
 "cells": [
  {
   "cell_type": "code",
   "execution_count": 13,
   "metadata": {
    "collapsed": true
   },
   "outputs": [],
   "source": [
    "import weightwatcher\n",
    "from configs.RecursiveVPSDE.recursive_fOU_T256_H07_tl_5data import get_config\n",
    "import torch\n",
    "from src.generative_modelling.models.TimeDependentScoreNetworks.ClassConditionalLSTMTSScoreMatching import \\\n",
    "    ConditionalLSTMTSScoreMatching"
   ]
  },
  {
   "cell_type": "code",
   "execution_count": 19,
   "outputs": [
    {
     "name": "stdout",
     "output_type": "stream",
     "text": [
      "/Users/marcos/GitHubRepos/FractionalBrownianMotion/src/generative_modelling/trained_models/trained_rec_TSM_False_incs_True_unitIntv_fOU_VPSDE_model_H5000e-01_T256_Ndiff10000_Tdiff1000e+00_trainEps1e-04_BetaMax20000e+01_BetaMin10000e-04_DiffEmbSize64_ResLay10_ResChan8_DiffHiddenSize64_TrueHybrid_TrueWghts_LSTM_H20_Nlay1_fOU00_tl5 40000\n"
     ]
    },
    {
     "data": {
      "text/plain": "<All keys matched successfully>"
     },
     "execution_count": 19,
     "metadata": {},
     "output_type": "execute_result"
    }
   ],
   "source": [
    "config = get_config()\n",
    "assert (0 < config.hurst < 1.)\n",
    "assert (config.early_stop_idx == 0)\n",
    "assert (config.tdata_mult == 5)\n",
    "print(config.scoreNet_trained_path, config.dataSize)\n",
    "scoreModel = ConditionalLSTMTSScoreMatching(*config.model_parameters)\n",
    "scoreModel.load_state_dict(torch.load(config.scoreNet_trained_path + \"_NEp\" + str(960)))"
   ],
   "metadata": {
    "collapsed": false
   }
  },
  {
   "cell_type": "code",
   "execution_count": 21,
   "outputs": [],
   "source": [
    "watcher = weightwatcher.WeightWatcher(model=scoreModel)\n",
    "details = watcher.analyze(plot=False)"
   ],
   "metadata": {
    "collapsed": false
   }
  },
  {
   "cell_type": "code",
   "execution_count": 22,
   "outputs": [
    {
     "data": {
      "text/plain": "   layer_id    name         D   M    N    Q     alpha  alpha_weighted  \\\n0         4  Linear  0.120830  64  128  2.0  1.872028        4.441038   \n1         5  Linear  0.071143  64   64  1.0  1.722967        2.648636   \n\n    entropy  has_esd  ...     sigma spectral_norm  stable_rank   status  \\\n0  0.211617     True  ...  0.128574    235.674837     1.187790  success   \n1  0.592734     True  ...  0.147575     34.455071     3.899327  success   \n\n      sv_max    sv_min       warning  weak_rank_loss        xmax      xmin  \n0  15.351705  0.199900  over-trained               0  235.674837  0.165869  \n1   5.869844  0.007417  over-trained               0   34.455071  0.515526  \n\n[2 rows x 32 columns]",
      "text/html": "<div>\n<style scoped>\n    .dataframe tbody tr th:only-of-type {\n        vertical-align: middle;\n    }\n\n    .dataframe tbody tr th {\n        vertical-align: top;\n    }\n\n    .dataframe thead th {\n        text-align: right;\n    }\n</style>\n<table border=\"1\" class=\"dataframe\">\n  <thead>\n    <tr style=\"text-align: right;\">\n      <th></th>\n      <th>layer_id</th>\n      <th>name</th>\n      <th>D</th>\n      <th>M</th>\n      <th>N</th>\n      <th>Q</th>\n      <th>alpha</th>\n      <th>alpha_weighted</th>\n      <th>entropy</th>\n      <th>has_esd</th>\n      <th>...</th>\n      <th>sigma</th>\n      <th>spectral_norm</th>\n      <th>stable_rank</th>\n      <th>status</th>\n      <th>sv_max</th>\n      <th>sv_min</th>\n      <th>warning</th>\n      <th>weak_rank_loss</th>\n      <th>xmax</th>\n      <th>xmin</th>\n    </tr>\n  </thead>\n  <tbody>\n    <tr>\n      <th>0</th>\n      <td>4</td>\n      <td>Linear</td>\n      <td>0.120830</td>\n      <td>64</td>\n      <td>128</td>\n      <td>2.0</td>\n      <td>1.872028</td>\n      <td>4.441038</td>\n      <td>0.211617</td>\n      <td>True</td>\n      <td>...</td>\n      <td>0.128574</td>\n      <td>235.674837</td>\n      <td>1.187790</td>\n      <td>success</td>\n      <td>15.351705</td>\n      <td>0.199900</td>\n      <td>over-trained</td>\n      <td>0</td>\n      <td>235.674837</td>\n      <td>0.165869</td>\n    </tr>\n    <tr>\n      <th>1</th>\n      <td>5</td>\n      <td>Linear</td>\n      <td>0.071143</td>\n      <td>64</td>\n      <td>64</td>\n      <td>1.0</td>\n      <td>1.722967</td>\n      <td>2.648636</td>\n      <td>0.592734</td>\n      <td>True</td>\n      <td>...</td>\n      <td>0.147575</td>\n      <td>34.455071</td>\n      <td>3.899327</td>\n      <td>success</td>\n      <td>5.869844</td>\n      <td>0.007417</td>\n      <td>over-trained</td>\n      <td>0</td>\n      <td>34.455071</td>\n      <td>0.515526</td>\n    </tr>\n  </tbody>\n</table>\n<p>2 rows × 32 columns</p>\n</div>"
     },
     "execution_count": 22,
     "metadata": {},
     "output_type": "execute_result"
    }
   ],
   "source": [
    "details"
   ],
   "metadata": {
    "collapsed": false
   }
  },
  {
   "cell_type": "code",
   "execution_count": 20,
   "outputs": [],
   "source": [],
   "metadata": {
    "collapsed": false
   }
  }
 ],
 "metadata": {
  "kernelspec": {
   "display_name": "Python 3",
   "language": "python",
   "name": "python3"
  },
  "language_info": {
   "codemirror_mode": {
    "name": "ipython",
    "version": 2
   },
   "file_extension": ".py",
   "mimetype": "text/x-python",
   "name": "python",
   "nbconvert_exporter": "python",
   "pygments_lexer": "ipython2",
   "version": "2.7.6"
  }
 },
 "nbformat": 4,
 "nbformat_minor": 0
}
