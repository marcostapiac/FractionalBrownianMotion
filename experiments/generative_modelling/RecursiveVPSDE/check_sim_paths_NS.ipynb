{
 "cells": [
  {
   "cell_type": "code",
   "execution_count": 228,
   "metadata": {
    "collapsed": true
   },
   "outputs": [
    {
     "name": "stdout",
     "output_type": "stream",
     "text": [
      "The autoreload extension is already loaded. To reload it, use:\n",
      "  %reload_ext autoreload\n"
     ]
    }
   ],
   "source": [
    "%load_ext autoreload\n",
    "%autoreload 2\n",
    "import numpy as np\n",
    "import os\n",
    "import matplotlib.pyplot as plt\n",
    "from configs import project_config\n",
    "import matplotlib.pyplot as plt\n",
    "import seaborn as sns\n",
    "from configs.RecursiveVPSDE.Markovian_fBiPotDDims_NonSep.recursive_Markovian_PostMeanScore_fBiPot12DimsNS_T256_H05_tl_110data_StbleTgt import get_config\n"
   ]
  },
  {
   "cell_type": "code",
   "execution_count": 229,
   "outputs": [],
   "source": [
    "from IPython.core.magic import register_cell_magic\n",
    "\n",
    "\n",
    "@register_cell_magic\n",
    "def skip(line, cell):\n",
    "    return"
   ],
   "metadata": {
    "collapsed": false
   }
  },
  {
   "cell_type": "code",
   "execution_count": 230,
   "outputs": [],
   "source": [
    "num_paths = 10240\n",
    "root_dir =\"/Users/marcos/Library/CloudStorage/OneDrive-ImperialCollegeLondon/StatML_CDT/Year2/DiffusionModels/\"\n",
    "config = get_config()"
   ],
   "metadata": {
    "collapsed": false
   }
  },
  {
   "cell_type": "code",
   "execution_count": 231,
   "outputs": [],
   "source": [
    "def get_drift_files(config, root_dir):\n",
    "    ts_type = f\"{config.ndims}DDims\"\n",
    "    include = (f\"_{num_paths}NPaths_{config.t0}t0_{config.deltaT:.3e}dT_\").replace(\".\", \"\")\n",
    "    root_nadaraya_dir = root_dir + f\"ExperimentResults/Nadaraya/12DDimsNS/\"\n",
    "    true_files = []\n",
    "    local_files = []\n",
    "    global_files = []\n",
    "    for file in os.listdir(root_nadaraya_dir):\n",
    "        print(file)\n",
    "        if \"IIDNadaraya\" in file and ts_type in file and include in file:\n",
    "            if \"true\" in file:\n",
    "                true_files.append(root_nadaraya_dir+file)\n",
    "            elif \"global\" in file:\n",
    "                global_files.append(root_nadaraya_dir+file)\n",
    "            elif \"local\" in file:\n",
    "                local_files.append(root_nadaraya_dir+file)\n",
    "    assert len(true_files)>0, \"No true files found\"\n",
    "    assert len(local_files)>0, \"No local files found\"\n",
    "    def extract_bw_number(s):\n",
    "        match = s.split(\"/\")[-1].split(\"_\")[4][:-2]\n",
    "        return float(\"0.\" + match)\n",
    "    true_files = sorted(true_files, key=extract_bw_number)\n",
    "    local_files = sorted(local_files, key=extract_bw_number)\n",
    "    global_files = sorted(global_files, key=extract_bw_number)\n",
    "    bws = [extract_bw_number(f) for f in true_files]\n",
    "    return true_files, local_files, global_files, bws"
   ],
   "metadata": {
    "collapsed": false
   }
  },
  {
   "cell_type": "code",
   "execution_count": 232,
   "outputs": [
    {
     "name": "stdout",
     "output_type": "stream",
     "text": [
      "IIDNadaraya_fBiPot_12DDimsNS_DriftTrack_0055348bw_10240NPaths_00t0_3906e-03dT_025a_-20b_00c_global_states.npy\n",
      ".DS_Store\n",
      "IIDNadaraya_fBiPot_12DDimsNS_DriftTrack_0041919bw_10240NPaths_00t0_3906e-03dT_025a_-20b_00c_local_states.npy\n",
      "IIDNadaraya_fBiPot_12DDimsNS_DriftTrack_0041919bw_10240NPaths_00t0_3906e-03dT_025a_-20b_00c_true_states.npy\n",
      "IIDNadaraya_fBiPot_12DDimsNS_DriftTrack_0073079bw_10240NPaths_00t0_3906e-03dT_025a_-20b_00c_global_states.npy\n",
      "IIDNadaraya_fBiPot_12DDimsNS_DriftTrack_0055348bw_10240NPaths_00t0_3906e-03dT_025a_-20b_00c_true_states.npy\n",
      "IIDNadaraya_fBiPot_12DDimsNS_DriftTrack_009649bw_10240NPaths_00t0_3906e-03dT_025a_-20b_00c_global_states.npy\n",
      "IIDNadaraya_fBiPot_12DDimsNS_DriftTrack_009649bw_10240NPaths_00t0_3906e-03dT_025a_-20b_00c_true_states.npy\n",
      "IIDNadaraya_fBiPot_12DDimsNS_DriftTrack_0073079bw_10240NPaths_00t0_3906e-03dT_025a_-20b_00c_local_states.npy\n",
      "IIDNadaraya_fBiPot_12DDimsNS_DriftTrack_0055348bw_10240NPaths_00t0_3906e-03dT_025a_-20b_00c_local_states.npy\n",
      "IIDNadaraya_fBiPot_12DDimsNS_DriftTrack_0041919bw_10240NPaths_00t0_3906e-03dT_025a_-20b_00c_global_states.npy\n",
      "IIDNadaraya_fBiPot_12DDimsNS_DriftTrack_009649bw_10240NPaths_00t0_3906e-03dT_025a_-20b_00c_local_states.npy\n",
      "IIDNadaraya_fBiPot_12DDimsNS_DriftTrack_0073079bw_10240NPaths_00t0_3906e-03dT_025a_-20b_00c_true_states.npy\n"
     ]
    }
   ],
   "source": [
    "true_nadaraya_files, local_nadaraya_files, global_nadaraya_files, bws = get_drift_files(config=config, root_dir=root_dir)"
   ],
   "metadata": {
    "collapsed": false
   }
  },
  {
   "cell_type": "code",
   "execution_count": 246,
   "outputs": [],
   "source": [
    "def get_score_drift_files(root_dir, ts_type):\n",
    "    root_score_dir = root_dir + f\"ExperimentResults/TSPM_Markovian/12DDimsNS/\"\n",
    "    driftoostrack_true_files = []\n",
    "    driftoostrack_local_files = []\n",
    "    driftoostrack_global_files = []\n",
    "    for file in os.listdir(root_score_dir):\n",
    "        if \"_MLP_\" in file and ts_type in file:\n",
    "            if \"DriftTrack\" in file and \"true\" in file:\n",
    "                driftoostrack_true_files.append(root_score_dir+file)\n",
    "            elif \"DriftTrack\" in file and \"global\" in file:\n",
    "                driftoostrack_global_files.append(root_score_dir+file)\n",
    "            elif \"DriftTrack\" in file and \"local\" in file:\n",
    "                driftoostrack_local_files.append(root_score_dir+file)\n",
    "    assert len(driftoostrack_true_files)>0, \"No oos drift track files found\"\n",
    "    assert len(driftoostrack_local_files)>0, \"No oos drift track files found\"\n",
    "    assert(len(driftoostrack_true_files) == len(driftoostrack_true_files))\n",
    "    def extract_bw_drift_track_number(s):\n",
    "        match = s.split(\"Nep_\")[0].split(\"_\")[-1]\n",
    "        return int(match)\n",
    "    driftoostrack_true_files = sorted(driftoostrack_true_files, key=extract_bw_drift_track_number)\n",
    "    driftoostrack_local_files = sorted(driftoostrack_local_files, key=extract_bw_drift_track_number)\n",
    "    driftoostrack_global_files = sorted(driftoostrack_global_files, key=extract_bw_drift_track_number)\n",
    "    Nepochs_track = [extract_bw_drift_track_number(f) for f in driftoostrack_true_files]\n",
    "    idx = np.argwhere(np.array(Nepochs_track)==28).flatten()[0]\n",
    "    driftoostrack_true_files = driftoostrack_true_files[idx]\n",
    "    driftoostrack_local_files = driftoostrack_local_files[idx]\n",
    "    driftoostrack_global_files = driftoostrack_global_files[idx]\n",
    "    return driftoostrack_true_files, driftoostrack_local_files,driftoostrack_global_files, Nepochs_track"
   ],
   "metadata": {
    "collapsed": false
   }
  },
  {
   "cell_type": "code",
   "execution_count": 247,
   "outputs": [],
   "source": [
    "from configs.RecursiveVPSDE.Markovian_fBiPotDDims_NonSep.recursive_Markovian_PostMeanScore_fBiPot12DimsNS_T256_H05_tl_110data_StbleTgt import get_config as get_score_config\n",
    "score_config = get_score_config()\n",
    "ts_type = f\"ST_{config.feat_thresh:.3f}FTh_fBiPot_{config.ndims}DDimsNS\".replace(\".\", \"\")\n",
    "true_score_files, local_score_files, global_score_files, Nepochs_track = get_score_drift_files(ts_type=ts_type, root_dir=root_dir)"
   ],
   "metadata": {
    "collapsed": false
   }
  },
  {
   "cell_type": "code",
   "execution_count": 248,
   "outputs": [
    {
     "data": {
      "text/plain": "'/Users/marcos/Library/CloudStorage/OneDrive-ImperialCollegeLondon/StatML_CDT/Year2/DiffusionModels/ExperimentResults/TSPM_Markovian/12DDimsNS/TSPM_MLP_ST_0010FTh_fBiPot_12DDimsNS_OOSDriftTrack_28Nep_00t0_3906e-03dT_025a_-20b_00c_10ResLay_2LFac_BetaMax20e+01_local_states.npy'"
     },
     "execution_count": 248,
     "metadata": {},
     "output_type": "execute_result"
    }
   ],
   "source": [
    "local_score_files"
   ],
   "metadata": {
    "collapsed": false
   }
  },
  {
   "cell_type": "code",
   "execution_count": 249,
   "outputs": [],
   "source": [
    "score_true = np.load(true_score_files)\n",
    "score_global = np.load(global_score_files)\n",
    "score_local = np.load(local_score_files)\n",
    "nad_true = np.load(true_nadaraya_files[0])\n",
    "nad_global = np.load(global_nadaraya_files[0])\n",
    "nad_local = np.load(local_nadaraya_files[0])\n",
    "score_true=score_true.reshape(-1,score_true.shape[2], score_true.shape[-1])\n",
    "score_global=score_global.reshape(-1,score_global.shape[2], score_global.shape[-1])\n",
    "score_local=score_local.reshape(-1,score_local.shape[2], score_local.shape[-1])\n",
    "nad_true=nad_true.reshape(-1,nad_true.shape[2], nad_true.shape[-1])\n",
    "nad_global=nad_global.reshape(-1,nad_global.shape[2], nad_global.shape[-1])\n",
    "nad_local=nad_local.reshape(-1,nad_local.shape[2], nad_local.shape[-1])\n",
    "true_paths = np.load(score_config.data_path)"
   ],
   "metadata": {
    "collapsed": false
   }
  },
  {
   "cell_type": "code",
   "execution_count": 260,
   "outputs": [
    {
     "data": {
      "text/plain": "<Figure size 640x480 with 1 Axes>",
      "image/png": "[encoded data removed]"
     },
     "metadata": {},
     "output_type": "display_data"
    }
   ],
   "source": [
    "#plt.hist(score_global[:, :, 0].flatten(), bins=1)\n",
    "for d in range(score_true.shape[-1]):\n",
    "    d=11\n",
    "    plt.hist(score_true[:, :, d].flatten(), bins=100, label=f\"Dim {d}\")\n",
    "    break\n",
    "plt.legend()\n",
    "plt.show()\n",
    "plt.close()"
   ],
   "metadata": {
    "collapsed": false
   }
  },
  {
   "cell_type": "code",
   "execution_count": 251,
   "outputs": [
    {
     "data": {
      "text/plain": "<Axes: >"
     },
     "execution_count": 251,
     "metadata": {},
     "output_type": "execute_result"
    },
    {
     "data": {
      "text/plain": "<Figure size 640x480 with 2 Axes>",
      "image/png": "[encoded data removed]"
     },
     "metadata": {},
     "output_type": "display_data"
    }
   ],
   "source": [
    "sns.heatmap((np.mean(true_paths, axis=0)< 0.))"
   ],
   "metadata": {
    "collapsed": false
   }
  },
  {
   "cell_type": "code",
   "execution_count": 252,
   "outputs": [
    {
     "data": {
      "text/plain": "<Axes: >"
     },
     "execution_count": 252,
     "metadata": {},
     "output_type": "execute_result"
    },
    {
     "data": {
      "text/plain": "<Figure size 640x480 with 2 Axes>",
      "image/png": "[encoded data removed]"
     },
     "metadata": {},
     "output_type": "display_data"
    }
   ],
   "source": [
    "sns.heatmap(np.mean(np.power(score_local - score_true,2)[:,1:,:]/np.linspace(config.deltaT, 1, 256).reshape(1,256,1), axis=0)[128:,:])"
   ],
   "metadata": {
    "collapsed": false
   }
  },
  {
   "cell_type": "code",
   "execution_count": null,
   "outputs": [],
   "source": [
    "sns.heatmap(np.mean(np.power(nad_local - nad_true,2)[:,1:,:]/np.linspace(config.deltaT, 1, 256).reshape(1,256,1), axis=0)[128:,:])"
   ],
   "metadata": {
    "collapsed": false
   }
  },
  {
   "cell_type": "code",
   "execution_count": null,
   "outputs": [],
   "source": [
    "%%skip\n",
    "for d in range(score_global.shape[-1]):\n",
    "    print(nad_true[:,:, d].flatten().shape)\n",
    "    plt.hist(score_true[:,1:, d].flatten(), bins=150, color=\"blue\",density=True,label=\"Score\")\n",
    "    plt.hist(score_global[:,1:, d].flatten(), bins=150, color=\"red\",alpha=0.3,density=True,label=\"Nad\")\n",
    "    #plt.hist(true_paths[:,:, d].flatten(), bins=150, color=\"red\",density=True,label=\"True\")\n",
    "    plt.legend()\n",
    "    plt.show()\n",
    "    plt.close()"
   ],
   "metadata": {
    "collapsed": false
   }
  },
  {
   "cell_type": "code",
   "execution_count": null,
   "outputs": [],
   "source": [
    "%%skip\n",
    "for d in range(score_global.shape[-1]):\n",
    "    print(nad_true[:,:, d].flatten().shape)\n",
    "    plt.hist(score_global[:,:, d].flatten(), bins=150, color=\"blue\",density=True,label=\"Score\")\n",
    "    plt.hist(nad_global[:,:, d].flatten(), bins=150, color=\"red\",alpha=0.3,density=True,label=\"Nad\")\n",
    "    #plt.hist(true_paths[:,:, d].flatten(), bins=150, color=\"red\",density=True,label=\"True\")\n",
    "    plt.legend()\n",
    "    plt.show()\n",
    "    plt.close()"
   ],
   "metadata": {
    "collapsed": false
   }
  },
  {
   "cell_type": "code",
   "execution_count": null,
   "outputs": [],
   "source": [
    "def true_drift(config, prev):\n",
    "    drift_X = -(4. * np.array(config.quartic_coeff) * np.power(prev,\n",
    "                                                                 3) + 2. * np.array(config.quad_coeff) * prev + np.array(config.const))\n",
    "    xstar = np.sqrt(\n",
    "        np.maximum(1e-12, -np.array(config.quad_coeff) / (2.0 * np.array(config.quartic_coeff))))\n",
    "    s2 = (config.scale * xstar) ** 2 + 1e-12  # (D,) or (K,1,D)\n",
    "    diff = prev ** 2 - xstar ** 2  # same shape as prev\n",
    "    phi = np.exp(-(diff ** 2) / (2.0 * s2 * xstar ** 2 + 1e-12))\n",
    "    phi_prime = phi * (-2.0 * prev * diff / ((config.scale ** 2) * (xstar ** 4 + 1e-12)))\n",
    "    nbr = np.roll(phi, 1, axis=-1) + np.roll(phi, -1, axis=-1)  # same shape as phi\n",
    "    drift_X = drift_X - 0.5 * config.coupling * phi_prime * nbr\n",
    "    return drift_X"
   ],
   "metadata": {
    "collapsed": false
   }
  },
  {
   "cell_type": "code",
   "execution_count": null,
   "outputs": [],
   "source": [
    "incs = np.concatenate([true_paths[:, [0],:],np.diff(true_paths,axis=1)],axis=1).reshape(-1, true_paths.shape[-1])\n",
    "pos = true_paths[:, :-1, :].reshape(-1, true_paths.shape[-1])"
   ],
   "metadata": {
    "collapsed": false
   }
  },
  {
   "cell_type": "code",
   "execution_count": null,
   "outputs": [],
   "source": [
    "for k in range(1000):\n",
    "    Xtj1 = pos[np.random.choice(np.arange(pos.shape[0]), size=1),:]\n",
    "    valid_idxs = np.linalg.norm(pos - Xtj1, axis=-1)/np.sqrt(pos.shape[-1]) <= 0.1\n",
    "    if np.sum(valid_idxs)>2000:\n",
    "        valid_incs = incs[np.argwhere(valid_idxs).flatten(), :]\n",
    "        valid_incs_noised = np.exp(-0.25*20)*valid_incs + np.sqrt(1.-np.exp(-0.5*20))*np.random.normal(size=valid_incs.shape)\n",
    "        for d in range(0,pos.shape[-1], 4):\n",
    "            plt.hist(pos[np.argwhere(valid_idxs).flatten(), d], label=rf\"Dim {d} \\pi_0\",bins=150)\n",
    "        plt.legend()\n",
    "        plt.show()\n",
    "        plt.close()\n",
    "        break\n",
    "        continue\n",
    "        for d in range(0,pos.shape[-1], 4):\n",
    "            plt.hist(valid_incs[:, d], label=rf\"Dim {d} \\pi_0\",bins=150)\n",
    "        plt.legend()\n",
    "        plt.show()\n",
    "        plt.close()\n",
    "        for d in range(0,pos.shape[-1], 4):\n",
    "            plt.hist(valid_incs_noised[:, d], label=rf\"Dim {d} Transition\",bins=150)\n",
    "        plt.legend()\n",
    "        plt.show()\n",
    "        plt.close()\n",
    "emp_means = np.concatenate([np.mean(valid_incs[i:i+100, :],axis=0).reshape(1,-1) for i in range(0,valid_incs.shape[0], 100)], axis=0)"
   ],
   "metadata": {
    "collapsed": false
   }
  },
  {
   "cell_type": "code",
   "execution_count": null,
   "outputs": [],
   "source": [
    "trued=true_drift(config=config, prev=Xtj1)"
   ],
   "metadata": {
    "collapsed": false
   }
  },
  {
   "cell_type": "code",
   "execution_count": null,
   "outputs": [],
   "source": [
    "%load_ext autoreload\n",
    "%autoreload 2\n",
    "from src.generative_modelling.models.TimeDependentScoreNetworks.ClassConditionalMarkovianTSPostMeanScoreMatching import ConditionalMarkovianTSPostMeanScoreMatching\n",
    "import torch\n",
    "score_model = ConditionalMarkovianTSPostMeanScoreMatching(*config.model_parameters)\n",
    "print(\n",
    "    config.tdata_mult * sum(p.numel() for p in score_model.parameters() if p.requires_grad) / (config.ts_length - 1))\n",
    "end_epoch = 56\n",
    "score_model.load_state_dict(torch.load(config.scoreNet_trained_path + \"_EENEp\" + str(end_epoch)))\n",
    "print(emp_means.shape)"
   ],
   "metadata": {
    "collapsed": false
   }
  },
  {
   "cell_type": "code",
   "execution_count": null,
   "outputs": [],
   "source": [
    "from src.generative_modelling.models.ClassVPSDEDiffusion import VPSDEDiffusion\n",
    "from tqdm import tqdm\n",
    "num_paths = 1\n",
    "mu_hats = []\n",
    "device = \"cpu\"\n",
    "for k in tqdm(range(emp_means.shape[0])):\n",
    "    features_tensor = torch.stack([torch.tensor(Xtj1.reshape((1, 1, 12)), dtype=torch.float32) for _ in range(1)], dim=0).reshape(\n",
    "        num_paths * 1, 1, -1).to(device)\n",
    "    num_taus= 2000\n",
    "    num_diff_times = 1\n",
    "    diffusion = VPSDEDiffusion(beta_max=config.beta_max, beta_min=config.beta_min)\n",
    "\n",
    "    diffusion_times = torch.linspace(config.sample_eps, 1., config.max_diff_steps)\n",
    "    difftime_idx = config.max_diff_steps - 1\n",
    "    d = diffusion_times[difftime_idx].to(device)\n",
    "    diff_times = torch.stack([d for _ in range(num_paths)]).reshape(num_paths * 1).to(device)\n",
    "    eff_times = diffusion.get_eff_times(diff_times=diff_times).unsqueeze(-1).unsqueeze(-1).to(device)\n",
    "    vec_diff_times = torch.stack([diff_times for _ in range(num_taus)], dim=0).reshape(num_taus * num_paths)\n",
    "    vec_eff_times = torch.stack([eff_times for _ in range(num_taus)], dim=0).reshape(num_taus * num_paths, 1, 1)\n",
    "    vec_conditioner = torch.stack([features_tensor for _ in range(num_taus)], dim=0).reshape(\n",
    "        num_taus * num_paths,\n",
    "        1, -1)\n",
    "    vec_Z_taus = diffusion.prior_sampling(shape=(num_paths * num_taus, 1, config.ts_dims)).to(device)\n",
    "    score_model.eval()\n",
    "    with torch.no_grad():\n",
    "        vec_predicted_score = score_model.forward(times=vec_diff_times, eff_times=vec_eff_times,\n",
    "                                                  conditioner=vec_conditioner, inputs=vec_Z_taus)\n",
    "    vec_scores, vec_drift, vec_diffParam = diffusion.get_conditional_reverse_diffusion(x=vec_Z_taus,\n",
    "                                                                                       predicted_score=vec_predicted_score,\n",
    "                                                                                       diff_index=torch.Tensor(\n",
    "                                                                                           [int((\n",
    "                                                                                                   num_diff_times - 1 - difftime_idx))]).to(\n",
    "                                                                                           device),\n",
    "                                                                                       max_diff_steps=config.max_diff_steps)\n",
    "    # assert np.allclose((scores- predicted_score).detach(), 0)\n",
    "    ts_step = config.deltaT\n",
    "    beta_taus = torch.exp(-0.5 * eff_times[0, 0, 0]).to(device)\n",
    "    sigma_taus = torch.pow(1. - torch.pow(beta_taus, 2), 0.5).to(device)\n",
    "    vec_scores = (vec_scores + (vec_Z_taus / torch.pow(sigma_taus, 2))) * (torch.pow(sigma_taus,2) / beta_taus)\n",
    "    final_mu_hats = (-beta_taus * vec_Z_taus / (torch.pow(sigma_taus, 2))) + ((\n",
    "                                                                    (torch.pow(sigma_taus, 2) + (\n",
    "                                                                            torch.pow(beta_taus * config.diffusion,\n",
    "                                                                                      2) * ts_step)) / (\n",
    "                                                                            ts_step * torch.pow(sigma_taus, 2))) * vec_scores)\n",
    "    assert (final_mu_hats.shape == (num_taus * num_paths, 1, config.ts_dims))\n",
    "    means = final_mu_hats.reshape((num_taus, num_paths, config.ts_dims))\n",
    "    assert (means.shape == (num_taus, num_paths, config.ts_dims))\n",
    "    final_mu_hats = means.mean(dim=0).reshape(num_paths, 1, config.ts_dims).cpu().numpy()\n",
    "    mu_hats.append(final_mu_hats)\n",
    "mu_hats = np.concatenate(mu_hats)[:, 0, :]"
   ],
   "metadata": {
    "collapsed": false
   }
  },
  {
   "cell_type": "code",
   "execution_count": null,
   "outputs": [],
   "source": [
    "for d in range(0,pos.shape[-1]):\n",
    "    #plt.hist(emp_means[:, d]/config.deltaT, alpha=0.5,label=rf\"Dim {d} Empirical\",bins=50)\n",
    "    #plt.hist(mu_hats[:, d],alpha=0.5,label=rf\"Dim {d} Estimator\",bins=50)\n",
    "    plt.vlines(np.mean(emp_means[:, d]/config.deltaT), ymin=0, ymax=plt.gca().get_ylim()[-1], label=rf\"Dim {d} Mean of Empirical\")\n",
    "    plt.vlines(trued[:, d], ymin=0, ymax=plt.gca().get_ylim()[-1],label=f\"Dim {d} True \\mu(x)\", color=\"red\")\n",
    "    plt.vlines(np.mean(mu_hats[:, d]), ymin=0, ymax=plt.gca().get_ylim()[-1],label=f\"Dim {d} Mean of Estimator\", color=\"orange\")\n",
    "    plt.legend()\n",
    "    plt.show()\n",
    "    plt.close()"
   ],
   "metadata": {
    "collapsed": false
   }
  },
  {
   "cell_type": "code",
   "execution_count": null,
   "outputs": [],
   "source": [],
   "metadata": {
    "collapsed": false
   }
  }
 ],
 "metadata": {
  "kernelspec": {
   "display_name": "Python 3",
   "language": "python",
   "name": "python3"
  },
  "language_info": {
   "codemirror_mode": {
    "name": "ipython",
    "version": 2
   },
   "file_extension": ".py",
   "mimetype": "text/x-python",
   "name": "python",
   "nbconvert_exporter": "python",
   "pygments_lexer": "ipython2",
   "version": "2.7.6"
  }
 },
 "nbformat": 4,
 "nbformat_minor": 0
}
