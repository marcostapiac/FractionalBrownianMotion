{
 "cells": [
  {
   "cell_type": "code",
   "execution_count": null,
   "metadata": {
    "collapsed": true
   },
   "outputs": [],
   "source": [
    "%load_ext autoreload\n",
    "%autoreload 2\n",
    "import numpy as np\n",
    "import os\n",
    "import matplotlib.pyplot as plt\n",
    "from configs import project_config\n",
    "import matplotlib.pyplot as plt\n",
    "import seaborn as sns\n",
    "from configs.RecursiveVPSDE.Markovian_fBiPotDDims_NonSep.recursive_Markovian_PostMeanScore_fBiPot12DimsNS_T256_H05_tl_110data_StbleTgt import get_config\n"
   ]
  },
  {
   "cell_type": "code",
   "execution_count": null,
   "outputs": [],
   "source": [
    "num_paths = 10240\n",
    "root_dir =\"/Users/marcos/Library/CloudStorage/OneDrive-ImperialCollegeLondon/StatML_CDT/Year2/DiffusionModels/\"\n",
    "config = get_config()"
   ],
   "metadata": {
    "collapsed": false
   }
  },
  {
   "cell_type": "code",
   "execution_count": null,
   "outputs": [],
   "source": [
    "def get_drift_files(config, root_dir):\n",
    "    ts_type = f\"{config.ndims}DDims\"\n",
    "    include = (f\"_{num_paths}NPaths_{config.t0}t0_{config.deltaT:.3e}dT_\").replace(\".\", \"\")\n",
    "    root_nadaraya_dir = root_dir + f\"ExperimentResults/Nadaraya/12DDimsNS/\"\n",
    "    true_files = []\n",
    "    local_files = []\n",
    "    global_files = []\n",
    "    for file in os.listdir(root_nadaraya_dir):\n",
    "        print(file)\n",
    "        if \"IIDNadaraya\" in file and ts_type in file and include in file:\n",
    "            if \"true\" in file:\n",
    "                true_files.append(root_nadaraya_dir+file)\n",
    "            elif \"global\" in file:\n",
    "                global_files.append(root_nadaraya_dir+file)\n",
    "            elif \"local\" in file:\n",
    "                local_files.append(root_nadaraya_dir+file)\n",
    "    assert len(true_files)>0, \"No true files found\"\n",
    "    assert len(local_files)>0, \"No local files found\"\n",
    "    def extract_bw_number(s):\n",
    "        match = s.split(\"/\")[-1].split(\"_\")[4][:-2]\n",
    "        return float(\"0.\" + match)\n",
    "    true_files = sorted(true_files, key=extract_bw_number)\n",
    "    local_files = sorted(local_files, key=extract_bw_number)\n",
    "    global_files = sorted(global_files, key=extract_bw_number)\n",
    "    bws = [extract_bw_number(f) for f in true_files]\n",
    "    return true_files, local_files, global_files, bws"
   ],
   "metadata": {
    "collapsed": false
   }
  },
  {
   "cell_type": "code",
   "execution_count": null,
   "outputs": [],
   "source": [
    "true_nadaraya_files, local_nadaraya_files, global_nadaraya_files, bws = get_drift_files(config=config, root_dir=root_dir)"
   ],
   "metadata": {
    "collapsed": false
   }
  },
  {
   "cell_type": "code",
   "execution_count": null,
   "outputs": [],
   "source": [
    "def get_score_drift_files(root_dir, ts_type):\n",
    "    root_score_dir = root_dir + f\"ExperimentResults/TSPM_Markovian/12DDimsNS/\"\n",
    "    driftoostrack_true_files = []\n",
    "    driftoostrack_local_files = []\n",
    "    driftoostrack_global_files = []\n",
    "    for file in os.listdir(root_score_dir):\n",
    "        if \"_MLP_\" in file and ts_type in file:\n",
    "            if \"DriftTrack\" in file and \"true\" in file:\n",
    "                driftoostrack_true_files.append(root_score_dir+file)\n",
    "            elif \"DriftTrack\" in file and \"global\" in file:\n",
    "                driftoostrack_global_files.append(root_score_dir+file)\n",
    "            elif \"DriftTrack\" in file and \"local\" in file:\n",
    "                driftoostrack_local_files.append(root_score_dir+file)\n",
    "    assert len(driftoostrack_true_files)>0, \"No oos drift track files found\"\n",
    "    assert len(driftoostrack_local_files)>0, \"No oos drift track files found\"\n",
    "    assert(len(driftoostrack_true_files) == len(driftoostrack_true_files))\n",
    "    def extract_bw_drift_track_number(s):\n",
    "        match = s.split(\"Nep_\")[0].split(\"_\")[-1]\n",
    "        return int(match)\n",
    "    driftoostrack_true_files = sorted(driftoostrack_true_files, key=extract_bw_drift_track_number)\n",
    "    driftoostrack_local_files = sorted(driftoostrack_local_files, key=extract_bw_drift_track_number)\n",
    "    driftoostrack_global_files = sorted(driftoostrack_global_files, key=extract_bw_drift_track_number)\n",
    "    Nepochs_track = [extract_bw_drift_track_number(f) for f in driftoostrack_true_files]\n",
    "    idx = np.argwhere(np.array(Nepochs_track)==18).flatten()[0]\n",
    "    driftoostrack_true_files = driftoostrack_true_files[idx]\n",
    "    driftoostrack_local_files = driftoostrack_local_files[idx]\n",
    "    driftoostrack_global_files = driftoostrack_global_files[idx]\n",
    "    return driftoostrack_true_files, driftoostrack_local_files,driftoostrack_global_files, Nepochs_track"
   ],
   "metadata": {
    "collapsed": false
   }
  },
  {
   "cell_type": "code",
   "execution_count": null,
   "outputs": [],
   "source": [
    "from configs.RecursiveVPSDE.Markovian_fBiPotDDims_NonSep.recursive_Markovian_PostMeanScore_fBiPot12DimsNS_T256_H05_tl_110data_StbleTgt import get_config as get_score_config\n",
    "score_config = get_score_config()\n",
    "ts_type = f\"ST_{config.feat_thresh:.3f}FTh_fBiPot_{config.ndims}DDimsNS\".replace(\".\", \"\")\n",
    "true_score_files, local_score_files, global_score_files, Nepochs_track = get_score_drift_files(ts_type=ts_type, root_dir=root_dir)"
   ],
   "metadata": {
    "collapsed": false
   }
  },
  {
   "cell_type": "code",
   "execution_count": null,
   "outputs": [],
   "source": [
    "local_score_files"
   ],
   "metadata": {
    "collapsed": false
   }
  },
  {
   "cell_type": "code",
   "execution_count": null,
   "outputs": [],
   "source": [
    "score_true = np.load(true_score_files)\n",
    "score_global = np.load(global_score_files)\n",
    "nad_true = np.load(true_nadaraya_files[0])\n",
    "nad_global = np.load(global_nadaraya_files[0])\n",
    "score_true=score_true.reshape(-1,score_true.shape[2], score_true.shape[-1])\n",
    "score_global=score_global.reshape(-1,score_global.shape[2], score_global.shape[-1])\n",
    "nad_true=nad_true.reshape(-1,nad_true.shape[2], nad_true.shape[-1])\n",
    "nad_global=nad_global.reshape(-1,nad_global.shape[2], nad_global.shape[-1])\n",
    "true_paths = np.load(score_config.data_path)"
   ],
   "metadata": {
    "collapsed": false
   }
  },
  {
   "cell_type": "code",
   "execution_count": null,
   "outputs": [],
   "source": [
    "for d in range(score_global.shape[-1]):\n",
    "    print(nad_true[:,:, d].flatten().shape)\n",
    "    plt.hist(score_true[:,1:, d].flatten(), bins=150, color=\"blue\",density=True,label=\"Score\")\n",
    "    plt.hist(score_global[:,1:, d].flatten(), bins=150, color=\"red\",alpha=0.3,density=True,label=\"Nad\")\n",
    "    #plt.hist(true_paths[:,:, d].flatten(), bins=150, color=\"red\",density=True,label=\"True\")\n",
    "    plt.legend()\n",
    "    plt.show()\n",
    "    plt.close()"
   ],
   "metadata": {
    "collapsed": false
   }
  },
  {
   "cell_type": "code",
   "execution_count": null,
   "outputs": [],
   "source": [
    "for d in range(score_global.shape[-1]):\n",
    "    print(nad_true[:,:, d].flatten().shape)\n",
    "    plt.hist(score_global[:,:, d].flatten(), bins=150, color=\"blue\",density=True,label=\"Score\")\n",
    "    plt.hist(nad_global[:,:, d].flatten(), bins=150, color=\"red\",alpha=0.3,density=True,label=\"Nad\")\n",
    "    #plt.hist(true_paths[:,:, d].flatten(), bins=150, color=\"red\",density=True,label=\"True\")\n",
    "    plt.legend()\n",
    "    plt.show()\n",
    "    plt.close()"
   ],
   "metadata": {
    "collapsed": false
   }
  },
  {
   "cell_type": "code",
   "execution_count": null,
   "outputs": [],
   "source": [
    "incs = np.concatenate([true_paths[:, [0],:],np.diff(true_paths,axis=1)],axis=1).reshape(-1, true_paths.shape[-1])\n",
    "pos = true_paths[:, :-1, :].reshape(-1, true_paths.shape[-1])"
   ],
   "metadata": {
    "collapsed": false
   }
  },
  {
   "cell_type": "code",
   "execution_count": null,
   "outputs": [],
   "source": [
    "for k in range(1000):\n",
    "    Xtj1 = pos[np.random.choice(np.arange(pos.shape[0]), size=1),:]\n",
    "    valid_idxs = np.sum(np.power(pos - Xtj1,2), axis=-1)/np.sqrt(pos.shape[-1]) <=0.1\n",
    "    if np.sum(valid_idxs)>5000:\n",
    "        valid_incs = incs[np.argwhere(valid_idxs).flatten(), :]\n",
    "        valid_incs_noised = np.exp(-0.25*0.5**2*20)*valid_incs + np.sqrt(1.-np.exp(-0.5*0.5**2*20))*np.random.normal(size=valid_incs.shape)\n",
    "        for d in range(0,pos.shape[-1], 4):\n",
    "            plt.hist(pos[np.argwhere(valid_idxs).flatten(), d], label=rf\"Dim {d} \\pi_0\",bins=150)\n",
    "        plt.legend()\n",
    "        plt.show()\n",
    "        plt.close()\n",
    "        continue\n",
    "        for d in range(0,pos.shape[-1], 4):\n",
    "            plt.hist(valid_incs[:, d], label=rf\"Dim {d} \\pi_0\",bins=150)\n",
    "        plt.legend()\n",
    "        plt.show()\n",
    "        plt.close()\n",
    "        for d in range(0,pos.shape[-1], 4):\n",
    "            plt.hist(valid_incs_noised[:, d], label=rf\"Dim {d} Transition\",bins=150)\n",
    "        plt.legend()\n",
    "        plt.show()\n",
    "        plt.close()"
   ],
   "metadata": {
    "collapsed": false
   }
  },
  {
   "cell_type": "code",
   "execution_count": null,
   "outputs": [],
   "source": [
    "scoreModel = ConditionalMarkovianTSPostMeanScoreMatching(*config.model_parameters)\n",
    "diffusion = VPSDEDiffusion(beta_max=config.beta_max, beta_min=config.beta_min)\n",
    "print(\n",
    "    config.tdata_mult * sum(p.numel() for p in scoreModel.parameters() if p.requires_grad) / (config.ts_length - 1))\n",
    "init_experiment(config=config)\n",
    "end_epoch = max(config.max_epochs)\n",
    "try:\n",
    "    scoreModel.load_state_dict(torch.load(config.scoreNet_trained_path + \"_NEpEE\" + str(end_epoch)))"
   ],
   "metadata": {
    "collapsed": false
   }
  },
  {
   "cell_type": "code",
   "execution_count": null,
   "outputs": [],
   "source": [],
   "metadata": {
    "collapsed": false
   }
  }
 ],
 "metadata": {
  "kernelspec": {
   "display_name": "Python 3",
   "language": "python",
   "name": "python3"
  },
  "language_info": {
   "codemirror_mode": {
    "name": "ipython",
    "version": 2
   },
   "file_extension": ".py",
   "mimetype": "text/x-python",
   "name": "python",
   "nbconvert_exporter": "python",
   "pygments_lexer": "ipython2",
   "version": "2.7.6"
  }
 },
 "nbformat": 4,
 "nbformat_minor": 0
}
